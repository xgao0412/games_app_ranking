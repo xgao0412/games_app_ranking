{
 "cells": [
  {
   "cell_type": "code",
   "execution_count": 4,
   "metadata": {
    "scrolled": true
   },
   "outputs": [
    {
     "name": "stderr",
     "output_type": "stream",
     "text": [
      "INFO: queries: ['Subway Surfers since:2018-09-26 until:2018-09-27', 'Subway Surfers since:2018-09-27 until:2018-09-28', 'Subway Surfers since:2018-09-28 until:2018-09-29', 'Subway Surfers since:2018-09-29 until:2018-09-30', 'Subway Surfers since:2018-09-30 until:2018-10-01', 'Subway Surfers since:2018-10-01 until:2018-10-02', 'Subway Surfers since:2018-10-02 until:2018-10-03']\n",
      "INFO: Querying Subway Surfers since:2018-09-26 until:2018-09-27\n",
      "INFO: Querying Subway Surfers since:2018-09-28 until:2018-09-29\n",
      "INFO: Querying Subway Surfers since:2018-09-27 until:2018-09-28\n",
      "INFO: Querying Subway Surfers since:2018-09-29 until:2018-09-30\n",
      "INFO: Querying Subway Surfers since:2018-09-30 until:2018-10-01\n",
      "INFO: Querying Subway Surfers since:2018-10-02 until:2018-10-03\n",
      "INFO: Querying Subway Surfers since:2018-10-01 until:2018-10-02\n",
      "INFO: Got 72 tweets for Subway%20Surfers%20since%3A2018-10-01%20until%3A2018-10-02.\n",
      "INFO: Got 72 tweets (72 new).\n",
      "INFO: Got 71 tweets for Subway%20Surfers%20since%3A2018-10-02%20until%3A2018-10-03.\n",
      "INFO: Got 143 tweets (71 new).\n",
      "INFO: Got 80 tweets for Subway%20Surfers%20since%3A2018-09-26%20until%3A2018-09-27.\n",
      "INFO: Got 223 tweets (80 new).\n",
      "INFO: Got 74 tweets for Subway%20Surfers%20since%3A2018-09-28%20until%3A2018-09-29.\n",
      "INFO: Got 297 tweets (74 new).\n",
      "INFO: Got 81 tweets for Subway%20Surfers%20since%3A2018-09-29%20until%3A2018-09-30.\n",
      "INFO: Got 378 tweets (81 new).\n",
      "INFO: Got 94 tweets for Subway%20Surfers%20since%3A2018-09-30%20until%3A2018-10-01.\n",
      "INFO: Got 472 tweets (94 new).\n",
      "INFO: Got 88 tweets for Subway%20Surfers%20since%3A2018-09-27%20until%3A2018-09-28.\n",
      "INFO: Got 560 tweets (88 new).\n"
     ]
    },
    {
     "name": "stdout",
     "output_type": "stream",
     "text": [
      "Subway Surfers\n"
     ]
    },
    {
     "name": "stderr",
     "output_type": "stream",
     "text": [
      "INFO: queries: ['Temple Run since:2018-09-26 until:2018-09-27', 'Temple Run since:2018-09-27 until:2018-09-28', 'Temple Run since:2018-09-28 until:2018-09-29', 'Temple Run since:2018-09-29 until:2018-09-30', 'Temple Run since:2018-09-30 until:2018-10-01', 'Temple Run since:2018-10-01 until:2018-10-02', 'Temple Run since:2018-10-02 until:2018-10-03']\n",
      "INFO: Querying Temple Run since:2018-09-26 until:2018-09-27\n",
      "INFO: Querying Temple Run since:2018-09-29 until:2018-09-30\n",
      "INFO: Querying Temple Run since:2018-09-30 until:2018-10-01\n",
      "INFO: Querying Temple Run since:2018-09-27 until:2018-09-28\n",
      "INFO: Querying Temple Run since:2018-10-01 until:2018-10-02\n",
      "INFO: Querying Temple Run since:2018-10-02 until:2018-10-03\n",
      "INFO: Querying Temple Run since:2018-09-28 until:2018-09-29\n",
      "INFO: Got 109 tweets for Temple%20Run%20since%3A2018-09-30%20until%3A2018-10-01.\n",
      "INFO: Got 109 tweets (109 new).\n",
      "INFO: Got 136 tweets for Temple%20Run%20since%3A2018-10-01%20until%3A2018-10-02.\n",
      "INFO: Got 245 tweets (136 new).\n",
      "INFO: Got 128 tweets for Temple%20Run%20since%3A2018-09-26%20until%3A2018-09-27.\n",
      "INFO: Got 373 tweets (128 new).\n",
      "INFO: Got 141 tweets for Temple%20Run%20since%3A2018-09-28%20until%3A2018-09-29.\n",
      "INFO: Got 514 tweets (141 new).\n",
      "INFO: Got 162 tweets for Temple%20Run%20since%3A2018-09-29%20until%3A2018-09-30.\n",
      "INFO: Got 676 tweets (162 new).\n",
      "INFO: Got 185 tweets for Temple%20Run%20since%3A2018-09-27%20until%3A2018-09-28.\n",
      "INFO: Got 861 tweets (185 new).\n",
      "INFO: Got 192 tweets for Temple%20Run%20since%3A2018-10-02%20until%3A2018-10-03.\n",
      "INFO: Got 1053 tweets (192 new).\n"
     ]
    },
    {
     "name": "stdout",
     "output_type": "stream",
     "text": [
      "Temple Run\n"
     ]
    },
    {
     "name": "stderr",
     "output_type": "stream",
     "text": [
      "INFO: queries: ['Temple Run 2 since:2018-09-26 until:2018-09-27', 'Temple Run 2 since:2018-09-27 until:2018-09-28', 'Temple Run 2 since:2018-09-28 until:2018-09-29', 'Temple Run 2 since:2018-09-29 until:2018-09-30', 'Temple Run 2 since:2018-09-30 until:2018-10-01', 'Temple Run 2 since:2018-10-01 until:2018-10-02', 'Temple Run 2 since:2018-10-02 until:2018-10-03']\n",
      "INFO: Querying Temple Run 2 since:2018-09-26 until:2018-09-27\n",
      "INFO: Querying Temple Run 2 since:2018-09-28 until:2018-09-29\n",
      "INFO: Querying Temple Run 2 since:2018-09-27 until:2018-09-28\n",
      "INFO: Querying Temple Run 2 since:2018-09-29 until:2018-09-30\n",
      "INFO: Querying Temple Run 2 since:2018-10-01 until:2018-10-02\n",
      "INFO: Querying Temple Run 2 since:2018-09-30 until:2018-10-01\n",
      "INFO: Querying Temple Run 2 since:2018-10-02 until:2018-10-03\n",
      "INFO: Got 19 tweets for Temple%20Run%202%20since%3A2018-09-29%20until%3A2018-09-30.\n",
      "INFO: Got 20 tweets for Temple%20Run%202%20since%3A2018-09-27%20until%3A2018-09-28.\n",
      "INFO: Got 19 tweets (19 new).\n",
      "INFO: Got 39 tweets (20 new).\n",
      "INFO: Got 17 tweets for Temple%20Run%202%20since%3A2018-09-30%20until%3A2018-10-01.\n",
      "INFO: Got 56 tweets (17 new).\n",
      "INFO: Got 17 tweets for Temple%20Run%202%20since%3A2018-09-26%20until%3A2018-09-27.\n",
      "INFO: Got 73 tweets (17 new).\n",
      "INFO: Got 21 tweets for Temple%20Run%202%20since%3A2018-09-28%20until%3A2018-09-29.\n",
      "INFO: Got 94 tweets (21 new).\n",
      "INFO: Got 31 tweets for Temple%20Run%202%20since%3A2018-10-01%20until%3A2018-10-02.\n",
      "INFO: Got 125 tweets (31 new).\n",
      "INFO: Got 52 tweets for Temple%20Run%202%20since%3A2018-10-02%20until%3A2018-10-03.\n",
      "INFO: Got 177 tweets (52 new).\n"
     ]
    },
    {
     "name": "stdout",
     "output_type": "stream",
     "text": [
      "Temple Run 2\n"
     ]
    },
    {
     "name": "stderr",
     "output_type": "stream",
     "text": [
      "INFO: queries: ['Super Mario Run since:2018-09-26 until:2018-09-27', 'Super Mario Run since:2018-09-27 until:2018-09-28', 'Super Mario Run since:2018-09-28 until:2018-09-29', 'Super Mario Run since:2018-09-29 until:2018-09-30', 'Super Mario Run since:2018-09-30 until:2018-10-01', 'Super Mario Run since:2018-10-01 until:2018-10-02', 'Super Mario Run since:2018-10-02 until:2018-10-03']\n",
      "INFO: Querying Super Mario Run since:2018-09-28 until:2018-09-29\n",
      "INFO: Querying Super Mario Run since:2018-09-26 until:2018-09-27\n",
      "INFO: Querying Super Mario Run since:2018-10-01 until:2018-10-02\n",
      "INFO: Querying Super Mario Run since:2018-09-30 until:2018-10-01\n",
      "INFO: Querying Super Mario Run since:2018-09-27 until:2018-09-28\n",
      "INFO: Querying Super Mario Run since:2018-10-02 until:2018-10-03\n",
      "INFO: Querying Super Mario Run since:2018-09-29 until:2018-09-30\n",
      "INFO: Got 32 tweets for Super%20Mario%20Run%20since%3A2018-10-02%20until%3A2018-10-03.\n",
      "INFO: Got 32 tweets (32 new).\n",
      "INFO: Got 28 tweets for Super%20Mario%20Run%20since%3A2018-10-01%20until%3A2018-10-02.\n",
      "INFO: Got 60 tweets (28 new).\n",
      "INFO: Got 37 tweets for Super%20Mario%20Run%20since%3A2018-09-30%20until%3A2018-10-01.\n",
      "INFO: Got 97 tweets (37 new).\n",
      "INFO: Got 41 tweets for Super%20Mario%20Run%20since%3A2018-09-28%20until%3A2018-09-29.\n",
      "INFO: Got 138 tweets (41 new).\n",
      "INFO: Got 56 tweets for Super%20Mario%20Run%20since%3A2018-09-29%20until%3A2018-09-30.\n",
      "INFO: Got 194 tweets (56 new).\n",
      "INFO: Got 54 tweets for Super%20Mario%20Run%20since%3A2018-09-26%20until%3A2018-09-27.\n",
      "INFO: Got 248 tweets (54 new).\n",
      "INFO: Got 54 tweets for Super%20Mario%20Run%20since%3A2018-09-27%20until%3A2018-09-28.\n",
      "INFO: Got 302 tweets (54 new).\n"
     ]
    },
    {
     "name": "stdout",
     "output_type": "stream",
     "text": [
      "Super Mario Run\n"
     ]
    },
    {
     "name": "stderr",
     "output_type": "stream",
     "text": [
      "INFO: queries: ['Clash of Clans since:2018-09-26 until:2018-09-27', 'Clash of Clans since:2018-09-27 until:2018-09-28', 'Clash of Clans since:2018-09-28 until:2018-09-29', 'Clash of Clans since:2018-09-29 until:2018-09-30', 'Clash of Clans since:2018-09-30 until:2018-10-01', 'Clash of Clans since:2018-10-01 until:2018-10-02', 'Clash of Clans since:2018-10-02 until:2018-10-03']\n",
      "INFO: Querying Clash of Clans since:2018-09-28 until:2018-09-29\n",
      "INFO: Querying Clash of Clans since:2018-09-26 until:2018-09-27\n",
      "INFO: Querying Clash of Clans since:2018-09-30 until:2018-10-01\n",
      "INFO: Querying Clash of Clans since:2018-10-01 until:2018-10-02\n",
      "INFO: Querying Clash of Clans since:2018-10-02 until:2018-10-03\n",
      "INFO: Querying Clash of Clans since:2018-09-29 until:2018-09-30\n",
      "INFO: Querying Clash of Clans since:2018-09-27 until:2018-09-28\n",
      "INFO: Got 325 tweets for Clash%20of%20Clans%20since%3A2018-10-02%20until%3A2018-10-03.\n",
      "INFO: Got 325 tweets (325 new).\n",
      "INFO: Got 312 tweets for Clash%20of%20Clans%20since%3A2018-10-01%20until%3A2018-10-02.\n",
      "INFO: Got 637 tweets (312 new).\n",
      "INFO: Got 346 tweets for Clash%20of%20Clans%20since%3A2018-09-29%20until%3A2018-09-30.\n",
      "INFO: Got 983 tweets (346 new).\n",
      "INFO: Got 364 tweets for Clash%20of%20Clans%20since%3A2018-09-28%20until%3A2018-09-29.\n",
      "INFO: Got 1347 tweets (364 new).\n",
      "INFO: Got 366 tweets for Clash%20of%20Clans%20since%3A2018-09-30%20until%3A2018-10-01.\n",
      "INFO: Got 1713 tweets (366 new).\n",
      "INFO: Got 396 tweets for Clash%20of%20Clans%20since%3A2018-09-27%20until%3A2018-09-28.\n",
      "INFO: Got 2109 tweets (396 new).\n",
      "INFO: Got 465 tweets for Clash%20of%20Clans%20since%3A2018-09-26%20until%3A2018-09-27.\n",
      "INFO: Got 2574 tweets (465 new).\n"
     ]
    },
    {
     "name": "stdout",
     "output_type": "stream",
     "text": [
      "Clash of Clans\n"
     ]
    },
    {
     "name": "stderr",
     "output_type": "stream",
     "text": [
      "INFO: queries: ['Fruit Ninja® since:2018-09-26 until:2018-09-27', 'Fruit Ninja® since:2018-09-27 until:2018-09-28', 'Fruit Ninja® since:2018-09-28 until:2018-09-29', 'Fruit Ninja® since:2018-09-29 until:2018-09-30', 'Fruit Ninja® since:2018-09-30 until:2018-10-01', 'Fruit Ninja® since:2018-10-01 until:2018-10-02', 'Fruit Ninja® since:2018-10-02 until:2018-10-03']\n",
      "INFO: Querying Fruit Ninja® since:2018-09-28 until:2018-09-29\n",
      "INFO: Querying Fruit Ninja® since:2018-09-26 until:2018-09-27\n",
      "INFO: Querying Fruit Ninja® since:2018-09-30 until:2018-10-01\n",
      "INFO: Querying Fruit Ninja® since:2018-09-27 until:2018-09-28\n",
      "INFO: Querying Fruit Ninja® since:2018-09-29 until:2018-09-30\n",
      "INFO: Querying Fruit Ninja® since:2018-10-02 until:2018-10-03\n",
      "INFO: Querying Fruit Ninja® since:2018-10-01 until:2018-10-02\n",
      "INFO: Got 0 tweets for Fruit%20Ninja®%20since%3A2018-10-02%20until%3A2018-10-03.\n",
      "INFO: Got 0 tweets (0 new).\n",
      "INFO: Got 0 tweets for Fruit%20Ninja®%20since%3A2018-09-27%20until%3A2018-09-28.\n",
      "INFO: Got 0 tweets (0 new).\n",
      "INFO: Got 0 tweets for Fruit%20Ninja®%20since%3A2018-10-01%20until%3A2018-10-02.\n",
      "INFO: Got 0 tweets (0 new).\n",
      "INFO: Got 0 tweets for Fruit%20Ninja®%20since%3A2018-09-28%20until%3A2018-09-29.\n",
      "INFO: Got 0 tweets (0 new).\n",
      "INFO: Got 0 tweets for Fruit%20Ninja®%20since%3A2018-09-30%20until%3A2018-10-01.\n",
      "INFO: Got 0 tweets (0 new).\n",
      "INFO: Got 0 tweets for Fruit%20Ninja®%20since%3A2018-09-26%20until%3A2018-09-27.\n",
      "INFO: Got 0 tweets (0 new).\n",
      "INFO: Got 1 tweets for Fruit%20Ninja®%20since%3A2018-09-29%20until%3A2018-09-30.\n",
      "INFO: Got 1 tweets (1 new).\n"
     ]
    },
    {
     "name": "stdout",
     "output_type": "stream",
     "text": [
      "Fruit Ninja®\n"
     ]
    },
    {
     "name": "stderr",
     "output_type": "stream",
     "text": [
      "INFO: queries: ['slither.io since:2018-09-26 until:2018-09-27', 'slither.io since:2018-09-27 until:2018-09-28', 'slither.io since:2018-09-28 until:2018-09-29', 'slither.io since:2018-09-29 until:2018-09-30', 'slither.io since:2018-09-30 until:2018-10-01', 'slither.io since:2018-10-01 until:2018-10-02', 'slither.io since:2018-10-02 until:2018-10-03']\n",
      "INFO: Querying slither.io since:2018-10-01 until:2018-10-02\n",
      "INFO: Querying slither.io since:2018-09-27 until:2018-09-28\n",
      "INFO: Querying slither.io since:2018-09-28 until:2018-09-29\n",
      "INFO: Querying slither.io since:2018-09-29 until:2018-09-30\n",
      "INFO: Querying slither.io since:2018-09-30 until:2018-10-01\n",
      "INFO: Querying slither.io since:2018-09-26 until:2018-09-27\n",
      "INFO: Querying slither.io since:2018-10-02 until:2018-10-03\n",
      "INFO: Got 51 tweets for slither.io%20since%3A2018-10-02%20until%3A2018-10-03.\n",
      "INFO: Got 51 tweets (51 new).\n",
      "INFO: Got 45 tweets for slither.io%20since%3A2018-09-30%20until%3A2018-10-01.\n",
      "INFO: Got 96 tweets (45 new).\n",
      "INFO: Got 56 tweets for slither.io%20since%3A2018-09-27%20until%3A2018-09-28.\n",
      "INFO: Got 152 tweets (56 new).\n",
      "INFO: Got 50 tweets for slither.io%20since%3A2018-09-26%20until%3A2018-09-27.\n",
      "INFO: Got 202 tweets (50 new).\n",
      "INFO: Got 52 tweets for slither.io%20since%3A2018-10-01%20until%3A2018-10-02.\n",
      "INFO: Got 254 tweets (52 new).\n",
      "INFO: Got 55 tweets for slither.io%20since%3A2018-09-28%20until%3A2018-09-29.\n",
      "INFO: Got 309 tweets (55 new).\n",
      "INFO: Got 66 tweets for slither.io%20since%3A2018-09-29%20until%3A2018-09-30.\n",
      "INFO: Got 375 tweets (66 new).\n"
     ]
    },
    {
     "name": "stdout",
     "output_type": "stream",
     "text": [
      "slither.io\n"
     ]
    },
    {
     "name": "stderr",
     "output_type": "stream",
     "text": [
      "INFO: queries: ['Bike Race: Motorcycle Racing since:2018-09-26 until:2018-09-27', 'Bike Race: Motorcycle Racing since:2018-09-27 until:2018-09-28', 'Bike Race: Motorcycle Racing since:2018-09-28 until:2018-09-29', 'Bike Race: Motorcycle Racing since:2018-09-29 until:2018-09-30', 'Bike Race: Motorcycle Racing since:2018-09-30 until:2018-10-01', 'Bike Race: Motorcycle Racing since:2018-10-01 until:2018-10-02', 'Bike Race: Motorcycle Racing since:2018-10-02 until:2018-10-03']\n",
      "INFO: Querying Bike Race: Motorcycle Racing since:2018-09-29 until:2018-09-30\n",
      "INFO: Querying Bike Race: Motorcycle Racing since:2018-09-27 until:2018-09-28\n",
      "INFO: Querying Bike Race: Motorcycle Racing since:2018-09-28 until:2018-09-29\n",
      "INFO: Querying Bike Race: Motorcycle Racing since:2018-09-26 until:2018-09-27\n",
      "INFO: Querying Bike Race: Motorcycle Racing since:2018-09-30 until:2018-10-01\n",
      "INFO: Querying Bike Race: Motorcycle Racing since:2018-10-01 until:2018-10-02\n",
      "INFO: Querying Bike Race: Motorcycle Racing since:2018-10-02 until:2018-10-03\n",
      "INFO: Got 0 tweets for Bike%20Race%3A%20Motorcycle%20Racing%20since%3A2018-09-27%20until%3A2018-09-28.\n",
      "INFO: Got 0 tweets (0 new).\n",
      "INFO: Got 0 tweets for Bike%20Race%3A%20Motorcycle%20Racing%20since%3A2018-10-02%20until%3A2018-10-03.\n",
      "INFO: Got 0 tweets (0 new).\n",
      "INFO: Got 0 tweets for Bike%20Race%3A%20Motorcycle%20Racing%20since%3A2018-09-26%20until%3A2018-09-27.\n",
      "INFO: Got 0 tweets (0 new).\n",
      "INFO: Got 0 tweets for Bike%20Race%3A%20Motorcycle%20Racing%20since%3A2018-09-28%20until%3A2018-09-29.\n",
      "INFO: Got 0 tweets (0 new).\n",
      "INFO: Got 1 tweets for Bike%20Race%3A%20Motorcycle%20Racing%20since%3A2018-09-29%20until%3A2018-09-30.\n",
      "INFO: Got 1 tweets (1 new).\n",
      "INFO: Got 1 tweets for Bike%20Race%3A%20Motorcycle%20Racing%20since%3A2018-09-30%20until%3A2018-10-01.\n",
      "INFO: Got 2 tweets (1 new).\n",
      "INFO: Got 1 tweets for Bike%20Race%3A%20Motorcycle%20Racing%20since%3A2018-10-01%20until%3A2018-10-02.\n",
      "INFO: Got 3 tweets (1 new).\n"
     ]
    },
    {
     "name": "stdout",
     "output_type": "stream",
     "text": [
      "Bike Race: Motorcycle Racing\n"
     ]
    },
    {
     "name": "stderr",
     "output_type": "stream",
     "text": [
      "INFO: queries: ['Jetpack Joyride since:2018-09-26 until:2018-09-27', 'Jetpack Joyride since:2018-09-27 until:2018-09-28', 'Jetpack Joyride since:2018-09-28 until:2018-09-29', 'Jetpack Joyride since:2018-09-29 until:2018-09-30', 'Jetpack Joyride since:2018-09-30 until:2018-10-01', 'Jetpack Joyride since:2018-10-01 until:2018-10-02', 'Jetpack Joyride since:2018-10-02 until:2018-10-03']\n",
      "INFO: Querying Jetpack Joyride since:2018-09-29 until:2018-09-30\n",
      "INFO: Querying Jetpack Joyride since:2018-09-28 until:2018-09-29\n",
      "INFO: Querying Jetpack Joyride since:2018-09-27 until:2018-09-28\n",
      "INFO: Querying Jetpack Joyride since:2018-10-01 until:2018-10-02\n",
      "INFO: Querying Jetpack Joyride since:2018-09-26 until:2018-09-27\n",
      "INFO: Querying Jetpack Joyride since:2018-10-02 until:2018-10-03\n",
      "INFO: Querying Jetpack Joyride since:2018-09-30 until:2018-10-01\n",
      "INFO: Got 3 tweets for Jetpack%20Joyride%20since%3A2018-09-26%20until%3A2018-09-27.\n",
      "INFO: Got 3 tweets (3 new).\n",
      "INFO: Got 12 tweets for Jetpack%20Joyride%20since%3A2018-09-30%20until%3A2018-10-01.\n",
      "INFO: Got 15 tweets (12 new).\n",
      "INFO: Got 11 tweets for Jetpack%20Joyride%20since%3A2018-10-02%20until%3A2018-10-03.\n",
      "INFO: Got 26 tweets (11 new).\n",
      "INFO: Got 20 tweets for Jetpack%20Joyride%20since%3A2018-09-29%20until%3A2018-09-30.\n",
      "INFO: Got 46 tweets (20 new).\n",
      "INFO: Got 21 tweets for Jetpack%20Joyride%20since%3A2018-10-01%20until%3A2018-10-02.\n",
      "INFO: Got 67 tweets (21 new).\n",
      "INFO: Got 22 tweets for Jetpack%20Joyride%20since%3A2018-09-27%20until%3A2018-09-28.\n",
      "INFO: Got 89 tweets (22 new).\n",
      "INFO: Got 29 tweets for Jetpack%20Joyride%20since%3A2018-09-28%20until%3A2018-09-29.\n",
      "INFO: Got 118 tweets (29 new).\n"
     ]
    },
    {
     "name": "stdout",
     "output_type": "stream",
     "text": [
      "Jetpack Joyride\n"
     ]
    },
    {
     "name": "stderr",
     "output_type": "stream",
     "text": [
      "INFO: queries: ['Clash Royale since:2018-09-26 until:2018-09-27', 'Clash Royale since:2018-09-27 until:2018-09-28', 'Clash Royale since:2018-09-28 until:2018-09-29', 'Clash Royale since:2018-09-29 until:2018-09-30', 'Clash Royale since:2018-09-30 until:2018-10-01', 'Clash Royale since:2018-10-01 until:2018-10-02', 'Clash Royale since:2018-10-02 until:2018-10-03']\n",
      "INFO: Querying Clash Royale since:2018-09-27 until:2018-09-28\n",
      "INFO: Querying Clash Royale since:2018-09-26 until:2018-09-27\n",
      "INFO: Querying Clash Royale since:2018-09-28 until:2018-09-29\n",
      "INFO: Querying Clash Royale since:2018-09-29 until:2018-09-30\n",
      "INFO: Querying Clash Royale since:2018-10-02 until:2018-10-03\n",
      "INFO: Querying Clash Royale since:2018-10-01 until:2018-10-02\n",
      "INFO: Querying Clash Royale since:2018-09-30 until:2018-10-01\n",
      "INFO: Got 753 tweets for Clash%20Royale%20since%3A2018-09-30%20until%3A2018-10-01.\n",
      "INFO: Got 753 tweets (753 new).\n",
      "INFO: Got 797 tweets for Clash%20Royale%20since%3A2018-09-26%20until%3A2018-09-27.\n",
      "INFO: Got 1550 tweets (797 new).\n",
      "INFO: Got 808 tweets for Clash%20Royale%20since%3A2018-10-02%20until%3A2018-10-03.\n",
      "INFO: Got 2358 tweets (808 new).\n",
      "INFO: Got 1082 tweets for Clash%20Royale%20since%3A2018-09-27%20until%3A2018-09-28.\n",
      "INFO: Got 3440 tweets (1082 new).\n",
      "INFO: Got 1125 tweets for Clash%20Royale%20since%3A2018-10-01%20until%3A2018-10-02.\n",
      "INFO: Got 4565 tweets (1125 new).\n",
      "INFO: Got 1098 tweets for Clash%20Royale%20since%3A2018-09-29%20until%3A2018-09-30.\n",
      "INFO: Got 5663 tweets (1098 new).\n",
      "INFO: Got 1534 tweets for Clash%20Royale%20since%3A2018-09-28%20until%3A2018-09-29.\n",
      "INFO: Got 7197 tweets (1534 new).\n"
     ]
    },
    {
     "name": "stdout",
     "output_type": "stream",
     "text": [
      "Clash Royale\n"
     ]
    },
    {
     "name": "stderr",
     "output_type": "stream",
     "text": [
      "INFO: queries: ['Sonic Dash since:2018-09-26 until:2018-09-27', 'Sonic Dash since:2018-09-27 until:2018-09-28', 'Sonic Dash since:2018-09-28 until:2018-09-29', 'Sonic Dash since:2018-09-29 until:2018-09-30', 'Sonic Dash since:2018-09-30 until:2018-10-01', 'Sonic Dash since:2018-10-01 until:2018-10-02', 'Sonic Dash since:2018-10-02 until:2018-10-03']\n",
      "INFO: Querying Sonic Dash since:2018-09-29 until:2018-09-30\n",
      "INFO: Querying Sonic Dash since:2018-09-28 until:2018-09-29\n",
      "INFO: Querying Sonic Dash since:2018-09-30 until:2018-10-01\n",
      "INFO: Querying Sonic Dash since:2018-09-26 until:2018-09-27\n",
      "INFO: Querying Sonic Dash since:2018-10-01 until:2018-10-02\n",
      "INFO: Querying Sonic Dash since:2018-10-02 until:2018-10-03\n",
      "INFO: Querying Sonic Dash since:2018-09-27 until:2018-09-28\n",
      "INFO: Got 10 tweets for Sonic%20Dash%20since%3A2018-09-30%20until%3A2018-10-01.\n",
      "INFO: Got 10 tweets (10 new).\n",
      "INFO: Got 12 tweets for Sonic%20Dash%20since%3A2018-10-01%20until%3A2018-10-02.\n",
      "INFO: Got 22 tweets (12 new).\n",
      "INFO: Got 19 tweets for Sonic%20Dash%20since%3A2018-09-26%20until%3A2018-09-27.\n",
      "INFO: Got 41 tweets (19 new).\n",
      "INFO: Got 13 tweets for Sonic%20Dash%20since%3A2018-09-28%20until%3A2018-09-29.\n",
      "INFO: Got 54 tweets (13 new).\n",
      "INFO: Got 22 tweets for Sonic%20Dash%20since%3A2018-10-02%20until%3A2018-10-03.\n",
      "INFO: Got 76 tweets (22 new).\n",
      "INFO: Got 21 tweets for Sonic%20Dash%20since%3A2018-09-29%20until%3A2018-09-30.\n",
      "INFO: Got 97 tweets (21 new).\n",
      "INFO: Got 26 tweets for Sonic%20Dash%20since%3A2018-09-27%20until%3A2018-09-28.\n",
      "INFO: Got 123 tweets (26 new).\n"
     ]
    },
    {
     "name": "stdout",
     "output_type": "stream",
     "text": [
      "Sonic Dash\n"
     ]
    },
    {
     "name": "stderr",
     "output_type": "stream",
     "text": [
      "INFO: queries: ['Angry Birds 2 since:2018-09-26 until:2018-09-27', 'Angry Birds 2 since:2018-09-27 until:2018-09-28', 'Angry Birds 2 since:2018-09-28 until:2018-09-29', 'Angry Birds 2 since:2018-09-29 until:2018-09-30', 'Angry Birds 2 since:2018-09-30 until:2018-10-01', 'Angry Birds 2 since:2018-10-01 until:2018-10-02', 'Angry Birds 2 since:2018-10-02 until:2018-10-03']\n",
      "INFO: Querying Angry Birds 2 since:2018-09-27 until:2018-09-28\n",
      "INFO: Querying Angry Birds 2 since:2018-09-26 until:2018-09-27\n",
      "INFO: Querying Angry Birds 2 since:2018-09-29 until:2018-09-30\n",
      "INFO: Querying Angry Birds 2 since:2018-09-28 until:2018-09-29\n",
      "INFO: Querying Angry Birds 2 since:2018-10-01 until:2018-10-02\n",
      "INFO: Querying Angry Birds 2 since:2018-09-30 until:2018-10-01\n",
      "INFO: Querying Angry Birds 2 since:2018-10-02 until:2018-10-03\n",
      "INFO: Got 14 tweets for Angry%20Birds%202%20since%3A2018-10-01%20until%3A2018-10-02.\n",
      "INFO: Got 14 tweets (14 new).\n",
      "INFO: Got 20 tweets for Angry%20Birds%202%20since%3A2018-09-30%20until%3A2018-10-01.\n",
      "INFO: Got 34 tweets (20 new).\n",
      "INFO: Got 22 tweets for Angry%20Birds%202%20since%3A2018-10-02%20until%3A2018-10-03.\n",
      "INFO: Got 56 tweets (22 new).\n",
      "INFO: Got 26 tweets for Angry%20Birds%202%20since%3A2018-09-29%20until%3A2018-09-30.\n",
      "INFO: Got 82 tweets (26 new).\n",
      "INFO: Got 22 tweets for Angry%20Birds%202%20since%3A2018-09-28%20until%3A2018-09-29.\n",
      "INFO: Got 104 tweets (22 new).\n",
      "INFO: Got 35 tweets for Angry%20Birds%202%20since%3A2018-09-27%20until%3A2018-09-28.\n",
      "INFO: Got 139 tweets (35 new).\n",
      "INFO: Got 41 tweets for Angry%20Birds%202%20since%3A2018-09-26%20until%3A2018-09-27.\n",
      "INFO: Got 180 tweets (41 new).\n"
     ]
    },
    {
     "name": "stdout",
     "output_type": "stream",
     "text": [
      "Angry Birds 2\n"
     ]
    },
    {
     "name": "stderr",
     "output_type": "stream",
     "text": [
      "INFO: queries: ['Sniper 3D Assassin: Gun Games since:2018-09-26 until:2018-09-27', 'Sniper 3D Assassin: Gun Games since:2018-09-27 until:2018-09-28', 'Sniper 3D Assassin: Gun Games since:2018-09-28 until:2018-09-29', 'Sniper 3D Assassin: Gun Games since:2018-09-29 until:2018-09-30', 'Sniper 3D Assassin: Gun Games since:2018-09-30 until:2018-10-01', 'Sniper 3D Assassin: Gun Games since:2018-10-01 until:2018-10-02', 'Sniper 3D Assassin: Gun Games since:2018-10-02 until:2018-10-03']\n",
      "INFO: Querying Sniper 3D Assassin: Gun Games since:2018-09-27 until:2018-09-28\n",
      "INFO: Querying Sniper 3D Assassin: Gun Games since:2018-09-28 until:2018-09-29\n",
      "INFO: Querying Sniper 3D Assassin: Gun Games since:2018-10-01 until:2018-10-02\n",
      "INFO: Querying Sniper 3D Assassin: Gun Games since:2018-10-02 until:2018-10-03\n",
      "INFO: Querying Sniper 3D Assassin: Gun Games since:2018-09-26 until:2018-09-27\n",
      "INFO: Querying Sniper 3D Assassin: Gun Games since:2018-09-30 until:2018-10-01\n",
      "INFO: Querying Sniper 3D Assassin: Gun Games since:2018-09-29 until:2018-09-30\n",
      "INFO: Got 0 tweets for Sniper%203D%20Assassin%3A%20Gun%20Games%20since%3A2018-10-01%20until%3A2018-10-02.\n",
      "INFO: Got 0 tweets (0 new).\n",
      "INFO: Got 0 tweets for Sniper%203D%20Assassin%3A%20Gun%20Games%20since%3A2018-09-27%20until%3A2018-09-28.\n",
      "INFO: Got 0 tweets (0 new).\n",
      "INFO: Got 0 tweets for Sniper%203D%20Assassin%3A%20Gun%20Games%20since%3A2018-09-26%20until%3A2018-09-27.\n",
      "INFO: Got 0 tweets for Sniper%203D%20Assassin%3A%20Gun%20Games%20since%3A2018-09-30%20until%3A2018-10-01.\n",
      "INFO: Got 0 tweets (0 new).\n",
      "INFO: Got 0 tweets (0 new).\n",
      "INFO: Got 0 tweets for Sniper%203D%20Assassin%3A%20Gun%20Games%20since%3A2018-09-29%20until%3A2018-09-30.\n",
      "INFO: Got 0 tweets (0 new).\n",
      "INFO: Got 0 tweets for Sniper%203D%20Assassin%3A%20Gun%20Games%20since%3A2018-09-28%20until%3A2018-09-29.\n",
      "INFO: Got 0 tweets (0 new).\n",
      "INFO: Got 2 tweets for Sniper%203D%20Assassin%3A%20Gun%20Games%20since%3A2018-10-02%20until%3A2018-10-03.\n",
      "INFO: Got 2 tweets (2 new).\n"
     ]
    },
    {
     "name": "stdout",
     "output_type": "stream",
     "text": [
      "Sniper 3D Assassin: Gun Games\n"
     ]
    },
    {
     "name": "stderr",
     "output_type": "stream",
     "text": [
      "INFO: queries: ['Hill Climb Racing since:2018-09-26 until:2018-09-27', 'Hill Climb Racing since:2018-09-27 until:2018-09-28', 'Hill Climb Racing since:2018-09-28 until:2018-09-29', 'Hill Climb Racing since:2018-09-29 until:2018-09-30', 'Hill Climb Racing since:2018-09-30 until:2018-10-01', 'Hill Climb Racing since:2018-10-01 until:2018-10-02', 'Hill Climb Racing since:2018-10-02 until:2018-10-03']\n",
      "INFO: Querying Hill Climb Racing since:2018-09-26 until:2018-09-27\n",
      "INFO: Querying Hill Climb Racing since:2018-09-27 until:2018-09-28\n",
      "INFO: Querying Hill Climb Racing since:2018-09-30 until:2018-10-01\n",
      "INFO: Querying Hill Climb Racing since:2018-10-01 until:2018-10-02\n",
      "INFO: Querying Hill Climb Racing since:2018-10-02 until:2018-10-03\n",
      "INFO: Querying Hill Climb Racing since:2018-09-29 until:2018-09-30\n",
      "INFO: Querying Hill Climb Racing since:2018-09-28 until:2018-09-29\n",
      "INFO: Got 8 tweets for Hill%20Climb%20Racing%20since%3A2018-09-27%20until%3A2018-09-28.\n",
      "INFO: Got 8 tweets (8 new).\n",
      "INFO: Got 12 tweets for Hill%20Climb%20Racing%20since%3A2018-09-26%20until%3A2018-09-27.\n",
      "INFO: Got 20 tweets (12 new).\n",
      "INFO: Got 12 tweets for Hill%20Climb%20Racing%20since%3A2018-09-28%20until%3A2018-09-29.\n",
      "INFO: Got 32 tweets (12 new).\n",
      "INFO: Got 27 tweets for Hill%20Climb%20Racing%20since%3A2018-10-02%20until%3A2018-10-03.\n",
      "INFO: Got 59 tweets (27 new).\n",
      "INFO: Got 25 tweets for Hill%20Climb%20Racing%20since%3A2018-09-30%20until%3A2018-10-01.\n",
      "INFO: Got 84 tweets (25 new).\n",
      "INFO: Got 27 tweets for Hill%20Climb%20Racing%20since%3A2018-10-01%20until%3A2018-10-02.\n",
      "INFO: Got 111 tweets (27 new).\n",
      "INFO: Got 19 tweets for Hill%20Climb%20Racing%20since%3A2018-09-29%20until%3A2018-09-30.\n",
      "INFO: Got 130 tweets (19 new).\n"
     ]
    },
    {
     "name": "stdout",
     "output_type": "stream",
     "text": [
      "Hill Climb Racing\n"
     ]
    },
    {
     "name": "stderr",
     "output_type": "stream",
     "text": [
      "INFO: queries: ['Snake VS Block since:2018-09-26 until:2018-09-27', 'Snake VS Block since:2018-09-27 until:2018-09-28', 'Snake VS Block since:2018-09-28 until:2018-09-29', 'Snake VS Block since:2018-09-29 until:2018-09-30', 'Snake VS Block since:2018-09-30 until:2018-10-01', 'Snake VS Block since:2018-10-01 until:2018-10-02', 'Snake VS Block since:2018-10-02 until:2018-10-03']\n",
      "INFO: Querying Snake VS Block since:2018-09-27 until:2018-09-28\n",
      "INFO: Querying Snake VS Block since:2018-09-26 until:2018-09-27\n",
      "INFO: Querying Snake VS Block since:2018-09-28 until:2018-09-29\n",
      "INFO: Querying Snake VS Block since:2018-09-29 until:2018-09-30\n",
      "INFO: Querying Snake VS Block since:2018-10-01 until:2018-10-02\n",
      "INFO: Querying Snake VS Block since:2018-10-02 until:2018-10-03\n",
      "INFO: Querying Snake VS Block since:2018-09-30 until:2018-10-01\n",
      "INFO: Got 0 tweets for Snake%20VS%20Block%20since%3A2018-09-27%20until%3A2018-09-28.\n",
      "INFO: Got 0 tweets (0 new).\n",
      "INFO: Got 1 tweets for Snake%20VS%20Block%20since%3A2018-10-02%20until%3A2018-10-03.\n",
      "INFO: Got 1 tweets (1 new).\n",
      "INFO: Got 2 tweets for Snake%20VS%20Block%20since%3A2018-09-26%20until%3A2018-09-27.\n",
      "INFO: Got 3 tweets (2 new).\n",
      "INFO: Got 3 tweets for Snake%20VS%20Block%20since%3A2018-09-28%20until%3A2018-09-29.\n",
      "INFO: Got 6 tweets (3 new).\n",
      "INFO: Got 6 tweets for Snake%20VS%20Block%20since%3A2018-09-30%20until%3A2018-10-01.\n",
      "INFO: Got 12 tweets (6 new).\n",
      "INFO: Got 3 tweets for Snake%20VS%20Block%20since%3A2018-10-01%20until%3A2018-10-02.\n",
      "INFO: Got 15 tweets (3 new).\n",
      "INFO: Got 3 tweets for Snake%20VS%20Block%20since%3A2018-09-29%20until%3A2018-09-30.\n",
      "INFO: Got 18 tweets (3 new).\n"
     ]
    },
    {
     "name": "stdout",
     "output_type": "stream",
     "text": [
      "Snake VS Block\n"
     ]
    },
    {
     "name": "stderr",
     "output_type": "stream",
     "text": [
      "INFO: queries: ['Dumb Ways to Die since:2018-09-26 until:2018-09-27', 'Dumb Ways to Die since:2018-09-27 until:2018-09-28', 'Dumb Ways to Die since:2018-09-28 until:2018-09-29', 'Dumb Ways to Die since:2018-09-29 until:2018-09-30', 'Dumb Ways to Die since:2018-09-30 until:2018-10-01', 'Dumb Ways to Die since:2018-10-01 until:2018-10-02', 'Dumb Ways to Die since:2018-10-02 until:2018-10-03']\n",
      "INFO: Querying Dumb Ways to Die since:2018-10-02 until:2018-10-03\n",
      "INFO: Querying Dumb Ways to Die since:2018-09-27 until:2018-09-28\n",
      "INFO: Querying Dumb Ways to Die since:2018-09-30 until:2018-10-01\n",
      "INFO: Querying Dumb Ways to Die since:2018-09-28 until:2018-09-29\n",
      "INFO: Querying Dumb Ways to Die since:2018-09-26 until:2018-09-27\n",
      "INFO: Querying Dumb Ways to Die since:2018-10-01 until:2018-10-02\n",
      "INFO: Querying Dumb Ways to Die since:2018-09-29 until:2018-09-30\n",
      "INFO: Got 25 tweets for Dumb%20Ways%20to%20Die%20since%3A2018-09-26%20until%3A2018-09-27.\n",
      "INFO: Got 25 tweets (25 new).\n",
      "INFO: Got 24 tweets for Dumb%20Ways%20to%20Die%20since%3A2018-09-30%20until%3A2018-10-01.\n",
      "INFO: Got 49 tweets (24 new).\n",
      "INFO: Got 40 tweets for Dumb%20Ways%20to%20Die%20since%3A2018-10-01%20until%3A2018-10-02.\n",
      "INFO: Got 89 tweets (40 new).\n",
      "INFO: Got 33 tweets for Dumb%20Ways%20to%20Die%20since%3A2018-09-27%20until%3A2018-09-28.\n",
      "INFO: Got 122 tweets (33 new).\n",
      "INFO: Got 40 tweets for Dumb%20Ways%20to%20Die%20since%3A2018-10-02%20until%3A2018-10-03.\n",
      "INFO: Got 162 tweets (40 new).\n",
      "INFO: Got 41 tweets for Dumb%20Ways%20to%20Die%20since%3A2018-09-29%20until%3A2018-09-30.\n",
      "INFO: Got 203 tweets (41 new).\n",
      "INFO: Got 81 tweets for Dumb%20Ways%20to%20Die%20since%3A2018-09-28%20until%3A2018-09-29.\n",
      "INFO: Got 284 tweets (81 new).\n"
     ]
    },
    {
     "name": "stdout",
     "output_type": "stream",
     "text": [
      "Dumb Ways to Die\n"
     ]
    },
    {
     "name": "stderr",
     "output_type": "stream",
     "text": [
      "INFO: queries: ['Real Racing 3 since:2018-09-26 until:2018-09-27', 'Real Racing 3 since:2018-09-27 until:2018-09-28', 'Real Racing 3 since:2018-09-28 until:2018-09-29', 'Real Racing 3 since:2018-09-29 until:2018-09-30', 'Real Racing 3 since:2018-09-30 until:2018-10-01', 'Real Racing 3 since:2018-10-01 until:2018-10-02', 'Real Racing 3 since:2018-10-02 until:2018-10-03']\n",
      "INFO: Querying Real Racing 3 since:2018-09-30 until:2018-10-01\n",
      "INFO: Querying Real Racing 3 since:2018-09-29 until:2018-09-30\n",
      "INFO: Querying Real Racing 3 since:2018-09-28 until:2018-09-29\n",
      "INFO: Querying Real Racing 3 since:2018-09-27 until:2018-09-28\n",
      "INFO: Querying Real Racing 3 since:2018-10-02 until:2018-10-03\n",
      "INFO: Querying Real Racing 3 since:2018-10-01 until:2018-10-02\n",
      "INFO: Querying Real Racing 3 since:2018-09-26 until:2018-09-27\n",
      "INFO: Got 10 tweets for Real%20Racing%203%20since%3A2018-09-29%20until%3A2018-09-30.\n",
      "INFO: Got 10 tweets (10 new).\n",
      "INFO: Got 5 tweets for Real%20Racing%203%20since%3A2018-09-27%20until%3A2018-09-28.\n",
      "INFO: Got 15 tweets (5 new).\n",
      "INFO: Got 11 tweets for Real%20Racing%203%20since%3A2018-09-26%20until%3A2018-09-27.\n",
      "INFO: Got 26 tweets (11 new).\n",
      "INFO: Got 13 tweets for Real%20Racing%203%20since%3A2018-09-28%20until%3A2018-09-29.\n",
      "INFO: Got 39 tweets (13 new).\n",
      "INFO: Got 20 tweets for Real%20Racing%203%20since%3A2018-09-30%20until%3A2018-10-01.\n",
      "INFO: Got 59 tweets (20 new).\n",
      "INFO: Got 21 tweets for Real%20Racing%203%20since%3A2018-10-02%20until%3A2018-10-03.\n",
      "INFO: Got 80 tweets (21 new).\n",
      "INFO: Got 27 tweets for Real%20Racing%203%20since%3A2018-10-01%20until%3A2018-10-02.\n",
      "INFO: Got 107 tweets (27 new).\n"
     ]
    },
    {
     "name": "stdout",
     "output_type": "stream",
     "text": [
      "Real Racing 3\n"
     ]
    },
    {
     "name": "stderr",
     "output_type": "stream",
     "text": [
      "INFO: queries: ['Smash Hit since:2018-09-26 until:2018-09-27', 'Smash Hit since:2018-09-27 until:2018-09-28', 'Smash Hit since:2018-09-28 until:2018-09-29', 'Smash Hit since:2018-09-29 until:2018-09-30', 'Smash Hit since:2018-09-30 until:2018-10-01', 'Smash Hit since:2018-10-01 until:2018-10-02', 'Smash Hit since:2018-10-02 until:2018-10-03']\n",
      "INFO: Querying Smash Hit since:2018-09-30 until:2018-10-01\n",
      "INFO: Querying Smash Hit since:2018-09-26 until:2018-09-27\n",
      "INFO: Querying Smash Hit since:2018-09-27 until:2018-09-28\n",
      "INFO: Querying Smash Hit since:2018-10-01 until:2018-10-02\n",
      "INFO: Querying Smash Hit since:2018-09-28 until:2018-09-29\n",
      "INFO: Querying Smash Hit since:2018-09-29 until:2018-09-30\n",
      "INFO: Querying Smash Hit since:2018-10-02 until:2018-10-03\n",
      "INFO: Got 423 tweets for Smash%20Hit%20since%3A2018-09-30%20until%3A2018-10-01.\n",
      "INFO: Got 423 tweets (423 new).\n",
      "INFO: Got 423 tweets for Smash%20Hit%20since%3A2018-10-01%20until%3A2018-10-02.\n",
      "INFO: Got 846 tweets (423 new).\n",
      "INFO: Got 436 tweets for Smash%20Hit%20since%3A2018-10-02%20until%3A2018-10-03.\n",
      "INFO: Got 1282 tweets (436 new).\n",
      "INFO: Got 419 tweets for Smash%20Hit%20since%3A2018-09-29%20until%3A2018-09-30.\n",
      "INFO: Got 1701 tweets (419 new).\n",
      "INFO: Got 547 tweets for Smash%20Hit%20since%3A2018-09-28%20until%3A2018-09-29.\n",
      "INFO: Got 2248 tweets (547 new).\n",
      "INFO: Got 610 tweets for Smash%20Hit%20since%3A2018-09-27%20until%3A2018-09-28.\n",
      "INFO: Got 2858 tweets (610 new).\n",
      "INFO: Got 809 tweets for Smash%20Hit%20since%3A2018-09-26%20until%3A2018-09-27.\n",
      "INFO: Got 3667 tweets (809 new).\n"
     ]
    },
    {
     "name": "stdout",
     "output_type": "stream",
     "text": [
      "Smash Hit\n"
     ]
    },
    {
     "name": "stderr",
     "output_type": "stream",
     "text": [
      "INFO: queries: ['Racing Penguin: Slide and Fly! since:2018-09-26 until:2018-09-27', 'Racing Penguin: Slide and Fly! since:2018-09-27 until:2018-09-28', 'Racing Penguin: Slide and Fly! since:2018-09-28 until:2018-09-29', 'Racing Penguin: Slide and Fly! since:2018-09-29 until:2018-09-30', 'Racing Penguin: Slide and Fly! since:2018-09-30 until:2018-10-01', 'Racing Penguin: Slide and Fly! since:2018-10-01 until:2018-10-02', 'Racing Penguin: Slide and Fly! since:2018-10-02 until:2018-10-03']\n",
      "INFO: Querying Racing Penguin: Slide and Fly! since:2018-09-27 until:2018-09-28\n",
      "INFO: Querying Racing Penguin: Slide and Fly! since:2018-09-28 until:2018-09-29\n",
      "INFO: Querying Racing Penguin: Slide and Fly! since:2018-09-29 until:2018-09-30\n",
      "INFO: Querying Racing Penguin: Slide and Fly! since:2018-09-30 until:2018-10-01\n",
      "INFO: Querying Racing Penguin: Slide and Fly! since:2018-09-26 until:2018-09-27\n",
      "INFO: Querying Racing Penguin: Slide and Fly! since:2018-10-01 until:2018-10-02\n",
      "INFO: Querying Racing Penguin: Slide and Fly! since:2018-10-02 until:2018-10-03\n",
      "INFO: Got 0 tweets for Racing%20Penguin%3A%20Slide%20and%20Fly!%20since%3A2018-09-30%20until%3A2018-10-01.\n",
      "INFO: Got 0 tweets (0 new).\n",
      "INFO: Got 0 tweets for Racing%20Penguin%3A%20Slide%20and%20Fly!%20since%3A2018-09-27%20until%3A2018-09-28.\n",
      "INFO: Got 0 tweets (0 new).\n",
      "INFO: Got 0 tweets for Racing%20Penguin%3A%20Slide%20and%20Fly!%20since%3A2018-10-02%20until%3A2018-10-03.\n",
      "INFO: Got 0 tweets (0 new).\n",
      "INFO: Got 0 tweets (0 new).\n",
      "INFO: Got 0 tweets for Racing%20Penguin%3A%20Slide%20and%20Fly!%20since%3A2018-09-26%20until%3A2018-09-27.\n",
      "INFO: Got 0 tweets for Racing%20Penguin%3A%20Slide%20and%20Fly!%20since%3A2018-09-28%20until%3A2018-09-29.\n",
      "INFO: Got 0 tweets (0 new).\n",
      "INFO: Got 0 tweets for Racing%20Penguin%3A%20Slide%20and%20Fly!%20since%3A2018-09-29%20until%3A2018-09-30.\n",
      "INFO: Got 0 tweets (0 new).\n",
      "INFO: Got 0 tweets for Racing%20Penguin%3A%20Slide%20and%20Fly!%20since%3A2018-10-01%20until%3A2018-10-02.\n",
      "INFO: Got 0 tweets (0 new).\n"
     ]
    },
    {
     "name": "stdout",
     "output_type": "stream",
     "text": [
      "Racing Penguin: Slide and Fly!\n"
     ]
    },
    {
     "name": "stderr",
     "output_type": "stream",
     "text": [
      "INFO: queries: ['Deer Hunter Classic since:2018-09-26 until:2018-09-27', 'Deer Hunter Classic since:2018-09-27 until:2018-09-28', 'Deer Hunter Classic since:2018-09-28 until:2018-09-29', 'Deer Hunter Classic since:2018-09-29 until:2018-09-30', 'Deer Hunter Classic since:2018-09-30 until:2018-10-01', 'Deer Hunter Classic since:2018-10-01 until:2018-10-02', 'Deer Hunter Classic since:2018-10-02 until:2018-10-03']\n",
      "INFO: Querying Deer Hunter Classic since:2018-09-29 until:2018-09-30\n",
      "INFO: Querying Deer Hunter Classic since:2018-09-28 until:2018-09-29\n",
      "INFO: Querying Deer Hunter Classic since:2018-09-27 until:2018-09-28\n",
      "INFO: Querying Deer Hunter Classic since:2018-10-01 until:2018-10-02\n",
      "INFO: Querying Deer Hunter Classic since:2018-09-26 until:2018-09-27\n",
      "INFO: Querying Deer Hunter Classic since:2018-10-02 until:2018-10-03\n",
      "INFO: Querying Deer Hunter Classic since:2018-09-30 until:2018-10-01\n",
      "INFO: Got 0 tweets for Deer%20Hunter%20Classic%20since%3A2018-10-01%20until%3A2018-10-02.\n",
      "INFO: Got 0 tweets (0 new).\n",
      "INFO: Got 0 tweets for Deer%20Hunter%20Classic%20since%3A2018-09-30%20until%3A2018-10-01.\n",
      "INFO: Got 0 tweets (0 new).\n",
      "INFO: Got 0 tweets for Deer%20Hunter%20Classic%20since%3A2018-09-29%20until%3A2018-09-30.\n",
      "INFO: Got 0 tweets (0 new).\n",
      "INFO: Got 1 tweets for Deer%20Hunter%20Classic%20since%3A2018-09-27%20until%3A2018-09-28.\n",
      "INFO: Got 1 tweets (1 new).\n",
      "INFO: Got 1 tweets for Deer%20Hunter%20Classic%20since%3A2018-09-26%20until%3A2018-09-27.\n",
      "INFO: Got 2 tweets (1 new).\n",
      "INFO: Got 3 tweets for Deer%20Hunter%20Classic%20since%3A2018-09-28%20until%3A2018-09-29.\n",
      "INFO: Got 5 tweets (3 new).\n",
      "INFO: Got 3 tweets for Deer%20Hunter%20Classic%20since%3A2018-10-02%20until%3A2018-10-03.\n",
      "INFO: Got 8 tweets (3 new).\n"
     ]
    },
    {
     "name": "stdout",
     "output_type": "stream",
     "text": [
      "Deer Hunter Classic\n"
     ]
    },
    {
     "name": "stderr",
     "output_type": "stream",
     "text": [
      "INFO: queries: ['Hungry Shark Evolution since:2018-09-26 until:2018-09-27', 'Hungry Shark Evolution since:2018-09-27 until:2018-09-28', 'Hungry Shark Evolution since:2018-09-28 until:2018-09-29', 'Hungry Shark Evolution since:2018-09-29 until:2018-09-30', 'Hungry Shark Evolution since:2018-09-30 until:2018-10-01', 'Hungry Shark Evolution since:2018-10-01 until:2018-10-02', 'Hungry Shark Evolution since:2018-10-02 until:2018-10-03']\n",
      "INFO: Querying Hungry Shark Evolution since:2018-09-28 until:2018-09-29\n",
      "INFO: Querying Hungry Shark Evolution since:2018-09-30 until:2018-10-01\n",
      "INFO: Querying Hungry Shark Evolution since:2018-09-27 until:2018-09-28\n",
      "INFO: Querying Hungry Shark Evolution since:2018-10-01 until:2018-10-02\n",
      "INFO: Querying Hungry Shark Evolution since:2018-09-26 until:2018-09-27\n",
      "INFO: Querying Hungry Shark Evolution since:2018-10-02 until:2018-10-03\n",
      "INFO: Querying Hungry Shark Evolution since:2018-09-29 until:2018-09-30\n",
      "INFO: Got 14 tweets for Hungry%20Shark%20Evolution%20since%3A2018-10-02%20until%3A2018-10-03.\n",
      "INFO: Got 14 tweets (14 new).\n",
      "INFO: Got 18 tweets for Hungry%20Shark%20Evolution%20since%3A2018-10-01%20until%3A2018-10-02.\n",
      "INFO: Got 32 tweets (18 new).\n",
      "INFO: Got 19 tweets for Hungry%20Shark%20Evolution%20since%3A2018-09-30%20until%3A2018-10-01.\n",
      "INFO: Got 51 tweets (19 new).\n",
      "INFO: Got 20 tweets for Hungry%20Shark%20Evolution%20since%3A2018-09-28%20until%3A2018-09-29.\n",
      "INFO: Got 71 tweets (20 new).\n",
      "INFO: Got 22 tweets for Hungry%20Shark%20Evolution%20since%3A2018-09-29%20until%3A2018-09-30.\n",
      "INFO: Got 93 tweets (22 new).\n",
      "INFO: Got 29 tweets for Hungry%20Shark%20Evolution%20since%3A2018-09-27%20until%3A2018-09-28.\n",
      "INFO: Got 122 tweets (29 new).\n",
      "INFO: Got 32 tweets for Hungry%20Shark%20Evolution%20since%3A2018-09-26%20until%3A2018-09-27.\n",
      "INFO: Got 154 tweets (32 new).\n"
     ]
    },
    {
     "name": "stdout",
     "output_type": "stream",
     "text": [
      "Hungry Shark Evolution\n"
     ]
    },
    {
     "name": "stderr",
     "output_type": "stream",
     "text": [
      "INFO: queries: ['Helix Jump since:2018-09-26 until:2018-09-27', 'Helix Jump since:2018-09-27 until:2018-09-28', 'Helix Jump since:2018-09-28 until:2018-09-29', 'Helix Jump since:2018-09-29 until:2018-09-30', 'Helix Jump since:2018-09-30 until:2018-10-01', 'Helix Jump since:2018-10-01 until:2018-10-02', 'Helix Jump since:2018-10-02 until:2018-10-03']\n",
      "INFO: Querying Helix Jump since:2018-09-26 until:2018-09-27\n",
      "INFO: Querying Helix Jump since:2018-09-28 until:2018-09-29\n",
      "INFO: Querying Helix Jump since:2018-09-27 until:2018-09-28\n",
      "INFO: Querying Helix Jump since:2018-09-29 until:2018-09-30\n",
      "INFO: Querying Helix Jump since:2018-09-30 until:2018-10-01\n",
      "INFO: Querying Helix Jump since:2018-10-02 until:2018-10-03\n",
      "INFO: Querying Helix Jump since:2018-10-01 until:2018-10-02\n",
      "INFO: Got 33 tweets for Helix%20Jump%20since%3A2018-09-27%20until%3A2018-09-28.\n",
      "INFO: Got 33 tweets (33 new).\n",
      "INFO: Got 29 tweets for Helix%20Jump%20since%3A2018-09-30%20until%3A2018-10-01.\n",
      "INFO: Got 62 tweets (29 new).\n",
      "INFO: Got 33 tweets for Helix%20Jump%20since%3A2018-10-02%20until%3A2018-10-03.\n",
      "INFO: Got 95 tweets (33 new).\n",
      "INFO: Got 31 tweets for Helix%20Jump%20since%3A2018-09-26%20until%3A2018-09-27.\n",
      "INFO: Got 126 tweets (31 new).\n",
      "INFO: Got 34 tweets for Helix%20Jump%20since%3A2018-09-28%20until%3A2018-09-29.\n",
      "INFO: Got 160 tweets (34 new).\n",
      "INFO: Got 40 tweets for Helix%20Jump%20since%3A2018-10-01%20until%3A2018-10-02.\n",
      "INFO: Got 200 tweets (40 new).\n",
      "INFO: Got 49 tweets for Helix%20Jump%20since%3A2018-09-29%20until%3A2018-09-30.\n",
      "INFO: Got 249 tweets (49 new).\n"
     ]
    },
    {
     "name": "stdout",
     "output_type": "stream",
     "text": [
      "Helix Jump\n"
     ]
    },
    {
     "name": "stderr",
     "output_type": "stream",
     "text": [
      "INFO: queries: ['PUBG MOBILE since:2018-09-26 until:2018-09-27', 'PUBG MOBILE since:2018-09-27 until:2018-09-28', 'PUBG MOBILE since:2018-09-28 until:2018-09-29', 'PUBG MOBILE since:2018-09-29 until:2018-09-30', 'PUBG MOBILE since:2018-09-30 until:2018-10-01', 'PUBG MOBILE since:2018-10-01 until:2018-10-02', 'PUBG MOBILE since:2018-10-02 until:2018-10-03']\n",
      "INFO: Querying PUBG MOBILE since:2018-09-26 until:2018-09-27\n",
      "INFO: Querying PUBG MOBILE since:2018-09-27 until:2018-09-28\n",
      "INFO: Querying PUBG MOBILE since:2018-09-30 until:2018-10-01\n",
      "INFO: Querying PUBG MOBILE since:2018-09-28 until:2018-09-29\n",
      "INFO: Querying PUBG MOBILE since:2018-09-29 until:2018-09-30\n",
      "INFO: Querying PUBG MOBILE since:2018-10-01 until:2018-10-02\n",
      "INFO: Querying PUBG MOBILE since:2018-10-02 until:2018-10-03\n",
      "INFO: Got 1681 tweets for PUBG%20MOBILE%20since%3A2018-10-01%20until%3A2018-10-02.\n",
      "INFO: Got 1681 tweets (1681 new).\n",
      "INFO: Got 1732 tweets for PUBG%20MOBILE%20since%3A2018-09-28%20until%3A2018-09-29.\n",
      "INFO: Got 3413 tweets (1732 new).\n",
      "INFO: Got 1720 tweets for PUBG%20MOBILE%20since%3A2018-09-27%20until%3A2018-09-28.\n",
      "INFO: Got 5133 tweets (1720 new).\n",
      "INFO: Got 1753 tweets for PUBG%20MOBILE%20since%3A2018-09-29%20until%3A2018-09-30.\n",
      "INFO: Got 6886 tweets (1753 new).\n",
      "INFO: Got 1751 tweets for PUBG%20MOBILE%20since%3A2018-09-30%20until%3A2018-10-01.\n",
      "INFO: Got 8637 tweets (1751 new).\n",
      "INFO: Got 1859 tweets for PUBG%20MOBILE%20since%3A2018-10-02%20until%3A2018-10-03.\n",
      "INFO: Got 10496 tweets (1859 new).\n",
      "INFO: Got 1936 tweets for PUBG%20MOBILE%20since%3A2018-09-26%20until%3A2018-09-27.\n",
      "INFO: Got 12432 tweets (1936 new).\n"
     ]
    },
    {
     "name": "stdout",
     "output_type": "stream",
     "text": [
      "PUBG MOBILE\n"
     ]
    },
    {
     "name": "stderr",
     "output_type": "stream",
     "text": [
      "INFO: queries: ['Bowmasters - Multiplayer Game since:2018-09-26 until:2018-09-27', 'Bowmasters - Multiplayer Game since:2018-09-27 until:2018-09-28', 'Bowmasters - Multiplayer Game since:2018-09-28 until:2018-09-29', 'Bowmasters - Multiplayer Game since:2018-09-29 until:2018-09-30', 'Bowmasters - Multiplayer Game since:2018-09-30 until:2018-10-01', 'Bowmasters - Multiplayer Game since:2018-10-01 until:2018-10-02', 'Bowmasters - Multiplayer Game since:2018-10-02 until:2018-10-03']\n",
      "INFO: Querying Bowmasters - Multiplayer Game since:2018-09-30 until:2018-10-01\n",
      "INFO: Querying Bowmasters - Multiplayer Game since:2018-10-02 until:2018-10-03\n",
      "INFO: Querying Bowmasters - Multiplayer Game since:2018-09-28 until:2018-09-29\n",
      "INFO: Querying Bowmasters - Multiplayer Game since:2018-10-01 until:2018-10-02\n",
      "INFO: Querying Bowmasters - Multiplayer Game since:2018-09-29 until:2018-09-30\n",
      "INFO: Querying Bowmasters - Multiplayer Game since:2018-09-26 until:2018-09-27\n",
      "INFO: Querying Bowmasters - Multiplayer Game since:2018-09-27 until:2018-09-28\n",
      "INFO: Got 0 tweets for Bowmasters%20-%20Multiplayer%20Game%20since%3A2018-09-29%20until%3A2018-09-30.\n",
      "INFO: Got 0 tweets (0 new).\n",
      "INFO: Got 0 tweets for Bowmasters%20-%20Multiplayer%20Game%20since%3A2018-09-26%20until%3A2018-09-27.\n",
      "INFO: Got 0 tweets for Bowmasters%20-%20Multiplayer%20Game%20since%3A2018-09-28%20until%3A2018-09-29.\n",
      "INFO: Got 0 tweets (0 new).\n",
      "INFO: Got 0 tweets (0 new).\n",
      "INFO: Got 0 tweets for Bowmasters%20-%20Multiplayer%20Game%20since%3A2018-10-01%20until%3A2018-10-02.\n",
      "INFO: Got 0 tweets (0 new).\n",
      "INFO: Got 0 tweets for Bowmasters%20-%20Multiplayer%20Game%20since%3A2018-09-27%20until%3A2018-09-28.\n",
      "INFO: Got 0 tweets (0 new).\n",
      "INFO: Got 1 tweets for Bowmasters%20-%20Multiplayer%20Game%20since%3A2018-10-02%20until%3A2018-10-03.\n",
      "INFO: Got 1 tweets (1 new).\n",
      "INFO: Got 1 tweets for Bowmasters%20-%20Multiplayer%20Game%20since%3A2018-09-30%20until%3A2018-10-01.\n",
      "INFO: Got 2 tweets (1 new).\n"
     ]
    },
    {
     "name": "stdout",
     "output_type": "stream",
     "text": [
      "Bowmasters - Multiplayer Game\n"
     ]
    },
    {
     "name": "stderr",
     "output_type": "stream",
     "text": [
      "INFO: queries: ['Dumb Ways to Die 2: The Games since:2018-09-26 until:2018-09-27', 'Dumb Ways to Die 2: The Games since:2018-09-27 until:2018-09-28', 'Dumb Ways to Die 2: The Games since:2018-09-28 until:2018-09-29', 'Dumb Ways to Die 2: The Games since:2018-09-29 until:2018-09-30', 'Dumb Ways to Die 2: The Games since:2018-09-30 until:2018-10-01', 'Dumb Ways to Die 2: The Games since:2018-10-01 until:2018-10-02', 'Dumb Ways to Die 2: The Games since:2018-10-02 until:2018-10-03']\n",
      "INFO: Querying Dumb Ways to Die 2: The Games since:2018-09-29 until:2018-09-30\n",
      "INFO: Querying Dumb Ways to Die 2: The Games since:2018-09-26 until:2018-09-27\n",
      "INFO: Querying Dumb Ways to Die 2: The Games since:2018-10-01 until:2018-10-02\n",
      "INFO: Querying Dumb Ways to Die 2: The Games since:2018-09-28 until:2018-09-29\n",
      "INFO: Querying Dumb Ways to Die 2: The Games since:2018-10-02 until:2018-10-03\n",
      "INFO: Querying Dumb Ways to Die 2: The Games since:2018-09-30 until:2018-10-01\n",
      "INFO: Querying Dumb Ways to Die 2: The Games since:2018-09-27 until:2018-09-28\n",
      "INFO: Got 0 tweets for Dumb%20Ways%20to%20Die%202%3A%20The%20Games%20since%3A2018-09-28%20until%3A2018-09-29.\n",
      "INFO: Got 0 tweets (0 new).\n",
      "INFO: Got 0 tweets for Dumb%20Ways%20to%20Die%202%3A%20The%20Games%20since%3A2018-10-02%20until%3A2018-10-03.\n",
      "INFO: Got 0 tweets (0 new).\n",
      "INFO: Got 0 tweets for Dumb%20Ways%20to%20Die%202%3A%20The%20Games%20since%3A2018-09-26%20until%3A2018-09-27.\n",
      "INFO: Got 0 tweets (0 new).\n",
      "INFO: Got 0 tweets for Dumb%20Ways%20to%20Die%202%3A%20The%20Games%20since%3A2018-10-01%20until%3A2018-10-02.\n",
      "INFO: Got 0 tweets (0 new).\n",
      "INFO: Got 0 tweets for Dumb%20Ways%20to%20Die%202%3A%20The%20Games%20since%3A2018-09-30%20until%3A2018-10-01.\n",
      "INFO: Got 0 tweets for Dumb%20Ways%20to%20Die%202%3A%20The%20Games%20since%3A2018-09-29%20until%3A2018-09-30.\n",
      "INFO: Got 0 tweets (0 new).\n",
      "INFO: Got 0 tweets (0 new).\n",
      "INFO: Got 1 tweets for Dumb%20Ways%20to%20Die%202%3A%20The%20Games%20since%3A2018-09-27%20until%3A2018-09-28.\n",
      "INFO: Got 1 tweets (1 new).\n"
     ]
    },
    {
     "name": "stdout",
     "output_type": "stream",
     "text": [
      "Dumb Ways to Die 2: The Games\n"
     ]
    },
    {
     "name": "stderr",
     "output_type": "stream",
     "text": [
      "INFO: queries: ['MARVEL Contest of Champions since:2018-09-26 until:2018-09-27', 'MARVEL Contest of Champions since:2018-09-27 until:2018-09-28', 'MARVEL Contest of Champions since:2018-09-28 until:2018-09-29', 'MARVEL Contest of Champions since:2018-09-29 until:2018-09-30', 'MARVEL Contest of Champions since:2018-09-30 until:2018-10-01', 'MARVEL Contest of Champions since:2018-10-01 until:2018-10-02', 'MARVEL Contest of Champions since:2018-10-02 until:2018-10-03']\n",
      "INFO: Querying MARVEL Contest of Champions since:2018-09-28 until:2018-09-29\n",
      "INFO: Querying MARVEL Contest of Champions since:2018-09-27 until:2018-09-28\n",
      "INFO: Querying MARVEL Contest of Champions since:2018-09-30 until:2018-10-01\n",
      "INFO: Querying MARVEL Contest of Champions since:2018-09-26 until:2018-09-27\n",
      "INFO: Querying MARVEL Contest of Champions since:2018-09-29 until:2018-09-30\n",
      "INFO: Querying MARVEL Contest of Champions since:2018-10-01 until:2018-10-02\n",
      "INFO: Querying MARVEL Contest of Champions since:2018-10-02 until:2018-10-03\n",
      "INFO: Got 37 tweets for MARVEL%20Contest%20of%20Champions%20since%3A2018-09-30%20until%3A2018-10-01.\n",
      "INFO: Got 37 tweets (37 new).\n",
      "INFO: Got 31 tweets for MARVEL%20Contest%20of%20Champions%20since%3A2018-09-29%20until%3A2018-09-30.\n",
      "INFO: Got 68 tweets (31 new).\n",
      "INFO: Got 30 tweets for MARVEL%20Contest%20of%20Champions%20since%3A2018-10-01%20until%3A2018-10-02.\n",
      "INFO: Got 98 tweets (30 new).\n",
      "INFO: Got 35 tweets for MARVEL%20Contest%20of%20Champions%20since%3A2018-09-26%20until%3A2018-09-27.\n",
      "INFO: Got 133 tweets (35 new).\n",
      "INFO: Got 41 tweets for MARVEL%20Contest%20of%20Champions%20since%3A2018-10-02%20until%3A2018-10-03.\n",
      "INFO: Got 174 tweets (41 new).\n",
      "INFO: Got 56 tweets for MARVEL%20Contest%20of%20Champions%20since%3A2018-09-27%20until%3A2018-09-28.\n",
      "INFO: Got 230 tweets (56 new).\n",
      "INFO: Got 54 tweets for MARVEL%20Contest%20of%20Champions%20since%3A2018-09-28%20until%3A2018-09-29.\n",
      "INFO: Got 284 tweets (54 new).\n"
     ]
    },
    {
     "name": "stdout",
     "output_type": "stream",
     "text": [
      "MARVEL Contest of Champions\n"
     ]
    },
    {
     "name": "stderr",
     "output_type": "stream",
     "text": [
      "INFO: queries: ['Boom Beach since:2018-09-26 until:2018-09-27', 'Boom Beach since:2018-09-27 until:2018-09-28', 'Boom Beach since:2018-09-28 until:2018-09-29', 'Boom Beach since:2018-09-29 until:2018-09-30', 'Boom Beach since:2018-09-30 until:2018-10-01', 'Boom Beach since:2018-10-01 until:2018-10-02', 'Boom Beach since:2018-10-02 until:2018-10-03']\n",
      "INFO: Querying Boom Beach since:2018-09-28 until:2018-09-29\n",
      "INFO: Querying Boom Beach since:2018-09-26 until:2018-09-27\n",
      "INFO: Querying Boom Beach since:2018-09-29 until:2018-09-30\n",
      "INFO: Querying Boom Beach since:2018-09-27 until:2018-09-28\n",
      "INFO: Querying Boom Beach since:2018-09-30 until:2018-10-01\n",
      "INFO: Querying Boom Beach since:2018-10-01 until:2018-10-02\n",
      "INFO: Querying Boom Beach since:2018-10-02 until:2018-10-03\n",
      "INFO: Got 14 tweets for Boom%20Beach%20since%3A2018-09-27%20until%3A2018-09-28.\n",
      "INFO: Got 14 tweets (14 new).\n",
      "INFO: Got 13 tweets for Boom%20Beach%20since%3A2018-10-01%20until%3A2018-10-02.\n",
      "INFO: Got 27 tweets (13 new).\n",
      "INFO: Got 17 tweets for Boom%20Beach%20since%3A2018-09-30%20until%3A2018-10-01.\n",
      "INFO: Got 44 tweets (17 new).\n",
      "INFO: Got 22 tweets for Boom%20Beach%20since%3A2018-10-02%20until%3A2018-10-03.\n",
      "INFO: Got 66 tweets (22 new).\n",
      "INFO: Got 23 tweets for Boom%20Beach%20since%3A2018-09-28%20until%3A2018-09-29.\n",
      "INFO: Got 89 tweets (23 new).\n",
      "INFO: Got 21 tweets for Boom%20Beach%20since%3A2018-09-26%20until%3A2018-09-27.\n",
      "INFO: Got 110 tweets (21 new).\n",
      "INFO: Got 30 tweets for Boom%20Beach%20since%3A2018-09-29%20until%3A2018-09-30.\n",
      "INFO: Got 140 tweets (30 new).\n"
     ]
    },
    {
     "name": "stdout",
     "output_type": "stream",
     "text": [
      "Boom Beach\n"
     ]
    },
    {
     "name": "stderr",
     "output_type": "stream",
     "text": [
      "INFO: queries: ['Castle Clash: War Empire since:2018-09-26 until:2018-09-27', 'Castle Clash: War Empire since:2018-09-27 until:2018-09-28', 'Castle Clash: War Empire since:2018-09-28 until:2018-09-29', 'Castle Clash: War Empire since:2018-09-29 until:2018-09-30', 'Castle Clash: War Empire since:2018-09-30 until:2018-10-01', 'Castle Clash: War Empire since:2018-10-01 until:2018-10-02', 'Castle Clash: War Empire since:2018-10-02 until:2018-10-03']\n",
      "INFO: Querying Castle Clash: War Empire since:2018-09-28 until:2018-09-29\n",
      "INFO: Querying Castle Clash: War Empire since:2018-09-29 until:2018-09-30\n",
      "INFO: Querying Castle Clash: War Empire since:2018-09-30 until:2018-10-01\n",
      "INFO: Querying Castle Clash: War Empire since:2018-10-01 until:2018-10-02\n",
      "INFO: Querying Castle Clash: War Empire since:2018-09-26 until:2018-09-27\n",
      "INFO: Querying Castle Clash: War Empire since:2018-09-27 until:2018-09-28\n",
      "INFO: Querying Castle Clash: War Empire since:2018-10-02 until:2018-10-03\n",
      "INFO: Got 0 tweets for Castle%20Clash%3A%20War%20Empire%20since%3A2018-09-26%20until%3A2018-09-27.\n",
      "INFO: Got 0 tweets (0 new).\n",
      "INFO: Got 0 tweets for Castle%20Clash%3A%20War%20Empire%20since%3A2018-10-01%20until%3A2018-10-02.\n",
      "INFO: Got 0 tweets (0 new).\n",
      "INFO: Got 0 tweets for Castle%20Clash%3A%20War%20Empire%20since%3A2018-09-30%20until%3A2018-10-01.\n",
      "INFO: Got 0 tweets (0 new).\n",
      "INFO: Got 0 tweets for Castle%20Clash%3A%20War%20Empire%20since%3A2018-09-27%20until%3A2018-09-28.\n",
      "INFO: Got 0 tweets (0 new).\n",
      "INFO: Got 0 tweets for Castle%20Clash%3A%20War%20Empire%20since%3A2018-09-29%20until%3A2018-09-30.\n",
      "INFO: Got 0 tweets (0 new).\n",
      "INFO: Got 1 tweets for Castle%20Clash%3A%20War%20Empire%20since%3A2018-10-02%20until%3A2018-10-03.\n",
      "INFO: Got 1 tweets (1 new).\n",
      "INFO: Got 1 tweets for Castle%20Clash%3A%20War%20Empire%20since%3A2018-09-28%20until%3A2018-09-29.\n",
      "INFO: Got 2 tweets (1 new).\n"
     ]
    },
    {
     "name": "stdout",
     "output_type": "stream",
     "text": [
      "Castle Clash: War Empire\n"
     ]
    },
    {
     "name": "stderr",
     "output_type": "stream",
     "text": [
      "INFO: queries: ['Pixel Gun 3D: Battle Royale since:2018-09-26 until:2018-09-27', 'Pixel Gun 3D: Battle Royale since:2018-09-27 until:2018-09-28', 'Pixel Gun 3D: Battle Royale since:2018-09-28 until:2018-09-29', 'Pixel Gun 3D: Battle Royale since:2018-09-29 until:2018-09-30', 'Pixel Gun 3D: Battle Royale since:2018-09-30 until:2018-10-01', 'Pixel Gun 3D: Battle Royale since:2018-10-01 until:2018-10-02', 'Pixel Gun 3D: Battle Royale since:2018-10-02 until:2018-10-03']\n",
      "INFO: Querying Pixel Gun 3D: Battle Royale since:2018-09-27 until:2018-09-28\n",
      "INFO: Querying Pixel Gun 3D: Battle Royale since:2018-09-26 until:2018-09-27\n",
      "INFO: Querying Pixel Gun 3D: Battle Royale since:2018-09-28 until:2018-09-29\n",
      "INFO: Querying Pixel Gun 3D: Battle Royale since:2018-10-01 until:2018-10-02\n",
      "INFO: Querying Pixel Gun 3D: Battle Royale since:2018-10-02 until:2018-10-03\n",
      "INFO: Querying Pixel Gun 3D: Battle Royale since:2018-09-29 until:2018-09-30\n",
      "INFO: Querying Pixel Gun 3D: Battle Royale since:2018-09-30 until:2018-10-01\n",
      "INFO: Got 0 tweets for Pixel%20Gun%203D%3A%20Battle%20Royale%20since%3A2018-10-01%20until%3A2018-10-02.\n",
      "INFO: Got 0 tweets (0 new).\n",
      "INFO: Got 1 tweets for Pixel%20Gun%203D%3A%20Battle%20Royale%20since%3A2018-10-02%20until%3A2018-10-03.\n",
      "INFO: Got 1 tweets (1 new).\n",
      "INFO: Got 3 tweets for Pixel%20Gun%203D%3A%20Battle%20Royale%20since%3A2018-09-27%20until%3A2018-09-28.\n",
      "INFO: Got 4 tweets (3 new).\n",
      "INFO: Got 1 tweets for Pixel%20Gun%203D%3A%20Battle%20Royale%20since%3A2018-09-26%20until%3A2018-09-27.\n",
      "INFO: Got 5 tweets (1 new).\n",
      "INFO: Got 4 tweets for Pixel%20Gun%203D%3A%20Battle%20Royale%20since%3A2018-09-29%20until%3A2018-09-30.\n",
      "INFO: Got 9 tweets (4 new).\n",
      "INFO: Got 4 tweets for Pixel%20Gun%203D%3A%20Battle%20Royale%20since%3A2018-09-28%20until%3A2018-09-29.\n",
      "INFO: Got 13 tweets (4 new).\n",
      "INFO: Got 9 tweets for Pixel%20Gun%203D%3A%20Battle%20Royale%20since%3A2018-09-30%20until%3A2018-10-01.\n",
      "INFO: Got 22 tweets (9 new).\n"
     ]
    },
    {
     "name": "stdout",
     "output_type": "stream",
     "text": [
      "Pixel Gun 3D: Battle Royale\n"
     ]
    },
    {
     "name": "stderr",
     "output_type": "stream",
     "text": [
      "INFO: queries: ['Sniper Shooter: Gun Shooting since:2018-09-26 until:2018-09-27', 'Sniper Shooter: Gun Shooting since:2018-09-27 until:2018-09-28', 'Sniper Shooter: Gun Shooting since:2018-09-28 until:2018-09-29', 'Sniper Shooter: Gun Shooting since:2018-09-29 until:2018-09-30', 'Sniper Shooter: Gun Shooting since:2018-09-30 until:2018-10-01', 'Sniper Shooter: Gun Shooting since:2018-10-01 until:2018-10-02', 'Sniper Shooter: Gun Shooting since:2018-10-02 until:2018-10-03']\n",
      "INFO: Querying Sniper Shooter: Gun Shooting since:2018-09-26 until:2018-09-27\n",
      "INFO: Querying Sniper Shooter: Gun Shooting since:2018-09-30 until:2018-10-01\n",
      "INFO: Querying Sniper Shooter: Gun Shooting since:2018-09-28 until:2018-09-29\n",
      "INFO: Querying Sniper Shooter: Gun Shooting since:2018-09-29 until:2018-09-30\n",
      "INFO: Querying Sniper Shooter: Gun Shooting since:2018-10-01 until:2018-10-02\n",
      "INFO: Querying Sniper Shooter: Gun Shooting since:2018-10-02 until:2018-10-03\n",
      "INFO: Querying Sniper Shooter: Gun Shooting since:2018-09-27 until:2018-09-28\n",
      "INFO: Got 0 tweets for Sniper%20Shooter%3A%20Gun%20Shooting%20since%3A2018-09-29%20until%3A2018-09-30.\n",
      "INFO: Got 0 tweets (0 new).\n",
      "INFO: Got 0 tweets for Sniper%20Shooter%3A%20Gun%20Shooting%20since%3A2018-10-02%20until%3A2018-10-03.\n",
      "INFO: Got 0 tweets (0 new).\n",
      "INFO: Got 0 tweets for Sniper%20Shooter%3A%20Gun%20Shooting%20since%3A2018-09-27%20until%3A2018-09-28.\n",
      "INFO: Got 0 tweets (0 new).\n",
      "INFO: Got 0 tweets for Sniper%20Shooter%3A%20Gun%20Shooting%20since%3A2018-09-26%20until%3A2018-09-27.\n",
      "INFO: Got 0 tweets (0 new).\n",
      "INFO: Got 0 tweets for Sniper%20Shooter%3A%20Gun%20Shooting%20since%3A2018-09-28%20until%3A2018-09-29.\n",
      "INFO: Got 0 tweets (0 new).\n",
      "INFO: Got 0 tweets for Sniper%20Shooter%3A%20Gun%20Shooting%20since%3A2018-10-01%20until%3A2018-10-02.\n",
      "INFO: Got 0 tweets (0 new).\n",
      "INFO: Got 0 tweets for Sniper%20Shooter%3A%20Gun%20Shooting%20since%3A2018-09-30%20until%3A2018-10-01.\n",
      "INFO: Got 0 tweets (0 new).\n"
     ]
    },
    {
     "name": "stdout",
     "output_type": "stream",
     "text": [
      "Sniper Shooter: Gun Shooting\n"
     ]
    },
    {
     "name": "stderr",
     "output_type": "stream",
     "text": [
      "INFO: queries: ['Happy Wheels since:2018-09-26 until:2018-09-27', 'Happy Wheels since:2018-09-27 until:2018-09-28', 'Happy Wheels since:2018-09-28 until:2018-09-29', 'Happy Wheels since:2018-09-29 until:2018-09-30', 'Happy Wheels since:2018-09-30 until:2018-10-01', 'Happy Wheels since:2018-10-01 until:2018-10-02', 'Happy Wheels since:2018-10-02 until:2018-10-03']\n",
      "INFO: Querying Happy Wheels since:2018-09-29 until:2018-09-30\n",
      "INFO: Querying Happy Wheels since:2018-09-26 until:2018-09-27\n",
      "INFO: Querying Happy Wheels since:2018-10-01 until:2018-10-02\n",
      "INFO: Querying Happy Wheels since:2018-09-27 until:2018-09-28\n",
      "INFO: Querying Happy Wheels since:2018-09-28 until:2018-09-29\n",
      "INFO: Querying Happy Wheels since:2018-10-02 until:2018-10-03\n",
      "INFO: Querying Happy Wheels since:2018-09-30 until:2018-10-01\n",
      "INFO: Got 45 tweets for Happy%20Wheels%20since%3A2018-09-27%20until%3A2018-09-28.\n",
      "INFO: Got 45 tweets (45 new).\n",
      "INFO: Got 50 tweets for Happy%20Wheels%20since%3A2018-10-01%20until%3A2018-10-02.\n",
      "INFO: Got 95 tweets (50 new).\n",
      "INFO: Got 44 tweets for Happy%20Wheels%20since%3A2018-09-26%20until%3A2018-09-27.\n",
      "INFO: Got 139 tweets (44 new).\n",
      "INFO: Got 48 tweets for Happy%20Wheels%20since%3A2018-09-28%20until%3A2018-09-29.\n",
      "INFO: Got 187 tweets (48 new).\n",
      "INFO: Got 50 tweets for Happy%20Wheels%20since%3A2018-10-02%20until%3A2018-10-03.\n",
      "INFO: Got 237 tweets (50 new).\n",
      "INFO: Got 81 tweets for Happy%20Wheels%20since%3A2018-09-30%20until%3A2018-10-01.\n",
      "INFO: Got 318 tweets (81 new).\n",
      "INFO: Got 89 tweets for Happy%20Wheels%20since%3A2018-09-29%20until%3A2018-09-30.\n",
      "INFO: Got 407 tweets (89 new).\n"
     ]
    },
    {
     "name": "stdout",
     "output_type": "stream",
     "text": [
      "Happy Wheels\n"
     ]
    },
    {
     "name": "stderr",
     "output_type": "stream",
     "text": [
      "INFO: queries: ['Injustice: Gods Among Us since:2018-09-26 until:2018-09-27', 'Injustice: Gods Among Us since:2018-09-27 until:2018-09-28', 'Injustice: Gods Among Us since:2018-09-28 until:2018-09-29', 'Injustice: Gods Among Us since:2018-09-29 until:2018-09-30', 'Injustice: Gods Among Us since:2018-09-30 until:2018-10-01', 'Injustice: Gods Among Us since:2018-10-01 until:2018-10-02', 'Injustice: Gods Among Us since:2018-10-02 until:2018-10-03']\n",
      "INFO: Querying Injustice: Gods Among Us since:2018-09-27 until:2018-09-28\n",
      "INFO: Querying Injustice: Gods Among Us since:2018-09-26 until:2018-09-27\n",
      "INFO: Querying Injustice: Gods Among Us since:2018-09-28 until:2018-09-29\n",
      "INFO: Querying Injustice: Gods Among Us since:2018-09-30 until:2018-10-01\n",
      "INFO: Querying Injustice: Gods Among Us since:2018-10-01 until:2018-10-02\n",
      "INFO: Querying Injustice: Gods Among Us since:2018-09-29 until:2018-09-30\n",
      "INFO: Querying Injustice: Gods Among Us since:2018-10-02 until:2018-10-03\n",
      "INFO: Got 11 tweets for Injustice%3A%20Gods%20Among%20Us%20since%3A2018-09-28%20until%3A2018-09-29.\n",
      "INFO: Got 11 tweets (11 new).\n",
      "INFO: Got 13 tweets for Injustice%3A%20Gods%20Among%20Us%20since%3A2018-09-27%20until%3A2018-09-28.\n",
      "INFO: Got 24 tweets (13 new).\n",
      "INFO: Got 17 tweets for Injustice%3A%20Gods%20Among%20Us%20since%3A2018-10-02%20until%3A2018-10-03.\n",
      "INFO: Got 41 tweets (17 new).\n",
      "INFO: Got 19 tweets for Injustice%3A%20Gods%20Among%20Us%20since%3A2018-09-30%20until%3A2018-10-01.\n",
      "INFO: Got 60 tweets (19 new).\n",
      "INFO: Got 18 tweets for Injustice%3A%20Gods%20Among%20Us%20since%3A2018-10-01%20until%3A2018-10-02.\n",
      "INFO: Got 78 tweets (18 new).\n",
      "INFO: Got 15 tweets for Injustice%3A%20Gods%20Among%20Us%20since%3A2018-09-29%20until%3A2018-09-30.\n",
      "INFO: Got 93 tweets (15 new).\n",
      "INFO: Got 23 tweets for Injustice%3A%20Gods%20Among%20Us%20since%3A2018-09-26%20until%3A2018-09-27.\n",
      "INFO: Got 116 tweets (23 new).\n"
     ]
    },
    {
     "name": "stdout",
     "output_type": "stream",
     "text": [
      "Injustice: Gods Among Us\n"
     ]
    },
    {
     "name": "stderr",
     "output_type": "stream",
     "text": [
      "INFO: queries: ['Hungry Shark World since:2018-09-26 until:2018-09-27', 'Hungry Shark World since:2018-09-27 until:2018-09-28', 'Hungry Shark World since:2018-09-28 until:2018-09-29', 'Hungry Shark World since:2018-09-29 until:2018-09-30', 'Hungry Shark World since:2018-09-30 until:2018-10-01', 'Hungry Shark World since:2018-10-01 until:2018-10-02', 'Hungry Shark World since:2018-10-02 until:2018-10-03']\n",
      "INFO: Querying Hungry Shark World since:2018-09-27 until:2018-09-28\n",
      "INFO: Querying Hungry Shark World since:2018-09-26 until:2018-09-27\n",
      "INFO: Querying Hungry Shark World since:2018-09-29 until:2018-09-30\n",
      "INFO: Querying Hungry Shark World since:2018-09-28 until:2018-09-29\n",
      "INFO: Querying Hungry Shark World since:2018-10-01 until:2018-10-02\n",
      "INFO: Querying Hungry Shark World since:2018-09-30 until:2018-10-01\n",
      "INFO: Querying Hungry Shark World since:2018-10-02 until:2018-10-03\n",
      "INFO: Got 1 tweets for Hungry%20Shark%20World%20since%3A2018-09-30%20until%3A2018-10-01.\n",
      "INFO: Got 1 tweets (1 new).\n",
      "INFO: Got 16 tweets for Hungry%20Shark%20World%20since%3A2018-10-02%20until%3A2018-10-03.\n",
      "INFO: Got 17 tweets (16 new).\n",
      "INFO: Got 13 tweets for Hungry%20Shark%20World%20since%3A2018-09-29%20until%3A2018-09-30.\n",
      "INFO: Got 30 tweets (13 new).\n",
      "INFO: Got 4 tweets for Hungry%20Shark%20World%20since%3A2018-09-28%20until%3A2018-09-29.\n",
      "INFO: Got 34 tweets (4 new).\n",
      "INFO: Got 12 tweets for Hungry%20Shark%20World%20since%3A2018-10-01%20until%3A2018-10-02.\n",
      "INFO: Got 46 tweets (12 new).\n",
      "INFO: Got 10 tweets for Hungry%20Shark%20World%20since%3A2018-09-26%20until%3A2018-09-27.\n",
      "INFO: Got 56 tweets (10 new).\n",
      "INFO: Got 13 tweets for Hungry%20Shark%20World%20since%3A2018-09-27%20until%3A2018-09-28.\n",
      "INFO: Got 69 tweets (13 new).\n"
     ]
    },
    {
     "name": "stdout",
     "output_type": "stream",
     "text": [
      "Hungry Shark World\n"
     ]
    },
    {
     "name": "stderr",
     "output_type": "stream",
     "text": [
      "INFO: queries: ['Fruit Ninja Classic since:2018-09-26 until:2018-09-27', 'Fruit Ninja Classic since:2018-09-27 until:2018-09-28', 'Fruit Ninja Classic since:2018-09-28 until:2018-09-29', 'Fruit Ninja Classic since:2018-09-29 until:2018-09-30', 'Fruit Ninja Classic since:2018-09-30 until:2018-10-01', 'Fruit Ninja Classic since:2018-10-01 until:2018-10-02', 'Fruit Ninja Classic since:2018-10-02 until:2018-10-03']\n",
      "INFO: Querying Fruit Ninja Classic since:2018-09-27 until:2018-09-28\n",
      "INFO: Querying Fruit Ninja Classic since:2018-09-26 until:2018-09-27\n",
      "INFO: Querying Fruit Ninja Classic since:2018-09-29 until:2018-09-30\n",
      "INFO: Querying Fruit Ninja Classic since:2018-10-01 until:2018-10-02\n",
      "INFO: Querying Fruit Ninja Classic since:2018-10-02 until:2018-10-03\n",
      "INFO: Querying Fruit Ninja Classic since:2018-09-30 until:2018-10-01\n",
      "INFO: Querying Fruit Ninja Classic since:2018-09-28 until:2018-09-29\n",
      "INFO: Got 0 tweets for Fruit%20Ninja%20Classic%20since%3A2018-10-01%20until%3A2018-10-02.\n",
      "INFO: Got 0 tweets (0 new).\n",
      "INFO: Got 0 tweets for Fruit%20Ninja%20Classic%20since%3A2018-09-29%20until%3A2018-09-30.\n",
      "INFO: Got 0 tweets (0 new).\n",
      "INFO: Got 0 tweets for Fruit%20Ninja%20Classic%20since%3A2018-09-26%20until%3A2018-09-27.\n",
      "INFO: Got 0 tweets (0 new).\n",
      "INFO: Got 2 tweets for Fruit%20Ninja%20Classic%20since%3A2018-10-02%20until%3A2018-10-03.\n",
      "INFO: Got 2 tweets (2 new).\n",
      "INFO: Got 5 tweets for Fruit%20Ninja%20Classic%20since%3A2018-09-27%20until%3A2018-09-28.\n",
      "INFO: Got 7 tweets (5 new).\n",
      "INFO: Got 1 tweets for Fruit%20Ninja%20Classic%20since%3A2018-09-28%20until%3A2018-09-29.\n",
      "INFO: Got 8 tweets (1 new).\n",
      "INFO: Got 2 tweets for Fruit%20Ninja%20Classic%20since%3A2018-09-30%20until%3A2018-10-01.\n",
      "INFO: Got 10 tweets (2 new).\n"
     ]
    },
    {
     "name": "stdout",
     "output_type": "stream",
     "text": [
      "Fruit Ninja Classic\n"
     ]
    },
    {
     "name": "stderr",
     "output_type": "stream",
     "text": [
      "INFO: queries: ['Flip Diving since:2018-09-26 until:2018-09-27', 'Flip Diving since:2018-09-27 until:2018-09-28', 'Flip Diving since:2018-09-28 until:2018-09-29', 'Flip Diving since:2018-09-29 until:2018-09-30', 'Flip Diving since:2018-09-30 until:2018-10-01', 'Flip Diving since:2018-10-01 until:2018-10-02', 'Flip Diving since:2018-10-02 until:2018-10-03']\n",
      "INFO: Querying Flip Diving since:2018-09-26 until:2018-09-27\n",
      "INFO: Querying Flip Diving since:2018-09-27 until:2018-09-28\n",
      "INFO: Querying Flip Diving since:2018-09-29 until:2018-09-30\n",
      "INFO: Querying Flip Diving since:2018-09-30 until:2018-10-01\n",
      "INFO: Querying Flip Diving since:2018-09-28 until:2018-09-29\n",
      "INFO: Querying Flip Diving since:2018-10-01 until:2018-10-02\n",
      "INFO: Querying Flip Diving since:2018-10-02 until:2018-10-03\n",
      "INFO: Got 2 tweets for Flip%20Diving%20since%3A2018-09-26%20until%3A2018-09-27.\n",
      "INFO: Got 2 tweets (2 new).\n",
      "INFO: Got 3 tweets for Flip%20Diving%20since%3A2018-10-01%20until%3A2018-10-02.\n",
      "INFO: Got 5 tweets (3 new).\n",
      "INFO: Got 1 tweets for Flip%20Diving%20since%3A2018-09-27%20until%3A2018-09-28.\n",
      "INFO: Got 6 tweets (1 new).\n",
      "INFO: Got 1 tweets for Flip%20Diving%20since%3A2018-09-29%20until%3A2018-09-30.\n",
      "INFO: Got 7 tweets (1 new).\n",
      "INFO: Got 2 tweets for Flip%20Diving%20since%3A2018-09-28%20until%3A2018-09-29.\n",
      "INFO: Got 9 tweets (2 new).\n",
      "INFO: Got 5 tweets for Flip%20Diving%20since%3A2018-10-02%20until%3A2018-10-03.\n",
      "INFO: Got 14 tweets (5 new).\n",
      "INFO: Got 3 tweets for Flip%20Diving%20since%3A2018-09-30%20until%3A2018-10-01.\n",
      "INFO: Got 17 tweets (3 new).\n"
     ]
    },
    {
     "name": "stdout",
     "output_type": "stream",
     "text": [
      "Flip Diving\n"
     ]
    },
    {
     "name": "stderr",
     "output_type": "stream",
     "text": [
      "INFO: queries: ['Talking Tom Gold Run since:2018-09-26 until:2018-09-27', 'Talking Tom Gold Run since:2018-09-27 until:2018-09-28', 'Talking Tom Gold Run since:2018-09-28 until:2018-09-29', 'Talking Tom Gold Run since:2018-09-29 until:2018-09-30', 'Talking Tom Gold Run since:2018-09-30 until:2018-10-01', 'Talking Tom Gold Run since:2018-10-01 until:2018-10-02', 'Talking Tom Gold Run since:2018-10-02 until:2018-10-03']\n",
      "INFO: Querying Talking Tom Gold Run since:2018-09-28 until:2018-09-29\n",
      "INFO: Querying Talking Tom Gold Run since:2018-09-29 until:2018-09-30\n",
      "INFO: Querying Talking Tom Gold Run since:2018-09-26 until:2018-09-27\n",
      "INFO: Querying Talking Tom Gold Run since:2018-09-27 until:2018-09-28\n",
      "INFO: Querying Talking Tom Gold Run since:2018-10-01 until:2018-10-02\n",
      "INFO: Querying Talking Tom Gold Run since:2018-10-02 until:2018-10-03\n",
      "INFO: Querying Talking Tom Gold Run since:2018-09-30 until:2018-10-01\n",
      "INFO: Got 17 tweets for Talking%20Tom%20Gold%20Run%20since%3A2018-09-27%20until%3A2018-09-28.\n",
      "INFO: Got 17 tweets (17 new).\n",
      "INFO: Got 26 tweets for Talking%20Tom%20Gold%20Run%20since%3A2018-09-26%20until%3A2018-09-27.\n",
      "INFO: Got 43 tweets (26 new).\n",
      "INFO: Got 30 tweets for Talking%20Tom%20Gold%20Run%20since%3A2018-09-28%20until%3A2018-09-29.\n",
      "INFO: Got 73 tweets (30 new).\n",
      "INFO: Got 38 tweets for Talking%20Tom%20Gold%20Run%20since%3A2018-09-29%20until%3A2018-09-30.\n",
      "INFO: Got 111 tweets (38 new).\n",
      "INFO: Got 34 tweets for Talking%20Tom%20Gold%20Run%20since%3A2018-10-01%20until%3A2018-10-02.\n",
      "INFO: Got 145 tweets (34 new).\n",
      "INFO: Got 43 tweets for Talking%20Tom%20Gold%20Run%20since%3A2018-10-02%20until%3A2018-10-03.\n",
      "INFO: Got 188 tweets (43 new).\n",
      "INFO: Got 27 tweets for Talking%20Tom%20Gold%20Run%20since%3A2018-09-30%20until%3A2018-10-01.\n",
      "INFO: Got 215 tweets (27 new).\n"
     ]
    },
    {
     "name": "stdout",
     "output_type": "stream",
     "text": [
      "Talking Tom Gold Run\n"
     ]
    },
    {
     "name": "stderr",
     "output_type": "stream",
     "text": [
      "INFO: queries: ['MORTAL KOMBAT X since:2018-09-26 until:2018-09-27', 'MORTAL KOMBAT X since:2018-09-27 until:2018-09-28', 'MORTAL KOMBAT X since:2018-09-28 until:2018-09-29', 'MORTAL KOMBAT X since:2018-09-29 until:2018-09-30', 'MORTAL KOMBAT X since:2018-09-30 until:2018-10-01', 'MORTAL KOMBAT X since:2018-10-01 until:2018-10-02', 'MORTAL KOMBAT X since:2018-10-02 until:2018-10-03']\n",
      "INFO: Querying MORTAL KOMBAT X since:2018-09-29 until:2018-09-30\n",
      "INFO: Querying MORTAL KOMBAT X since:2018-09-28 until:2018-09-29\n",
      "INFO: Querying MORTAL KOMBAT X since:2018-09-26 until:2018-09-27\n",
      "INFO: Querying MORTAL KOMBAT X since:2018-10-02 until:2018-10-03\n",
      "INFO: Querying MORTAL KOMBAT X since:2018-10-01 until:2018-10-02\n",
      "INFO: Querying MORTAL KOMBAT X since:2018-09-30 until:2018-10-01\n",
      "INFO: Querying MORTAL KOMBAT X since:2018-09-27 until:2018-09-28\n",
      "INFO: Got 48 tweets for MORTAL%20KOMBAT%20X%20since%3A2018-09-26%20until%3A2018-09-27.\n",
      "INFO: Got 48 tweets (48 new).\n",
      "INFO: Got 56 tweets for MORTAL%20KOMBAT%20X%20since%3A2018-09-28%20until%3A2018-09-29.\n",
      "INFO: Got 104 tweets (56 new).\n",
      "INFO: Got 55 tweets for MORTAL%20KOMBAT%20X%20since%3A2018-09-27%20until%3A2018-09-28.\n",
      "INFO: Got 159 tweets (55 new).\n",
      "INFO: Got 63 tweets for MORTAL%20KOMBAT%20X%20since%3A2018-10-01%20until%3A2018-10-02.\n",
      "INFO: Got 222 tweets (63 new).\n",
      "INFO: Got 69 tweets for MORTAL%20KOMBAT%20X%20since%3A2018-10-02%20until%3A2018-10-03.\n",
      "INFO: Got 291 tweets (69 new).\n",
      "INFO: Got 77 tweets for MORTAL%20KOMBAT%20X%20since%3A2018-09-29%20until%3A2018-09-30.\n",
      "INFO: Got 368 tweets (77 new).\n",
      "INFO: Got 99 tweets for MORTAL%20KOMBAT%20X%20since%3A2018-09-30%20until%3A2018-10-01.\n",
      "INFO: Got 467 tweets (99 new).\n"
     ]
    },
    {
     "name": "stdout",
     "output_type": "stream",
     "text": [
      "MORTAL KOMBAT X\n"
     ]
    },
    {
     "name": "stderr",
     "output_type": "stream",
     "text": [
      "INFO: queries: ['Office Jerk since:2018-09-26 until:2018-09-27', 'Office Jerk since:2018-09-27 until:2018-09-28', 'Office Jerk since:2018-09-28 until:2018-09-29', 'Office Jerk since:2018-09-29 until:2018-09-30', 'Office Jerk since:2018-09-30 until:2018-10-01', 'Office Jerk since:2018-10-01 until:2018-10-02', 'Office Jerk since:2018-10-02 until:2018-10-03']\n",
      "INFO: Querying Office Jerk since:2018-09-26 until:2018-09-27\n",
      "INFO: Querying Office Jerk since:2018-09-27 until:2018-09-28\n",
      "INFO: Querying Office Jerk since:2018-09-29 until:2018-09-30\n",
      "INFO: Querying Office Jerk since:2018-10-02 until:2018-10-03\n",
      "INFO: Querying Office Jerk since:2018-09-28 until:2018-09-29\n",
      "INFO: Querying Office Jerk since:2018-10-01 until:2018-10-02\n",
      "INFO: Querying Office Jerk since:2018-09-30 until:2018-10-01\n",
      "INFO: Got 28 tweets for Office%20Jerk%20since%3A2018-09-30%20until%3A2018-10-01.\n",
      "INFO: Got 28 tweets (28 new).\n",
      "INFO: Got 32 tweets for Office%20Jerk%20since%3A2018-10-01%20until%3A2018-10-02.\n",
      "INFO: Got 60 tweets (32 new).\n",
      "INFO: Got 34 tweets for Office%20Jerk%20since%3A2018-09-29%20until%3A2018-09-30.\n",
      "INFO: Got 94 tweets (34 new).\n",
      "INFO: Got 45 tweets for Office%20Jerk%20since%3A2018-09-26%20until%3A2018-09-27.\n",
      "INFO: Got 139 tweets (45 new).\n",
      "INFO: Got 42 tweets for Office%20Jerk%20since%3A2018-10-02%20until%3A2018-10-03.\n",
      "INFO: Got 181 tweets (42 new).\n",
      "INFO: Got 56 tweets for Office%20Jerk%20since%3A2018-09-28%20until%3A2018-09-29.\n",
      "INFO: Got 237 tweets (56 new).\n",
      "INFO: Got 60 tweets for Office%20Jerk%20since%3A2018-09-27%20until%3A2018-09-28.\n",
      "INFO: Got 297 tweets (60 new).\n"
     ]
    },
    {
     "name": "stdout",
     "output_type": "stream",
     "text": [
      "Office Jerk\n"
     ]
    },
    {
     "name": "stderr",
     "output_type": "stream",
     "text": [
      "INFO: queries: ['Doodle Jump - Insanely Good! since:2018-09-26 until:2018-09-27', 'Doodle Jump - Insanely Good! since:2018-09-27 until:2018-09-28', 'Doodle Jump - Insanely Good! since:2018-09-28 until:2018-09-29', 'Doodle Jump - Insanely Good! since:2018-09-29 until:2018-09-30', 'Doodle Jump - Insanely Good! since:2018-09-30 until:2018-10-01', 'Doodle Jump - Insanely Good! since:2018-10-01 until:2018-10-02', 'Doodle Jump - Insanely Good! since:2018-10-02 until:2018-10-03']\n",
      "INFO: Querying Doodle Jump - Insanely Good! since:2018-09-28 until:2018-09-29\n",
      "INFO: Querying Doodle Jump - Insanely Good! since:2018-09-26 until:2018-09-27\n",
      "INFO: Querying Doodle Jump - Insanely Good! since:2018-09-29 until:2018-09-30\n",
      "INFO: Querying Doodle Jump - Insanely Good! since:2018-09-27 until:2018-09-28\n",
      "INFO: Querying Doodle Jump - Insanely Good! since:2018-10-01 until:2018-10-02\n",
      "INFO: Querying Doodle Jump - Insanely Good! since:2018-09-30 until:2018-10-01\n",
      "INFO: Querying Doodle Jump - Insanely Good! since:2018-10-02 until:2018-10-03\n",
      "INFO: Got 0 tweets for Doodle%20Jump%20-%20Insanely%20Good!%20since%3A2018-10-02%20until%3A2018-10-03.\n",
      "INFO: Got 0 tweets (0 new).\n",
      "INFO: Got 0 tweets for Doodle%20Jump%20-%20Insanely%20Good!%20since%3A2018-09-28%20until%3A2018-09-29.\n",
      "INFO: Got 0 tweets (0 new).\n",
      "INFO: Got 0 tweets for Doodle%20Jump%20-%20Insanely%20Good!%20since%3A2018-09-26%20until%3A2018-09-27.\n",
      "INFO: Got 0 tweets (0 new).\n",
      "INFO: Got 0 tweets for Doodle%20Jump%20-%20Insanely%20Good!%20since%3A2018-09-27%20until%3A2018-09-28.\n",
      "INFO: Got 0 tweets (0 new).\n",
      "INFO: Got 0 tweets for Doodle%20Jump%20-%20Insanely%20Good!%20since%3A2018-09-30%20until%3A2018-10-01.\n",
      "INFO: Got 0 tweets (0 new).\n",
      "INFO: Got 0 tweets for Doodle%20Jump%20-%20Insanely%20Good!%20since%3A2018-09-29%20until%3A2018-09-30.\n",
      "INFO: Got 0 tweets (0 new).\n",
      "INFO: Got 0 tweets for Doodle%20Jump%20-%20Insanely%20Good!%20since%3A2018-10-01%20until%3A2018-10-02.\n",
      "INFO: Got 0 tweets (0 new).\n"
     ]
    },
    {
     "name": "stdout",
     "output_type": "stream",
     "text": [
      "Doodle Jump - Insanely Good!\n"
     ]
    },
    {
     "name": "stderr",
     "output_type": "stream",
     "text": [
      "INFO: queries: ['NinJump™ since:2018-09-26 until:2018-09-27', 'NinJump™ since:2018-09-27 until:2018-09-28', 'NinJump™ since:2018-09-28 until:2018-09-29', 'NinJump™ since:2018-09-29 until:2018-09-30', 'NinJump™ since:2018-09-30 until:2018-10-01', 'NinJump™ since:2018-10-01 until:2018-10-02', 'NinJump™ since:2018-10-02 until:2018-10-03']\n",
      "INFO: Querying NinJump™ since:2018-09-27 until:2018-09-28\n",
      "INFO: Querying NinJump™ since:2018-09-29 until:2018-09-30\n",
      "INFO: Querying NinJump™ since:2018-09-28 until:2018-09-29\n",
      "INFO: Querying NinJump™ since:2018-09-26 until:2018-09-27\n",
      "INFO: Querying NinJump™ since:2018-10-01 until:2018-10-02\n",
      "INFO: Querying NinJump™ since:2018-10-02 until:2018-10-03\n",
      "INFO: Querying NinJump™ since:2018-09-30 until:2018-10-01\n",
      "INFO: Got 0 tweets for NinJump™%20since%3A2018-09-30%20until%3A2018-10-01.\n",
      "INFO: Got 0 tweets (0 new).\n",
      "INFO: Got 0 tweets for NinJump™%20since%3A2018-09-27%20until%3A2018-09-28.\n",
      "INFO: Got 0 tweets (0 new).\n",
      "INFO: Got 0 tweets for NinJump™%20since%3A2018-10-02%20until%3A2018-10-03.\n",
      "INFO: Got 0 tweets (0 new).\n",
      "INFO: Got 0 tweets for NinJump™%20since%3A2018-09-26%20until%3A2018-09-27.\n",
      "INFO: Got 0 tweets (0 new).\n",
      "INFO: Got 0 tweets for NinJump™%20since%3A2018-09-28%20until%3A2018-09-29.\n",
      "INFO: Got 0 tweets (0 new).\n",
      "INFO: Got 0 tweets for NinJump™%20since%3A2018-09-29%20until%3A2018-09-30.\n",
      "INFO: Got 0 tweets (0 new).\n",
      "INFO: Got 0 tweets for NinJump™%20since%3A2018-10-01%20until%3A2018-10-02.\n",
      "INFO: Got 0 tweets (0 new).\n"
     ]
    },
    {
     "name": "stdout",
     "output_type": "stream",
     "text": [
      "NinJump™\n"
     ]
    },
    {
     "name": "stderr",
     "output_type": "stream",
     "text": [
      "INFO: queries: ['Doodle Jump since:2018-09-26 until:2018-09-27', 'Doodle Jump since:2018-09-27 until:2018-09-28', 'Doodle Jump since:2018-09-28 until:2018-09-29', 'Doodle Jump since:2018-09-29 until:2018-09-30', 'Doodle Jump since:2018-09-30 until:2018-10-01', 'Doodle Jump since:2018-10-01 until:2018-10-02', 'Doodle Jump since:2018-10-02 until:2018-10-03']\n",
      "INFO: Querying Doodle Jump since:2018-09-26 until:2018-09-27\n",
      "INFO: Querying Doodle Jump since:2018-09-30 until:2018-10-01\n",
      "INFO: Querying Doodle Jump since:2018-09-27 until:2018-09-28\n",
      "INFO: Querying Doodle Jump since:2018-09-28 until:2018-09-29\n",
      "INFO: Querying Doodle Jump since:2018-10-02 until:2018-10-03\n",
      "INFO: Querying Doodle Jump since:2018-09-29 until:2018-09-30\n",
      "INFO: Querying Doodle Jump since:2018-10-01 until:2018-10-02\n",
      "INFO: Got 19 tweets for Doodle%20Jump%20since%3A2018-10-02%20until%3A2018-10-03.\n",
      "INFO: Got 19 tweets (19 new).\n",
      "INFO: Got 15 tweets for Doodle%20Jump%20since%3A2018-09-30%20until%3A2018-10-01.\n",
      "INFO: Got 34 tweets (15 new).\n",
      "INFO: Got 14 tweets for Doodle%20Jump%20since%3A2018-09-29%20until%3A2018-09-30.\n",
      "INFO: Got 48 tweets (14 new).\n",
      "INFO: Got 27 tweets for Doodle%20Jump%20since%3A2018-09-28%20until%3A2018-09-29.\n",
      "INFO: Got 75 tweets (27 new).\n",
      "INFO: Got 38 tweets for Doodle%20Jump%20since%3A2018-09-26%20until%3A2018-09-27.\n",
      "INFO: Got 113 tweets (38 new).\n",
      "INFO: Got 38 tweets for Doodle%20Jump%20since%3A2018-09-27%20until%3A2018-09-28.\n",
      "INFO: Got 151 tweets (38 new).\n",
      "INFO: Got 11 tweets for Doodle%20Jump%20since%3A2018-10-01%20until%3A2018-10-02.\n",
      "INFO: Got 162 tweets (11 new).\n"
     ]
    },
    {
     "name": "stdout",
     "output_type": "stream",
     "text": [
      "Doodle Jump\n"
     ]
    },
    {
     "name": "stderr",
     "output_type": "stream",
     "text": [
      "INFO: queries: ['Mouse Maze - Top Brain Puzzle since:2018-09-26 until:2018-09-27', 'Mouse Maze - Top Brain Puzzle since:2018-09-27 until:2018-09-28', 'Mouse Maze - Top Brain Puzzle since:2018-09-28 until:2018-09-29', 'Mouse Maze - Top Brain Puzzle since:2018-09-29 until:2018-09-30', 'Mouse Maze - Top Brain Puzzle since:2018-09-30 until:2018-10-01', 'Mouse Maze - Top Brain Puzzle since:2018-10-01 until:2018-10-02', 'Mouse Maze - Top Brain Puzzle since:2018-10-02 until:2018-10-03']\n",
      "INFO: Querying Mouse Maze - Top Brain Puzzle since:2018-09-26 until:2018-09-27\n",
      "INFO: Querying Mouse Maze - Top Brain Puzzle since:2018-09-27 until:2018-09-28\n",
      "INFO: Querying Mouse Maze - Top Brain Puzzle since:2018-10-02 until:2018-10-03\n",
      "INFO: Querying Mouse Maze - Top Brain Puzzle since:2018-09-30 until:2018-10-01\n",
      "INFO: Querying Mouse Maze - Top Brain Puzzle since:2018-09-29 until:2018-09-30\n",
      "INFO: Querying Mouse Maze - Top Brain Puzzle since:2018-10-01 until:2018-10-02\n",
      "INFO: Querying Mouse Maze - Top Brain Puzzle since:2018-09-28 until:2018-09-29\n",
      "INFO: Got 0 tweets for Mouse%20Maze%20-%20Top%20Brain%20Puzzle%20since%3A2018-09-30%20until%3A2018-10-01.\n",
      "INFO: Got 0 tweets (0 new).\n",
      "INFO: Got 0 tweets for Mouse%20Maze%20-%20Top%20Brain%20Puzzle%20since%3A2018-10-02%20until%3A2018-10-03.\n",
      "INFO: Got 0 tweets (0 new).\n",
      "INFO: Got 0 tweets for Mouse%20Maze%20-%20Top%20Brain%20Puzzle%20since%3A2018-10-01%20until%3A2018-10-02.\n",
      "INFO: Got 0 tweets (0 new).\n",
      "INFO: Got 0 tweets for Mouse%20Maze%20-%20Top%20Brain%20Puzzle%20since%3A2018-09-28%20until%3A2018-09-29.\n",
      "INFO: Got 0 tweets for Mouse%20Maze%20-%20Top%20Brain%20Puzzle%20since%3A2018-09-27%20until%3A2018-09-28.\n",
      "INFO: Got 0 tweets (0 new).\n",
      "INFO: Got 0 tweets (0 new).\n",
      "INFO: Got 0 tweets for Mouse%20Maze%20-%20Top%20Brain%20Puzzle%20since%3A2018-09-26%20until%3A2018-09-27.\n",
      "INFO: Got 0 tweets (0 new).\n",
      "INFO: Got 1 tweets for Mouse%20Maze%20-%20Top%20Brain%20Puzzle%20since%3A2018-09-29%20until%3A2018-09-30.\n",
      "INFO: Got 1 tweets (1 new).\n"
     ]
    },
    {
     "name": "stdout",
     "output_type": "stream",
     "text": [
      "Mouse Maze - Top Brain Puzzle\n"
     ]
    },
    {
     "name": "stderr",
     "output_type": "stream",
     "text": [
      "INFO: queries: ['LEGO® Star Wars™: TCS since:2018-09-26 until:2018-09-27', 'LEGO® Star Wars™: TCS since:2018-09-27 until:2018-09-28', 'LEGO® Star Wars™: TCS since:2018-09-28 until:2018-09-29', 'LEGO® Star Wars™: TCS since:2018-09-29 until:2018-09-30', 'LEGO® Star Wars™: TCS since:2018-09-30 until:2018-10-01', 'LEGO® Star Wars™: TCS since:2018-10-01 until:2018-10-02', 'LEGO® Star Wars™: TCS since:2018-10-02 until:2018-10-03']\n",
      "INFO: Querying LEGO® Star Wars™: TCS since:2018-09-27 until:2018-09-28\n",
      "INFO: Querying LEGO® Star Wars™: TCS since:2018-09-30 until:2018-10-01\n",
      "INFO: Querying LEGO® Star Wars™: TCS since:2018-09-28 until:2018-09-29\n",
      "INFO: Querying LEGO® Star Wars™: TCS since:2018-09-26 until:2018-09-27\n",
      "INFO: Querying LEGO® Star Wars™: TCS since:2018-09-29 until:2018-09-30\n",
      "INFO: Querying LEGO® Star Wars™: TCS since:2018-10-01 until:2018-10-02\n",
      "INFO: Querying LEGO® Star Wars™: TCS since:2018-10-02 until:2018-10-03\n",
      "INFO: Got 0 tweets for LEGO®%20Star%20Wars™%3A%20TCS%20since%3A2018-10-01%20until%3A2018-10-02.\n",
      "INFO: Got 0 tweets (0 new).\n",
      "INFO: Got 0 tweets for LEGO®%20Star%20Wars™%3A%20TCS%20since%3A2018-09-28%20until%3A2018-09-29.\n",
      "INFO: Got 0 tweets (0 new).\n",
      "INFO: Got 0 tweets for LEGO®%20Star%20Wars™%3A%20TCS%20since%3A2018-09-26%20until%3A2018-09-27.\n",
      "INFO: Got 0 tweets (0 new).\n",
      "INFO: Got 0 tweets for LEGO®%20Star%20Wars™%3A%20TCS%20since%3A2018-10-02%20until%3A2018-10-03.\n",
      "INFO: Got 0 tweets (0 new).\n",
      "INFO: Got 0 tweets for LEGO®%20Star%20Wars™%3A%20TCS%20since%3A2018-09-29%20until%3A2018-09-30.\n",
      "INFO: Got 0 tweets (0 new).\n",
      "INFO: Got 0 tweets for LEGO®%20Star%20Wars™%3A%20TCS%20since%3A2018-09-27%20until%3A2018-09-28.\n",
      "INFO: Got 0 tweets (0 new).\n",
      "INFO: Got 0 tweets for LEGO®%20Star%20Wars™%3A%20TCS%20since%3A2018-09-30%20until%3A2018-10-01.\n",
      "INFO: Got 0 tweets (0 new).\n"
     ]
    },
    {
     "name": "stdout",
     "output_type": "stream",
     "text": [
      "LEGO® Star Wars™: TCS\n"
     ]
    },
    {
     "name": "stderr",
     "output_type": "stream",
     "text": [
      "INFO: queries: ['Deer Hunter 2018™ since:2018-09-26 until:2018-09-27', 'Deer Hunter 2018™ since:2018-09-27 until:2018-09-28', 'Deer Hunter 2018™ since:2018-09-28 until:2018-09-29', 'Deer Hunter 2018™ since:2018-09-29 until:2018-09-30', 'Deer Hunter 2018™ since:2018-09-30 until:2018-10-01', 'Deer Hunter 2018™ since:2018-10-01 until:2018-10-02', 'Deer Hunter 2018™ since:2018-10-02 until:2018-10-03']\n",
      "INFO: Querying Deer Hunter 2018™ since:2018-09-26 until:2018-09-27\n",
      "INFO: Querying Deer Hunter 2018™ since:2018-09-27 until:2018-09-28\n",
      "INFO: Querying Deer Hunter 2018™ since:2018-09-29 until:2018-09-30\n",
      "INFO: Querying Deer Hunter 2018™ since:2018-09-28 until:2018-09-29\n",
      "INFO: Querying Deer Hunter 2018™ since:2018-09-30 until:2018-10-01\n",
      "INFO: Querying Deer Hunter 2018™ since:2018-10-01 until:2018-10-02\n",
      "INFO: Querying Deer Hunter 2018™ since:2018-10-02 until:2018-10-03\n",
      "INFO: Got 0 tweets for Deer%20Hunter%202018™%20since%3A2018-09-30%20until%3A2018-10-01.\n",
      "INFO: Got 0 tweets (0 new).\n",
      "INFO: Got 0 tweets for Deer%20Hunter%202018™%20since%3A2018-09-28%20until%3A2018-09-29.\n",
      "INFO: Got 0 tweets (0 new).\n",
      "INFO: Got 0 tweets for Deer%20Hunter%202018™%20since%3A2018-09-26%20until%3A2018-09-27.\n",
      "INFO: Got 0 tweets (0 new).\n",
      "INFO: Got 0 tweets for Deer%20Hunter%202018™%20since%3A2018-09-27%20until%3A2018-09-28.\n",
      "INFO: Got 0 tweets (0 new).\n",
      "INFO: Got 0 tweets for Deer%20Hunter%202018™%20since%3A2018-10-02%20until%3A2018-10-03.\n",
      "INFO: Got 0 tweets (0 new).\n",
      "INFO: Got 0 tweets for Deer%20Hunter%202018™%20since%3A2018-10-01%20until%3A2018-10-02.\n",
      "INFO: Got 0 tweets (0 new).\n",
      "INFO: Got 0 tweets for Deer%20Hunter%202018™%20since%3A2018-09-29%20until%3A2018-09-30.\n",
      "INFO: Got 0 tweets (0 new).\n"
     ]
    },
    {
     "name": "stdout",
     "output_type": "stream",
     "text": [
      "Deer Hunter 2018™\n"
     ]
    },
    {
     "name": "stderr",
     "output_type": "stream",
     "text": [
      "INFO: queries: ['Rules of Survival since:2018-09-26 until:2018-09-27', 'Rules of Survival since:2018-09-27 until:2018-09-28', 'Rules of Survival since:2018-09-28 until:2018-09-29', 'Rules of Survival since:2018-09-29 until:2018-09-30', 'Rules of Survival since:2018-09-30 until:2018-10-01', 'Rules of Survival since:2018-10-01 until:2018-10-02', 'Rules of Survival since:2018-10-02 until:2018-10-03']\n",
      "INFO: Querying Rules of Survival since:2018-10-01 until:2018-10-02\n",
      "INFO: Querying Rules of Survival since:2018-09-26 until:2018-09-27\n",
      "INFO: Querying Rules of Survival since:2018-09-30 until:2018-10-01\n",
      "INFO: Querying Rules of Survival since:2018-09-29 until:2018-09-30\n",
      "INFO: Querying Rules of Survival since:2018-09-27 until:2018-09-28\n",
      "INFO: Querying Rules of Survival since:2018-10-02 until:2018-10-03\n",
      "INFO: Querying Rules of Survival since:2018-09-28 until:2018-09-29\n",
      "INFO: Got 253 tweets for Rules%20of%20Survival%20since%3A2018-10-02%20until%3A2018-10-03.\n",
      "INFO: Got 253 tweets (253 new).\n",
      "INFO: Got 258 tweets for Rules%20of%20Survival%20since%3A2018-10-01%20until%3A2018-10-02.\n",
      "INFO: Got 511 tweets (258 new).\n",
      "INFO: Got 269 tweets for Rules%20of%20Survival%20since%3A2018-09-28%20until%3A2018-09-29.\n",
      "INFO: Got 780 tweets (269 new).\n",
      "INFO: Got 284 tweets for Rules%20of%20Survival%20since%3A2018-09-30%20until%3A2018-10-01.\n",
      "INFO: Got 1064 tweets (284 new).\n",
      "INFO: Got 291 tweets for Rules%20of%20Survival%20since%3A2018-09-27%20until%3A2018-09-28.\n",
      "INFO: Got 1355 tweets (291 new).\n",
      "INFO: Got 289 tweets for Rules%20of%20Survival%20since%3A2018-09-29%20until%3A2018-09-30.\n",
      "INFO: Got 1644 tweets (289 new).\n",
      "INFO: Got 319 tweets for Rules%20of%20Survival%20since%3A2018-09-26%20until%3A2018-09-27.\n",
      "INFO: Got 1963 tweets (319 new).\n"
     ]
    },
    {
     "name": "stdout",
     "output_type": "stream",
     "text": [
      "Rules of Survival\n"
     ]
    },
    {
     "name": "stderr",
     "output_type": "stream",
     "text": [
      "INFO: queries: ['Big Big Baller™ since:2018-09-26 until:2018-09-27', 'Big Big Baller™ since:2018-09-27 until:2018-09-28', 'Big Big Baller™ since:2018-09-28 until:2018-09-29', 'Big Big Baller™ since:2018-09-29 until:2018-09-30', 'Big Big Baller™ since:2018-09-30 until:2018-10-01', 'Big Big Baller™ since:2018-10-01 until:2018-10-02', 'Big Big Baller™ since:2018-10-02 until:2018-10-03']\n",
      "INFO: Querying Big Big Baller™ since:2018-09-26 until:2018-09-27\n",
      "INFO: Querying Big Big Baller™ since:2018-09-27 until:2018-09-28\n",
      "INFO: Querying Big Big Baller™ since:2018-10-02 until:2018-10-03\n",
      "INFO: Querying Big Big Baller™ since:2018-09-29 until:2018-09-30\n",
      "INFO: Querying Big Big Baller™ since:2018-09-30 until:2018-10-01\n",
      "INFO: Querying Big Big Baller™ since:2018-09-28 until:2018-09-29\n",
      "INFO: Querying Big Big Baller™ since:2018-10-01 until:2018-10-02\n",
      "INFO: Got 0 tweets for Big%20Big%20Baller™%20since%3A2018-09-28%20until%3A2018-09-29.\n",
      "INFO: Got 0 tweets (0 new).\n",
      "INFO: Got 0 tweets for Big%20Big%20Baller™%20since%3A2018-10-02%20until%3A2018-10-03.\n",
      "INFO: Got 0 tweets (0 new).\n",
      "INFO: Got 0 tweets for Big%20Big%20Baller™%20since%3A2018-09-27%20until%3A2018-09-28.\n",
      "INFO: Got 0 tweets (0 new).\n",
      "INFO: Got 0 tweets for Big%20Big%20Baller™%20since%3A2018-09-26%20until%3A2018-09-27.\n",
      "INFO: Got 0 tweets (0 new).\n",
      "INFO: Got 0 tweets for Big%20Big%20Baller™%20since%3A2018-09-29%20until%3A2018-09-30.\n",
      "INFO: Got 0 tweets (0 new).\n",
      "INFO: Got 1 tweets for Big%20Big%20Baller™%20since%3A2018-09-30%20until%3A2018-10-01.\n",
      "INFO: Got 1 tweets (1 new).\n",
      "INFO: Got 13 tweets for Big%20Big%20Baller™%20since%3A2018-10-01%20until%3A2018-10-02.\n",
      "INFO: Got 14 tweets (13 new).\n"
     ]
    },
    {
     "name": "stdout",
     "output_type": "stream",
     "text": [
      "Big Big Baller™\n"
     ]
    },
    {
     "name": "stderr",
     "output_type": "stream",
     "text": [
      "INFO: queries: ['Beat the Boss 2 since:2018-09-26 until:2018-09-27', 'Beat the Boss 2 since:2018-09-27 until:2018-09-28', 'Beat the Boss 2 since:2018-09-28 until:2018-09-29', 'Beat the Boss 2 since:2018-09-29 until:2018-09-30', 'Beat the Boss 2 since:2018-09-30 until:2018-10-01', 'Beat the Boss 2 since:2018-10-01 until:2018-10-02', 'Beat the Boss 2 since:2018-10-02 until:2018-10-03']\n",
      "INFO: Querying Beat the Boss 2 since:2018-09-26 until:2018-09-27\n",
      "INFO: Querying Beat the Boss 2 since:2018-09-29 until:2018-09-30\n",
      "INFO: Querying Beat the Boss 2 since:2018-09-28 until:2018-09-29\n",
      "INFO: Querying Beat the Boss 2 since:2018-09-27 until:2018-09-28\n",
      "INFO: Querying Beat the Boss 2 since:2018-10-01 until:2018-10-02\n",
      "INFO: Querying Beat the Boss 2 since:2018-09-30 until:2018-10-01\n",
      "INFO: Querying Beat the Boss 2 since:2018-10-02 until:2018-10-03\n",
      "INFO: Got 1 tweets for Beat%20the%20Boss%202%20since%3A2018-10-02%20until%3A2018-10-03.\n",
      "INFO: Got 1 tweets (1 new).\n",
      "INFO: Got 1 tweets for Beat%20the%20Boss%202%20since%3A2018-09-27%20until%3A2018-09-28.\n",
      "INFO: Got 2 tweets (1 new).\n",
      "INFO: Got 1 tweets for Beat%20the%20Boss%202%20since%3A2018-09-30%20until%3A2018-10-01.\n",
      "INFO: Got 3 tweets (1 new).\n",
      "INFO: Got 3 tweets for Beat%20the%20Boss%202%20since%3A2018-10-01%20until%3A2018-10-02.\n",
      "INFO: Got 7 tweets for Beat%20the%20Boss%202%20since%3A2018-09-28%20until%3A2018-09-29.\n",
      "INFO: Got 6 tweets (3 new).\n",
      "INFO: Got 13 tweets (7 new).\n",
      "INFO: Got 1 tweets for Beat%20the%20Boss%202%20since%3A2018-09-26%20until%3A2018-09-27.\n",
      "INFO: Got 14 tweets (1 new).\n",
      "INFO: Got 3 tweets for Beat%20the%20Boss%202%20since%3A2018-09-29%20until%3A2018-09-30.\n",
      "INFO: Got 17 tweets (3 new).\n"
     ]
    },
    {
     "name": "stdout",
     "output_type": "stream",
     "text": [
      "Beat the Boss 2\n"
     ]
    },
    {
     "name": "stderr",
     "output_type": "stream",
     "text": [
      "INFO: queries: ['Disney Crossy Road since:2018-09-26 until:2018-09-27', 'Disney Crossy Road since:2018-09-27 until:2018-09-28', 'Disney Crossy Road since:2018-09-28 until:2018-09-29', 'Disney Crossy Road since:2018-09-29 until:2018-09-30', 'Disney Crossy Road since:2018-09-30 until:2018-10-01', 'Disney Crossy Road since:2018-10-01 until:2018-10-02', 'Disney Crossy Road since:2018-10-02 until:2018-10-03']\n",
      "INFO: Querying Disney Crossy Road since:2018-10-01 until:2018-10-02\n",
      "INFO: Querying Disney Crossy Road since:2018-09-29 until:2018-09-30\n",
      "INFO: Querying Disney Crossy Road since:2018-09-30 until:2018-10-01\n",
      "INFO: Querying Disney Crossy Road since:2018-09-28 until:2018-09-29\n",
      "INFO: Querying Disney Crossy Road since:2018-10-02 until:2018-10-03\n",
      "INFO: Querying Disney Crossy Road since:2018-09-27 until:2018-09-28\n",
      "INFO: Querying Disney Crossy Road since:2018-09-26 until:2018-09-27\n",
      "INFO: Got 1 tweets for Disney%20Crossy%20Road%20since%3A2018-10-02%20until%3A2018-10-03.\n",
      "INFO: Got 1 tweets (1 new).\n",
      "INFO: Got 2 tweets for Disney%20Crossy%20Road%20since%3A2018-09-29%20until%3A2018-09-30.\n",
      "INFO: Got 3 tweets (2 new).\n",
      "INFO: Got 1 tweets for Disney%20Crossy%20Road%20since%3A2018-10-01%20until%3A2018-10-02.\n",
      "INFO: Got 4 tweets (1 new).\n",
      "INFO: Got 2 tweets for Disney%20Crossy%20Road%20since%3A2018-09-30%20until%3A2018-10-01.\n",
      "INFO: Got 6 tweets (2 new).\n",
      "INFO: Got 5 tweets for Disney%20Crossy%20Road%20since%3A2018-09-26%20until%3A2018-09-27.\n",
      "INFO: Got 11 tweets (5 new).\n",
      "INFO: Got 2 tweets for Disney%20Crossy%20Road%20since%3A2018-09-28%20until%3A2018-09-29.\n",
      "INFO: Got 13 tweets (2 new).\n",
      "INFO: Got 1 tweets for Disney%20Crossy%20Road%20since%3A2018-09-27%20until%3A2018-09-28.\n",
      "INFO: Got 14 tweets (1 new).\n"
     ]
    },
    {
     "name": "stdout",
     "output_type": "stream",
     "text": [
      "Disney Crossy Road\n"
     ]
    },
    {
     "name": "stderr",
     "output_type": "stream",
     "text": [
      "INFO: queries: ['Trigger Fist since:2018-09-26 until:2018-09-27', 'Trigger Fist since:2018-09-27 until:2018-09-28', 'Trigger Fist since:2018-09-28 until:2018-09-29', 'Trigger Fist since:2018-09-29 until:2018-09-30', 'Trigger Fist since:2018-09-30 until:2018-10-01', 'Trigger Fist since:2018-10-01 until:2018-10-02', 'Trigger Fist since:2018-10-02 until:2018-10-03']\n",
      "INFO: Querying Trigger Fist since:2018-09-26 until:2018-09-27\n",
      "INFO: Querying Trigger Fist since:2018-09-28 until:2018-09-29\n",
      "INFO: Querying Trigger Fist since:2018-09-27 until:2018-09-28\n",
      "INFO: Querying Trigger Fist since:2018-10-02 until:2018-10-03\n",
      "INFO: Querying Trigger Fist since:2018-10-01 until:2018-10-02\n",
      "INFO: Querying Trigger Fist since:2018-09-29 until:2018-09-30\n",
      "INFO: Querying Trigger Fist since:2018-09-30 until:2018-10-01\n",
      "INFO: Got 0 tweets for Trigger%20Fist%20since%3A2018-10-01%20until%3A2018-10-02.\n",
      "INFO: Got 0 tweets (0 new).\n",
      "INFO: Got 2 tweets for Trigger%20Fist%20since%3A2018-09-30%20until%3A2018-10-01.\n",
      "INFO: Got 2 tweets (2 new).\n",
      "INFO: Got 1 tweets for Trigger%20Fist%20since%3A2018-09-27%20until%3A2018-09-28.\n",
      "INFO: Got 3 tweets (1 new).\n",
      "INFO: Got 3 tweets for Trigger%20Fist%20since%3A2018-10-02%20until%3A2018-10-03.\n",
      "INFO: Got 6 tweets (3 new).\n",
      "INFO: Got 4 tweets for Trigger%20Fist%20since%3A2018-09-28%20until%3A2018-09-29.\n",
      "INFO: Got 10 tweets (4 new).\n",
      "INFO: Got 1 tweets for Trigger%20Fist%20since%3A2018-09-29%20until%3A2018-09-30.\n",
      "INFO: Got 11 tweets (1 new).\n",
      "INFO: Got 2 tweets for Trigger%20Fist%20since%3A2018-09-26%20until%3A2018-09-27.\n",
      "INFO: Got 13 tweets (2 new).\n"
     ]
    },
    {
     "name": "stdout",
     "output_type": "stream",
     "text": [
      "Trigger Fist\n"
     ]
    },
    {
     "name": "stderr",
     "output_type": "stream",
     "text": [
      "INFO: queries: ['Stick Hero since:2018-09-26 until:2018-09-27', 'Stick Hero since:2018-09-27 until:2018-09-28', 'Stick Hero since:2018-09-28 until:2018-09-29', 'Stick Hero since:2018-09-29 until:2018-09-30', 'Stick Hero since:2018-09-30 until:2018-10-01', 'Stick Hero since:2018-10-01 until:2018-10-02', 'Stick Hero since:2018-10-02 until:2018-10-03']\n",
      "INFO: Querying Stick Hero since:2018-09-28 until:2018-09-29\n",
      "INFO: Querying Stick Hero since:2018-09-27 until:2018-09-28\n",
      "INFO: Querying Stick Hero since:2018-09-30 until:2018-10-01\n",
      "INFO: Querying Stick Hero since:2018-10-01 until:2018-10-02\n",
      "INFO: Querying Stick Hero since:2018-10-02 until:2018-10-03\n",
      "INFO: Querying Stick Hero since:2018-09-26 until:2018-09-27\n",
      "INFO: Querying Stick Hero since:2018-09-29 until:2018-09-30\n",
      "INFO: Got 50 tweets for Stick%20Hero%20since%3A2018-09-27%20until%3A2018-09-28.\n",
      "INFO: Got 50 tweets (50 new).\n",
      "INFO: Got 54 tweets for Stick%20Hero%20since%3A2018-09-30%20until%3A2018-10-01.\n",
      "INFO: Got 104 tweets (54 new).\n",
      "INFO: Got 49 tweets for Stick%20Hero%20since%3A2018-09-29%20until%3A2018-09-30.\n",
      "INFO: Got 153 tweets (49 new).\n",
      "INFO: Got 58 tweets for Stick%20Hero%20since%3A2018-10-01%20until%3A2018-10-02.\n",
      "INFO: Got 211 tweets (58 new).\n",
      "INFO: Got 59 tweets for Stick%20Hero%20since%3A2018-10-02%20until%3A2018-10-03.\n",
      "INFO: Got 270 tweets (59 new).\n",
      "INFO: Got 61 tweets for Stick%20Hero%20since%3A2018-09-26%20until%3A2018-09-27.\n",
      "INFO: Got 331 tweets (61 new).\n",
      "INFO: Got 76 tweets for Stick%20Hero%20since%3A2018-09-28%20until%3A2018-09-29.\n",
      "INFO: Got 407 tweets (76 new).\n"
     ]
    },
    {
     "name": "stdout",
     "output_type": "stream",
     "text": [
      "Stick Hero\n"
     ]
    },
    {
     "name": "stderr",
     "output_type": "stream",
     "text": [
      "INFO: queries: ['Bloons TD Battles since:2018-09-26 until:2018-09-27', 'Bloons TD Battles since:2018-09-27 until:2018-09-28', 'Bloons TD Battles since:2018-09-28 until:2018-09-29', 'Bloons TD Battles since:2018-09-29 until:2018-09-30', 'Bloons TD Battles since:2018-09-30 until:2018-10-01', 'Bloons TD Battles since:2018-10-01 until:2018-10-02', 'Bloons TD Battles since:2018-10-02 until:2018-10-03']\n",
      "INFO: Querying Bloons TD Battles since:2018-09-29 until:2018-09-30\n",
      "INFO: Querying Bloons TD Battles since:2018-09-26 until:2018-09-27\n",
      "INFO: Querying Bloons TD Battles since:2018-09-27 until:2018-09-28\n",
      "INFO: Querying Bloons TD Battles since:2018-10-01 until:2018-10-02\n",
      "INFO: Querying Bloons TD Battles since:2018-09-30 until:2018-10-01\n",
      "INFO: Querying Bloons TD Battles since:2018-10-02 until:2018-10-03\n",
      "INFO: Querying Bloons TD Battles since:2018-09-28 until:2018-09-29\n",
      "INFO: Got 10 tweets for Bloons%20TD%20Battles%20since%3A2018-09-26%20until%3A2018-09-27.\n",
      "INFO: Got 10 tweets (10 new).\n",
      "INFO: Got 9 tweets for Bloons%20TD%20Battles%20since%3A2018-10-02%20until%3A2018-10-03.\n",
      "INFO: Got 19 tweets (9 new).\n",
      "INFO: Got 9 tweets for Bloons%20TD%20Battles%20since%3A2018-09-29%20until%3A2018-09-30.\n",
      "INFO: Got 28 tweets (9 new).\n",
      "INFO: Got 8 tweets for Bloons%20TD%20Battles%20since%3A2018-09-28%20until%3A2018-09-29.\n",
      "INFO: Got 36 tweets (8 new).\n",
      "INFO: Got 7 tweets for Bloons%20TD%20Battles%20since%3A2018-09-30%20until%3A2018-10-01.\n",
      "INFO: Got 43 tweets (7 new).\n",
      "INFO: Got 10 tweets for Bloons%20TD%20Battles%20since%3A2018-10-01%20until%3A2018-10-02.\n",
      "INFO: Got 53 tweets (10 new).\n",
      "INFO: Got 6 tweets for Bloons%20TD%20Battles%20since%3A2018-09-27%20until%3A2018-09-28.\n",
      "INFO: Got 59 tweets (6 new).\n"
     ]
    },
    {
     "name": "stdout",
     "output_type": "stream",
     "text": [
      "Bloons TD Battles\n"
     ]
    },
    {
     "name": "stderr",
     "output_type": "stream",
     "text": [
      "INFO: queries: ['Tomb of the Mask since:2018-09-26 until:2018-09-27', 'Tomb of the Mask since:2018-09-27 until:2018-09-28', 'Tomb of the Mask since:2018-09-28 until:2018-09-29', 'Tomb of the Mask since:2018-09-29 until:2018-09-30', 'Tomb of the Mask since:2018-09-30 until:2018-10-01', 'Tomb of the Mask since:2018-10-01 until:2018-10-02', 'Tomb of the Mask since:2018-10-02 until:2018-10-03']\n",
      "INFO: Querying Tomb of the Mask since:2018-09-28 until:2018-09-29\n",
      "INFO: Querying Tomb of the Mask since:2018-09-30 until:2018-10-01\n",
      "INFO: Querying Tomb of the Mask since:2018-09-27 until:2018-09-28\n",
      "INFO: Querying Tomb of the Mask since:2018-10-02 until:2018-10-03\n",
      "INFO: Querying Tomb of the Mask since:2018-09-26 until:2018-09-27\n",
      "INFO: Querying Tomb of the Mask since:2018-09-29 until:2018-09-30\n",
      "INFO: Querying Tomb of the Mask since:2018-10-01 until:2018-10-02\n",
      "INFO: Got 4 tweets for Tomb%20of%20the%20Mask%20since%3A2018-09-26%20until%3A2018-09-27.\n",
      "INFO: Got 4 tweets (4 new).\n",
      "INFO: Got 5 tweets for Tomb%20of%20the%20Mask%20since%3A2018-10-02%20until%3A2018-10-03.\n",
      "INFO: Got 9 tweets (5 new).\n",
      "INFO: Got 12 tweets for Tomb%20of%20the%20Mask%20since%3A2018-09-29%20until%3A2018-09-30.\n",
      "INFO: Got 21 tweets (12 new).\n",
      "INFO: Got 6 tweets for Tomb%20of%20the%20Mask%20since%3A2018-09-30%20until%3A2018-10-01.\n",
      "INFO: Got 27 tweets (6 new).\n",
      "INFO: Got 8 tweets for Tomb%20of%20the%20Mask%20since%3A2018-09-28%20until%3A2018-09-29.\n",
      "INFO: Got 35 tweets (8 new).\n",
      "INFO: Got 16 tweets for Tomb%20of%20the%20Mask%20since%3A2018-10-01%20until%3A2018-10-02.\n",
      "INFO: Got 51 tweets (16 new).\n",
      "INFO: Got 9 tweets for Tomb%20of%20the%20Mask%20since%3A2018-09-27%20until%3A2018-09-28.\n",
      "INFO: Got 60 tweets (9 new).\n"
     ]
    },
    {
     "name": "stdout",
     "output_type": "stream",
     "text": [
      "Tomb of the Mask\n"
     ]
    },
    {
     "name": "stderr",
     "output_type": "stream",
     "text": [
      "INFO: queries: ['Kick the Buddy since:2018-09-26 until:2018-09-27', 'Kick the Buddy since:2018-09-27 until:2018-09-28', 'Kick the Buddy since:2018-09-28 until:2018-09-29', 'Kick the Buddy since:2018-09-29 until:2018-09-30', 'Kick the Buddy since:2018-09-30 until:2018-10-01', 'Kick the Buddy since:2018-10-01 until:2018-10-02', 'Kick the Buddy since:2018-10-02 until:2018-10-03']\n",
      "INFO: Querying Kick the Buddy since:2018-09-27 until:2018-09-28\n",
      "INFO: Querying Kick the Buddy since:2018-09-28 until:2018-09-29\n",
      "INFO: Querying Kick the Buddy since:2018-09-26 until:2018-09-27\n",
      "INFO: Querying Kick the Buddy since:2018-09-30 until:2018-10-01\n",
      "INFO: Querying Kick the Buddy since:2018-10-01 until:2018-10-02\n",
      "INFO: Querying Kick the Buddy since:2018-10-02 until:2018-10-03\n",
      "INFO: Querying Kick the Buddy since:2018-09-29 until:2018-09-30\n",
      "INFO: Got 76 tweets for Kick%20the%20Buddy%20since%3A2018-10-02%20until%3A2018-10-03.\n",
      "INFO: Got 76 tweets (76 new).\n",
      "INFO: Got 67 tweets for Kick%20the%20Buddy%20since%3A2018-09-27%20until%3A2018-09-28.\n",
      "INFO: Got 143 tweets (67 new).\n",
      "INFO: Got 86 tweets for Kick%20the%20Buddy%20since%3A2018-09-28%20until%3A2018-09-29.\n",
      "INFO: Got 229 tweets (86 new).\n",
      "INFO: Got 94 tweets for Kick%20the%20Buddy%20since%3A2018-09-26%20until%3A2018-09-27.\n",
      "INFO: Got 323 tweets (94 new).\n",
      "INFO: Got 102 tweets for Kick%20the%20Buddy%20since%3A2018-10-01%20until%3A2018-10-02.\n",
      "INFO: Got 425 tweets (102 new).\n",
      "INFO: Got 130 tweets for Kick%20the%20Buddy%20since%3A2018-09-29%20until%3A2018-09-30.\n",
      "INFO: Got 555 tweets (130 new).\n",
      "INFO: Got 141 tweets for Kick%20the%20Buddy%20since%3A2018-09-30%20until%3A2018-10-01.\n",
      "INFO: Got 696 tweets (141 new).\n"
     ]
    },
    {
     "name": "stdout",
     "output_type": "stream",
     "text": [
      "Kick the Buddy\n"
     ]
    },
    {
     "name": "stderr",
     "output_type": "stream",
     "text": [
      "INFO: queries: ['War Robots since:2018-09-26 until:2018-09-27', 'War Robots since:2018-09-27 until:2018-09-28', 'War Robots since:2018-09-28 until:2018-09-29', 'War Robots since:2018-09-29 until:2018-09-30', 'War Robots since:2018-09-30 until:2018-10-01', 'War Robots since:2018-10-01 until:2018-10-02', 'War Robots since:2018-10-02 until:2018-10-03']\n",
      "INFO: Querying War Robots since:2018-09-27 until:2018-09-28\n",
      "INFO: Querying War Robots since:2018-09-29 until:2018-09-30\n",
      "INFO: Querying War Robots since:2018-09-28 until:2018-09-29\n",
      "INFO: Querying War Robots since:2018-09-26 until:2018-09-27\n",
      "INFO: Querying War Robots since:2018-10-01 until:2018-10-02\n",
      "INFO: Querying War Robots since:2018-10-02 until:2018-10-03\n",
      "INFO: Querying War Robots since:2018-09-30 until:2018-10-01\n",
      "INFO: Got 29 tweets for War%20Robots%20since%3A2018-10-02%20until%3A2018-10-03.\n",
      "INFO: Got 29 tweets (29 new).\n",
      "INFO: Got 31 tweets for War%20Robots%20since%3A2018-09-28%20until%3A2018-09-29.\n",
      "INFO: Got 60 tweets (31 new).\n",
      "INFO: Got 31 tweets for War%20Robots%20since%3A2018-09-27%20until%3A2018-09-28.\n",
      "INFO: Got 91 tweets (31 new).\n",
      "INFO: Got 39 tweets for War%20Robots%20since%3A2018-10-01%20until%3A2018-10-02.\n",
      "INFO: Got 130 tweets (39 new).\n",
      "INFO: Got 32 tweets for War%20Robots%20since%3A2018-09-30%20until%3A2018-10-01.\n",
      "INFO: Got 162 tweets (32 new).\n",
      "INFO: Got 48 tweets for War%20Robots%20since%3A2018-09-29%20until%3A2018-09-30.\n",
      "INFO: Got 210 tweets (48 new).\n",
      "INFO: Got 51 tweets for War%20Robots%20since%3A2018-09-26%20until%3A2018-09-27.\n",
      "INFO: Got 261 tweets (51 new).\n"
     ]
    },
    {
     "name": "stdout",
     "output_type": "stream",
     "text": [
      "War Robots\n"
     ]
    },
    {
     "name": "stderr",
     "output_type": "stream",
     "text": [
      "INFO: queries: ['Jelly Jump since:2018-09-26 until:2018-09-27', 'Jelly Jump since:2018-09-27 until:2018-09-28', 'Jelly Jump since:2018-09-28 until:2018-09-29', 'Jelly Jump since:2018-09-29 until:2018-09-30', 'Jelly Jump since:2018-09-30 until:2018-10-01', 'Jelly Jump since:2018-10-01 until:2018-10-02', 'Jelly Jump since:2018-10-02 until:2018-10-03']\n",
      "INFO: Querying Jelly Jump since:2018-09-26 until:2018-09-27\n",
      "INFO: Querying Jelly Jump since:2018-10-01 until:2018-10-02\n",
      "INFO: Querying Jelly Jump since:2018-09-27 until:2018-09-28\n",
      "INFO: Querying Jelly Jump since:2018-09-28 until:2018-09-29\n",
      "INFO: Querying Jelly Jump since:2018-09-29 until:2018-09-30\n",
      "INFO: Querying Jelly Jump since:2018-10-02 until:2018-10-03\n",
      "INFO: Querying Jelly Jump since:2018-09-30 until:2018-10-01\n",
      "INFO: Got 2 tweets for Jelly%20Jump%20since%3A2018-09-27%20until%3A2018-09-28.\n",
      "INFO: Got 2 tweets (2 new).\n",
      "INFO: Got 2 tweets for Jelly%20Jump%20since%3A2018-09-30%20until%3A2018-10-01.\n",
      "INFO: Got 4 tweets (2 new).\n",
      "INFO: Got 4 tweets for Jelly%20Jump%20since%3A2018-10-02%20until%3A2018-10-03.\n",
      "INFO: Got 8 tweets (4 new).\n",
      "INFO: Got 5 tweets for Jelly%20Jump%20since%3A2018-10-01%20until%3A2018-10-02.\n",
      "INFO: Got 13 tweets (5 new).\n",
      "INFO: Got 10 tweets for Jelly%20Jump%20since%3A2018-09-26%20until%3A2018-09-27.\n",
      "INFO: Got 23 tweets (10 new).\n",
      "INFO: Got 4 tweets for Jelly%20Jump%20since%3A2018-09-28%20until%3A2018-09-29.\n",
      "INFO: Got 27 tweets (4 new).\n",
      "INFO: Got 10 tweets for Jelly%20Jump%20since%3A2018-09-29%20until%3A2018-09-30.\n",
      "INFO: Got 37 tweets (10 new).\n"
     ]
    },
    {
     "name": "stdout",
     "output_type": "stream",
     "text": [
      "Jelly Jump\n"
     ]
    },
    {
     "name": "stderr",
     "output_type": "stream",
     "text": [
      "INFO: queries: ['Archery King since:2018-09-26 until:2018-09-27', 'Archery King since:2018-09-27 until:2018-09-28', 'Archery King since:2018-09-28 until:2018-09-29', 'Archery King since:2018-09-29 until:2018-09-30', 'Archery King since:2018-09-30 until:2018-10-01', 'Archery King since:2018-10-01 until:2018-10-02', 'Archery King since:2018-10-02 until:2018-10-03']\n",
      "INFO: Querying Archery King since:2018-09-27 until:2018-09-28\n",
      "INFO: Querying Archery King since:2018-09-28 until:2018-09-29\n",
      "INFO: Querying Archery King since:2018-09-30 until:2018-10-01\n",
      "INFO: Querying Archery King since:2018-09-26 until:2018-09-27\n",
      "INFO: Querying Archery King since:2018-10-01 until:2018-10-02\n",
      "INFO: Querying Archery King since:2018-09-29 until:2018-09-30\n",
      "INFO: Querying Archery King since:2018-10-02 until:2018-10-03\n",
      "INFO: Got 1 tweets for Archery%20King%20since%3A2018-09-28%20until%3A2018-09-29.\n",
      "INFO: Got 1 tweets (1 new).\n",
      "INFO: Got 10 tweets for Archery%20King%20since%3A2018-09-29%20until%3A2018-09-30.\n",
      "INFO: Got 11 tweets (10 new).\n",
      "INFO: Got 11 tweets for Archery%20King%20since%3A2018-10-01%20until%3A2018-10-02.\n",
      "INFO: Got 22 tweets (11 new).\n",
      "INFO: Got 6 tweets for Archery%20King%20since%3A2018-09-27%20until%3A2018-09-28.\n",
      "INFO: Got 28 tweets (6 new).\n",
      "INFO: Got 1 tweets for Archery%20King%20since%3A2018-09-30%20until%3A2018-10-01.\n",
      "INFO: Got 29 tweets (1 new).\n",
      "INFO: Got 7 tweets for Archery%20King%20since%3A2018-09-26%20until%3A2018-09-27.\n",
      "INFO: Got 36 tweets (7 new).\n",
      "INFO: Got 9 tweets for Archery%20King%20since%3A2018-10-02%20until%3A2018-10-03.\n",
      "INFO: Got 45 tweets (9 new).\n"
     ]
    },
    {
     "name": "stdout",
     "output_type": "stream",
     "text": [
      "Archery King\n"
     ]
    },
    {
     "name": "stderr",
     "output_type": "stream",
     "text": [
      "INFO: queries: ['Tiny Wings since:2018-09-26 until:2018-09-27', 'Tiny Wings since:2018-09-27 until:2018-09-28', 'Tiny Wings since:2018-09-28 until:2018-09-29', 'Tiny Wings since:2018-09-29 until:2018-09-30', 'Tiny Wings since:2018-09-30 until:2018-10-01', 'Tiny Wings since:2018-10-01 until:2018-10-02', 'Tiny Wings since:2018-10-02 until:2018-10-03']\n",
      "INFO: Querying Tiny Wings since:2018-09-26 until:2018-09-27\n",
      "INFO: Querying Tiny Wings since:2018-09-28 until:2018-09-29\n",
      "INFO: Querying Tiny Wings since:2018-09-27 until:2018-09-28\n",
      "INFO: Querying Tiny Wings since:2018-09-30 until:2018-10-01\n",
      "INFO: Querying Tiny Wings since:2018-10-02 until:2018-10-03\n",
      "INFO: Querying Tiny Wings since:2018-09-29 until:2018-09-30\n",
      "INFO: Querying Tiny Wings since:2018-10-01 until:2018-10-02\n",
      "INFO: Got 5 tweets for Tiny%20Wings%20since%3A2018-09-29%20until%3A2018-09-30.\n",
      "INFO: Got 8 tweets for Tiny%20Wings%20since%3A2018-09-27%20until%3A2018-09-28.\n",
      "INFO: Got 5 tweets (5 new).\n",
      "INFO: Got 13 tweets (8 new).\n",
      "INFO: Got 9 tweets for Tiny%20Wings%20since%3A2018-10-02%20until%3A2018-10-03.\n",
      "INFO: Got 22 tweets (9 new).\n",
      "INFO: Got 10 tweets for Tiny%20Wings%20since%3A2018-10-01%20until%3A2018-10-02.\n",
      "INFO: Got 32 tweets (10 new).\n",
      "INFO: Got 10 tweets for Tiny%20Wings%20since%3A2018-09-28%20until%3A2018-09-29.\n",
      "INFO: Got 42 tweets (10 new).\n",
      "INFO: Got 7 tweets for Tiny%20Wings%20since%3A2018-09-26%20until%3A2018-09-27.\n",
      "INFO: Got 49 tweets (7 new).\n",
      "INFO: Got 7 tweets for Tiny%20Wings%20since%3A2018-09-30%20until%3A2018-10-01.\n",
      "INFO: Got 56 tweets (7 new).\n"
     ]
    },
    {
     "name": "stdout",
     "output_type": "stream",
     "text": [
      "Tiny Wings\n"
     ]
    },
    {
     "name": "stderr",
     "output_type": "stream",
     "text": [
      "INFO: queries: ['Angry Birds Star Wars II since:2018-09-26 until:2018-09-27', 'Angry Birds Star Wars II since:2018-09-27 until:2018-09-28', 'Angry Birds Star Wars II since:2018-09-28 until:2018-09-29', 'Angry Birds Star Wars II since:2018-09-29 until:2018-09-30', 'Angry Birds Star Wars II since:2018-09-30 until:2018-10-01', 'Angry Birds Star Wars II since:2018-10-01 until:2018-10-02', 'Angry Birds Star Wars II since:2018-10-02 until:2018-10-03']\n",
      "INFO: Querying Angry Birds Star Wars II since:2018-09-27 until:2018-09-28\n",
      "INFO: Querying Angry Birds Star Wars II since:2018-09-28 until:2018-09-29\n",
      "INFO: Querying Angry Birds Star Wars II since:2018-09-30 until:2018-10-01\n",
      "INFO: Querying Angry Birds Star Wars II since:2018-10-02 until:2018-10-03\n",
      "INFO: Querying Angry Birds Star Wars II since:2018-10-01 until:2018-10-02\n",
      "INFO: Querying Angry Birds Star Wars II since:2018-09-29 until:2018-09-30\n",
      "INFO: Querying Angry Birds Star Wars II since:2018-09-26 until:2018-09-27\n",
      "INFO: Got 0 tweets for Angry%20Birds%20Star%20Wars%20II%20since%3A2018-10-02%20until%3A2018-10-03.\n",
      "INFO: Got 0 tweets (0 new).\n",
      "INFO: Got 0 tweets for Angry%20Birds%20Star%20Wars%20II%20since%3A2018-10-01%20until%3A2018-10-02.\n",
      "INFO: Got 0 tweets (0 new).\n",
      "INFO: Got 0 tweets for Angry%20Birds%20Star%20Wars%20II%20since%3A2018-09-29%20until%3A2018-09-30.\n",
      "INFO: Got 0 tweets (0 new).\n",
      "INFO: Got 0 tweets for Angry%20Birds%20Star%20Wars%20II%20since%3A2018-09-30%20until%3A2018-10-01.\n",
      "INFO: Got 0 tweets (0 new).\n",
      "INFO: Got 0 tweets for Angry%20Birds%20Star%20Wars%20II%20since%3A2018-09-26%20until%3A2018-09-27.\n",
      "INFO: Got 0 tweets (0 new).\n",
      "INFO: Got 0 tweets for Angry%20Birds%20Star%20Wars%20II%20since%3A2018-09-27%20until%3A2018-09-28.\n",
      "INFO: Got 0 tweets (0 new).\n",
      "INFO: Got 1 tweets for Angry%20Birds%20Star%20Wars%20II%20since%3A2018-09-28%20until%3A2018-09-29.\n",
      "INFO: Got 1 tweets (1 new).\n"
     ]
    },
    {
     "name": "stdout",
     "output_type": "stream",
     "text": [
      "Angry Birds Star Wars II\n"
     ]
    },
    {
     "name": "stderr",
     "output_type": "stream",
     "text": [
      "INFO: queries: ['Ant Smasher Christmas by BCFG since:2018-09-26 until:2018-09-27', 'Ant Smasher Christmas by BCFG since:2018-09-27 until:2018-09-28', 'Ant Smasher Christmas by BCFG since:2018-09-28 until:2018-09-29', 'Ant Smasher Christmas by BCFG since:2018-09-29 until:2018-09-30', 'Ant Smasher Christmas by BCFG since:2018-09-30 until:2018-10-01', 'Ant Smasher Christmas by BCFG since:2018-10-01 until:2018-10-02', 'Ant Smasher Christmas by BCFG since:2018-10-02 until:2018-10-03']\n",
      "INFO: Querying Ant Smasher Christmas by BCFG since:2018-09-26 until:2018-09-27\n",
      "INFO: Querying Ant Smasher Christmas by BCFG since:2018-09-27 until:2018-09-28\n",
      "INFO: Querying Ant Smasher Christmas by BCFG since:2018-09-29 until:2018-09-30\n",
      "INFO: Querying Ant Smasher Christmas by BCFG since:2018-09-28 until:2018-09-29\n",
      "INFO: Querying Ant Smasher Christmas by BCFG since:2018-09-30 until:2018-10-01\n",
      "INFO: Querying Ant Smasher Christmas by BCFG since:2018-10-02 until:2018-10-03\n",
      "INFO: Querying Ant Smasher Christmas by BCFG since:2018-10-01 until:2018-10-02\n",
      "INFO: Got 0 tweets for Ant%20Smasher%20Christmas%20by%20BCFG%20since%3A2018-09-30%20until%3A2018-10-01.\n",
      "INFO: Got 0 tweets (0 new).\n",
      "INFO: Got 0 tweets for Ant%20Smasher%20Christmas%20by%20BCFG%20since%3A2018-09-27%20until%3A2018-09-28.\n",
      "INFO: Got 0 tweets for Ant%20Smasher%20Christmas%20by%20BCFG%20since%3A2018-09-26%20until%3A2018-09-27.\n",
      "INFO: Got 0 tweets (0 new).\n",
      "INFO: Got 0 tweets (0 new).\n",
      "INFO: Got 0 tweets for Ant%20Smasher%20Christmas%20by%20BCFG%20since%3A2018-10-02%20until%3A2018-10-03.\n",
      "INFO: Got 0 tweets (0 new).\n",
      "INFO: Got 0 tweets for Ant%20Smasher%20Christmas%20by%20BCFG%20since%3A2018-09-29%20until%3A2018-09-30.\n",
      "INFO: Got 0 tweets (0 new).\n",
      "INFO: Got 0 tweets for Ant%20Smasher%20Christmas%20by%20BCFG%20since%3A2018-10-01%20until%3A2018-10-02.\n",
      "INFO: Got 0 tweets (0 new).\n",
      "INFO: Got 0 tweets for Ant%20Smasher%20Christmas%20by%20BCFG%20since%3A2018-09-28%20until%3A2018-09-29.\n",
      "INFO: Got 0 tweets (0 new).\n"
     ]
    },
    {
     "name": "stdout",
     "output_type": "stream",
     "text": [
      "Ant Smasher Christmas by BCFG\n"
     ]
    },
    {
     "name": "stderr",
     "output_type": "stream",
     "text": [
      "INFO: queries: ['Flip Master since:2018-09-26 until:2018-09-27', 'Flip Master since:2018-09-27 until:2018-09-28', 'Flip Master since:2018-09-28 until:2018-09-29', 'Flip Master since:2018-09-29 until:2018-09-30', 'Flip Master since:2018-09-30 until:2018-10-01', 'Flip Master since:2018-10-01 until:2018-10-02', 'Flip Master since:2018-10-02 until:2018-10-03']\n",
      "INFO: Querying Flip Master since:2018-09-29 until:2018-09-30\n",
      "INFO: Querying Flip Master since:2018-09-26 until:2018-09-27\n",
      "INFO: Querying Flip Master since:2018-10-02 until:2018-10-03\n",
      "INFO: Querying Flip Master since:2018-09-28 until:2018-09-29\n",
      "INFO: Querying Flip Master since:2018-09-27 until:2018-09-28\n",
      "INFO: Querying Flip Master since:2018-09-30 until:2018-10-01\n",
      "INFO: Querying Flip Master since:2018-10-01 until:2018-10-02\n",
      "INFO: Got 20 tweets for Flip%20Master%20since%3A2018-09-26%20until%3A2018-09-27.\n",
      "INFO: Got 20 tweets (20 new).\n",
      "INFO: Got 16 tweets for Flip%20Master%20since%3A2018-09-30%20until%3A2018-10-01.\n",
      "INFO: Got 36 tweets (16 new).\n",
      "INFO: Got 26 tweets for Flip%20Master%20since%3A2018-09-27%20until%3A2018-09-28.\n",
      "INFO: Got 62 tweets (26 new).\n",
      "INFO: Got 25 tweets for Flip%20Master%20since%3A2018-10-01%20until%3A2018-10-02.\n",
      "INFO: Got 87 tweets (25 new).\n",
      "INFO: Got 32 tweets for Flip%20Master%20since%3A2018-09-28%20until%3A2018-09-29.\n",
      "INFO: Got 119 tweets (32 new).\n",
      "INFO: Got 33 tweets for Flip%20Master%20since%3A2018-10-02%20until%3A2018-10-03.\n",
      "INFO: Got 152 tweets (33 new).\n",
      "INFO: Got 25 tweets for Flip%20Master%20since%3A2018-09-29%20until%3A2018-09-30.\n",
      "INFO: Got 177 tweets (25 new).\n"
     ]
    },
    {
     "name": "stdout",
     "output_type": "stream",
     "text": [
      "Flip Master\n"
     ]
    },
    {
     "name": "stderr",
     "output_type": "stream",
     "text": [
      "INFO: queries: ['Zombie Frontier 3: Sniper FPS since:2018-09-26 until:2018-09-27', 'Zombie Frontier 3: Sniper FPS since:2018-09-27 until:2018-09-28', 'Zombie Frontier 3: Sniper FPS since:2018-09-28 until:2018-09-29', 'Zombie Frontier 3: Sniper FPS since:2018-09-29 until:2018-09-30', 'Zombie Frontier 3: Sniper FPS since:2018-09-30 until:2018-10-01', 'Zombie Frontier 3: Sniper FPS since:2018-10-01 until:2018-10-02', 'Zombie Frontier 3: Sniper FPS since:2018-10-02 until:2018-10-03']\n",
      "INFO: Querying Zombie Frontier 3: Sniper FPS since:2018-09-27 until:2018-09-28\n",
      "INFO: Querying Zombie Frontier 3: Sniper FPS since:2018-09-26 until:2018-09-27\n",
      "INFO: Querying Zombie Frontier 3: Sniper FPS since:2018-09-28 until:2018-09-29\n",
      "INFO: Querying Zombie Frontier 3: Sniper FPS since:2018-10-01 until:2018-10-02\n",
      "INFO: Querying Zombie Frontier 3: Sniper FPS since:2018-09-29 until:2018-09-30\n",
      "INFO: Querying Zombie Frontier 3: Sniper FPS since:2018-10-02 until:2018-10-03\n",
      "INFO: Querying Zombie Frontier 3: Sniper FPS since:2018-09-30 until:2018-10-01\n",
      "INFO: Got 0 tweets for Zombie%20Frontier%203%3A%20Sniper%20FPS%20since%3A2018-10-01%20until%3A2018-10-02.\n",
      "INFO: Got 0 tweets (0 new).\n",
      "INFO: Got 0 tweets for Zombie%20Frontier%203%3A%20Sniper%20FPS%20since%3A2018-09-26%20until%3A2018-09-27.\n",
      "INFO: Got 0 tweets (0 new).\n",
      "INFO: Got 0 tweets for Zombie%20Frontier%203%3A%20Sniper%20FPS%20since%3A2018-10-02%20until%3A2018-10-03.\n",
      "INFO: Got 0 tweets (0 new).\n",
      "INFO: Got 0 tweets for Zombie%20Frontier%203%3A%20Sniper%20FPS%20since%3A2018-09-30%20until%3A2018-10-01.\n",
      "INFO: Got 0 tweets (0 new).\n",
      "INFO: Got 1 tweets for Zombie%20Frontier%203%3A%20Sniper%20FPS%20since%3A2018-09-29%20until%3A2018-09-30.\n",
      "INFO: Got 1 tweets (1 new).\n",
      "INFO: Got 1 tweets for Zombie%20Frontier%203%3A%20Sniper%20FPS%20since%3A2018-09-28%20until%3A2018-09-29.\n",
      "INFO: Got 2 tweets (1 new).\n",
      "INFO: Got 2 tweets for Zombie%20Frontier%203%3A%20Sniper%20FPS%20since%3A2018-09-27%20until%3A2018-09-28.\n",
      "INFO: Got 4 tweets (2 new).\n"
     ]
    },
    {
     "name": "stdout",
     "output_type": "stream",
     "text": [
      "Zombie Frontier 3: Sniper FPS\n"
     ]
    },
    {
     "name": "stderr",
     "output_type": "stream",
     "text": [
      "INFO: queries: ['Stupid Zombies since:2018-09-26 until:2018-09-27', 'Stupid Zombies since:2018-09-27 until:2018-09-28', 'Stupid Zombies since:2018-09-28 until:2018-09-29', 'Stupid Zombies since:2018-09-29 until:2018-09-30', 'Stupid Zombies since:2018-09-30 until:2018-10-01', 'Stupid Zombies since:2018-10-01 until:2018-10-02', 'Stupid Zombies since:2018-10-02 until:2018-10-03']\n",
      "INFO: Querying Stupid Zombies since:2018-09-28 until:2018-09-29\n",
      "INFO: Querying Stupid Zombies since:2018-10-01 until:2018-10-02\n",
      "INFO: Querying Stupid Zombies since:2018-09-26 until:2018-09-27\n",
      "INFO: Querying Stupid Zombies since:2018-09-27 until:2018-09-28\n",
      "INFO: Querying Stupid Zombies since:2018-09-30 until:2018-10-01\n",
      "INFO: Querying Stupid Zombies since:2018-09-29 until:2018-09-30\n",
      "INFO: Querying Stupid Zombies since:2018-10-02 until:2018-10-03\n",
      "INFO: Got 58 tweets for Stupid%20Zombies%20since%3A2018-09-30%20until%3A2018-10-01.\n",
      "INFO: Got 58 tweets (58 new).\n",
      "INFO: Got 55 tweets for Stupid%20Zombies%20since%3A2018-09-27%20until%3A2018-09-28.\n",
      "INFO: Got 113 tweets (55 new).\n",
      "INFO: Got 60 tweets for Stupid%20Zombies%20since%3A2018-10-02%20until%3A2018-10-03.\n",
      "INFO: Got 173 tweets (60 new).\n",
      "INFO: Got 68 tweets for Stupid%20Zombies%20since%3A2018-10-01%20until%3A2018-10-02.\n",
      "INFO: Got 241 tweets (68 new).\n",
      "INFO: Got 64 tweets for Stupid%20Zombies%20since%3A2018-09-29%20until%3A2018-09-30.\n",
      "INFO: Got 305 tweets (64 new).\n",
      "INFO: Got 64 tweets for Stupid%20Zombies%20since%3A2018-09-26%20until%3A2018-09-27.\n",
      "INFO: Got 369 tweets (64 new).\n",
      "INFO: Got 64 tweets for Stupid%20Zombies%20since%3A2018-09-28%20until%3A2018-09-29.\n",
      "INFO: Got 433 tweets (64 new).\n"
     ]
    },
    {
     "name": "stdout",
     "output_type": "stream",
     "text": [
      "Stupid Zombies\n"
     ]
    },
    {
     "name": "stderr",
     "output_type": "stream",
     "text": [
      "INFO: queries: ['Zombie Highway since:2018-09-26 until:2018-09-27', 'Zombie Highway since:2018-09-27 until:2018-09-28', 'Zombie Highway since:2018-09-28 until:2018-09-29', 'Zombie Highway since:2018-09-29 until:2018-09-30', 'Zombie Highway since:2018-09-30 until:2018-10-01', 'Zombie Highway since:2018-10-01 until:2018-10-02', 'Zombie Highway since:2018-10-02 until:2018-10-03']\n",
      "INFO: Querying Zombie Highway since:2018-09-27 until:2018-09-28\n",
      "INFO: Querying Zombie Highway since:2018-09-28 until:2018-09-29\n",
      "INFO: Querying Zombie Highway since:2018-09-29 until:2018-09-30\n",
      "INFO: Querying Zombie Highway since:2018-09-26 until:2018-09-27\n",
      "INFO: Querying Zombie Highway since:2018-09-30 until:2018-10-01\n",
      "INFO: Querying Zombie Highway since:2018-10-02 until:2018-10-03\n",
      "INFO: Querying Zombie Highway since:2018-10-01 until:2018-10-02\n",
      "INFO: Got 6 tweets for Zombie%20Highway%20since%3A2018-10-01%20until%3A2018-10-02.\n",
      "INFO: Got 6 tweets (6 new).\n",
      "INFO: Got 7 tweets for Zombie%20Highway%20since%3A2018-10-02%20until%3A2018-10-03.\n",
      "INFO: Got 13 tweets (7 new).\n",
      "INFO: Got 6 tweets for Zombie%20Highway%20since%3A2018-09-27%20until%3A2018-09-28.\n",
      "INFO: Got 19 tweets (6 new).\n",
      "INFO: Got 8 tweets for Zombie%20Highway%20since%3A2018-09-26%20until%3A2018-09-27.\n",
      "INFO: Got 27 tweets (8 new).\n",
      "INFO: Got 5 tweets for Zombie%20Highway%20since%3A2018-09-29%20until%3A2018-09-30.\n",
      "INFO: Got 32 tweets (5 new).\n",
      "INFO: Got 4 tweets for Zombie%20Highway%20since%3A2018-09-30%20until%3A2018-10-01.\n",
      "INFO: Got 36 tweets (4 new).\n",
      "INFO: Got 7 tweets for Zombie%20Highway%20since%3A2018-09-28%20until%3A2018-09-29.\n",
      "INFO: Got 43 tweets (7 new).\n"
     ]
    },
    {
     "name": "stdout",
     "output_type": "stream",
     "text": [
      "Zombie Highway\n"
     ]
    },
    {
     "name": "stderr",
     "output_type": "stream",
     "text": [
      "INFO: queries: ['PAC-MAN 256 - Endless Arcade Maze since:2018-09-26 until:2018-09-27', 'PAC-MAN 256 - Endless Arcade Maze since:2018-09-27 until:2018-09-28', 'PAC-MAN 256 - Endless Arcade Maze since:2018-09-28 until:2018-09-29', 'PAC-MAN 256 - Endless Arcade Maze since:2018-09-29 until:2018-09-30', 'PAC-MAN 256 - Endless Arcade Maze since:2018-09-30 until:2018-10-01', 'PAC-MAN 256 - Endless Arcade Maze since:2018-10-01 until:2018-10-02', 'PAC-MAN 256 - Endless Arcade Maze since:2018-10-02 until:2018-10-03']\n",
      "INFO: Querying PAC-MAN 256 - Endless Arcade Maze since:2018-09-27 until:2018-09-28\n",
      "INFO: Querying PAC-MAN 256 - Endless Arcade Maze since:2018-09-26 until:2018-09-27\n",
      "INFO: Querying PAC-MAN 256 - Endless Arcade Maze since:2018-09-29 until:2018-09-30\n",
      "INFO: Querying PAC-MAN 256 - Endless Arcade Maze since:2018-09-30 until:2018-10-01\n",
      "INFO: Querying PAC-MAN 256 - Endless Arcade Maze since:2018-10-02 until:2018-10-03\n",
      "INFO: Querying PAC-MAN 256 - Endless Arcade Maze since:2018-10-01 until:2018-10-02\n",
      "INFO: Querying PAC-MAN 256 - Endless Arcade Maze since:2018-09-28 until:2018-09-29\n",
      "INFO: Got 0 tweets for PAC-MAN%20256%20-%20Endless%20Arcade%20Maze%20since%3A2018-09-28%20until%3A2018-09-29.\n",
      "INFO: Got 0 tweets (0 new).\n",
      "INFO: Got 0 tweets for PAC-MAN%20256%20-%20Endless%20Arcade%20Maze%20since%3A2018-10-02%20until%3A2018-10-03.\n",
      "INFO: Got 0 tweets (0 new).\n",
      "INFO: Got 0 tweets for PAC-MAN%20256%20-%20Endless%20Arcade%20Maze%20since%3A2018-09-30%20until%3A2018-10-01.\n",
      "INFO: Got 0 tweets (0 new).\n",
      "INFO: Got 0 tweets for PAC-MAN%20256%20-%20Endless%20Arcade%20Maze%20since%3A2018-09-26%20until%3A2018-09-27.\n",
      "INFO: Got 0 tweets (0 new).\n",
      "INFO: Got 0 tweets for PAC-MAN%20256%20-%20Endless%20Arcade%20Maze%20since%3A2018-10-01%20until%3A2018-10-02.\n",
      "INFO: Got 0 tweets (0 new).\n",
      "INFO: Got 0 tweets for PAC-MAN%20256%20-%20Endless%20Arcade%20Maze%20since%3A2018-09-27%20until%3A2018-09-28.\n",
      "INFO: Got 0 tweets (0 new).\n",
      "INFO: Got 0 tweets for PAC-MAN%20256%20-%20Endless%20Arcade%20Maze%20since%3A2018-09-29%20until%3A2018-09-30.\n",
      "INFO: Got 0 tweets (0 new).\n"
     ]
    },
    {
     "name": "stdout",
     "output_type": "stream",
     "text": [
      "PAC-MAN 256 - Endless Arcade Maze\n"
     ]
    },
    {
     "name": "stderr",
     "output_type": "stream",
     "text": [
      "INFO: queries: ['DEAD TRIGGER: Survival Shooter since:2018-09-26 until:2018-09-27', 'DEAD TRIGGER: Survival Shooter since:2018-09-27 until:2018-09-28', 'DEAD TRIGGER: Survival Shooter since:2018-09-28 until:2018-09-29', 'DEAD TRIGGER: Survival Shooter since:2018-09-29 until:2018-09-30', 'DEAD TRIGGER: Survival Shooter since:2018-09-30 until:2018-10-01', 'DEAD TRIGGER: Survival Shooter since:2018-10-01 until:2018-10-02', 'DEAD TRIGGER: Survival Shooter since:2018-10-02 until:2018-10-03']\n",
      "INFO: Querying DEAD TRIGGER: Survival Shooter since:2018-09-29 until:2018-09-30\n",
      "INFO: Querying DEAD TRIGGER: Survival Shooter since:2018-09-26 until:2018-09-27\n",
      "INFO: Querying DEAD TRIGGER: Survival Shooter since:2018-09-30 until:2018-10-01\n",
      "INFO: Querying DEAD TRIGGER: Survival Shooter since:2018-10-02 until:2018-10-03\n",
      "INFO: Querying DEAD TRIGGER: Survival Shooter since:2018-09-27 until:2018-09-28\n",
      "INFO: Querying DEAD TRIGGER: Survival Shooter since:2018-10-01 until:2018-10-02\n",
      "INFO: Querying DEAD TRIGGER: Survival Shooter since:2018-09-28 until:2018-09-29\n",
      "INFO: Got 0 tweets for DEAD%20TRIGGER%3A%20Survival%20Shooter%20since%3A2018-10-02%20until%3A2018-10-03.\n",
      "INFO: Got 0 tweets (0 new).\n",
      "INFO: Got 0 tweets for DEAD%20TRIGGER%3A%20Survival%20Shooter%20since%3A2018-09-26%20until%3A2018-09-27.\n",
      "INFO: Got 0 tweets (0 new).\n",
      "INFO: Got 0 tweets for DEAD%20TRIGGER%3A%20Survival%20Shooter%20since%3A2018-09-30%20until%3A2018-10-01.\n",
      "INFO: Got 0 tweets (0 new).\n",
      "INFO: Got 0 tweets for DEAD%20TRIGGER%3A%20Survival%20Shooter%20since%3A2018-10-01%20until%3A2018-10-02.\n",
      "INFO: Got 0 tweets (0 new).\n",
      "INFO: Got 0 tweets for DEAD%20TRIGGER%3A%20Survival%20Shooter%20since%3A2018-09-29%20until%3A2018-09-30.\n",
      "INFO: Got 0 tweets (0 new).\n",
      "INFO: Got 1 tweets for DEAD%20TRIGGER%3A%20Survival%20Shooter%20since%3A2018-09-27%20until%3A2018-09-28.\n",
      "INFO: Got 1 tweets (1 new).\n",
      "INFO: Got 1 tweets for DEAD%20TRIGGER%3A%20Survival%20Shooter%20since%3A2018-09-28%20until%3A2018-09-29.\n",
      "INFO: Got 2 tweets (1 new).\n"
     ]
    },
    {
     "name": "stdout",
     "output_type": "stream",
     "text": [
      "DEAD TRIGGER: Survival Shooter\n"
     ]
    },
    {
     "name": "stderr",
     "output_type": "stream",
     "text": [
      "INFO: queries: ['Drive Ahead! since:2018-09-26 until:2018-09-27', 'Drive Ahead! since:2018-09-27 until:2018-09-28', 'Drive Ahead! since:2018-09-28 until:2018-09-29', 'Drive Ahead! since:2018-09-29 until:2018-09-30', 'Drive Ahead! since:2018-09-30 until:2018-10-01', 'Drive Ahead! since:2018-10-01 until:2018-10-02', 'Drive Ahead! since:2018-10-02 until:2018-10-03']\n",
      "INFO: Querying Drive Ahead! since:2018-09-27 until:2018-09-28\n",
      "INFO: Querying Drive Ahead! since:2018-10-01 until:2018-10-02\n",
      "INFO: Querying Drive Ahead! since:2018-09-26 until:2018-09-27\n",
      "INFO: Querying Drive Ahead! since:2018-09-28 until:2018-09-29\n",
      "INFO: Querying Drive Ahead! since:2018-09-30 until:2018-10-01\n",
      "INFO: Querying Drive Ahead! since:2018-10-02 until:2018-10-03\n",
      "INFO: Querying Drive Ahead! since:2018-09-29 until:2018-09-30\n",
      "INFO: Got 128 tweets for Drive%20Ahead!%20since%3A2018-09-26%20until%3A2018-09-27.\n",
      "INFO: Got 128 tweets (128 new).\n",
      "INFO: Got 142 tweets for Drive%20Ahead!%20since%3A2018-10-02%20until%3A2018-10-03.\n",
      "INFO: Got 270 tweets (142 new).\n",
      "INFO: Got 149 tweets for Drive%20Ahead!%20since%3A2018-09-27%20until%3A2018-09-28.\n",
      "INFO: Got 419 tweets (149 new).\n",
      "INFO: Got 159 tweets for Drive%20Ahead!%20since%3A2018-09-28%20until%3A2018-09-29.\n",
      "INFO: Got 578 tweets (159 new).\n",
      "INFO: Got 153 tweets for Drive%20Ahead!%20since%3A2018-09-29%20until%3A2018-09-30.\n",
      "INFO: Got 731 tweets (153 new).\n",
      "INFO: Got 157 tweets for Drive%20Ahead!%20since%3A2018-10-01%20until%3A2018-10-02.\n",
      "INFO: Got 888 tweets (157 new).\n",
      "INFO: Got 175 tweets for Drive%20Ahead!%20since%3A2018-09-30%20until%3A2018-10-01.\n",
      "INFO: Got 1063 tweets (175 new).\n"
     ]
    },
    {
     "name": "stdout",
     "output_type": "stream",
     "text": [
      "Drive Ahead!\n"
     ]
    },
    {
     "name": "stderr",
     "output_type": "stream",
     "text": [
      "INFO: queries: ['Faily Brakes since:2018-09-26 until:2018-09-27', 'Faily Brakes since:2018-09-27 until:2018-09-28', 'Faily Brakes since:2018-09-28 until:2018-09-29', 'Faily Brakes since:2018-09-29 until:2018-09-30', 'Faily Brakes since:2018-09-30 until:2018-10-01', 'Faily Brakes since:2018-10-01 until:2018-10-02', 'Faily Brakes since:2018-10-02 until:2018-10-03']\n",
      "INFO: Querying Faily Brakes since:2018-09-27 until:2018-09-28\n",
      "INFO: Querying Faily Brakes since:2018-09-26 until:2018-09-27\n",
      "INFO: Querying Faily Brakes since:2018-09-29 until:2018-09-30\n",
      "INFO: Querying Faily Brakes since:2018-09-30 until:2018-10-01\n",
      "INFO: Querying Faily Brakes since:2018-10-01 until:2018-10-02\n",
      "INFO: Querying Faily Brakes since:2018-09-28 until:2018-09-29\n",
      "INFO: Querying Faily Brakes since:2018-10-02 until:2018-10-03\n",
      "INFO: Got 0 tweets for Faily%20Brakes%20since%3A2018-09-27%20until%3A2018-09-28.\n",
      "INFO: Got 0 tweets (0 new).\n",
      "INFO: Got 0 tweets for Faily%20Brakes%20since%3A2018-09-29%20until%3A2018-09-30.\n",
      "INFO: Got 0 tweets (0 new).\n",
      "INFO: Got 0 tweets for Faily%20Brakes%20since%3A2018-09-28%20until%3A2018-09-29.\n",
      "INFO: Got 0 tweets (0 new).\n",
      "INFO: Got 5 tweets for Faily%20Brakes%20since%3A2018-10-02%20until%3A2018-10-03.\n",
      "INFO: Got 5 tweets (5 new).\n",
      "INFO: Got 5 tweets for Faily%20Brakes%20since%3A2018-09-30%20until%3A2018-10-01.\n",
      "INFO: Got 10 tweets (5 new).\n",
      "INFO: Got 3 tweets for Faily%20Brakes%20since%3A2018-10-01%20until%3A2018-10-02.\n",
      "INFO: Got 1 tweets for Faily%20Brakes%20since%3A2018-09-26%20until%3A2018-09-27.\n",
      "INFO: Got 13 tweets (3 new).\n",
      "INFO: Got 14 tweets (1 new).\n"
     ]
    },
    {
     "name": "stdout",
     "output_type": "stream",
     "text": [
      "Faily Brakes\n"
     ]
    },
    {
     "name": "stderr",
     "output_type": "stream",
     "text": [
      "INFO: queries: ['Diamond Dash: Gem Puzzle Game since:2018-09-26 until:2018-09-27', 'Diamond Dash: Gem Puzzle Game since:2018-09-27 until:2018-09-28', 'Diamond Dash: Gem Puzzle Game since:2018-09-28 until:2018-09-29', 'Diamond Dash: Gem Puzzle Game since:2018-09-29 until:2018-09-30', 'Diamond Dash: Gem Puzzle Game since:2018-09-30 until:2018-10-01', 'Diamond Dash: Gem Puzzle Game since:2018-10-01 until:2018-10-02', 'Diamond Dash: Gem Puzzle Game since:2018-10-02 until:2018-10-03']\n",
      "INFO: Querying Diamond Dash: Gem Puzzle Game since:2018-09-29 until:2018-09-30\n",
      "INFO: Querying Diamond Dash: Gem Puzzle Game since:2018-09-28 until:2018-09-29\n",
      "INFO: Querying Diamond Dash: Gem Puzzle Game since:2018-09-26 until:2018-09-27\n",
      "INFO: Querying Diamond Dash: Gem Puzzle Game since:2018-10-01 until:2018-10-02\n",
      "INFO: Querying Diamond Dash: Gem Puzzle Game since:2018-09-27 until:2018-09-28\n",
      "INFO: Querying Diamond Dash: Gem Puzzle Game since:2018-10-02 until:2018-10-03\n",
      "INFO: Querying Diamond Dash: Gem Puzzle Game since:2018-09-30 until:2018-10-01\n",
      "INFO: Got 0 tweets for Diamond%20Dash%3A%20Gem%20Puzzle%20Game%20since%3A2018-10-01%20until%3A2018-10-02.\n",
      "INFO: Got 0 tweets (0 new).\n",
      "INFO: Got 0 tweets for Diamond%20Dash%3A%20Gem%20Puzzle%20Game%20since%3A2018-09-28%20until%3A2018-09-29.\n",
      "INFO: Got 0 tweets (0 new).\n",
      "INFO: Got 0 tweets for Diamond%20Dash%3A%20Gem%20Puzzle%20Game%20since%3A2018-10-02%20until%3A2018-10-03.\n",
      "INFO: Got 0 tweets (0 new).\n",
      "INFO: Got 0 tweets for Diamond%20Dash%3A%20Gem%20Puzzle%20Game%20since%3A2018-09-29%20until%3A2018-09-30.\n",
      "INFO: Got 0 tweets (0 new).\n",
      "INFO: Got 0 tweets for Diamond%20Dash%3A%20Gem%20Puzzle%20Game%20since%3A2018-09-30%20until%3A2018-10-01.\n",
      "INFO: Got 0 tweets for Diamond%20Dash%3A%20Gem%20Puzzle%20Game%20since%3A2018-09-26%20until%3A2018-09-27.\n",
      "INFO: Got 0 tweets (0 new).\n",
      "INFO: Got 0 tweets (0 new).\n",
      "INFO: Got 0 tweets for Diamond%20Dash%3A%20Gem%20Puzzle%20Game%20since%3A2018-09-27%20until%3A2018-09-28.\n",
      "INFO: Got 0 tweets (0 new).\n"
     ]
    },
    {
     "name": "stdout",
     "output_type": "stream",
     "text": [
      "Diamond Dash: Gem Puzzle Game\n"
     ]
    },
    {
     "name": "stderr",
     "output_type": "stream",
     "text": [
      "INFO: queries: ['Modern Combat 5 since:2018-09-26 until:2018-09-27', 'Modern Combat 5 since:2018-09-27 until:2018-09-28', 'Modern Combat 5 since:2018-09-28 until:2018-09-29', 'Modern Combat 5 since:2018-09-29 until:2018-09-30', 'Modern Combat 5 since:2018-09-30 until:2018-10-01', 'Modern Combat 5 since:2018-10-01 until:2018-10-02', 'Modern Combat 5 since:2018-10-02 until:2018-10-03']\n",
      "INFO: Querying Modern Combat 5 since:2018-09-26 until:2018-09-27\n",
      "INFO: Querying Modern Combat 5 since:2018-09-28 until:2018-09-29\n",
      "INFO: Querying Modern Combat 5 since:2018-09-29 until:2018-09-30\n",
      "INFO: Querying Modern Combat 5 since:2018-09-27 until:2018-09-28\n",
      "INFO: Querying Modern Combat 5 since:2018-09-30 until:2018-10-01\n",
      "INFO: Querying Modern Combat 5 since:2018-10-01 until:2018-10-02\n",
      "INFO: Querying Modern Combat 5 since:2018-10-02 until:2018-10-03\n",
      "INFO: Got 10 tweets for Modern%20Combat%205%20since%3A2018-10-02%20until%3A2018-10-03.\n",
      "INFO: Got 10 tweets (10 new).\n",
      "INFO: Got 10 tweets for Modern%20Combat%205%20since%3A2018-09-26%20until%3A2018-09-27.\n",
      "INFO: Got 20 tweets (10 new).\n",
      "INFO: Got 11 tweets for Modern%20Combat%205%20since%3A2018-09-27%20until%3A2018-09-28.\n",
      "INFO: Got 31 tweets (11 new).\n",
      "INFO: Got 20 tweets for Modern%20Combat%205%20since%3A2018-09-28%20until%3A2018-09-29.\n",
      "INFO: Got 51 tweets (20 new).\n",
      "INFO: Got 11 tweets for Modern%20Combat%205%20since%3A2018-10-01%20until%3A2018-10-02.\n",
      "INFO: Got 62 tweets (11 new).\n",
      "INFO: Got 14 tweets for Modern%20Combat%205%20since%3A2018-09-30%20until%3A2018-10-01.\n",
      "INFO: Got 76 tweets (14 new).\n",
      "INFO: Got 21 tweets for Modern%20Combat%205%20since%3A2018-09-29%20until%3A2018-09-30.\n",
      "INFO: Got 97 tweets (21 new).\n"
     ]
    },
    {
     "name": "stdout",
     "output_type": "stream",
     "text": [
      "Modern Combat 5\n"
     ]
    },
    {
     "name": "stderr",
     "output_type": "stream",
     "text": [
      "INFO: queries: ['Turbo Dismount® since:2018-09-26 until:2018-09-27', 'Turbo Dismount® since:2018-09-27 until:2018-09-28', 'Turbo Dismount® since:2018-09-28 until:2018-09-29', 'Turbo Dismount® since:2018-09-29 until:2018-09-30', 'Turbo Dismount® since:2018-09-30 until:2018-10-01', 'Turbo Dismount® since:2018-10-01 until:2018-10-02', 'Turbo Dismount® since:2018-10-02 until:2018-10-03']\n",
      "INFO: Querying Turbo Dismount® since:2018-09-30 until:2018-10-01\n",
      "INFO: Querying Turbo Dismount® since:2018-10-01 until:2018-10-02\n",
      "INFO: Querying Turbo Dismount® since:2018-09-29 until:2018-09-30\n",
      "INFO: Querying Turbo Dismount® since:2018-09-27 until:2018-09-28\n",
      "INFO: Querying Turbo Dismount® since:2018-09-26 until:2018-09-27\n",
      "INFO: Querying Turbo Dismount® since:2018-10-02 until:2018-10-03\n",
      "INFO: Querying Turbo Dismount® since:2018-09-28 until:2018-09-29\n",
      "INFO: Got 0 tweets for Turbo%20Dismount®%20since%3A2018-10-01%20until%3A2018-10-02.\n",
      "INFO: Got 0 tweets (0 new).\n",
      "INFO: Got 0 tweets for Turbo%20Dismount®%20since%3A2018-09-26%20until%3A2018-09-27.\n",
      "INFO: Got 0 tweets (0 new).\n",
      "INFO: Got 0 tweets for Turbo%20Dismount®%20since%3A2018-09-27%20until%3A2018-09-28.\n",
      "INFO: Got 0 tweets for Turbo%20Dismount®%20since%3A2018-10-02%20until%3A2018-10-03.\n",
      "INFO: Got 0 tweets (0 new).\n",
      "INFO: Got 0 tweets (0 new).\n",
      "INFO: Got 0 tweets for Turbo%20Dismount®%20since%3A2018-09-28%20until%3A2018-09-29.\n",
      "INFO: Got 0 tweets (0 new).\n",
      "INFO: Got 0 tweets for Turbo%20Dismount®%20since%3A2018-09-29%20until%3A2018-09-30.\n",
      "INFO: Got 0 tweets (0 new).\n",
      "INFO: Got 0 tweets for Turbo%20Dismount®%20since%3A2018-09-30%20until%3A2018-10-01.\n",
      "INFO: Got 0 tweets (0 new).\n"
     ]
    },
    {
     "name": "stdout",
     "output_type": "stream",
     "text": [
      "Turbo Dismount®\n"
     ]
    },
    {
     "name": "stderr",
     "output_type": "stream",
     "text": [
      "INFO: queries: ['Twisty Road! since:2018-09-26 until:2018-09-27', 'Twisty Road! since:2018-09-27 until:2018-09-28', 'Twisty Road! since:2018-09-28 until:2018-09-29', 'Twisty Road! since:2018-09-29 until:2018-09-30', 'Twisty Road! since:2018-09-30 until:2018-10-01', 'Twisty Road! since:2018-10-01 until:2018-10-02', 'Twisty Road! since:2018-10-02 until:2018-10-03']\n",
      "INFO: Querying Twisty Road! since:2018-09-27 until:2018-09-28\n",
      "INFO: Querying Twisty Road! since:2018-09-29 until:2018-09-30\n",
      "INFO: Querying Twisty Road! since:2018-09-28 until:2018-09-29\n",
      "INFO: Querying Twisty Road! since:2018-09-26 until:2018-09-27\n",
      "INFO: Querying Twisty Road! since:2018-10-01 until:2018-10-02\n",
      "INFO: Querying Twisty Road! since:2018-09-30 until:2018-10-01\n",
      "INFO: Querying Twisty Road! since:2018-10-02 until:2018-10-03\n",
      "INFO: Got 37 tweets for Twisty%20Road!%20since%3A2018-09-27%20until%3A2018-09-28.\n",
      "INFO: Got 37 tweets (37 new).\n",
      "INFO: Got 36 tweets for Twisty%20Road!%20since%3A2018-09-26%20until%3A2018-09-27.\n",
      "INFO: Got 73 tweets (36 new).\n",
      "INFO: Got 38 tweets for Twisty%20Road!%20since%3A2018-09-28%20until%3A2018-09-29.\n",
      "INFO: Got 111 tweets (38 new).\n",
      "INFO: Got 43 tweets for Twisty%20Road!%20since%3A2018-10-02%20until%3A2018-10-03.\n",
      "INFO: Got 154 tweets (43 new).\n",
      "INFO: Got 44 tweets for Twisty%20Road!%20since%3A2018-09-29%20until%3A2018-09-30.\n",
      "INFO: Got 198 tweets (44 new).\n",
      "INFO: Got 44 tweets for Twisty%20Road!%20since%3A2018-10-01%20until%3A2018-10-02.\n",
      "INFO: Got 242 tweets (44 new).\n",
      "INFO: Got 148 tweets for Twisty%20Road!%20since%3A2018-09-30%20until%3A2018-10-01.\n",
      "INFO: Got 390 tweets (148 new).\n"
     ]
    },
    {
     "name": "stdout",
     "output_type": "stream",
     "text": [
      "Twisty Road!\n"
     ]
    },
    {
     "name": "stderr",
     "output_type": "stream",
     "text": [
      "INFO: queries: ['Hit Tennis 3 since:2018-09-26 until:2018-09-27', 'Hit Tennis 3 since:2018-09-27 until:2018-09-28', 'Hit Tennis 3 since:2018-09-28 until:2018-09-29', 'Hit Tennis 3 since:2018-09-29 until:2018-09-30', 'Hit Tennis 3 since:2018-09-30 until:2018-10-01', 'Hit Tennis 3 since:2018-10-01 until:2018-10-02', 'Hit Tennis 3 since:2018-10-02 until:2018-10-03']\n",
      "INFO: Querying Hit Tennis 3 since:2018-09-26 until:2018-09-27\n",
      "INFO: Querying Hit Tennis 3 since:2018-09-28 until:2018-09-29\n",
      "INFO: Querying Hit Tennis 3 since:2018-09-29 until:2018-09-30\n",
      "INFO: Querying Hit Tennis 3 since:2018-09-30 until:2018-10-01\n",
      "INFO: Querying Hit Tennis 3 since:2018-10-01 until:2018-10-02\n",
      "INFO: Querying Hit Tennis 3 since:2018-10-02 until:2018-10-03\n",
      "INFO: Querying Hit Tennis 3 since:2018-09-27 until:2018-09-28\n",
      "INFO: Got 4 tweets for Hit%20Tennis%203%20since%3A2018-09-26%20until%3A2018-09-27.\n",
      "INFO: Got 4 tweets (4 new).\n",
      "INFO: Got 4 tweets for Hit%20Tennis%203%20since%3A2018-09-30%20until%3A2018-10-01.\n",
      "INFO: Got 8 tweets (4 new).\n",
      "INFO: Got 2 tweets for Hit%20Tennis%203%20since%3A2018-09-28%20until%3A2018-09-29.\n",
      "INFO: Got 10 tweets (2 new).\n",
      "INFO: Got 1 tweets for Hit%20Tennis%203%20since%3A2018-10-02%20until%3A2018-10-03.\n",
      "INFO: Got 11 tweets (1 new).\n",
      "INFO: Got 5 tweets for Hit%20Tennis%203%20since%3A2018-10-01%20until%3A2018-10-02.\n",
      "INFO: Got 16 tweets (5 new).\n",
      "INFO: Got 3 tweets for Hit%20Tennis%203%20since%3A2018-09-29%20until%3A2018-09-30.\n",
      "INFO: Got 19 tweets (3 new).\n",
      "INFO: Got 3 tweets for Hit%20Tennis%203%20since%3A2018-09-27%20until%3A2018-09-28.\n",
      "INFO: Got 22 tweets (3 new).\n"
     ]
    },
    {
     "name": "stdout",
     "output_type": "stream",
     "text": [
      "Hit Tennis 3\n"
     ]
    },
    {
     "name": "stderr",
     "output_type": "stream",
     "text": [
      "INFO: queries: ['MARVEL Spider-Man Unlimited since:2018-09-26 until:2018-09-27', 'MARVEL Spider-Man Unlimited since:2018-09-27 until:2018-09-28', 'MARVEL Spider-Man Unlimited since:2018-09-28 until:2018-09-29', 'MARVEL Spider-Man Unlimited since:2018-09-29 until:2018-09-30', 'MARVEL Spider-Man Unlimited since:2018-09-30 until:2018-10-01', 'MARVEL Spider-Man Unlimited since:2018-10-01 until:2018-10-02', 'MARVEL Spider-Man Unlimited since:2018-10-02 until:2018-10-03']\n",
      "INFO: Querying MARVEL Spider-Man Unlimited since:2018-09-29 until:2018-09-30\n",
      "INFO: Querying MARVEL Spider-Man Unlimited since:2018-10-01 until:2018-10-02\n",
      "INFO: Querying MARVEL Spider-Man Unlimited since:2018-09-28 until:2018-09-29\n",
      "INFO: Querying MARVEL Spider-Man Unlimited since:2018-09-30 until:2018-10-01\n",
      "INFO: Querying MARVEL Spider-Man Unlimited since:2018-09-26 until:2018-09-27\n",
      "INFO: Querying MARVEL Spider-Man Unlimited since:2018-10-02 until:2018-10-03\n",
      "INFO: Querying MARVEL Spider-Man Unlimited since:2018-09-27 until:2018-09-28\n",
      "INFO: Got 0 tweets for MARVEL%20Spider-Man%20Unlimited%20since%3A2018-09-29%20until%3A2018-09-30.\n",
      "INFO: Got 0 tweets (0 new).\n",
      "INFO: Got 0 tweets for MARVEL%20Spider-Man%20Unlimited%20since%3A2018-09-28%20until%3A2018-09-29.\n",
      "INFO: Got 0 tweets (0 new).\n",
      "INFO: Got 2 tweets for MARVEL%20Spider-Man%20Unlimited%20since%3A2018-10-02%20until%3A2018-10-03.\n",
      "INFO: Got 2 tweets (2 new).\n",
      "INFO: Got 2 tweets for MARVEL%20Spider-Man%20Unlimited%20since%3A2018-10-01%20until%3A2018-10-02.\n",
      "INFO: Got 4 tweets (2 new).\n",
      "INFO: Got 1 tweets for MARVEL%20Spider-Man%20Unlimited%20since%3A2018-09-27%20until%3A2018-09-28.\n",
      "INFO: Got 5 tweets (1 new).\n",
      "INFO: Got 1 tweets for MARVEL%20Spider-Man%20Unlimited%20since%3A2018-09-26%20until%3A2018-09-27.\n",
      "INFO: Got 6 tweets (1 new).\n",
      "INFO: Got 2 tweets for MARVEL%20Spider-Man%20Unlimited%20since%3A2018-09-30%20until%3A2018-10-01.\n",
      "INFO: Got 8 tweets (2 new).\n"
     ]
    },
    {
     "name": "stdout",
     "output_type": "stream",
     "text": [
      "MARVEL Spider-Man Unlimited\n"
     ]
    },
    {
     "name": "stderr",
     "output_type": "stream",
     "text": [
      "INFO: queries: ['Dude Perfect 2 since:2018-09-26 until:2018-09-27', 'Dude Perfect 2 since:2018-09-27 until:2018-09-28', 'Dude Perfect 2 since:2018-09-28 until:2018-09-29', 'Dude Perfect 2 since:2018-09-29 until:2018-09-30', 'Dude Perfect 2 since:2018-09-30 until:2018-10-01', 'Dude Perfect 2 since:2018-10-01 until:2018-10-02', 'Dude Perfect 2 since:2018-10-02 until:2018-10-03']\n",
      "INFO: Querying Dude Perfect 2 since:2018-09-28 until:2018-09-29\n",
      "INFO: Querying Dude Perfect 2 since:2018-09-27 until:2018-09-28\n",
      "INFO: Querying Dude Perfect 2 since:2018-09-26 until:2018-09-27\n",
      "INFO: Querying Dude Perfect 2 since:2018-10-01 until:2018-10-02\n",
      "INFO: Querying Dude Perfect 2 since:2018-09-29 until:2018-09-30\n",
      "INFO: Querying Dude Perfect 2 since:2018-09-30 until:2018-10-01\n",
      "INFO: Querying Dude Perfect 2 since:2018-10-02 until:2018-10-03\n",
      "INFO: Got 10 tweets for Dude%20Perfect%202%20since%3A2018-10-02%20until%3A2018-10-03.\n",
      "INFO: Got 10 tweets (10 new).\n",
      "INFO: Got 14 tweets for Dude%20Perfect%202%20since%3A2018-10-01%20until%3A2018-10-02.\n",
      "INFO: Got 24 tweets (14 new).\n",
      "INFO: Got 25 tweets for Dude%20Perfect%202%20since%3A2018-09-29%20until%3A2018-09-30.\n",
      "INFO: Got 49 tweets (25 new).\n",
      "INFO: Got 21 tweets for Dude%20Perfect%202%20since%3A2018-09-30%20until%3A2018-10-01.\n",
      "INFO: Got 70 tweets (21 new).\n",
      "INFO: Got 29 tweets for Dude%20Perfect%202%20since%3A2018-09-28%20until%3A2018-09-29.\n",
      "INFO: Got 99 tweets (29 new).\n",
      "INFO: Got 43 tweets for Dude%20Perfect%202%20since%3A2018-09-27%20until%3A2018-09-28.\n",
      "INFO: Got 142 tweets (43 new).\n",
      "INFO: Got 65 tweets for Dude%20Perfect%202%20since%3A2018-09-26%20until%3A2018-09-27.\n",
      "INFO: Got 207 tweets (65 new).\n"
     ]
    },
    {
     "name": "stdout",
     "output_type": "stream",
     "text": [
      "Dude Perfect 2\n"
     ]
    },
    {
     "name": "stderr",
     "output_type": "stream",
     "text": [
      "INFO: queries: ['Cube Runner since:2018-09-26 until:2018-09-27', 'Cube Runner since:2018-09-27 until:2018-09-28', 'Cube Runner since:2018-09-28 until:2018-09-29', 'Cube Runner since:2018-09-29 until:2018-09-30', 'Cube Runner since:2018-09-30 until:2018-10-01', 'Cube Runner since:2018-10-01 until:2018-10-02', 'Cube Runner since:2018-10-02 until:2018-10-03']\n",
      "INFO: Querying Cube Runner since:2018-09-29 until:2018-09-30\n",
      "INFO: Querying Cube Runner since:2018-09-30 until:2018-10-01\n",
      "INFO: Querying Cube Runner since:2018-10-01 until:2018-10-02\n",
      "INFO: Querying Cube Runner since:2018-09-26 until:2018-09-27\n",
      "INFO: Querying Cube Runner since:2018-09-27 until:2018-09-28\n",
      "INFO: Querying Cube Runner since:2018-10-02 until:2018-10-03\n",
      "INFO: Querying Cube Runner since:2018-09-28 until:2018-09-29\n",
      "INFO: Got 0 tweets for Cube%20Runner%20since%3A2018-09-29%20until%3A2018-09-30.\n",
      "INFO: Got 0 tweets (0 new).\n",
      "INFO: Got 0 tweets for Cube%20Runner%20since%3A2018-09-28%20until%3A2018-09-29.\n",
      "INFO: Got 0 tweets (0 new).\n",
      "INFO: Got 1 tweets for Cube%20Runner%20since%3A2018-10-01%20until%3A2018-10-02.\n",
      "INFO: Got 1 tweets (1 new).\n",
      "INFO: Got 1 tweets for Cube%20Runner%20since%3A2018-09-26%20until%3A2018-09-27.\n",
      "INFO: Got 2 tweets (1 new).\n",
      "INFO: Got 3 tweets for Cube%20Runner%20since%3A2018-09-30%20until%3A2018-10-01.\n",
      "INFO: Got 5 tweets (3 new).\n",
      "INFO: Got 1 tweets for Cube%20Runner%20since%3A2018-10-02%20until%3A2018-10-03.\n",
      "INFO: Got 6 tweets (1 new).\n",
      "INFO: Got 2 tweets for Cube%20Runner%20since%3A2018-09-27%20until%3A2018-09-28.\n",
      "INFO: Got 8 tweets (2 new).\n"
     ]
    },
    {
     "name": "stdout",
     "output_type": "stream",
     "text": [
      "Cube Runner\n"
     ]
    },
    {
     "name": "stderr",
     "output_type": "stream",
     "text": [
      "INFO: queries: ['Knife Hit since:2018-09-26 until:2018-09-27', 'Knife Hit since:2018-09-27 until:2018-09-28', 'Knife Hit since:2018-09-28 until:2018-09-29', 'Knife Hit since:2018-09-29 until:2018-09-30', 'Knife Hit since:2018-09-30 until:2018-10-01', 'Knife Hit since:2018-10-01 until:2018-10-02', 'Knife Hit since:2018-10-02 until:2018-10-03']\n",
      "INFO: Querying Knife Hit since:2018-09-28 until:2018-09-29\n",
      "INFO: Querying Knife Hit since:2018-09-27 until:2018-09-28\n",
      "INFO: Querying Knife Hit since:2018-09-26 until:2018-09-27\n",
      "INFO: Querying Knife Hit since:2018-09-29 until:2018-09-30\n",
      "INFO: Querying Knife Hit since:2018-09-30 until:2018-10-01\n",
      "INFO: Querying Knife Hit since:2018-10-01 until:2018-10-02\n",
      "INFO: Querying Knife Hit since:2018-10-02 until:2018-10-03\n",
      "INFO: Got 57 tweets for Knife%20Hit%20since%3A2018-09-29%20until%3A2018-09-30.\n",
      "INFO: Got 57 tweets (57 new).\n",
      "INFO: Got 60 tweets for Knife%20Hit%20since%3A2018-09-30%20until%3A2018-10-01.\n",
      "INFO: Got 117 tweets (60 new).\n",
      "INFO: Got 61 tweets for Knife%20Hit%20since%3A2018-10-02%20until%3A2018-10-03.\n",
      "INFO: Got 178 tweets (61 new).\n",
      "INFO: Got 68 tweets for Knife%20Hit%20since%3A2018-09-27%20until%3A2018-09-28.\n",
      "INFO: Got 246 tweets (68 new).\n",
      "INFO: Got 65 tweets for Knife%20Hit%20since%3A2018-10-01%20until%3A2018-10-02.\n",
      "INFO: Got 311 tweets (65 new).\n",
      "INFO: Got 79 tweets for Knife%20Hit%20since%3A2018-09-28%20until%3A2018-09-29.\n",
      "INFO: Got 390 tweets (79 new).\n",
      "INFO: Got 89 tweets for Knife%20Hit%20since%3A2018-09-26%20until%3A2018-09-27.\n",
      "INFO: Got 479 tweets (89 new).\n"
     ]
    },
    {
     "name": "stdout",
     "output_type": "stream",
     "text": [
      "Knife Hit\n"
     ]
    },
    {
     "name": "stderr",
     "output_type": "stream",
     "text": [
      "INFO: queries: ['Snake VS. Colors since:2018-09-26 until:2018-09-27', 'Snake VS. Colors since:2018-09-27 until:2018-09-28', 'Snake VS. Colors since:2018-09-28 until:2018-09-29', 'Snake VS. Colors since:2018-09-29 until:2018-09-30', 'Snake VS. Colors since:2018-09-30 until:2018-10-01', 'Snake VS. Colors since:2018-10-01 until:2018-10-02', 'Snake VS. Colors since:2018-10-02 until:2018-10-03']\n",
      "INFO: Querying Snake VS. Colors since:2018-09-28 until:2018-09-29\n",
      "INFO: Querying Snake VS. Colors since:2018-09-29 until:2018-09-30\n",
      "INFO: Querying Snake VS. Colors since:2018-09-27 until:2018-09-28\n",
      "INFO: Querying Snake VS. Colors since:2018-10-01 until:2018-10-02\n",
      "INFO: Querying Snake VS. Colors since:2018-09-26 until:2018-09-27\n",
      "INFO: Querying Snake VS. Colors since:2018-10-02 until:2018-10-03\n",
      "INFO: Querying Snake VS. Colors since:2018-09-30 until:2018-10-01\n",
      "INFO: Got 0 tweets for Snake%20VS.%20Colors%20since%3A2018-09-28%20until%3A2018-09-29.\n",
      "INFO: Got 0 tweets (0 new).\n",
      "INFO: Got 4 tweets for Snake%20VS.%20Colors%20since%3A2018-09-30%20until%3A2018-10-01.\n",
      "INFO: Got 4 tweets (4 new).\n",
      "INFO: Got 3 tweets for Snake%20VS.%20Colors%20since%3A2018-09-26%20until%3A2018-09-27.\n",
      "INFO: Got 7 tweets (3 new).\n",
      "INFO: Got 4 tweets for Snake%20VS.%20Colors%20since%3A2018-10-01%20until%3A2018-10-02.\n",
      "INFO: Got 11 tweets (4 new).\n",
      "INFO: Got 6 tweets for Snake%20VS.%20Colors%20since%3A2018-09-29%20until%3A2018-09-30.\n",
      "INFO: Got 17 tweets (6 new).\n",
      "INFO: Got 2 tweets for Snake%20VS.%20Colors%20since%3A2018-09-27%20until%3A2018-09-28.\n",
      "INFO: Got 19 tweets (2 new).\n",
      "INFO: Got 4 tweets for Snake%20VS.%20Colors%20since%3A2018-10-02%20until%3A2018-10-03.\n",
      "INFO: Got 23 tweets (4 new).\n"
     ]
    },
    {
     "name": "stdout",
     "output_type": "stream",
     "text": [
      "Snake VS. Colors\n"
     ]
    },
    {
     "name": "stderr",
     "output_type": "stream",
     "text": [
      "INFO: queries: ['Angry Birds Transformers since:2018-09-26 until:2018-09-27', 'Angry Birds Transformers since:2018-09-27 until:2018-09-28', 'Angry Birds Transformers since:2018-09-28 until:2018-09-29', 'Angry Birds Transformers since:2018-09-29 until:2018-09-30', 'Angry Birds Transformers since:2018-09-30 until:2018-10-01', 'Angry Birds Transformers since:2018-10-01 until:2018-10-02', 'Angry Birds Transformers since:2018-10-02 until:2018-10-03']\n",
      "INFO: Querying Angry Birds Transformers since:2018-09-28 until:2018-09-29\n",
      "INFO: Querying Angry Birds Transformers since:2018-09-26 until:2018-09-27\n",
      "INFO: Querying Angry Birds Transformers since:2018-09-30 until:2018-10-01\n",
      "INFO: Querying Angry Birds Transformers since:2018-10-01 until:2018-10-02\n",
      "INFO: Querying Angry Birds Transformers since:2018-09-29 until:2018-09-30\n",
      "INFO: Querying Angry Birds Transformers since:2018-10-02 until:2018-10-03\n",
      "INFO: Querying Angry Birds Transformers since:2018-09-27 until:2018-09-28\n",
      "INFO: Got 0 tweets for Angry%20Birds%20Transformers%20since%3A2018-09-27%20until%3A2018-09-28.\n",
      "INFO: Got 0 tweets for Angry%20Birds%20Transformers%20since%3A2018-09-29%20until%3A2018-09-30.\n",
      "INFO: Got 0 tweets (0 new).\n",
      "INFO: Got 0 tweets (0 new).\n",
      "INFO: Got 0 tweets for Angry%20Birds%20Transformers%20since%3A2018-10-02%20until%3A2018-10-03.\n",
      "INFO: Got 0 tweets (0 new).\n",
      "INFO: Got 2 tweets for Angry%20Birds%20Transformers%20since%3A2018-10-01%20until%3A2018-10-02.\n",
      "INFO: Got 2 tweets (2 new).\n",
      "INFO: Got 2 tweets for Angry%20Birds%20Transformers%20since%3A2018-09-30%20until%3A2018-10-01.\n",
      "INFO: Got 4 tweets (2 new).\n",
      "INFO: Got 3 tweets for Angry%20Birds%20Transformers%20since%3A2018-09-26%20until%3A2018-09-27.\n",
      "INFO: Got 7 tweets (3 new).\n",
      "INFO: Got 2 tweets for Angry%20Birds%20Transformers%20since%3A2018-09-28%20until%3A2018-09-29.\n",
      "INFO: Got 9 tweets (2 new).\n"
     ]
    },
    {
     "name": "stdout",
     "output_type": "stream",
     "text": [
      "Angry Birds Transformers\n"
     ]
    },
    {
     "name": "stderr",
     "output_type": "stream",
     "text": [
      "INFO: queries: ['Ninja Kid Run VR: Runner & Racing Games For Free since:2018-09-26 until:2018-09-27', 'Ninja Kid Run VR: Runner & Racing Games For Free since:2018-09-27 until:2018-09-28', 'Ninja Kid Run VR: Runner & Racing Games For Free since:2018-09-28 until:2018-09-29', 'Ninja Kid Run VR: Runner & Racing Games For Free since:2018-09-29 until:2018-09-30', 'Ninja Kid Run VR: Runner & Racing Games For Free since:2018-09-30 until:2018-10-01', 'Ninja Kid Run VR: Runner & Racing Games For Free since:2018-10-01 until:2018-10-02', 'Ninja Kid Run VR: Runner & Racing Games For Free since:2018-10-02 until:2018-10-03']\n",
      "INFO: Querying Ninja Kid Run VR: Runner & Racing Games For Free since:2018-09-27 until:2018-09-28\n",
      "INFO: Querying Ninja Kid Run VR: Runner & Racing Games For Free since:2018-09-26 until:2018-09-27\n",
      "INFO: Querying Ninja Kid Run VR: Runner & Racing Games For Free since:2018-09-28 until:2018-09-29\n",
      "INFO: Querying Ninja Kid Run VR: Runner & Racing Games For Free since:2018-09-29 until:2018-09-30\n",
      "INFO: Querying Ninja Kid Run VR: Runner & Racing Games For Free since:2018-10-01 until:2018-10-02\n",
      "INFO: Querying Ninja Kid Run VR: Runner & Racing Games For Free since:2018-09-30 until:2018-10-01\n",
      "INFO: Querying Ninja Kid Run VR: Runner & Racing Games For Free since:2018-10-02 until:2018-10-03\n",
      "INFO: Got 17 tweets for Ninja%20Kid%20Run%20VR%3A%20Runner%20&%20Racing%20Games%20For%20Free%20since%3A2018-09-26%20until%3A2018-09-27.\n",
      "INFO: Got 17 tweets (17 new).\n",
      "INFO: Got 17 tweets for Ninja%20Kid%20Run%20VR%3A%20Runner%20&%20Racing%20Games%20For%20Free%20since%3A2018-09-28%20until%3A2018-09-29.\n",
      "INFO: Got 34 tweets (17 new).\n",
      "INFO: Got 17 tweets for Ninja%20Kid%20Run%20VR%3A%20Runner%20&%20Racing%20Games%20For%20Free%20since%3A2018-10-01%20until%3A2018-10-02.\n",
      "INFO: Got 51 tweets (17 new).\n",
      "INFO: Got 17 tweets for Ninja%20Kid%20Run%20VR%3A%20Runner%20&%20Racing%20Games%20For%20Free%20since%3A2018-09-27%20until%3A2018-09-28.\n",
      "INFO: Got 68 tweets (17 new).\n",
      "INFO: Got 17 tweets for Ninja%20Kid%20Run%20VR%3A%20Runner%20&%20Racing%20Games%20For%20Free%20since%3A2018-09-29%20until%3A2018-09-30.\n",
      "INFO: Got 85 tweets (17 new).\n",
      "INFO: Got 17 tweets for Ninja%20Kid%20Run%20VR%3A%20Runner%20&%20Racing%20Games%20For%20Free%20since%3A2018-09-30%20until%3A2018-10-01.\n",
      "INFO: Got 102 tweets (17 new).\n",
      "INFO: Got 17 tweets for Ninja%20Kid%20Run%20VR%3A%20Runner%20&%20Racing%20Games%20For%20Free%20since%3A2018-10-02%20until%3A2018-10-03.\n",
      "INFO: Got 119 tweets (17 new).\n"
     ]
    },
    {
     "name": "stdout",
     "output_type": "stream",
     "text": [
      "Ninja Kid Run VR: Runner & Racing Games For Free\n"
     ]
    },
    {
     "name": "stderr",
     "output_type": "stream",
     "text": [
      "INFO: queries: ['Into the Dead since:2018-09-26 until:2018-09-27', 'Into the Dead since:2018-09-27 until:2018-09-28', 'Into the Dead since:2018-09-28 until:2018-09-29', 'Into the Dead since:2018-09-29 until:2018-09-30', 'Into the Dead since:2018-09-30 until:2018-10-01', 'Into the Dead since:2018-10-01 until:2018-10-02', 'Into the Dead since:2018-10-02 until:2018-10-03']\n",
      "INFO: Querying Into the Dead since:2018-09-27 until:2018-09-28\n",
      "INFO: Querying Into the Dead since:2018-09-26 until:2018-09-27\n",
      "INFO: Querying Into the Dead since:2018-09-28 until:2018-09-29\n",
      "INFO: Querying Into the Dead since:2018-10-01 until:2018-10-02\n",
      "INFO: Querying Into the Dead since:2018-10-02 until:2018-10-03\n",
      "INFO: Querying Into the Dead since:2018-09-30 until:2018-10-01\n",
      "INFO: Querying Into the Dead since:2018-09-29 until:2018-09-30\n",
      "INFO: Got 127 tweets for Into%20the%20Dead%20since%3A2018-09-29%20until%3A2018-09-30.\n",
      "INFO: Got 127 tweets (127 new).\n",
      "INFO: Got 139 tweets for Into%20the%20Dead%20since%3A2018-09-30%20until%3A2018-10-01.\n",
      "INFO: Got 266 tweets (139 new).\n",
      "INFO: Got 179 tweets for Into%20the%20Dead%20since%3A2018-09-26%20until%3A2018-09-27.\n",
      "INFO: Got 445 tweets (179 new).\n",
      "INFO: Got 195 tweets for Into%20the%20Dead%20since%3A2018-10-02%20until%3A2018-10-03.\n",
      "INFO: Got 640 tweets (195 new).\n",
      "INFO: Got 192 tweets for Into%20the%20Dead%20since%3A2018-09-28%20until%3A2018-09-29.\n",
      "INFO: Got 832 tweets (192 new).\n",
      "INFO: Got 197 tweets for Into%20the%20Dead%20since%3A2018-10-01%20until%3A2018-10-02.\n",
      "INFO: Got 1029 tweets (197 new).\n",
      "INFO: Got 663 tweets for Into%20the%20Dead%20since%3A2018-09-27%20until%3A2018-09-28.\n",
      "INFO: Got 1692 tweets (663 new).\n"
     ]
    },
    {
     "name": "stdout",
     "output_type": "stream",
     "text": [
      "Into the Dead\n"
     ]
    },
    {
     "name": "stderr",
     "output_type": "stream",
     "text": [
      "INFO: queries: ['Run Sausage Run! since:2018-09-26 until:2018-09-27', 'Run Sausage Run! since:2018-09-27 until:2018-09-28', 'Run Sausage Run! since:2018-09-28 until:2018-09-29', 'Run Sausage Run! since:2018-09-29 until:2018-09-30', 'Run Sausage Run! since:2018-09-30 until:2018-10-01', 'Run Sausage Run! since:2018-10-01 until:2018-10-02', 'Run Sausage Run! since:2018-10-02 until:2018-10-03']\n",
      "INFO: Querying Run Sausage Run! since:2018-09-29 until:2018-09-30\n",
      "INFO: Querying Run Sausage Run! since:2018-09-27 until:2018-09-28\n",
      "INFO: Querying Run Sausage Run! since:2018-09-28 until:2018-09-29\n",
      "INFO: Querying Run Sausage Run! since:2018-09-26 until:2018-09-27\n",
      "INFO: Querying Run Sausage Run! since:2018-10-01 until:2018-10-02\n",
      "INFO: Querying Run Sausage Run! since:2018-09-30 until:2018-10-01\n",
      "INFO: Querying Run Sausage Run! since:2018-10-02 until:2018-10-03\n",
      "INFO: Got 17 tweets for Run%20Sausage%20Run!%20since%3A2018-10-02%20until%3A2018-10-03.\n",
      "INFO: Got 17 tweets (17 new).\n",
      "INFO: Got 14 tweets for Run%20Sausage%20Run!%20since%3A2018-10-01%20until%3A2018-10-02.\n",
      "INFO: Got 31 tweets (14 new).\n",
      "INFO: Got 18 tweets for Run%20Sausage%20Run!%20since%3A2018-09-27%20until%3A2018-09-28.\n",
      "INFO: Got 49 tweets (18 new).\n",
      "INFO: Got 19 tweets for Run%20Sausage%20Run!%20since%3A2018-09-28%20until%3A2018-09-29.\n",
      "INFO: Got 68 tweets (19 new).\n",
      "INFO: Got 15 tweets for Run%20Sausage%20Run!%20since%3A2018-09-30%20until%3A2018-10-01.\n",
      "INFO: Got 83 tweets (15 new).\n",
      "INFO: Got 21 tweets for Run%20Sausage%20Run!%20since%3A2018-09-26%20until%3A2018-09-27.\n",
      "INFO: Got 104 tweets (21 new).\n",
      "INFO: Got 23 tweets for Run%20Sausage%20Run!%20since%3A2018-09-29%20until%3A2018-09-30.\n",
      "INFO: Got 127 tweets (23 new).\n"
     ]
    },
    {
     "name": "stdout",
     "output_type": "stream",
     "text": [
      "Run Sausage Run!\n"
     ]
    },
    {
     "name": "stderr",
     "output_type": "stream",
     "text": [
      "INFO: queries: ['Stack Jump since:2018-09-26 until:2018-09-27', 'Stack Jump since:2018-09-27 until:2018-09-28', 'Stack Jump since:2018-09-28 until:2018-09-29', 'Stack Jump since:2018-09-29 until:2018-09-30', 'Stack Jump since:2018-09-30 until:2018-10-01', 'Stack Jump since:2018-10-01 until:2018-10-02', 'Stack Jump since:2018-10-02 until:2018-10-03']\n",
      "INFO: Querying Stack Jump since:2018-09-26 until:2018-09-27\n",
      "INFO: Querying Stack Jump since:2018-09-27 until:2018-09-28\n",
      "INFO: Querying Stack Jump since:2018-10-01 until:2018-10-02\n",
      "INFO: Querying Stack Jump since:2018-10-02 until:2018-10-03\n",
      "INFO: Querying Stack Jump since:2018-09-29 until:2018-09-30\n",
      "INFO: Querying Stack Jump since:2018-09-30 until:2018-10-01\n",
      "INFO: Querying Stack Jump since:2018-09-28 until:2018-09-29\n",
      "INFO: Got 6 tweets for Stack%20Jump%20since%3A2018-09-30%20until%3A2018-10-01.\n",
      "INFO: Got 6 tweets (6 new).\n",
      "INFO: Got 5 tweets for Stack%20Jump%20since%3A2018-09-27%20until%3A2018-09-28.\n",
      "INFO: Got 11 tweets (5 new).\n",
      "INFO: Got 5 tweets for Stack%20Jump%20since%3A2018-10-02%20until%3A2018-10-03.\n",
      "INFO: Got 16 tweets (5 new).\n",
      "INFO: Got 8 tweets for Stack%20Jump%20since%3A2018-10-01%20until%3A2018-10-02.\n",
      "INFO: Got 24 tweets (8 new).\n",
      "INFO: Got 5 tweets for Stack%20Jump%20since%3A2018-09-28%20until%3A2018-09-29.\n",
      "INFO: Got 29 tweets (5 new).\n",
      "INFO: Got 7 tweets for Stack%20Jump%20since%3A2018-09-29%20until%3A2018-09-30.\n",
      "INFO: Got 36 tweets (7 new).\n",
      "INFO: Got 18 tweets for Stack%20Jump%20since%3A2018-09-26%20until%3A2018-09-27.\n",
      "INFO: Got 54 tweets (18 new).\n"
     ]
    },
    {
     "name": "stdout",
     "output_type": "stream",
     "text": [
      "Stack Jump\n"
     ]
    },
    {
     "name": "stderr",
     "output_type": "stream",
     "text": [
      "INFO: queries: ['Star Wars™: Commander since:2018-09-26 until:2018-09-27', 'Star Wars™: Commander since:2018-09-27 until:2018-09-28', 'Star Wars™: Commander since:2018-09-28 until:2018-09-29', 'Star Wars™: Commander since:2018-09-29 until:2018-09-30', 'Star Wars™: Commander since:2018-09-30 until:2018-10-01', 'Star Wars™: Commander since:2018-10-01 until:2018-10-02', 'Star Wars™: Commander since:2018-10-02 until:2018-10-03']\n",
      "INFO: Querying Star Wars™: Commander since:2018-09-27 until:2018-09-28\n",
      "INFO: Querying Star Wars™: Commander since:2018-09-28 until:2018-09-29\n",
      "INFO: Querying Star Wars™: Commander since:2018-09-29 until:2018-09-30\n",
      "INFO: Querying Star Wars™: Commander since:2018-09-26 until:2018-09-27\n",
      "INFO: Querying Star Wars™: Commander since:2018-10-02 until:2018-10-03\n",
      "INFO: Querying Star Wars™: Commander since:2018-09-30 until:2018-10-01\n",
      "INFO: Querying Star Wars™: Commander since:2018-10-01 until:2018-10-02\n",
      "INFO: Got 0 tweets for Star%20Wars™%3A%20Commander%20since%3A2018-10-02%20until%3A2018-10-03.\n",
      "INFO: Got 0 tweets (0 new).\n",
      "INFO: Got 0 tweets for Star%20Wars™%3A%20Commander%20since%3A2018-09-28%20until%3A2018-09-29.\n",
      "INFO: Got 0 tweets (0 new).\n",
      "INFO: Got 0 tweets for Star%20Wars™%3A%20Commander%20since%3A2018-10-01%20until%3A2018-10-02.\n",
      "INFO: Got 0 tweets (0 new).\n",
      "INFO: Got 1 tweets for Star%20Wars™%3A%20Commander%20since%3A2018-09-30%20until%3A2018-10-01.\n",
      "INFO: Got 1 tweets (1 new).\n",
      "INFO: Got 2 tweets for Star%20Wars™%3A%20Commander%20since%3A2018-09-29%20until%3A2018-09-30.\n",
      "INFO: Got 3 tweets (2 new).\n",
      "INFO: Got 1 tweets for Star%20Wars™%3A%20Commander%20since%3A2018-09-26%20until%3A2018-09-27.\n",
      "INFO: Got 4 tweets (1 new).\n",
      "INFO: Got 3 tweets for Star%20Wars™%3A%20Commander%20since%3A2018-09-27%20until%3A2018-09-28.\n",
      "INFO: Got 7 tweets (3 new).\n"
     ]
    },
    {
     "name": "stdout",
     "output_type": "stream",
     "text": [
      "Star Wars™: Commander\n"
     ]
    },
    {
     "name": "stderr",
     "output_type": "stream",
     "text": [
      "INFO: queries: ['iGun Pro since:2018-09-26 until:2018-09-27', 'iGun Pro since:2018-09-27 until:2018-09-28', 'iGun Pro since:2018-09-28 until:2018-09-29', 'iGun Pro since:2018-09-29 until:2018-09-30', 'iGun Pro since:2018-09-30 until:2018-10-01', 'iGun Pro since:2018-10-01 until:2018-10-02', 'iGun Pro since:2018-10-02 until:2018-10-03']\n",
      "INFO: Querying iGun Pro since:2018-09-29 until:2018-09-30\n",
      "INFO: Querying iGun Pro since:2018-09-27 until:2018-09-28\n",
      "INFO: Querying iGun Pro since:2018-09-28 until:2018-09-29\n",
      "INFO: Querying iGun Pro since:2018-09-26 until:2018-09-27\n",
      "INFO: Querying iGun Pro since:2018-10-02 until:2018-10-03\n",
      "INFO: Querying iGun Pro since:2018-10-01 until:2018-10-02\n",
      "INFO: Querying iGun Pro since:2018-09-30 until:2018-10-01\n",
      "INFO: Got 0 tweets for iGun%20Pro%20since%3A2018-10-02%20until%3A2018-10-03.\n",
      "INFO: Got 0 tweets (0 new).\n",
      "INFO: Got 0 tweets for iGun%20Pro%20since%3A2018-09-28%20until%3A2018-09-29.\n",
      "INFO: Got 0 tweets (0 new).\n",
      "INFO: Got 0 tweets for iGun%20Pro%20since%3A2018-10-01%20until%3A2018-10-02.\n",
      "INFO: Got 0 tweets (0 new).\n",
      "INFO: Got 0 tweets for iGun%20Pro%20since%3A2018-09-27%20until%3A2018-09-28.\n",
      "INFO: Got 0 tweets (0 new).\n",
      "INFO: Got 0 tweets for iGun%20Pro%20since%3A2018-09-30%20until%3A2018-10-01.\n",
      "INFO: Got 0 tweets (0 new).\n",
      "INFO: Got 0 tweets for iGun%20Pro%20since%3A2018-09-26%20until%3A2018-09-27.\n",
      "INFO: Got 0 tweets (0 new).\n",
      "INFO: Got 1 tweets for iGun%20Pro%20since%3A2018-09-29%20until%3A2018-09-30.\n",
      "INFO: Got 1 tweets (1 new).\n"
     ]
    },
    {
     "name": "stdout",
     "output_type": "stream",
     "text": [
      "iGun Pro\n"
     ]
    },
    {
     "name": "stderr",
     "output_type": "stream",
     "text": [
      "INFO: queries: ['Grand Theft Auto: iFruit since:2018-09-26 until:2018-09-27', 'Grand Theft Auto: iFruit since:2018-09-27 until:2018-09-28', 'Grand Theft Auto: iFruit since:2018-09-28 until:2018-09-29', 'Grand Theft Auto: iFruit since:2018-09-29 until:2018-09-30', 'Grand Theft Auto: iFruit since:2018-09-30 until:2018-10-01', 'Grand Theft Auto: iFruit since:2018-10-01 until:2018-10-02', 'Grand Theft Auto: iFruit since:2018-10-02 until:2018-10-03']\n",
      "INFO: Querying Grand Theft Auto: iFruit since:2018-09-26 until:2018-09-27\n",
      "INFO: Querying Grand Theft Auto: iFruit since:2018-09-27 until:2018-09-28\n",
      "INFO: Querying Grand Theft Auto: iFruit since:2018-09-28 until:2018-09-29\n",
      "INFO: Querying Grand Theft Auto: iFruit since:2018-09-30 until:2018-10-01\n",
      "INFO: Querying Grand Theft Auto: iFruit since:2018-09-29 until:2018-09-30\n",
      "INFO: Querying Grand Theft Auto: iFruit since:2018-10-01 until:2018-10-02\n",
      "INFO: Querying Grand Theft Auto: iFruit since:2018-10-02 until:2018-10-03\n",
      "INFO: Got 0 tweets for Grand%20Theft%20Auto%3A%20iFruit%20since%3A2018-10-02%20until%3A2018-10-03.\n",
      "INFO: Got 0 tweets (0 new).\n",
      "INFO: Got 0 tweets for Grand%20Theft%20Auto%3A%20iFruit%20since%3A2018-10-01%20until%3A2018-10-02.\n",
      "INFO: Got 0 tweets (0 new).\n",
      "INFO: Got 0 tweets for Grand%20Theft%20Auto%3A%20iFruit%20since%3A2018-09-28%20until%3A2018-09-29.\n",
      "INFO: Got 0 tweets (0 new).\n",
      "INFO: Got 0 tweets for Grand%20Theft%20Auto%3A%20iFruit%20since%3A2018-09-26%20until%3A2018-09-27.\n",
      "INFO: Got 0 tweets (0 new).\n",
      "INFO: Got 0 tweets for Grand%20Theft%20Auto%3A%20iFruit%20since%3A2018-09-29%20until%3A2018-09-30.\n",
      "INFO: Got 0 tweets (0 new).\n",
      "INFO: Got 0 tweets for Grand%20Theft%20Auto%3A%20iFruit%20since%3A2018-09-27%20until%3A2018-09-28.\n",
      "INFO: Got 0 tweets (0 new).\n",
      "INFO: Got 0 tweets for Grand%20Theft%20Auto%3A%20iFruit%20since%3A2018-09-30%20until%3A2018-10-01.\n",
      "INFO: Got 0 tweets (0 new).\n"
     ]
    },
    {
     "name": "stdout",
     "output_type": "stream",
     "text": [
      "Grand Theft Auto: iFruit\n"
     ]
    },
    {
     "name": "stderr",
     "output_type": "stream",
     "text": [
      "INFO: queries: ['Score! Hero since:2018-09-26 until:2018-09-27', 'Score! Hero since:2018-09-27 until:2018-09-28', 'Score! Hero since:2018-09-28 until:2018-09-29', 'Score! Hero since:2018-09-29 until:2018-09-30', 'Score! Hero since:2018-09-30 until:2018-10-01', 'Score! Hero since:2018-10-01 until:2018-10-02', 'Score! Hero since:2018-10-02 until:2018-10-03']\n",
      "INFO: Querying Score! Hero since:2018-09-26 until:2018-09-27\n",
      "INFO: Querying Score! Hero since:2018-09-27 until:2018-09-28\n",
      "INFO: Querying Score! Hero since:2018-09-29 until:2018-09-30\n",
      "INFO: Querying Score! Hero since:2018-09-30 until:2018-10-01\n",
      "INFO: Querying Score! Hero since:2018-09-28 until:2018-09-29\n",
      "INFO: Querying Score! Hero since:2018-10-02 until:2018-10-03\n",
      "INFO: Querying Score! Hero since:2018-10-01 until:2018-10-02\n",
      "INFO: Got 43 tweets for Score!%20Hero%20since%3A2018-09-28%20until%3A2018-09-29.\n",
      "INFO: Got 43 tweets (43 new).\n",
      "INFO: Got 41 tweets for Score!%20Hero%20since%3A2018-09-26%20until%3A2018-09-27.\n",
      "INFO: Got 84 tweets (41 new).\n",
      "INFO: Got 48 tweets for Score!%20Hero%20since%3A2018-10-01%20until%3A2018-10-02.\n",
      "INFO: Got 132 tweets (48 new).\n",
      "INFO: Got 44 tweets for Score!%20Hero%20since%3A2018-09-27%20until%3A2018-09-28.\n",
      "INFO: Got 176 tweets (44 new).\n",
      "INFO: Got 74 tweets for Score!%20Hero%20since%3A2018-09-30%20until%3A2018-10-01.\n",
      "INFO: Got 250 tweets (74 new).\n",
      "INFO: Got 73 tweets for Score!%20Hero%20since%3A2018-10-02%20until%3A2018-10-03.\n",
      "INFO: Got 323 tweets (73 new).\n",
      "INFO: Got 106 tweets for Score!%20Hero%20since%3A2018-09-29%20until%3A2018-09-30.\n",
      "INFO: Got 429 tweets (106 new).\n"
     ]
    },
    {
     "name": "stdout",
     "output_type": "stream",
     "text": [
      "Score! Hero\n"
     ]
    },
    {
     "name": "stderr",
     "output_type": "stream",
     "text": [
      "INFO: queries: ['Shadow Fight 2 since:2018-09-26 until:2018-09-27', 'Shadow Fight 2 since:2018-09-27 until:2018-09-28', 'Shadow Fight 2 since:2018-09-28 until:2018-09-29', 'Shadow Fight 2 since:2018-09-29 until:2018-09-30', 'Shadow Fight 2 since:2018-09-30 until:2018-10-01', 'Shadow Fight 2 since:2018-10-01 until:2018-10-02', 'Shadow Fight 2 since:2018-10-02 until:2018-10-03']\n",
      "INFO: Querying Shadow Fight 2 since:2018-09-26 until:2018-09-27\n",
      "INFO: Querying Shadow Fight 2 since:2018-09-29 until:2018-09-30\n",
      "INFO: Querying Shadow Fight 2 since:2018-09-27 until:2018-09-28\n",
      "INFO: Querying Shadow Fight 2 since:2018-10-02 until:2018-10-03\n",
      "INFO: Querying Shadow Fight 2 since:2018-09-30 until:2018-10-01\n",
      "INFO: Querying Shadow Fight 2 since:2018-09-28 until:2018-09-29\n",
      "INFO: Querying Shadow Fight 2 since:2018-10-01 until:2018-10-02\n",
      "INFO: Got 9 tweets for Shadow%20Fight%202%20since%3A2018-10-01%20until%3A2018-10-02.\n",
      "INFO: Got 9 tweets (9 new).\n",
      "INFO: Got 12 tweets for Shadow%20Fight%202%20since%3A2018-09-27%20until%3A2018-09-28.\n",
      "INFO: Got 21 tweets (12 new).\n",
      "INFO: Got 15 tweets for Shadow%20Fight%202%20since%3A2018-10-02%20until%3A2018-10-03.\n",
      "INFO: Got 36 tweets (15 new).\n",
      "INFO: Got 15 tweets for Shadow%20Fight%202%20since%3A2018-09-26%20until%3A2018-09-27.\n",
      "INFO: Got 51 tweets (15 new).\n",
      "INFO: Got 11 tweets for Shadow%20Fight%202%20since%3A2018-09-30%20until%3A2018-10-01.\n",
      "INFO: Got 62 tweets (11 new).\n",
      "INFO: Got 16 tweets for Shadow%20Fight%202%20since%3A2018-09-28%20until%3A2018-09-29.\n",
      "INFO: Got 78 tweets (16 new).\n",
      "INFO: Got 18 tweets for Shadow%20Fight%202%20since%3A2018-09-29%20until%3A2018-09-30.\n",
      "INFO: Got 96 tweets (18 new).\n"
     ]
    },
    {
     "name": "stdout",
     "output_type": "stream",
     "text": [
      "Shadow Fight 2\n"
     ]
    },
    {
     "name": "stderr",
     "output_type": "stream",
     "text": [
      "INFO: queries: ['Rodeo Stampede: Sky Zoo Safari since:2018-09-26 until:2018-09-27', 'Rodeo Stampede: Sky Zoo Safari since:2018-09-27 until:2018-09-28', 'Rodeo Stampede: Sky Zoo Safari since:2018-09-28 until:2018-09-29', 'Rodeo Stampede: Sky Zoo Safari since:2018-09-29 until:2018-09-30', 'Rodeo Stampede: Sky Zoo Safari since:2018-09-30 until:2018-10-01', 'Rodeo Stampede: Sky Zoo Safari since:2018-10-01 until:2018-10-02', 'Rodeo Stampede: Sky Zoo Safari since:2018-10-02 until:2018-10-03']\n",
      "INFO: Querying Rodeo Stampede: Sky Zoo Safari since:2018-09-27 until:2018-09-28\n",
      "INFO: Querying Rodeo Stampede: Sky Zoo Safari since:2018-09-29 until:2018-09-30\n",
      "INFO: Querying Rodeo Stampede: Sky Zoo Safari since:2018-09-26 until:2018-09-27\n",
      "INFO: Querying Rodeo Stampede: Sky Zoo Safari since:2018-10-01 until:2018-10-02\n",
      "INFO: Querying Rodeo Stampede: Sky Zoo Safari since:2018-09-28 until:2018-09-29\n",
      "INFO: Querying Rodeo Stampede: Sky Zoo Safari since:2018-09-30 until:2018-10-01\n",
      "INFO: Querying Rodeo Stampede: Sky Zoo Safari since:2018-10-02 until:2018-10-03\n",
      "INFO: Got 0 tweets for Rodeo%20Stampede%3A%20Sky%20Zoo%20Safari%20since%3A2018-09-26%20until%3A2018-09-27.\n",
      "INFO: Got 0 tweets (0 new).\n",
      "INFO: Got 0 tweets for Rodeo%20Stampede%3A%20Sky%20Zoo%20Safari%20since%3A2018-10-01%20until%3A2018-10-02.\n",
      "INFO: Got 0 tweets (0 new).\n",
      "INFO: Got 0 tweets for Rodeo%20Stampede%3A%20Sky%20Zoo%20Safari%20since%3A2018-10-02%20until%3A2018-10-03.\n",
      "INFO: Got 0 tweets (0 new).\n",
      "INFO: Got 0 tweets for Rodeo%20Stampede%3A%20Sky%20Zoo%20Safari%20since%3A2018-09-27%20until%3A2018-09-28.\n",
      "INFO: Got 0 tweets (0 new).\n",
      "INFO: Got 0 tweets for Rodeo%20Stampede%3A%20Sky%20Zoo%20Safari%20since%3A2018-09-30%20until%3A2018-10-01.\n",
      "INFO: Got 0 tweets (0 new).\n",
      "INFO: Got 0 tweets for Rodeo%20Stampede%3A%20Sky%20Zoo%20Safari%20since%3A2018-09-29%20until%3A2018-09-30.\n",
      "INFO: Got 0 tweets (0 new).\n",
      "INFO: Got 1 tweets for Rodeo%20Stampede%3A%20Sky%20Zoo%20Safari%20since%3A2018-09-28%20until%3A2018-09-29.\n",
      "INFO: Got 1 tweets (1 new).\n"
     ]
    },
    {
     "name": "stdout",
     "output_type": "stream",
     "text": [
      "Rodeo Stampede: Sky Zoo Safari\n"
     ]
    },
    {
     "name": "stderr",
     "output_type": "stream",
     "text": [
      "INFO: queries: ['Gangstar Vegas since:2018-09-26 until:2018-09-27', 'Gangstar Vegas since:2018-09-27 until:2018-09-28', 'Gangstar Vegas since:2018-09-28 until:2018-09-29', 'Gangstar Vegas since:2018-09-29 until:2018-09-30', 'Gangstar Vegas since:2018-09-30 until:2018-10-01', 'Gangstar Vegas since:2018-10-01 until:2018-10-02', 'Gangstar Vegas since:2018-10-02 until:2018-10-03']\n",
      "INFO: Querying Gangstar Vegas since:2018-09-26 until:2018-09-27\n",
      "INFO: Querying Gangstar Vegas since:2018-09-27 until:2018-09-28\n",
      "INFO: Querying Gangstar Vegas since:2018-09-28 until:2018-09-29\n",
      "INFO: Querying Gangstar Vegas since:2018-09-29 until:2018-09-30\n",
      "INFO: Querying Gangstar Vegas since:2018-10-01 until:2018-10-02\n",
      "INFO: Querying Gangstar Vegas since:2018-10-02 until:2018-10-03\n",
      "INFO: Querying Gangstar Vegas since:2018-09-30 until:2018-10-01\n",
      "INFO: Got 6 tweets for Gangstar%20Vegas%20since%3A2018-10-01%20until%3A2018-10-02.\n",
      "INFO: Got 6 tweets (6 new).\n",
      "INFO: Got 18 tweets for Gangstar%20Vegas%20since%3A2018-09-27%20until%3A2018-09-28.\n",
      "INFO: Got 24 tweets (18 new).\n",
      "INFO: Got 15 tweets for Gangstar%20Vegas%20since%3A2018-09-30%20until%3A2018-10-01.\n",
      "INFO: Got 39 tweets (15 new).\n",
      "INFO: Got 2 tweets for Gangstar%20Vegas%20since%3A2018-10-02%20until%3A2018-10-03.\n",
      "INFO: Got 41 tweets (2 new).\n",
      "INFO: Got 13 tweets for Gangstar%20Vegas%20since%3A2018-09-26%20until%3A2018-09-27.\n",
      "INFO: Got 54 tweets (13 new).\n",
      "INFO: Got 26 tweets for Gangstar%20Vegas%20since%3A2018-09-28%20until%3A2018-09-29.\n",
      "INFO: Got 80 tweets (26 new).\n",
      "INFO: Got 25 tweets for Gangstar%20Vegas%20since%3A2018-09-29%20until%3A2018-09-30.\n",
      "INFO: Got 105 tweets (25 new).\n"
     ]
    },
    {
     "name": "stdout",
     "output_type": "stream",
     "text": [
      "Gangstar Vegas\n"
     ]
    },
    {
     "name": "stderr",
     "output_type": "stream",
     "text": [
      "INFO: queries: ['War Dragons since:2018-09-26 until:2018-09-27', 'War Dragons since:2018-09-27 until:2018-09-28', 'War Dragons since:2018-09-28 until:2018-09-29', 'War Dragons since:2018-09-29 until:2018-09-30', 'War Dragons since:2018-09-30 until:2018-10-01', 'War Dragons since:2018-10-01 until:2018-10-02', 'War Dragons since:2018-10-02 until:2018-10-03']\n",
      "INFO: Querying War Dragons since:2018-09-27 until:2018-09-28\n",
      "INFO: Querying War Dragons since:2018-09-26 until:2018-09-27\n",
      "INFO: Querying War Dragons since:2018-09-29 until:2018-09-30\n",
      "INFO: Querying War Dragons since:2018-09-28 until:2018-09-29\n",
      "INFO: Querying War Dragons since:2018-09-30 until:2018-10-01\n",
      "INFO: Querying War Dragons since:2018-10-01 until:2018-10-02\n",
      "INFO: Querying War Dragons since:2018-10-02 until:2018-10-03\n",
      "INFO: Got 71 tweets for War%20Dragons%20since%3A2018-09-28%20until%3A2018-09-29.\n",
      "INFO: Got 71 tweets (71 new).\n",
      "INFO: Got 78 tweets for War%20Dragons%20since%3A2018-09-30%20until%3A2018-10-01.\n",
      "INFO: Got 149 tweets (78 new).\n",
      "INFO: Got 80 tweets for War%20Dragons%20since%3A2018-09-26%20until%3A2018-09-27.\n",
      "INFO: Got 229 tweets (80 new).\n",
      "INFO: Got 74 tweets for War%20Dragons%20since%3A2018-09-27%20until%3A2018-09-28.\n",
      "INFO: Got 303 tweets (74 new).\n",
      "INFO: Got 84 tweets for War%20Dragons%20since%3A2018-10-02%20until%3A2018-10-03.\n",
      "INFO: Got 387 tweets (84 new).\n",
      "INFO: Got 86 tweets for War%20Dragons%20since%3A2018-10-01%20until%3A2018-10-02.\n",
      "INFO: Got 473 tweets (86 new).\n",
      "INFO: Got 89 tweets for War%20Dragons%20since%3A2018-09-29%20until%3A2018-09-30.\n",
      "INFO: Got 562 tweets (89 new).\n"
     ]
    },
    {
     "name": "stdout",
     "output_type": "stream",
     "text": [
      "War Dragons\n"
     ]
    },
    {
     "name": "stderr",
     "output_type": "stream",
     "text": [
      "INFO: queries: ['Real Steel World Robot Boxing since:2018-09-26 until:2018-09-27', 'Real Steel World Robot Boxing since:2018-09-27 until:2018-09-28', 'Real Steel World Robot Boxing since:2018-09-28 until:2018-09-29', 'Real Steel World Robot Boxing since:2018-09-29 until:2018-09-30', 'Real Steel World Robot Boxing since:2018-09-30 until:2018-10-01', 'Real Steel World Robot Boxing since:2018-10-01 until:2018-10-02', 'Real Steel World Robot Boxing since:2018-10-02 until:2018-10-03']\n",
      "INFO: Querying Real Steel World Robot Boxing since:2018-09-27 until:2018-09-28\n",
      "INFO: Querying Real Steel World Robot Boxing since:2018-09-26 until:2018-09-27\n",
      "INFO: Querying Real Steel World Robot Boxing since:2018-10-01 until:2018-10-02\n",
      "INFO: Querying Real Steel World Robot Boxing since:2018-09-28 until:2018-09-29\n",
      "INFO: Querying Real Steel World Robot Boxing since:2018-09-30 until:2018-10-01\n",
      "INFO: Querying Real Steel World Robot Boxing since:2018-09-29 until:2018-09-30\n",
      "INFO: Querying Real Steel World Robot Boxing since:2018-10-02 until:2018-10-03\n",
      "INFO: Got 0 tweets for Real%20Steel%20World%20Robot%20Boxing%20since%3A2018-10-02%20until%3A2018-10-03.\n",
      "INFO: Got 0 tweets (0 new).\n",
      "INFO: Got 0 tweets for Real%20Steel%20World%20Robot%20Boxing%20since%3A2018-09-30%20until%3A2018-10-01.\n",
      "INFO: Got 0 tweets (0 new).\n",
      "INFO: Got 0 tweets for Real%20Steel%20World%20Robot%20Boxing%20since%3A2018-09-28%20until%3A2018-09-29.\n",
      "INFO: Got 0 tweets (0 new).\n",
      "INFO: Got 0 tweets for Real%20Steel%20World%20Robot%20Boxing%20since%3A2018-10-01%20until%3A2018-10-02.\n",
      "INFO: Got 0 tweets (0 new).\n",
      "INFO: Got 0 tweets for Real%20Steel%20World%20Robot%20Boxing%20since%3A2018-09-26%20until%3A2018-09-27.\n",
      "INFO: Got 0 tweets (0 new).\n",
      "INFO: Got 1 tweets for Real%20Steel%20World%20Robot%20Boxing%20since%3A2018-09-27%20until%3A2018-09-28.\n",
      "INFO: Got 1 tweets (1 new).\n",
      "INFO: Got 1 tweets for Real%20Steel%20World%20Robot%20Boxing%20since%3A2018-09-29%20until%3A2018-09-30.\n",
      "INFO: Got 2 tweets (1 new).\n"
     ]
    },
    {
     "name": "stdout",
     "output_type": "stream",
     "text": [
      "Real Steel World Robot Boxing\n"
     ]
    },
    {
     "name": "stderr",
     "output_type": "stream",
     "text": [
      "INFO: queries: [\"Lep's World - Jump n Run Games since:2018-09-26 until:2018-09-27\", \"Lep's World - Jump n Run Games since:2018-09-27 until:2018-09-28\", \"Lep's World - Jump n Run Games since:2018-09-28 until:2018-09-29\", \"Lep's World - Jump n Run Games since:2018-09-29 until:2018-09-30\", \"Lep's World - Jump n Run Games since:2018-09-30 until:2018-10-01\", \"Lep's World - Jump n Run Games since:2018-10-01 until:2018-10-02\", \"Lep's World - Jump n Run Games since:2018-10-02 until:2018-10-03\"]\n",
      "INFO: Querying Lep's World - Jump n Run Games since:2018-09-30 until:2018-10-01\n",
      "INFO: Querying Lep's World - Jump n Run Games since:2018-09-29 until:2018-09-30\n",
      "INFO: Querying Lep's World - Jump n Run Games since:2018-10-02 until:2018-10-03\n",
      "INFO: Querying Lep's World - Jump n Run Games since:2018-09-26 until:2018-09-27\n",
      "INFO: Querying Lep's World - Jump n Run Games since:2018-10-01 until:2018-10-02\n",
      "INFO: Querying Lep's World - Jump n Run Games since:2018-09-28 until:2018-09-29\n",
      "INFO: Querying Lep's World - Jump n Run Games since:2018-09-27 until:2018-09-28\n",
      "INFO: Got 0 tweets for Lep's%20World%20-%20Jump%20n%20Run%20Games%20since%3A2018-09-30%20until%3A2018-10-01.\n",
      "INFO: Got 0 tweets (0 new).\n",
      "INFO: Got 0 tweets for Lep's%20World%20-%20Jump%20n%20Run%20Games%20since%3A2018-10-02%20until%3A2018-10-03.\n",
      "INFO: Got 0 tweets (0 new).\n",
      "INFO: Got 0 tweets for Lep's%20World%20-%20Jump%20n%20Run%20Games%20since%3A2018-09-27%20until%3A2018-09-28.\n",
      "INFO: Got 0 tweets (0 new).\n",
      "INFO: Got 0 tweets for Lep's%20World%20-%20Jump%20n%20Run%20Games%20since%3A2018-10-01%20until%3A2018-10-02.\n",
      "INFO: Got 0 tweets (0 new).\n",
      "INFO: Got 0 tweets (0 new).\n",
      "INFO: Got 0 tweets for Lep's%20World%20-%20Jump%20n%20Run%20Games%20since%3A2018-09-28%20until%3A2018-09-29.\n",
      "INFO: Got 0 tweets for Lep's%20World%20-%20Jump%20n%20Run%20Games%20since%3A2018-09-26%20until%3A2018-09-27.\n",
      "INFO: Got 0 tweets (0 new).\n",
      "INFO: Got 0 tweets for Lep's%20World%20-%20Jump%20n%20Run%20Games%20since%3A2018-09-29%20until%3A2018-09-30.\n",
      "INFO: Got 0 tweets (0 new).\n"
     ]
    },
    {
     "name": "stdout",
     "output_type": "stream",
     "text": [
      "Lep's World - Jump n Run Games\n"
     ]
    },
    {
     "name": "stderr",
     "output_type": "stream",
     "text": [
      "INFO: queries: ['Turbo FAST since:2018-09-26 until:2018-09-27', 'Turbo FAST since:2018-09-27 until:2018-09-28', 'Turbo FAST since:2018-09-28 until:2018-09-29', 'Turbo FAST since:2018-09-29 until:2018-09-30', 'Turbo FAST since:2018-09-30 until:2018-10-01', 'Turbo FAST since:2018-10-01 until:2018-10-02', 'Turbo FAST since:2018-10-02 until:2018-10-03']\n",
      "INFO: Querying Turbo FAST since:2018-09-27 until:2018-09-28\n",
      "INFO: Querying Turbo FAST since:2018-09-28 until:2018-09-29\n",
      "INFO: Querying Turbo FAST since:2018-10-01 until:2018-10-02\n",
      "INFO: Querying Turbo FAST since:2018-09-26 until:2018-09-27\n",
      "INFO: Querying Turbo FAST since:2018-10-02 until:2018-10-03\n",
      "INFO: Querying Turbo FAST since:2018-09-29 until:2018-09-30\n",
      "INFO: Querying Turbo FAST since:2018-09-30 until:2018-10-01\n",
      "INFO: Got 1 tweets for Turbo%20FAST%20since%3A2018-10-02%20until%3A2018-10-03.\n",
      "INFO: Got 1 tweets (1 new).\n",
      "INFO: Got 2 tweets for Turbo%20FAST%20since%3A2018-09-27%20until%3A2018-09-28.\n",
      "INFO: Got 3 tweets (2 new).\n",
      "INFO: Got 2 tweets for Turbo%20FAST%20since%3A2018-10-01%20until%3A2018-10-02.\n",
      "INFO: Got 5 tweets (2 new).\n",
      "INFO: Got 4 tweets for Turbo%20FAST%20since%3A2018-09-28%20until%3A2018-09-29.\n",
      "INFO: Got 9 tweets (4 new).\n",
      "INFO: Got 5 tweets for Turbo%20FAST%20since%3A2018-09-26%20until%3A2018-09-27.\n",
      "INFO: Got 4 tweets for Turbo%20FAST%20since%3A2018-09-29%20until%3A2018-09-30.\n",
      "INFO: Got 14 tweets (5 new).\n",
      "INFO: Got 18 tweets (4 new).\n",
      "INFO: Got 4 tweets for Turbo%20FAST%20since%3A2018-09-30%20until%3A2018-10-01.\n",
      "INFO: Got 22 tweets (4 new).\n"
     ]
    },
    {
     "name": "stdout",
     "output_type": "stream",
     "text": [
      "Turbo FAST\n"
     ]
    },
    {
     "name": "stderr",
     "output_type": "stream",
     "text": [
      "INFO: queries: ['MMX Hill Dash — OffRoad Racing since:2018-09-26 until:2018-09-27', 'MMX Hill Dash — OffRoad Racing since:2018-09-27 until:2018-09-28', 'MMX Hill Dash — OffRoad Racing since:2018-09-28 until:2018-09-29', 'MMX Hill Dash — OffRoad Racing since:2018-09-29 until:2018-09-30', 'MMX Hill Dash — OffRoad Racing since:2018-09-30 until:2018-10-01', 'MMX Hill Dash — OffRoad Racing since:2018-10-01 until:2018-10-02', 'MMX Hill Dash — OffRoad Racing since:2018-10-02 until:2018-10-03']\n",
      "INFO: Querying MMX Hill Dash — OffRoad Racing since:2018-09-27 until:2018-09-28\n",
      "INFO: Querying MMX Hill Dash — OffRoad Racing since:2018-09-30 until:2018-10-01\n",
      "INFO: Querying MMX Hill Dash — OffRoad Racing since:2018-09-26 until:2018-09-27\n",
      "INFO: Querying MMX Hill Dash — OffRoad Racing since:2018-09-29 until:2018-09-30\n",
      "INFO: Querying MMX Hill Dash — OffRoad Racing since:2018-10-01 until:2018-10-02\n",
      "INFO: Querying MMX Hill Dash — OffRoad Racing since:2018-09-28 until:2018-09-29\n",
      "INFO: Querying MMX Hill Dash — OffRoad Racing since:2018-10-02 until:2018-10-03\n",
      "INFO: Got 0 tweets for MMX%20Hill%20Dash%20—%20OffRoad%20Racing%20since%3A2018-09-30%20until%3A2018-10-01.\n",
      "INFO: Got 0 tweets (0 new).\n",
      "INFO: Got 0 tweets for MMX%20Hill%20Dash%20—%20OffRoad%20Racing%20since%3A2018-09-27%20until%3A2018-09-28.\n",
      "INFO: Got 0 tweets (0 new).\n",
      "INFO: Got 0 tweets for MMX%20Hill%20Dash%20—%20OffRoad%20Racing%20since%3A2018-10-02%20until%3A2018-10-03.\n",
      "INFO: Got 0 tweets (0 new).\n",
      "INFO: Got 0 tweets for MMX%20Hill%20Dash%20—%20OffRoad%20Racing%20since%3A2018-09-29%20until%3A2018-09-30.\n",
      "INFO: Got 0 tweets (0 new).\n",
      "INFO: Got 0 tweets for MMX%20Hill%20Dash%20—%20OffRoad%20Racing%20since%3A2018-09-26%20until%3A2018-09-27.\n",
      "INFO: Got 0 tweets (0 new).\n",
      "INFO: Got 0 tweets for MMX%20Hill%20Dash%20—%20OffRoad%20Racing%20since%3A2018-09-28%20until%3A2018-09-29.\n",
      "INFO: Got 0 tweets (0 new).\n",
      "INFO: Got 1 tweets for MMX%20Hill%20Dash%20—%20OffRoad%20Racing%20since%3A2018-10-01%20until%3A2018-10-02.\n",
      "INFO: Got 1 tweets (1 new).\n"
     ]
    },
    {
     "name": "stdout",
     "output_type": "stream",
     "text": [
      "MMX Hill Dash — OffRoad Racing\n"
     ]
    },
    {
     "name": "stderr",
     "output_type": "stream",
     "text": [
      "INFO: queries: ['World of Tanks Blitz since:2018-09-26 until:2018-09-27', 'World of Tanks Blitz since:2018-09-27 until:2018-09-28', 'World of Tanks Blitz since:2018-09-28 until:2018-09-29', 'World of Tanks Blitz since:2018-09-29 until:2018-09-30', 'World of Tanks Blitz since:2018-09-30 until:2018-10-01', 'World of Tanks Blitz since:2018-10-01 until:2018-10-02', 'World of Tanks Blitz since:2018-10-02 until:2018-10-03']\n",
      "INFO: Querying World of Tanks Blitz since:2018-09-26 until:2018-09-27\n",
      "INFO: Querying World of Tanks Blitz since:2018-09-29 until:2018-09-30\n",
      "INFO: Querying World of Tanks Blitz since:2018-09-28 until:2018-09-29\n",
      "INFO: Querying World of Tanks Blitz since:2018-10-01 until:2018-10-02\n",
      "INFO: Querying World of Tanks Blitz since:2018-10-02 until:2018-10-03\n",
      "INFO: Querying World of Tanks Blitz since:2018-09-30 until:2018-10-01\n",
      "INFO: Querying World of Tanks Blitz since:2018-09-27 until:2018-09-28\n",
      "INFO: Got 9 tweets for World%20of%20Tanks%20Blitz%20since%3A2018-09-28%20until%3A2018-09-29.\n",
      "INFO: Got 9 tweets (9 new).\n",
      "INFO: Got 15 tweets for World%20of%20Tanks%20Blitz%20since%3A2018-10-01%20until%3A2018-10-02.\n",
      "INFO: Got 24 tweets (15 new).\n",
      "INFO: Got 10 tweets for World%20of%20Tanks%20Blitz%20since%3A2018-10-02%20until%3A2018-10-03.\n",
      "INFO: Got 34 tweets (10 new).\n",
      "INFO: Got 12 tweets for World%20of%20Tanks%20Blitz%20since%3A2018-09-26%20until%3A2018-09-27.\n",
      "INFO: Got 46 tweets (12 new).\n",
      "INFO: Got 18 tweets for World%20of%20Tanks%20Blitz%20since%3A2018-09-30%20until%3A2018-10-01.\n",
      "INFO: Got 64 tweets (18 new).\n",
      "INFO: Got 12 tweets for World%20of%20Tanks%20Blitz%20since%3A2018-09-29%20until%3A2018-09-30.\n",
      "INFO: Got 76 tweets (12 new).\n",
      "INFO: Got 21 tweets for World%20of%20Tanks%20Blitz%20since%3A2018-09-27%20until%3A2018-09-28.\n",
      "INFO: Got 97 tweets (21 new).\n"
     ]
    },
    {
     "name": "stdout",
     "output_type": "stream",
     "text": [
      "World of Tanks Blitz\n"
     ]
    },
    {
     "name": "stderr",
     "output_type": "stream",
     "text": [
      "INFO: queries: ['Tornado.io! since:2018-09-26 until:2018-09-27', 'Tornado.io! since:2018-09-27 until:2018-09-28', 'Tornado.io! since:2018-09-28 until:2018-09-29', 'Tornado.io! since:2018-09-29 until:2018-09-30', 'Tornado.io! since:2018-09-30 until:2018-10-01', 'Tornado.io! since:2018-10-01 until:2018-10-02', 'Tornado.io! since:2018-10-02 until:2018-10-03']\n",
      "INFO: Querying Tornado.io! since:2018-10-02 until:2018-10-03\n",
      "INFO: Querying Tornado.io! since:2018-09-27 until:2018-09-28\n",
      "INFO: Querying Tornado.io! since:2018-09-28 until:2018-09-29\n",
      "INFO: Querying Tornado.io! since:2018-09-26 until:2018-09-27\n",
      "INFO: Querying Tornado.io! since:2018-09-30 until:2018-10-01\n",
      "INFO: Querying Tornado.io! since:2018-09-29 until:2018-09-30\n",
      "INFO: Querying Tornado.io! since:2018-10-01 until:2018-10-02\n",
      "INFO: Got 2 tweets for Tornado.io!%20since%3A2018-10-02%20until%3A2018-10-03.\n",
      "INFO: Got 2 tweets (2 new).\n",
      "INFO: Got 9 tweets for Tornado.io!%20since%3A2018-09-29%20until%3A2018-09-30.\n",
      "INFO: Got 11 tweets (9 new).\n",
      "INFO: Got 3 tweets for Tornado.io!%20since%3A2018-09-27%20until%3A2018-09-28.\n",
      "INFO: Got 14 tweets (3 new).\n",
      "INFO: Got 8 tweets for Tornado.io!%20since%3A2018-09-26%20until%3A2018-09-27.\n",
      "INFO: Got 22 tweets (8 new).\n",
      "INFO: Got 5 tweets for Tornado.io!%20since%3A2018-09-30%20until%3A2018-10-01.\n",
      "INFO: Got 27 tweets (5 new).\n",
      "INFO: Got 6 tweets for Tornado.io!%20since%3A2018-10-01%20until%3A2018-10-02.\n",
      "INFO: Got 33 tweets (6 new).\n",
      "INFO: Got 7 tweets for Tornado.io!%20since%3A2018-09-28%20until%3A2018-09-29.\n",
      "INFO: Got 40 tweets (7 new).\n"
     ]
    },
    {
     "name": "stdout",
     "output_type": "stream",
     "text": [
      "Tornado.io!\n"
     ]
    },
    {
     "name": "stderr",
     "output_type": "stream",
     "text": [
      "INFO: queries: ['Sling Drift since:2018-09-26 until:2018-09-27', 'Sling Drift since:2018-09-27 until:2018-09-28', 'Sling Drift since:2018-09-28 until:2018-09-29', 'Sling Drift since:2018-09-29 until:2018-09-30', 'Sling Drift since:2018-09-30 until:2018-10-01', 'Sling Drift since:2018-10-01 until:2018-10-02', 'Sling Drift since:2018-10-02 until:2018-10-03']\n",
      "INFO: Querying Sling Drift since:2018-09-27 until:2018-09-28\n",
      "INFO: Querying Sling Drift since:2018-10-01 until:2018-10-02\n",
      "INFO: Querying Sling Drift since:2018-09-30 until:2018-10-01\n",
      "INFO: Querying Sling Drift since:2018-09-29 until:2018-09-30\n",
      "INFO: Querying Sling Drift since:2018-09-28 until:2018-09-29\n",
      "INFO: Querying Sling Drift since:2018-09-26 until:2018-09-27\n",
      "INFO: Querying Sling Drift since:2018-10-02 until:2018-10-03\n",
      "INFO: Got 0 tweets for Sling%20Drift%20since%3A2018-10-02%20until%3A2018-10-03.\n",
      "INFO: Got 0 tweets (0 new).\n",
      "INFO: Got 0 tweets for Sling%20Drift%20since%3A2018-09-30%20until%3A2018-10-01.\n",
      "INFO: Got 0 tweets (0 new).\n",
      "INFO: Got 0 tweets for Sling%20Drift%20since%3A2018-09-26%20until%3A2018-09-27.\n",
      "INFO: Got 0 tweets (0 new).\n",
      "INFO: Got 0 tweets for Sling%20Drift%20since%3A2018-09-28%20until%3A2018-09-29.\n",
      "INFO: Got 0 tweets (0 new).\n",
      "INFO: Got 1 tweets for Sling%20Drift%20since%3A2018-09-27%20until%3A2018-09-28.\n",
      "INFO: Got 1 tweets (1 new).\n",
      "INFO: Got 3 tweets for Sling%20Drift%20since%3A2018-09-29%20until%3A2018-09-30.\n",
      "INFO: Got 4 tweets (3 new).\n",
      "INFO: Got 3 tweets for Sling%20Drift%20since%3A2018-10-01%20until%3A2018-10-02.\n",
      "INFO: Got 7 tweets (3 new).\n"
     ]
    },
    {
     "name": "stdout",
     "output_type": "stream",
     "text": [
      "Sling Drift\n"
     ]
    },
    {
     "name": "stderr",
     "output_type": "stream",
     "text": [
      "INFO: queries: ['AB Classic since:2018-09-26 until:2018-09-27', 'AB Classic since:2018-09-27 until:2018-09-28', 'AB Classic since:2018-09-28 until:2018-09-29', 'AB Classic since:2018-09-29 until:2018-09-30', 'AB Classic since:2018-09-30 until:2018-10-01', 'AB Classic since:2018-10-01 until:2018-10-02', 'AB Classic since:2018-10-02 until:2018-10-03']\n",
      "INFO: Querying AB Classic since:2018-09-27 until:2018-09-28\n",
      "INFO: Querying AB Classic since:2018-09-30 until:2018-10-01\n",
      "INFO: Querying AB Classic since:2018-09-26 until:2018-09-27\n",
      "INFO: Querying AB Classic since:2018-09-28 until:2018-09-29\n",
      "INFO: Querying AB Classic since:2018-09-29 until:2018-09-30\n",
      "INFO: Querying AB Classic since:2018-10-01 until:2018-10-02\n",
      "INFO: Querying AB Classic since:2018-10-02 until:2018-10-03\n",
      "INFO: Got 19 tweets for AB%20Classic%20since%3A2018-09-26%20until%3A2018-09-27.\n",
      "INFO: Got 19 tweets (19 new).\n",
      "INFO: Got 21 tweets for AB%20Classic%20since%3A2018-09-28%20until%3A2018-09-29.\n",
      "INFO: Got 40 tweets (21 new).\n",
      "INFO: Got 22 tweets for AB%20Classic%20since%3A2018-10-01%20until%3A2018-10-02.\n",
      "INFO: Got 62 tweets (22 new).\n",
      "INFO: Got 22 tweets for AB%20Classic%20since%3A2018-10-02%20until%3A2018-10-03.\n",
      "INFO: Got 84 tweets (22 new).\n",
      "INFO: Got 22 tweets for AB%20Classic%20since%3A2018-09-29%20until%3A2018-09-30.\n",
      "INFO: Got 106 tweets (22 new).\n",
      "INFO: Got 25 tweets for AB%20Classic%20since%3A2018-09-27%20until%3A2018-09-28.\n",
      "INFO: Got 131 tweets (25 new).\n",
      "INFO: Got 25 tweets for AB%20Classic%20since%3A2018-09-30%20until%3A2018-10-01.\n",
      "INFO: Got 156 tweets (25 new).\n"
     ]
    },
    {
     "name": "stdout",
     "output_type": "stream",
     "text": [
      "AB Classic\n"
     ]
    },
    {
     "name": "stderr",
     "output_type": "stream",
     "text": [
      "INFO: queries: ['Amazing Thief since:2018-09-26 until:2018-09-27', 'Amazing Thief since:2018-09-27 until:2018-09-28', 'Amazing Thief since:2018-09-28 until:2018-09-29', 'Amazing Thief since:2018-09-29 until:2018-09-30', 'Amazing Thief since:2018-09-30 until:2018-10-01', 'Amazing Thief since:2018-10-01 until:2018-10-02', 'Amazing Thief since:2018-10-02 until:2018-10-03']\n",
      "INFO: Querying Amazing Thief since:2018-09-26 until:2018-09-27\n",
      "INFO: Querying Amazing Thief since:2018-09-27 until:2018-09-28\n",
      "INFO: Querying Amazing Thief since:2018-09-29 until:2018-09-30\n",
      "INFO: Querying Amazing Thief since:2018-09-30 until:2018-10-01\n",
      "INFO: Querying Amazing Thief since:2018-09-28 until:2018-09-29\n",
      "INFO: Querying Amazing Thief since:2018-10-01 until:2018-10-02\n",
      "INFO: Querying Amazing Thief since:2018-10-02 until:2018-10-03\n",
      "INFO: Got 19 tweets for Amazing%20Thief%20since%3A2018-09-29%20until%3A2018-09-30.\n",
      "INFO: Got 19 tweets (19 new).\n",
      "INFO: Got 19 tweets for Amazing%20Thief%20since%3A2018-10-01%20until%3A2018-10-02.\n",
      "INFO: Got 38 tweets (19 new).\n",
      "INFO: Got 22 tweets for Amazing%20Thief%20since%3A2018-09-30%20until%3A2018-10-01.\n",
      "INFO: Got 60 tweets (22 new).\n",
      "INFO: Got 25 tweets for Amazing%20Thief%20since%3A2018-10-02%20until%3A2018-10-03.\n",
      "INFO: Got 85 tweets (25 new).\n",
      "INFO: Got 24 tweets for Amazing%20Thief%20since%3A2018-09-28%20until%3A2018-09-29.\n",
      "INFO: Got 22 tweets for Amazing%20Thief%20since%3A2018-09-27%20until%3A2018-09-28.\n",
      "INFO: Got 107 tweets (22 new).\n",
      "INFO: Got 131 tweets (24 new).\n",
      "INFO: Got 26 tweets for Amazing%20Thief%20since%3A2018-09-26%20until%3A2018-09-27.\n",
      "INFO: Got 157 tweets (26 new).\n"
     ]
    },
    {
     "name": "stdout",
     "output_type": "stream",
     "text": [
      "Amazing Thief\n"
     ]
    },
    {
     "name": "stderr",
     "output_type": "stream",
     "text": [
      "INFO: queries: ['DEAD TRIGGER 2 Zombie Shooter since:2018-09-26 until:2018-09-27', 'DEAD TRIGGER 2 Zombie Shooter since:2018-09-27 until:2018-09-28', 'DEAD TRIGGER 2 Zombie Shooter since:2018-09-28 until:2018-09-29', 'DEAD TRIGGER 2 Zombie Shooter since:2018-09-29 until:2018-09-30', 'DEAD TRIGGER 2 Zombie Shooter since:2018-09-30 until:2018-10-01', 'DEAD TRIGGER 2 Zombie Shooter since:2018-10-01 until:2018-10-02', 'DEAD TRIGGER 2 Zombie Shooter since:2018-10-02 until:2018-10-03']\n",
      "INFO: Querying DEAD TRIGGER 2 Zombie Shooter since:2018-09-27 until:2018-09-28\n",
      "INFO: Querying DEAD TRIGGER 2 Zombie Shooter since:2018-09-26 until:2018-09-27\n",
      "INFO: Querying DEAD TRIGGER 2 Zombie Shooter since:2018-10-01 until:2018-10-02\n",
      "INFO: Querying DEAD TRIGGER 2 Zombie Shooter since:2018-09-30 until:2018-10-01\n",
      "INFO: Querying DEAD TRIGGER 2 Zombie Shooter since:2018-09-29 until:2018-09-30\n",
      "INFO: Querying DEAD TRIGGER 2 Zombie Shooter since:2018-09-28 until:2018-09-29\n",
      "INFO: Querying DEAD TRIGGER 2 Zombie Shooter since:2018-10-02 until:2018-10-03\n",
      "INFO: Got 0 tweets for DEAD%20TRIGGER%202%20Zombie%20Shooter%20since%3A2018-09-29%20until%3A2018-09-30.\n",
      "INFO: Got 0 tweets for DEAD%20TRIGGER%202%20Zombie%20Shooter%20since%3A2018-10-01%20until%3A2018-10-02.\n",
      "INFO: Got 0 tweets (0 new).\n",
      "INFO: Got 0 tweets (0 new).\n",
      "INFO: Got 0 tweets for DEAD%20TRIGGER%202%20Zombie%20Shooter%20since%3A2018-09-26%20until%3A2018-09-27.\n",
      "INFO: Got 0 tweets (0 new).\n",
      "INFO: Got 0 tweets for DEAD%20TRIGGER%202%20Zombie%20Shooter%20since%3A2018-09-30%20until%3A2018-10-01.\n",
      "INFO: Got 0 tweets (0 new).\n",
      "INFO: Got 1 tweets for DEAD%20TRIGGER%202%20Zombie%20Shooter%20since%3A2018-09-27%20until%3A2018-09-28.\n",
      "INFO: Got 1 tweets (1 new).\n",
      "INFO: Got 1 tweets for DEAD%20TRIGGER%202%20Zombie%20Shooter%20since%3A2018-10-02%20until%3A2018-10-03.\n",
      "INFO: Got 2 tweets (1 new).\n",
      "INFO: Got 1 tweets for DEAD%20TRIGGER%202%20Zombie%20Shooter%20since%3A2018-09-28%20until%3A2018-09-29.\n",
      "INFO: Got 3 tweets (1 new).\n"
     ]
    },
    {
     "name": "stdout",
     "output_type": "stream",
     "text": [
      "DEAD TRIGGER 2 Zombie Shooter\n"
     ]
    },
    {
     "name": "stderr",
     "output_type": "stream",
     "text": [
      "INFO: queries: ['World Craft  Epic Dream Island since:2018-09-26 until:2018-09-27', 'World Craft  Epic Dream Island since:2018-09-27 until:2018-09-28', 'World Craft  Epic Dream Island since:2018-09-28 until:2018-09-29', 'World Craft  Epic Dream Island since:2018-09-29 until:2018-09-30', 'World Craft  Epic Dream Island since:2018-09-30 until:2018-10-01', 'World Craft  Epic Dream Island since:2018-10-01 until:2018-10-02', 'World Craft  Epic Dream Island since:2018-10-02 until:2018-10-03']\n",
      "INFO: Querying World Craft  Epic Dream Island since:2018-09-29 until:2018-09-30\n",
      "INFO: Querying World Craft  Epic Dream Island since:2018-09-26 until:2018-09-27\n",
      "INFO: Querying World Craft  Epic Dream Island since:2018-09-30 until:2018-10-01\n",
      "INFO: Querying World Craft  Epic Dream Island since:2018-10-01 until:2018-10-02\n",
      "INFO: Querying World Craft  Epic Dream Island since:2018-09-27 until:2018-09-28\n",
      "INFO: Querying World Craft  Epic Dream Island since:2018-09-28 until:2018-09-29\n",
      "INFO: Querying World Craft  Epic Dream Island since:2018-10-02 until:2018-10-03\n",
      "INFO: Got 0 tweets for World%20Craft%20%20Epic%20Dream%20Island%20since%3A2018-10-02%20until%3A2018-10-03.\n",
      "INFO: Got 0 tweets (0 new).\n",
      "INFO: Got 0 tweets for World%20Craft%20%20Epic%20Dream%20Island%20since%3A2018-09-26%20until%3A2018-09-27.\n",
      "INFO: Got 0 tweets (0 new).\n",
      "INFO: Got 0 tweets for World%20Craft%20%20Epic%20Dream%20Island%20since%3A2018-09-29%20until%3A2018-09-30.\n",
      "INFO: Got 0 tweets (0 new).\n",
      "INFO: Got 0 tweets for World%20Craft%20%20Epic%20Dream%20Island%20since%3A2018-09-30%20until%3A2018-10-01.\n",
      "INFO: Got 0 tweets (0 new).\n",
      "INFO: Got 0 tweets for World%20Craft%20%20Epic%20Dream%20Island%20since%3A2018-09-28%20until%3A2018-09-29.\n",
      "INFO: Got 0 tweets (0 new).\n",
      "INFO: Got 0 tweets for World%20Craft%20%20Epic%20Dream%20Island%20since%3A2018-10-01%20until%3A2018-10-02.\n",
      "INFO: Got 0 tweets (0 new).\n",
      "INFO: Got 0 tweets for World%20Craft%20%20Epic%20Dream%20Island%20since%3A2018-09-27%20until%3A2018-09-28.\n",
      "INFO: Got 0 tweets (0 new).\n"
     ]
    },
    {
     "name": "stdout",
     "output_type": "stream",
     "text": [
      "World Craft  Epic Dream Island\n"
     ]
    },
    {
     "name": "stderr",
     "output_type": "stream",
     "text": [
      "INFO: queries: ['Swamp Attack since:2018-09-26 until:2018-09-27', 'Swamp Attack since:2018-09-27 until:2018-09-28', 'Swamp Attack since:2018-09-28 until:2018-09-29', 'Swamp Attack since:2018-09-29 until:2018-09-30', 'Swamp Attack since:2018-09-30 until:2018-10-01', 'Swamp Attack since:2018-10-01 until:2018-10-02', 'Swamp Attack since:2018-10-02 until:2018-10-03']\n",
      "INFO: Querying Swamp Attack since:2018-09-26 until:2018-09-27\n",
      "INFO: Querying Swamp Attack since:2018-09-28 until:2018-09-29\n",
      "INFO: Querying Swamp Attack since:2018-09-27 until:2018-09-28\n",
      "INFO: Querying Swamp Attack since:2018-09-29 until:2018-09-30\n",
      "INFO: Querying Swamp Attack since:2018-10-02 until:2018-10-03\n",
      "INFO: Querying Swamp Attack since:2018-10-01 until:2018-10-02\n",
      "INFO: Querying Swamp Attack since:2018-09-30 until:2018-10-01\n",
      "INFO: Got 29 tweets for Swamp%20Attack%20since%3A2018-09-27%20until%3A2018-09-28.\n",
      "INFO: Got 29 tweets (29 new).\n",
      "INFO: Got 31 tweets for Swamp%20Attack%20since%3A2018-09-29%20until%3A2018-09-30.\n",
      "INFO: Got 60 tweets (31 new).\n",
      "INFO: Got 25 tweets for Swamp%20Attack%20since%3A2018-10-01%20until%3A2018-10-02.\n",
      "INFO: Got 85 tweets (25 new).\n",
      "INFO: Got 29 tweets for Swamp%20Attack%20since%3A2018-10-02%20until%3A2018-10-03.\n",
      "INFO: Got 114 tweets (29 new).\n",
      "INFO: Got 25 tweets for Swamp%20Attack%20since%3A2018-09-26%20until%3A2018-09-27.\n",
      "INFO: Got 139 tweets (25 new).\n",
      "INFO: Got 34 tweets for Swamp%20Attack%20since%3A2018-09-30%20until%3A2018-10-01.\n",
      "INFO: Got 173 tweets (34 new).\n",
      "INFO: Got 46 tweets for Swamp%20Attack%20since%3A2018-09-28%20until%3A2018-09-29.\n",
      "INFO: Got 219 tweets (46 new).\n"
     ]
    },
    {
     "name": "stdout",
     "output_type": "stream",
     "text": [
      "Swamp Attack\n"
     ]
    },
    {
     "name": "stderr",
     "output_type": "stream",
     "text": [
      "INFO: queries: ['Frontline Commando since:2018-09-26 until:2018-09-27', 'Frontline Commando since:2018-09-27 until:2018-09-28', 'Frontline Commando since:2018-09-28 until:2018-09-29', 'Frontline Commando since:2018-09-29 until:2018-09-30', 'Frontline Commando since:2018-09-30 until:2018-10-01', 'Frontline Commando since:2018-10-01 until:2018-10-02', 'Frontline Commando since:2018-10-02 until:2018-10-03']\n",
      "INFO: Querying Frontline Commando since:2018-09-27 until:2018-09-28\n",
      "INFO: Querying Frontline Commando since:2018-09-28 until:2018-09-29\n",
      "INFO: Querying Frontline Commando since:2018-09-26 until:2018-09-27\n",
      "INFO: Querying Frontline Commando since:2018-09-29 until:2018-09-30\n",
      "INFO: Querying Frontline Commando since:2018-09-30 until:2018-10-01\n",
      "INFO: Querying Frontline Commando since:2018-10-02 until:2018-10-03\n",
      "INFO: Querying Frontline Commando since:2018-10-01 until:2018-10-02\n",
      "INFO: Got 0 tweets for Frontline%20Commando%20since%3A2018-10-02%20until%3A2018-10-03.\n",
      "INFO: Got 0 tweets (0 new).\n",
      "INFO: Got 0 tweets for Frontline%20Commando%20since%3A2018-09-27%20until%3A2018-09-28.\n",
      "INFO: Got 0 tweets (0 new).\n",
      "INFO: Got 0 tweets for Frontline%20Commando%20since%3A2018-09-30%20until%3A2018-10-01.\n",
      "INFO: Got 0 tweets (0 new).\n",
      "INFO: Got 0 tweets for Frontline%20Commando%20since%3A2018-09-29%20until%3A2018-09-30.\n",
      "INFO: Got 0 tweets (0 new).\n",
      "INFO: Got 0 tweets for Frontline%20Commando%20since%3A2018-09-26%20until%3A2018-09-27.\n",
      "INFO: Got 0 tweets (0 new).\n",
      "INFO: Got 1 tweets for Frontline%20Commando%20since%3A2018-09-28%20until%3A2018-09-29.\n",
      "INFO: Got 1 tweets (1 new).\n",
      "INFO: Got 2 tweets for Frontline%20Commando%20since%3A2018-10-01%20until%3A2018-10-02.\n",
      "INFO: Got 3 tweets (2 new).\n"
     ]
    },
    {
     "name": "stdout",
     "output_type": "stream",
     "text": [
      "Frontline Commando\n"
     ]
    },
    {
     "name": "stderr",
     "output_type": "stream",
     "text": [
      "INFO: queries: ['CATS: Crash Arena Turbo Stars since:2018-09-26 until:2018-09-27', 'CATS: Crash Arena Turbo Stars since:2018-09-27 until:2018-09-28', 'CATS: Crash Arena Turbo Stars since:2018-09-28 until:2018-09-29', 'CATS: Crash Arena Turbo Stars since:2018-09-29 until:2018-09-30', 'CATS: Crash Arena Turbo Stars since:2018-09-30 until:2018-10-01', 'CATS: Crash Arena Turbo Stars since:2018-10-01 until:2018-10-02', 'CATS: Crash Arena Turbo Stars since:2018-10-02 until:2018-10-03']\n",
      "INFO: Querying CATS: Crash Arena Turbo Stars since:2018-09-27 until:2018-09-28\n",
      "INFO: Querying CATS: Crash Arena Turbo Stars since:2018-09-28 until:2018-09-29\n",
      "INFO: Querying CATS: Crash Arena Turbo Stars since:2018-09-30 until:2018-10-01\n",
      "INFO: Querying CATS: Crash Arena Turbo Stars since:2018-09-26 until:2018-09-27\n",
      "INFO: Querying CATS: Crash Arena Turbo Stars since:2018-09-29 until:2018-09-30\n",
      "INFO: Querying CATS: Crash Arena Turbo Stars since:2018-10-02 until:2018-10-03\n",
      "INFO: Querying CATS: Crash Arena Turbo Stars since:2018-10-01 until:2018-10-02\n",
      "INFO: Got 3 tweets for CATS%3A%20Crash%20Arena%20Turbo%20Stars%20since%3A2018-10-02%20until%3A2018-10-03.\n",
      "INFO: Got 3 tweets (3 new).\n",
      "INFO: Got 5 tweets for CATS%3A%20Crash%20Arena%20Turbo%20Stars%20since%3A2018-09-30%20until%3A2018-10-01.\n",
      "INFO: Got 8 tweets (5 new).\n",
      "INFO: Got 3 tweets for CATS%3A%20Crash%20Arena%20Turbo%20Stars%20since%3A2018-09-29%20until%3A2018-09-30.\n",
      "INFO: Got 11 tweets (3 new).\n",
      "INFO: Got 7 tweets for CATS%3A%20Crash%20Arena%20Turbo%20Stars%20since%3A2018-09-27%20until%3A2018-09-28.\n",
      "INFO: Got 18 tweets (7 new).\n",
      "INFO: Got 7 tweets for CATS%3A%20Crash%20Arena%20Turbo%20Stars%20since%3A2018-09-26%20until%3A2018-09-27.\n",
      "INFO: Got 25 tweets (7 new).\n",
      "INFO: Got 6 tweets for CATS%3A%20Crash%20Arena%20Turbo%20Stars%20since%3A2018-09-28%20until%3A2018-09-29.\n",
      "INFO: Got 31 tweets (6 new).\n",
      "INFO: Got 12 tweets for CATS%3A%20Crash%20Arena%20Turbo%20Stars%20since%3A2018-10-01%20until%3A2018-10-02.\n",
      "INFO: Got 43 tweets (12 new).\n"
     ]
    },
    {
     "name": "stdout",
     "output_type": "stream",
     "text": [
      "CATS: Crash Arena Turbo Stars\n"
     ]
    },
    {
     "name": "stderr",
     "output_type": "stream",
     "text": [
      "INFO: queries: ['Smash Dude® since:2018-09-26 until:2018-09-27', 'Smash Dude® since:2018-09-27 until:2018-09-28', 'Smash Dude® since:2018-09-28 until:2018-09-29', 'Smash Dude® since:2018-09-29 until:2018-09-30', 'Smash Dude® since:2018-09-30 until:2018-10-01', 'Smash Dude® since:2018-10-01 until:2018-10-02', 'Smash Dude® since:2018-10-02 until:2018-10-03']\n",
      "INFO: Querying Smash Dude® since:2018-09-27 until:2018-09-28\n",
      "INFO: Querying Smash Dude® since:2018-09-26 until:2018-09-27\n",
      "INFO: Querying Smash Dude® since:2018-09-28 until:2018-09-29\n",
      "INFO: Querying Smash Dude® since:2018-09-29 until:2018-09-30\n",
      "INFO: Querying Smash Dude® since:2018-10-01 until:2018-10-02\n",
      "INFO: Querying Smash Dude® since:2018-10-02 until:2018-10-03\n",
      "INFO: Querying Smash Dude® since:2018-09-30 until:2018-10-01\n",
      "INFO: Got 0 tweets for Smash%20Dude®%20since%3A2018-09-29%20until%3A2018-09-30.\n",
      "INFO: Got 0 tweets (0 new).\n",
      "INFO: Got 0 tweets for Smash%20Dude®%20since%3A2018-09-28%20until%3A2018-09-29.\n",
      "INFO: Got 0 tweets (0 new).\n",
      "INFO: Got 0 tweets for Smash%20Dude®%20since%3A2018-09-27%20until%3A2018-09-28.\n",
      "INFO: Got 0 tweets (0 new).\n",
      "INFO: Got 0 tweets for Smash%20Dude®%20since%3A2018-09-26%20until%3A2018-09-27.\n",
      "INFO: Got 0 tweets (0 new).\n",
      "INFO: Got 0 tweets for Smash%20Dude®%20since%3A2018-09-30%20until%3A2018-10-01.\n",
      "INFO: Got 0 tweets (0 new).\n",
      "INFO: Got 0 tweets for Smash%20Dude®%20since%3A2018-10-01%20until%3A2018-10-02.\n",
      "INFO: Got 0 tweets (0 new).\n",
      "INFO: Got 0 tweets for Smash%20Dude®%20since%3A2018-10-02%20until%3A2018-10-03.\n",
      "INFO: Got 0 tweets (0 new).\n"
     ]
    },
    {
     "name": "stdout",
     "output_type": "stream",
     "text": [
      "Smash Dude®\n"
     ]
    },
    {
     "name": "stderr",
     "output_type": "stream",
     "text": [
      "INFO: queries: ['Six-Guns since:2018-09-26 until:2018-09-27', 'Six-Guns since:2018-09-27 until:2018-09-28', 'Six-Guns since:2018-09-28 until:2018-09-29', 'Six-Guns since:2018-09-29 until:2018-09-30', 'Six-Guns since:2018-09-30 until:2018-10-01', 'Six-Guns since:2018-10-01 until:2018-10-02', 'Six-Guns since:2018-10-02 until:2018-10-03']\n",
      "INFO: Querying Six-Guns since:2018-09-26 until:2018-09-27\n",
      "INFO: Querying Six-Guns since:2018-09-27 until:2018-09-28\n",
      "INFO: Querying Six-Guns since:2018-09-28 until:2018-09-29\n",
      "INFO: Querying Six-Guns since:2018-09-30 until:2018-10-01\n",
      "INFO: Querying Six-Guns since:2018-09-29 until:2018-09-30\n",
      "INFO: Querying Six-Guns since:2018-10-01 until:2018-10-02\n",
      "INFO: Querying Six-Guns since:2018-10-02 until:2018-10-03\n",
      "INFO: Got 0 tweets for Six-Guns%20since%3A2018-09-26%20until%3A2018-09-27.\n",
      "INFO: Got 0 tweets (0 new).\n",
      "INFO: Got 0 tweets for Six-Guns%20since%3A2018-10-01%20until%3A2018-10-02.\n",
      "INFO: Got 0 tweets (0 new).\n",
      "INFO: Got 1 tweets for Six-Guns%20since%3A2018-09-30%20until%3A2018-10-01.\n",
      "INFO: Got 1 tweets (1 new).\n",
      "INFO: Got 4 tweets for Six-Guns%20since%3A2018-09-29%20until%3A2018-09-30.\n",
      "INFO: Got 5 tweets (4 new).\n",
      "INFO: Got 1 tweets for Six-Guns%20since%3A2018-09-27%20until%3A2018-09-28.\n",
      "INFO: Got 6 tweets (1 new).\n",
      "INFO: Got 1 tweets for Six-Guns%20since%3A2018-09-28%20until%3A2018-09-29.\n",
      "INFO: Got 7 tweets (1 new).\n",
      "INFO: Got 2 tweets for Six-Guns%20since%3A2018-10-02%20until%3A2018-10-03.\n",
      "INFO: Got 9 tweets (2 new).\n"
     ]
    },
    {
     "name": "stdout",
     "output_type": "stream",
     "text": [
      "Six-Guns\n"
     ]
    },
    {
     "name": "stderr",
     "output_type": "stream",
     "text": [
      "INFO: queries: ['Call of Duty®: Heroes since:2018-09-26 until:2018-09-27', 'Call of Duty®: Heroes since:2018-09-27 until:2018-09-28', 'Call of Duty®: Heroes since:2018-09-28 until:2018-09-29', 'Call of Duty®: Heroes since:2018-09-29 until:2018-09-30', 'Call of Duty®: Heroes since:2018-09-30 until:2018-10-01', 'Call of Duty®: Heroes since:2018-10-01 until:2018-10-02', 'Call of Duty®: Heroes since:2018-10-02 until:2018-10-03']\n",
      "INFO: Querying Call of Duty®: Heroes since:2018-09-28 until:2018-09-29\n",
      "INFO: Querying Call of Duty®: Heroes since:2018-09-26 until:2018-09-27\n",
      "INFO: Querying Call of Duty®: Heroes since:2018-09-29 until:2018-09-30\n",
      "INFO: Querying Call of Duty®: Heroes since:2018-09-30 until:2018-10-01\n",
      "INFO: Querying Call of Duty®: Heroes since:2018-09-27 until:2018-09-28\n",
      "INFO: Querying Call of Duty®: Heroes since:2018-10-02 until:2018-10-03\n",
      "INFO: Querying Call of Duty®: Heroes since:2018-10-01 until:2018-10-02\n",
      "INFO: Got 0 tweets for Call%20of%20Duty®%3A%20Heroes%20since%3A2018-09-29%20until%3A2018-09-30.\n",
      "INFO: Got 0 tweets (0 new).\n",
      "INFO: Got 0 tweets for Call%20of%20Duty®%3A%20Heroes%20since%3A2018-10-01%20until%3A2018-10-02.\n",
      "INFO: Got 0 tweets (0 new).\n",
      "INFO: Got 0 tweets for Call%20of%20Duty®%3A%20Heroes%20since%3A2018-09-30%20until%3A2018-10-01.\n",
      "INFO: Got 0 tweets (0 new).\n",
      "INFO: Got 2 tweets for Call%20of%20Duty®%3A%20Heroes%20since%3A2018-10-02%20until%3A2018-10-03.\n",
      "INFO: Got 2 tweets (2 new).\n",
      "INFO: Got 1 tweets for Call%20of%20Duty®%3A%20Heroes%20since%3A2018-09-28%20until%3A2018-09-29.\n",
      "INFO: Got 3 tweets (1 new).\n",
      "INFO: Got 2 tweets for Call%20of%20Duty®%3A%20Heroes%20since%3A2018-09-27%20until%3A2018-09-28.\n",
      "INFO: Got 5 tweets (2 new).\n",
      "INFO: Got 2 tweets for Call%20of%20Duty®%3A%20Heroes%20since%3A2018-09-26%20until%3A2018-09-27.\n",
      "INFO: Got 7 tweets (2 new).\n"
     ]
    },
    {
     "name": "stdout",
     "output_type": "stream",
     "text": [
      "Call of Duty®: Heroes\n"
     ]
    },
    {
     "name": "stderr",
     "output_type": "stream",
     "text": [
      "INFO: queries: ['Cut the Rope: Experiments ™ since:2018-09-26 until:2018-09-27', 'Cut the Rope: Experiments ™ since:2018-09-27 until:2018-09-28', 'Cut the Rope: Experiments ™ since:2018-09-28 until:2018-09-29', 'Cut the Rope: Experiments ™ since:2018-09-29 until:2018-09-30', 'Cut the Rope: Experiments ™ since:2018-09-30 until:2018-10-01', 'Cut the Rope: Experiments ™ since:2018-10-01 until:2018-10-02', 'Cut the Rope: Experiments ™ since:2018-10-02 until:2018-10-03']\n",
      "INFO: Querying Cut the Rope: Experiments ™ since:2018-09-26 until:2018-09-27\n",
      "INFO: Querying Cut the Rope: Experiments ™ since:2018-09-30 until:2018-10-01\n",
      "INFO: Querying Cut the Rope: Experiments ™ since:2018-09-28 until:2018-09-29\n",
      "INFO: Querying Cut the Rope: Experiments ™ since:2018-09-27 until:2018-09-28\n",
      "INFO: Querying Cut the Rope: Experiments ™ since:2018-09-29 until:2018-09-30\n",
      "INFO: Querying Cut the Rope: Experiments ™ since:2018-10-01 until:2018-10-02\n",
      "INFO: Querying Cut the Rope: Experiments ™ since:2018-10-02 until:2018-10-03\n",
      "INFO: Got 0 tweets for Cut%20the%20Rope%3A%20Experiments%20™%20since%3A2018-10-02%20until%3A2018-10-03.\n",
      "INFO: Got 0 tweets (0 new).\n",
      "INFO: Got 0 tweets for Cut%20the%20Rope%3A%20Experiments%20™%20since%3A2018-09-30%20until%3A2018-10-01.\n",
      "INFO: Got 0 tweets for Cut%20the%20Rope%3A%20Experiments%20™%20since%3A2018-09-27%20until%3A2018-09-28.\n",
      "INFO: Got 0 tweets (0 new).\n",
      "INFO: Got 0 tweets (0 new).\n",
      "INFO: Got 0 tweets for Cut%20the%20Rope%3A%20Experiments%20™%20since%3A2018-09-26%20until%3A2018-09-27.\n",
      "INFO: Got 0 tweets (0 new).\n",
      "INFO: Got 0 tweets for Cut%20the%20Rope%3A%20Experiments%20™%20since%3A2018-09-29%20until%3A2018-09-30.\n",
      "INFO: Got 0 tweets (0 new).\n",
      "INFO: Got 0 tweets for Cut%20the%20Rope%3A%20Experiments%20™%20since%3A2018-10-01%20until%3A2018-10-02.\n",
      "INFO: Got 0 tweets (0 new).\n",
      "INFO: Got 0 tweets for Cut%20the%20Rope%3A%20Experiments%20™%20since%3A2018-09-28%20until%3A2018-09-29.\n",
      "INFO: Got 0 tweets (0 new).\n"
     ]
    },
    {
     "name": "stdout",
     "output_type": "stream",
     "text": [
      "Cut the Rope: Experiments ™\n"
     ]
    },
    {
     "name": "stderr",
     "output_type": "stream",
     "text": [
      "INFO: queries: ['Dino Hunter: Deadly Shores since:2018-09-26 until:2018-09-27', 'Dino Hunter: Deadly Shores since:2018-09-27 until:2018-09-28', 'Dino Hunter: Deadly Shores since:2018-09-28 until:2018-09-29', 'Dino Hunter: Deadly Shores since:2018-09-29 until:2018-09-30', 'Dino Hunter: Deadly Shores since:2018-09-30 until:2018-10-01', 'Dino Hunter: Deadly Shores since:2018-10-01 until:2018-10-02', 'Dino Hunter: Deadly Shores since:2018-10-02 until:2018-10-03']\n",
      "INFO: Querying Dino Hunter: Deadly Shores since:2018-09-26 until:2018-09-27\n",
      "INFO: Querying Dino Hunter: Deadly Shores since:2018-09-30 until:2018-10-01\n",
      "INFO: Querying Dino Hunter: Deadly Shores since:2018-09-28 until:2018-09-29\n",
      "INFO: Querying Dino Hunter: Deadly Shores since:2018-09-29 until:2018-09-30\n",
      "INFO: Querying Dino Hunter: Deadly Shores since:2018-09-27 until:2018-09-28\n",
      "INFO: Querying Dino Hunter: Deadly Shores since:2018-10-01 until:2018-10-02\n",
      "INFO: Querying Dino Hunter: Deadly Shores since:2018-10-02 until:2018-10-03\n",
      "INFO: Got 0 tweets for Dino%20Hunter%3A%20Deadly%20Shores%20since%3A2018-09-30%20until%3A2018-10-01.\n",
      "INFO: Got 0 tweets for Dino%20Hunter%3A%20Deadly%20Shores%20since%3A2018-09-28%20until%3A2018-09-29.\n",
      "INFO: Got 0 tweets (0 new).\n",
      "INFO: Got 0 tweets (0 new).\n",
      "INFO: Got 0 tweets for Dino%20Hunter%3A%20Deadly%20Shores%20since%3A2018-09-29%20until%3A2018-09-30.\n",
      "INFO: Got 0 tweets (0 new).\n",
      "INFO: Got 0 tweets for Dino%20Hunter%3A%20Deadly%20Shores%20since%3A2018-09-27%20until%3A2018-09-28.\n",
      "INFO: Got 0 tweets (0 new).\n",
      "INFO: Got 0 tweets for Dino%20Hunter%3A%20Deadly%20Shores%20since%3A2018-10-02%20until%3A2018-10-03.\n",
      "INFO: Got 0 tweets (0 new).\n",
      "INFO: Got 1 tweets for Dino%20Hunter%3A%20Deadly%20Shores%20since%3A2018-09-26%20until%3A2018-09-27.\n",
      "INFO: Got 1 tweets (1 new).\n",
      "INFO: Got 1 tweets for Dino%20Hunter%3A%20Deadly%20Shores%20since%3A2018-10-01%20until%3A2018-10-02.\n",
      "INFO: Got 2 tweets (1 new).\n"
     ]
    },
    {
     "name": "stdout",
     "output_type": "stream",
     "text": [
      "Dino Hunter: Deadly Shores\n"
     ]
    },
    {
     "name": "stderr",
     "output_type": "stream",
     "text": [
      "INFO: queries: ['Real Boxing: KO Fight Club since:2018-09-26 until:2018-09-27', 'Real Boxing: KO Fight Club since:2018-09-27 until:2018-09-28', 'Real Boxing: KO Fight Club since:2018-09-28 until:2018-09-29', 'Real Boxing: KO Fight Club since:2018-09-29 until:2018-09-30', 'Real Boxing: KO Fight Club since:2018-09-30 until:2018-10-01', 'Real Boxing: KO Fight Club since:2018-10-01 until:2018-10-02', 'Real Boxing: KO Fight Club since:2018-10-02 until:2018-10-03']\n",
      "INFO: Querying Real Boxing: KO Fight Club since:2018-09-26 until:2018-09-27\n",
      "INFO: Querying Real Boxing: KO Fight Club since:2018-09-28 until:2018-09-29\n",
      "INFO: Querying Real Boxing: KO Fight Club since:2018-09-27 until:2018-09-28\n",
      "INFO: Querying Real Boxing: KO Fight Club since:2018-09-29 until:2018-09-30\n",
      "INFO: Querying Real Boxing: KO Fight Club since:2018-10-01 until:2018-10-02\n",
      "INFO: Querying Real Boxing: KO Fight Club since:2018-10-02 until:2018-10-03\n",
      "INFO: Querying Real Boxing: KO Fight Club since:2018-09-30 until:2018-10-01\n",
      "INFO: Got 0 tweets for Real%20Boxing%3A%20KO%20Fight%20Club%20since%3A2018-09-29%20until%3A2018-09-30.\n",
      "INFO: Got 0 tweets (0 new).\n",
      "INFO: Got 0 tweets for Real%20Boxing%3A%20KO%20Fight%20Club%20since%3A2018-10-02%20until%3A2018-10-03.\n",
      "INFO: Got 0 tweets (0 new).\n",
      "INFO: Got 0 tweets for Real%20Boxing%3A%20KO%20Fight%20Club%20since%3A2018-09-27%20until%3A2018-09-28.\n",
      "INFO: Got 0 tweets (0 new).\n",
      "INFO: Got 0 tweets for Real%20Boxing%3A%20KO%20Fight%20Club%20since%3A2018-09-30%20until%3A2018-10-01.\n",
      "INFO: Got 0 tweets (0 new).\n",
      "INFO: Got 0 tweets for Real%20Boxing%3A%20KO%20Fight%20Club%20since%3A2018-09-26%20until%3A2018-09-27.\n",
      "INFO: Got 0 tweets (0 new).\n",
      "INFO: Got 0 tweets for Real%20Boxing%3A%20KO%20Fight%20Club%20since%3A2018-09-28%20until%3A2018-09-29.\n",
      "INFO: Got 0 tweets (0 new).\n",
      "INFO: Got 0 tweets for Real%20Boxing%3A%20KO%20Fight%20Club%20since%3A2018-10-01%20until%3A2018-10-02.\n",
      "INFO: Got 0 tweets (0 new).\n"
     ]
    },
    {
     "name": "stdout",
     "output_type": "stream",
     "text": [
      "Real Boxing: KO Fight Club\n"
     ]
    },
    {
     "name": "stderr",
     "output_type": "stream",
     "text": [
      "INFO: queries: ['Tap Tap Dash since:2018-09-26 until:2018-09-27', 'Tap Tap Dash since:2018-09-27 until:2018-09-28', 'Tap Tap Dash since:2018-09-28 until:2018-09-29', 'Tap Tap Dash since:2018-09-29 until:2018-09-30', 'Tap Tap Dash since:2018-09-30 until:2018-10-01', 'Tap Tap Dash since:2018-10-01 until:2018-10-02', 'Tap Tap Dash since:2018-10-02 until:2018-10-03']\n",
      "INFO: Querying Tap Tap Dash since:2018-09-26 until:2018-09-27\n",
      "INFO: Querying Tap Tap Dash since:2018-09-27 until:2018-09-28\n",
      "INFO: Querying Tap Tap Dash since:2018-09-29 until:2018-09-30\n",
      "INFO: Querying Tap Tap Dash since:2018-09-30 until:2018-10-01\n",
      "INFO: Querying Tap Tap Dash since:2018-09-28 until:2018-09-29\n",
      "INFO: Querying Tap Tap Dash since:2018-10-02 until:2018-10-03\n",
      "INFO: Querying Tap Tap Dash since:2018-10-01 until:2018-10-02\n",
      "INFO: Got 0 tweets for Tap%20Tap%20Dash%20since%3A2018-10-02%20until%3A2018-10-03.\n",
      "INFO: Got 0 tweets (0 new).\n",
      "INFO: Got 0 tweets for Tap%20Tap%20Dash%20since%3A2018-10-01%20until%3A2018-10-02.\n",
      "INFO: Got 0 tweets (0 new).\n",
      "INFO: Got 0 tweets for Tap%20Tap%20Dash%20since%3A2018-09-27%20until%3A2018-09-28.\n",
      "INFO: Got 0 tweets (0 new).\n",
      "INFO: Got 0 tweets for Tap%20Tap%20Dash%20since%3A2018-09-30%20until%3A2018-10-01.\n",
      "INFO: Got 0 tweets (0 new).\n",
      "INFO: Got 1 tweets for Tap%20Tap%20Dash%20since%3A2018-09-26%20until%3A2018-09-27.\n",
      "INFO: Got 1 tweets (1 new).\n",
      "INFO: Got 2 tweets for Tap%20Tap%20Dash%20since%3A2018-09-29%20until%3A2018-09-30.\n",
      "INFO: Got 3 tweets (2 new).\n",
      "INFO: Got 1 tweets for Tap%20Tap%20Dash%20since%3A2018-09-28%20until%3A2018-09-29.\n",
      "INFO: Got 4 tweets (1 new).\n"
     ]
    },
    {
     "name": "stdout",
     "output_type": "stream",
     "text": [
      "Tap Tap Dash\n"
     ]
    },
    {
     "name": "stderr",
     "output_type": "stream",
     "text": [
      "INFO: queries: ['King of Thieves since:2018-09-26 until:2018-09-27', 'King of Thieves since:2018-09-27 until:2018-09-28', 'King of Thieves since:2018-09-28 until:2018-09-29', 'King of Thieves since:2018-09-29 until:2018-09-30', 'King of Thieves since:2018-09-30 until:2018-10-01', 'King of Thieves since:2018-10-01 until:2018-10-02', 'King of Thieves since:2018-10-02 until:2018-10-03']\n",
      "INFO: Querying King of Thieves since:2018-09-26 until:2018-09-27\n",
      "INFO: Querying King of Thieves since:2018-09-29 until:2018-09-30\n",
      "INFO: Querying King of Thieves since:2018-09-27 until:2018-09-28\n",
      "INFO: Querying King of Thieves since:2018-10-01 until:2018-10-02\n",
      "INFO: Querying King of Thieves since:2018-09-28 until:2018-09-29\n",
      "INFO: Querying King of Thieves since:2018-10-02 until:2018-10-03\n",
      "INFO: Querying King of Thieves since:2018-09-30 until:2018-10-01\n",
      "INFO: Got 36 tweets for King%20of%20Thieves%20since%3A2018-10-01%20until%3A2018-10-02.\n",
      "INFO: Got 36 tweets (36 new).\n",
      "INFO: Got 59 tweets for King%20of%20Thieves%20since%3A2018-09-29%20until%3A2018-09-30.\n",
      "INFO: Got 95 tweets (59 new).\n",
      "INFO: Got 53 tweets for King%20of%20Thieves%20since%3A2018-09-27%20until%3A2018-09-28.\n",
      "INFO: Got 148 tweets (53 new).\n",
      "INFO: Got 57 tweets for King%20of%20Thieves%20since%3A2018-09-28%20until%3A2018-09-29.\n",
      "INFO: Got 205 tweets (57 new).\n",
      "INFO: Got 50 tweets for King%20of%20Thieves%20since%3A2018-10-02%20until%3A2018-10-03.\n",
      "INFO: Got 255 tweets (50 new).\n",
      "INFO: Got 67 tweets for King%20of%20Thieves%20since%3A2018-09-26%20until%3A2018-09-27.\n",
      "INFO: Got 322 tweets (67 new).\n",
      "INFO: Got 73 tweets for King%20of%20Thieves%20since%3A2018-09-30%20until%3A2018-10-01.\n",
      "INFO: Got 395 tweets (73 new).\n"
     ]
    },
    {
     "name": "stdout",
     "output_type": "stream",
     "text": [
      "King of Thieves\n"
     ]
    },
    {
     "name": "stderr",
     "output_type": "stream",
     "text": [
      "INFO: queries: ['Hardest Game Ever 2 since:2018-09-26 until:2018-09-27', 'Hardest Game Ever 2 since:2018-09-27 until:2018-09-28', 'Hardest Game Ever 2 since:2018-09-28 until:2018-09-29', 'Hardest Game Ever 2 since:2018-09-29 until:2018-09-30', 'Hardest Game Ever 2 since:2018-09-30 until:2018-10-01', 'Hardest Game Ever 2 since:2018-10-01 until:2018-10-02', 'Hardest Game Ever 2 since:2018-10-02 until:2018-10-03']\n",
      "INFO: Querying Hardest Game Ever 2 since:2018-09-28 until:2018-09-29\n",
      "INFO: Querying Hardest Game Ever 2 since:2018-09-26 until:2018-09-27\n",
      "INFO: Querying Hardest Game Ever 2 since:2018-10-01 until:2018-10-02\n",
      "INFO: Querying Hardest Game Ever 2 since:2018-09-27 until:2018-09-28\n",
      "INFO: Querying Hardest Game Ever 2 since:2018-10-02 until:2018-10-03\n",
      "INFO: Querying Hardest Game Ever 2 since:2018-09-29 until:2018-09-30\n",
      "INFO: Querying Hardest Game Ever 2 since:2018-09-30 until:2018-10-01\n",
      "INFO: Got 0 tweets for Hardest%20Game%20Ever%202%20since%3A2018-09-28%20until%3A2018-09-29.\n",
      "INFO: Got 0 tweets (0 new).\n",
      "INFO: Got 0 tweets for Hardest%20Game%20Ever%202%20since%3A2018-09-27%20until%3A2018-09-28.\n",
      "INFO: Got 0 tweets (0 new).\n",
      "INFO: Got 0 tweets for Hardest%20Game%20Ever%202%20since%3A2018-09-30%20until%3A2018-10-01.\n",
      "INFO: Got 0 tweets (0 new).\n",
      "INFO: Got 0 tweets for Hardest%20Game%20Ever%202%20since%3A2018-10-01%20until%3A2018-10-02.\n",
      "INFO: Got 0 tweets (0 new).\n",
      "INFO: Got 4 tweets for Hardest%20Game%20Ever%202%20since%3A2018-10-02%20until%3A2018-10-03.\n",
      "INFO: Got 4 tweets (4 new).\n",
      "INFO: Got 2 tweets for Hardest%20Game%20Ever%202%20since%3A2018-09-29%20until%3A2018-09-30.\n",
      "INFO: Got 6 tweets (2 new).\n",
      "INFO: Got 2 tweets for Hardest%20Game%20Ever%202%20since%3A2018-09-26%20until%3A2018-09-27.\n",
      "INFO: Got 8 tweets (2 new).\n"
     ]
    },
    {
     "name": "stdout",
     "output_type": "stream",
     "text": [
      "Hardest Game Ever 2\n"
     ]
    },
    {
     "name": "stderr",
     "output_type": "stream",
     "text": [
      "INFO: queries: ['Flick Home Run ! Free Version since:2018-09-26 until:2018-09-27', 'Flick Home Run ! Free Version since:2018-09-27 until:2018-09-28', 'Flick Home Run ! Free Version since:2018-09-28 until:2018-09-29', 'Flick Home Run ! Free Version since:2018-09-29 until:2018-09-30', 'Flick Home Run ! Free Version since:2018-09-30 until:2018-10-01', 'Flick Home Run ! Free Version since:2018-10-01 until:2018-10-02', 'Flick Home Run ! Free Version since:2018-10-02 until:2018-10-03']\n",
      "INFO: Querying Flick Home Run ! Free Version since:2018-09-28 until:2018-09-29\n",
      "INFO: Querying Flick Home Run ! Free Version since:2018-10-02 until:2018-10-03\n",
      "INFO: Querying Flick Home Run ! Free Version since:2018-09-27 until:2018-09-28\n",
      "INFO: Querying Flick Home Run ! Free Version since:2018-09-26 until:2018-09-27\n",
      "INFO: Querying Flick Home Run ! Free Version since:2018-10-01 until:2018-10-02\n",
      "INFO: Querying Flick Home Run ! Free Version since:2018-09-30 until:2018-10-01\n",
      "INFO: Querying Flick Home Run ! Free Version since:2018-09-29 until:2018-09-30\n",
      "INFO: Got 0 tweets for Flick%20Home%20Run%20!%20Free%20Version%20since%3A2018-09-29%20until%3A2018-09-30.\n",
      "INFO: Got 0 tweets (0 new).\n",
      "INFO: Got 0 tweets for Flick%20Home%20Run%20!%20Free%20Version%20since%3A2018-10-01%20until%3A2018-10-02.\n",
      "INFO: Got 0 tweets (0 new).\n",
      "INFO: Got 0 tweets for Flick%20Home%20Run%20!%20Free%20Version%20since%3A2018-10-02%20until%3A2018-10-03.\n",
      "INFO: Got 0 tweets (0 new).\n",
      "INFO: Got 0 tweets for Flick%20Home%20Run%20!%20Free%20Version%20since%3A2018-09-27%20until%3A2018-09-28.\n",
      "INFO: Got 0 tweets (0 new).\n",
      "INFO: Got 0 tweets for Flick%20Home%20Run%20!%20Free%20Version%20since%3A2018-09-26%20until%3A2018-09-27.\n",
      "INFO: Got 0 tweets (0 new).\n",
      "INFO: Got 0 tweets for Flick%20Home%20Run%20!%20Free%20Version%20since%3A2018-09-30%20until%3A2018-10-01.\n",
      "INFO: Got 0 tweets (0 new).\n",
      "INFO: Got 0 tweets for Flick%20Home%20Run%20!%20Free%20Version%20since%3A2018-09-28%20until%3A2018-09-29.\n",
      "INFO: Got 0 tweets (0 new).\n"
     ]
    },
    {
     "name": "stdout",
     "output_type": "stream",
     "text": [
      "Flick Home Run ! Free Version\n"
     ]
    },
    {
     "name": "stderr",
     "output_type": "stream",
     "text": [
      "INFO: queries: ['Iron Force since:2018-09-26 until:2018-09-27', 'Iron Force since:2018-09-27 until:2018-09-28', 'Iron Force since:2018-09-28 until:2018-09-29', 'Iron Force since:2018-09-29 until:2018-09-30', 'Iron Force since:2018-09-30 until:2018-10-01', 'Iron Force since:2018-10-01 until:2018-10-02', 'Iron Force since:2018-10-02 until:2018-10-03']\n",
      "INFO: Querying Iron Force since:2018-09-27 until:2018-09-28\n",
      "INFO: Querying Iron Force since:2018-09-28 until:2018-09-29\n",
      "INFO: Querying Iron Force since:2018-09-29 until:2018-09-30\n",
      "INFO: Querying Iron Force since:2018-09-30 until:2018-10-01\n",
      "INFO: Querying Iron Force since:2018-10-02 until:2018-10-03\n",
      "INFO: Querying Iron Force since:2018-09-26 until:2018-09-27\n",
      "INFO: Querying Iron Force since:2018-10-01 until:2018-10-02\n",
      "INFO: Got 18 tweets for Iron%20Force%20since%3A2018-10-02%20until%3A2018-10-03.\n",
      "INFO: Got 18 tweets (18 new).\n",
      "INFO: Got 19 tweets for Iron%20Force%20since%3A2018-09-30%20until%3A2018-10-01.\n",
      "INFO: Got 37 tweets (19 new).\n",
      "INFO: Got 17 tweets for Iron%20Force%20since%3A2018-10-01%20until%3A2018-10-02.\n",
      "INFO: Got 54 tweets (17 new).\n",
      "INFO: Got 15 tweets for Iron%20Force%20since%3A2018-09-28%20until%3A2018-09-29.\n",
      "INFO: Got 69 tweets (15 new).\n",
      "INFO: Got 23 tweets for Iron%20Force%20since%3A2018-09-27%20until%3A2018-09-28.\n",
      "INFO: Got 92 tweets (23 new).\n",
      "INFO: Got 21 tweets for Iron%20Force%20since%3A2018-09-29%20until%3A2018-09-30.\n",
      "INFO: Got 113 tweets (21 new).\n",
      "INFO: Got 25 tweets for Iron%20Force%20since%3A2018-09-26%20until%3A2018-09-27.\n",
      "INFO: Got 138 tweets (25 new).\n"
     ]
    },
    {
     "name": "stdout",
     "output_type": "stream",
     "text": [
      "Iron Force\n"
     ]
    },
    {
     "name": "stderr",
     "output_type": "stream",
     "text": [
      "INFO: queries: ['Fidget Spinner since:2018-09-26 until:2018-09-27', 'Fidget Spinner since:2018-09-27 until:2018-09-28', 'Fidget Spinner since:2018-09-28 until:2018-09-29', 'Fidget Spinner since:2018-09-29 until:2018-09-30', 'Fidget Spinner since:2018-09-30 until:2018-10-01', 'Fidget Spinner since:2018-10-01 until:2018-10-02', 'Fidget Spinner since:2018-10-02 until:2018-10-03']\n",
      "INFO: Querying Fidget Spinner since:2018-09-28 until:2018-09-29\n",
      "INFO: Querying Fidget Spinner since:2018-09-26 until:2018-09-27\n",
      "INFO: Querying Fidget Spinner since:2018-09-30 until:2018-10-01\n",
      "INFO: Querying Fidget Spinner since:2018-09-29 until:2018-09-30\n",
      "INFO: Querying Fidget Spinner since:2018-10-02 until:2018-10-03\n",
      "INFO: Querying Fidget Spinner since:2018-09-27 until:2018-09-28\n",
      "INFO: Querying Fidget Spinner since:2018-10-01 until:2018-10-02\n",
      "INFO: Got 210 tweets for Fidget%20Spinner%20since%3A2018-10-02%20until%3A2018-10-03.\n",
      "INFO: Got 210 tweets (210 new).\n",
      "INFO: Got 222 tweets for Fidget%20Spinner%20since%3A2018-10-01%20until%3A2018-10-02.\n",
      "INFO: Got 432 tweets (222 new).\n",
      "INFO: Got 218 tweets for Fidget%20Spinner%20since%3A2018-09-26%20until%3A2018-09-27.\n",
      "INFO: Got 650 tweets (218 new).\n",
      "INFO: Got 213 tweets for Fidget%20Spinner%20since%3A2018-09-30%20until%3A2018-10-01.\n",
      "INFO: Got 863 tweets (213 new).\n",
      "INFO: Got 204 tweets for Fidget%20Spinner%20since%3A2018-09-29%20until%3A2018-09-30.\n",
      "INFO: Got 1067 tweets (204 new).\n",
      "INFO: Got 249 tweets for Fidget%20Spinner%20since%3A2018-09-27%20until%3A2018-09-28.\n",
      "INFO: Got 1316 tweets (249 new).\n",
      "INFO: Got 251 tweets for Fidget%20Spinner%20since%3A2018-09-28%20until%3A2018-09-29.\n",
      "INFO: Got 1567 tweets (251 new).\n"
     ]
    },
    {
     "name": "stdout",
     "output_type": "stream",
     "text": [
      "Fidget Spinner\n"
     ]
    },
    {
     "name": "stderr",
     "output_type": "stream",
     "text": [
      "INFO: queries: ['Hot Wheels: Race Off since:2018-09-26 until:2018-09-27', 'Hot Wheels: Race Off since:2018-09-27 until:2018-09-28', 'Hot Wheels: Race Off since:2018-09-28 until:2018-09-29', 'Hot Wheels: Race Off since:2018-09-29 until:2018-09-30', 'Hot Wheels: Race Off since:2018-09-30 until:2018-10-01', 'Hot Wheels: Race Off since:2018-10-01 until:2018-10-02', 'Hot Wheels: Race Off since:2018-10-02 until:2018-10-03']\n",
      "INFO: Querying Hot Wheels: Race Off since:2018-09-26 until:2018-09-27\n",
      "INFO: Querying Hot Wheels: Race Off since:2018-10-01 until:2018-10-02\n",
      "INFO: Querying Hot Wheels: Race Off since:2018-09-30 until:2018-10-01\n",
      "INFO: Querying Hot Wheels: Race Off since:2018-09-29 until:2018-09-30\n",
      "INFO: Querying Hot Wheels: Race Off since:2018-09-28 until:2018-09-29\n",
      "INFO: Querying Hot Wheels: Race Off since:2018-10-02 until:2018-10-03\n",
      "INFO: Querying Hot Wheels: Race Off since:2018-09-27 until:2018-09-28\n",
      "INFO: Got 2 tweets for Hot%20Wheels%3A%20Race%20Off%20since%3A2018-10-02%20until%3A2018-10-03.\n",
      "INFO: Got 2 tweets (2 new).\n",
      "INFO: Got 1 tweets for Hot%20Wheels%3A%20Race%20Off%20since%3A2018-10-01%20until%3A2018-10-02.\n",
      "INFO: Got 3 tweets (1 new).\n",
      "INFO: Got 4 tweets for Hot%20Wheels%3A%20Race%20Off%20since%3A2018-09-26%20until%3A2018-09-27.\n",
      "INFO: Got 7 tweets (4 new).\n",
      "INFO: Got 6 tweets for Hot%20Wheels%3A%20Race%20Off%20since%3A2018-09-29%20until%3A2018-09-30.\n",
      "INFO: Got 13 tweets (6 new).\n",
      "INFO: Got 3 tweets for Hot%20Wheels%3A%20Race%20Off%20since%3A2018-09-27%20until%3A2018-09-28.\n",
      "INFO: Got 16 tweets (3 new).\n",
      "INFO: Got 2 tweets for Hot%20Wheels%3A%20Race%20Off%20since%3A2018-09-28%20until%3A2018-09-29.\n",
      "INFO: Got 18 tweets (2 new).\n",
      "INFO: Got 3 tweets for Hot%20Wheels%3A%20Race%20Off%20since%3A2018-09-30%20until%3A2018-10-01.\n",
      "INFO: Got 21 tweets (3 new).\n"
     ]
    },
    {
     "name": "stdout",
     "output_type": "stream",
     "text": [
      "Hot Wheels: Race Off\n"
     ]
    },
    {
     "name": "stderr",
     "output_type": "stream",
     "text": [
      "INFO: queries: ['World Craft HD since:2018-09-26 until:2018-09-27', 'World Craft HD since:2018-09-27 until:2018-09-28', 'World Craft HD since:2018-09-28 until:2018-09-29', 'World Craft HD since:2018-09-29 until:2018-09-30', 'World Craft HD since:2018-09-30 until:2018-10-01', 'World Craft HD since:2018-10-01 until:2018-10-02', 'World Craft HD since:2018-10-02 until:2018-10-03']\n",
      "INFO: Querying World Craft HD since:2018-09-29 until:2018-09-30\n",
      "INFO: Querying World Craft HD since:2018-10-01 until:2018-10-02\n",
      "INFO: Querying World Craft HD since:2018-09-28 until:2018-09-29\n",
      "INFO: Querying World Craft HD since:2018-10-02 until:2018-10-03\n",
      "INFO: Querying World Craft HD since:2018-09-26 until:2018-09-27\n",
      "INFO: Querying World Craft HD since:2018-09-30 until:2018-10-01\n",
      "INFO: Querying World Craft HD since:2018-09-27 until:2018-09-28\n",
      "INFO: Got 0 tweets for World%20Craft%20HD%20since%3A2018-10-02%20until%3A2018-10-03.\n",
      "INFO: Got 0 tweets (0 new).\n",
      "INFO: Got 0 tweets for World%20Craft%20HD%20since%3A2018-09-30%20until%3A2018-10-01.\n",
      "INFO: Got 0 tweets (0 new).\n",
      "INFO: Got 0 tweets for World%20Craft%20HD%20since%3A2018-09-27%20until%3A2018-09-28.\n",
      "INFO: Got 0 tweets (0 new).\n",
      "INFO: Got 0 tweets for World%20Craft%20HD%20since%3A2018-09-28%20until%3A2018-09-29.\n",
      "INFO: Got 0 tweets (0 new).\n",
      "INFO: Got 0 tweets for World%20Craft%20HD%20since%3A2018-10-01%20until%3A2018-10-02.\n",
      "INFO: Got 0 tweets (0 new).\n",
      "INFO: Got 0 tweets for World%20Craft%20HD%20since%3A2018-09-29%20until%3A2018-09-30.\n",
      "INFO: Got 0 tweets (0 new).\n",
      "INFO: Got 1 tweets for World%20Craft%20HD%20since%3A2018-09-26%20until%3A2018-09-27.\n",
      "INFO: Got 1 tweets (1 new).\n"
     ]
    },
    {
     "name": "stdout",
     "output_type": "stream",
     "text": [
      "World Craft HD\n"
     ]
    },
    {
     "name": "stderr",
     "output_type": "stream",
     "text": [
      "INFO: queries: ['MMX Racing since:2018-09-26 until:2018-09-27', 'MMX Racing since:2018-09-27 until:2018-09-28', 'MMX Racing since:2018-09-28 until:2018-09-29', 'MMX Racing since:2018-09-29 until:2018-09-30', 'MMX Racing since:2018-09-30 until:2018-10-01', 'MMX Racing since:2018-10-01 until:2018-10-02', 'MMX Racing since:2018-10-02 until:2018-10-03']\n",
      "INFO: Querying MMX Racing since:2018-09-28 until:2018-09-29\n",
      "INFO: Querying MMX Racing since:2018-09-29 until:2018-09-30\n",
      "INFO: Querying MMX Racing since:2018-09-27 until:2018-09-28\n",
      "INFO: Querying MMX Racing since:2018-09-30 until:2018-10-01\n",
      "INFO: Querying MMX Racing since:2018-10-02 until:2018-10-03\n",
      "INFO: Querying MMX Racing since:2018-10-01 until:2018-10-02\n",
      "INFO: Querying MMX Racing since:2018-09-26 until:2018-09-27\n",
      "INFO: Got 0 tweets for MMX%20Racing%20since%3A2018-09-28%20until%3A2018-09-29.\n",
      "INFO: Got 0 tweets (0 new).\n",
      "INFO: Got 0 tweets for MMX%20Racing%20since%3A2018-10-02%20until%3A2018-10-03.\n",
      "INFO: Got 0 tweets (0 new).\n",
      "INFO: Got 0 tweets for MMX%20Racing%20since%3A2018-09-27%20until%3A2018-09-28.\n",
      "INFO: Got 0 tweets (0 new).\n",
      "INFO: Got 0 tweets for MMX%20Racing%20since%3A2018-09-30%20until%3A2018-10-01.\n",
      "INFO: Got 0 tweets (0 new).\n",
      "INFO: Got 0 tweets for MMX%20Racing%20since%3A2018-09-26%20until%3A2018-09-27.\n",
      "INFO: Got 0 tweets (0 new).\n",
      "INFO: Got 1 tweets for MMX%20Racing%20since%3A2018-10-01%20until%3A2018-10-02.\n",
      "INFO: Got 1 tweets (1 new).\n",
      "INFO: Got 2 tweets for MMX%20Racing%20since%3A2018-09-29%20until%3A2018-09-30.\n",
      "INFO: Got 3 tweets (2 new).\n"
     ]
    },
    {
     "name": "stdout",
     "output_type": "stream",
     "text": [
      "MMX Racing\n"
     ]
    },
    {
     "name": "stderr",
     "output_type": "stream",
     "text": [
      "INFO: queries: ['Frontline Commando: D-Day since:2018-09-26 until:2018-09-27', 'Frontline Commando: D-Day since:2018-09-27 until:2018-09-28', 'Frontline Commando: D-Day since:2018-09-28 until:2018-09-29', 'Frontline Commando: D-Day since:2018-09-29 until:2018-09-30', 'Frontline Commando: D-Day since:2018-09-30 until:2018-10-01', 'Frontline Commando: D-Day since:2018-10-01 until:2018-10-02', 'Frontline Commando: D-Day since:2018-10-02 until:2018-10-03']\n",
      "INFO: Querying Frontline Commando: D-Day since:2018-09-26 until:2018-09-27\n",
      "INFO: Querying Frontline Commando: D-Day since:2018-09-28 until:2018-09-29\n",
      "INFO: Querying Frontline Commando: D-Day since:2018-10-01 until:2018-10-02\n",
      "INFO: Querying Frontline Commando: D-Day since:2018-09-30 until:2018-10-01\n",
      "INFO: Querying Frontline Commando: D-Day since:2018-09-27 until:2018-09-28\n",
      "INFO: Querying Frontline Commando: D-Day since:2018-09-29 until:2018-09-30\n",
      "INFO: Querying Frontline Commando: D-Day since:2018-10-02 until:2018-10-03\n",
      "INFO: Got 0 tweets for Frontline%20Commando%3A%20D-Day%20since%3A2018-10-02%20until%3A2018-10-03.\n",
      "INFO: Got 0 tweets (0 new).\n",
      "INFO: Got 0 tweets for Frontline%20Commando%3A%20D-Day%20since%3A2018-09-26%20until%3A2018-09-27.\n",
      "INFO: Got 0 tweets (0 new).\n",
      "INFO: Got 0 tweets for Frontline%20Commando%3A%20D-Day%20since%3A2018-10-01%20until%3A2018-10-02.\n",
      "INFO: Got 0 tweets (0 new).\n",
      "INFO: Got 0 tweets for Frontline%20Commando%3A%20D-Day%20since%3A2018-09-29%20until%3A2018-09-30.\n",
      "INFO: Got 0 tweets (0 new).\n",
      "INFO: Got 0 tweets for Frontline%20Commando%3A%20D-Day%20since%3A2018-09-27%20until%3A2018-09-28.\n",
      "INFO: Got 0 tweets (0 new).\n",
      "INFO: Got 0 tweets for Frontline%20Commando%3A%20D-Day%20since%3A2018-09-30%20until%3A2018-10-01.\n",
      "INFO: Got 0 tweets (0 new).\n",
      "INFO: Got 1 tweets for Frontline%20Commando%3A%20D-Day%20since%3A2018-09-28%20until%3A2018-09-29.\n",
      "INFO: Got 1 tweets (1 new).\n"
     ]
    },
    {
     "name": "stdout",
     "output_type": "stream",
     "text": [
      "Frontline Commando: D-Day\n"
     ]
    },
    {
     "name": "stderr",
     "output_type": "stream",
     "text": [
      "INFO: queries: ['The Tower since:2018-09-26 until:2018-09-27', 'The Tower since:2018-09-27 until:2018-09-28', 'The Tower since:2018-09-28 until:2018-09-29', 'The Tower since:2018-09-29 until:2018-09-30', 'The Tower since:2018-09-30 until:2018-10-01', 'The Tower since:2018-10-01 until:2018-10-02', 'The Tower since:2018-10-02 until:2018-10-03']\n",
      "INFO: Querying The Tower since:2018-09-29 until:2018-09-30\n",
      "INFO: Querying The Tower since:2018-09-26 until:2018-09-27\n",
      "INFO: Querying The Tower since:2018-09-27 until:2018-09-28\n",
      "INFO: Querying The Tower since:2018-09-28 until:2018-09-29\n",
      "INFO: Querying The Tower since:2018-09-30 until:2018-10-01\n",
      "INFO: Querying The Tower since:2018-10-01 until:2018-10-02\n",
      "INFO: Querying The Tower since:2018-10-02 until:2018-10-03\n",
      "INFO: Got 800 tweets for The%20Tower%20since%3A2018-10-01%20until%3A2018-10-02.\n",
      "INFO: Got 800 tweets (800 new).\n",
      "INFO: Got 813 tweets for The%20Tower%20since%3A2018-10-02%20until%3A2018-10-03.\n",
      "INFO: Got 1613 tweets (813 new).\n",
      "INFO: Got 790 tweets for The%20Tower%20since%3A2018-09-28%20until%3A2018-09-29.\n",
      "INFO: Got 2403 tweets (790 new).\n",
      "INFO: Got 777 tweets for The%20Tower%20since%3A2018-09-29%20until%3A2018-09-30.\n",
      "INFO: Got 3180 tweets (777 new).\n",
      "INFO: Got 826 tweets for The%20Tower%20since%3A2018-09-30%20until%3A2018-10-01.\n",
      "INFO: Got 4006 tweets (826 new).\n",
      "INFO: Got 850 tweets for The%20Tower%20since%3A2018-09-27%20until%3A2018-09-28.\n",
      "INFO: Got 4856 tweets (850 new).\n",
      "INFO: Got 841 tweets for The%20Tower%20since%3A2018-09-26%20until%3A2018-09-27.\n",
      "INFO: Got 5697 tweets (841 new).\n"
     ]
    },
    {
     "name": "stdout",
     "output_type": "stream",
     "text": [
      "The Tower\n"
     ]
    },
    {
     "name": "stderr",
     "output_type": "stream",
     "text": [
      "INFO: queries: ['LINE: Disney Tsum Tsum since:2018-09-26 until:2018-09-27', 'LINE: Disney Tsum Tsum since:2018-09-27 until:2018-09-28', 'LINE: Disney Tsum Tsum since:2018-09-28 until:2018-09-29', 'LINE: Disney Tsum Tsum since:2018-09-29 until:2018-09-30', 'LINE: Disney Tsum Tsum since:2018-09-30 until:2018-10-01', 'LINE: Disney Tsum Tsum since:2018-10-01 until:2018-10-02', 'LINE: Disney Tsum Tsum since:2018-10-02 until:2018-10-03']\n",
      "INFO: Querying LINE: Disney Tsum Tsum since:2018-09-26 until:2018-09-27\n",
      "INFO: Querying LINE: Disney Tsum Tsum since:2018-09-28 until:2018-09-29\n",
      "INFO: Querying LINE: Disney Tsum Tsum since:2018-09-30 until:2018-10-01\n",
      "INFO: Querying LINE: Disney Tsum Tsum since:2018-10-01 until:2018-10-02\n",
      "INFO: Querying LINE: Disney Tsum Tsum since:2018-10-02 until:2018-10-03\n",
      "INFO: Querying LINE: Disney Tsum Tsum since:2018-09-29 until:2018-09-30\n",
      "INFO: Querying LINE: Disney Tsum Tsum since:2018-09-27 until:2018-09-28\n",
      "INFO: Got 0 tweets for LINE%3A%20Disney%20Tsum%20Tsum%20since%3A2018-09-30%20until%3A2018-10-01.\n",
      "INFO: Got 0 tweets (0 new).\n",
      "INFO: Got 0 tweets for LINE%3A%20Disney%20Tsum%20Tsum%20since%3A2018-09-27%20until%3A2018-09-28.\n",
      "INFO: Got 0 tweets (0 new).\n",
      "INFO: Got 0 tweets for LINE%3A%20Disney%20Tsum%20Tsum%20since%3A2018-09-29%20until%3A2018-09-30.\n",
      "INFO: Got 0 tweets (0 new).\n",
      "INFO: Got 0 tweets for LINE%3A%20Disney%20Tsum%20Tsum%20since%3A2018-09-28%20until%3A2018-09-29.\n",
      "INFO: Got 0 tweets (0 new).\n",
      "INFO: Got 0 tweets for LINE%3A%20Disney%20Tsum%20Tsum%20since%3A2018-09-26%20until%3A2018-09-27.\n",
      "INFO: Got 0 tweets (0 new).\n",
      "INFO: Got 0 tweets for LINE%3A%20Disney%20Tsum%20Tsum%20since%3A2018-10-01%20until%3A2018-10-02.\n",
      "INFO: Got 0 tweets (0 new).\n",
      "INFO: Got 1 tweets for LINE%3A%20Disney%20Tsum%20Tsum%20since%3A2018-10-02%20until%3A2018-10-03.\n",
      "INFO: Got 1 tweets (1 new).\n"
     ]
    },
    {
     "name": "stdout",
     "output_type": "stream",
     "text": [
      "LINE: Disney Tsum Tsum\n"
     ]
    },
    {
     "name": "stderr",
     "output_type": "stream",
     "text": [
      "INFO: queries: ['Clash of Lords 2: Guild Castle since:2018-09-26 until:2018-09-27', 'Clash of Lords 2: Guild Castle since:2018-09-27 until:2018-09-28', 'Clash of Lords 2: Guild Castle since:2018-09-28 until:2018-09-29', 'Clash of Lords 2: Guild Castle since:2018-09-29 until:2018-09-30', 'Clash of Lords 2: Guild Castle since:2018-09-30 until:2018-10-01', 'Clash of Lords 2: Guild Castle since:2018-10-01 until:2018-10-02', 'Clash of Lords 2: Guild Castle since:2018-10-02 until:2018-10-03']\n",
      "INFO: Querying Clash of Lords 2: Guild Castle since:2018-09-27 until:2018-09-28\n",
      "INFO: Querying Clash of Lords 2: Guild Castle since:2018-09-28 until:2018-09-29\n",
      "INFO: Querying Clash of Lords 2: Guild Castle since:2018-09-29 until:2018-09-30\n",
      "INFO: Querying Clash of Lords 2: Guild Castle since:2018-10-01 until:2018-10-02\n",
      "INFO: Querying Clash of Lords 2: Guild Castle since:2018-09-26 until:2018-09-27\n",
      "INFO: Querying Clash of Lords 2: Guild Castle since:2018-10-02 until:2018-10-03\n",
      "INFO: Querying Clash of Lords 2: Guild Castle since:2018-09-30 until:2018-10-01\n",
      "INFO: Got 0 tweets for Clash%20of%20Lords%202%3A%20Guild%20Castle%20since%3A2018-09-30%20until%3A2018-10-01.\n",
      "INFO: Got 0 tweets (0 new).\n",
      "INFO: Got 0 tweets for Clash%20of%20Lords%202%3A%20Guild%20Castle%20since%3A2018-09-29%20until%3A2018-09-30.\n",
      "INFO: Got 0 tweets (0 new).\n",
      "INFO: Got 0 tweets for Clash%20of%20Lords%202%3A%20Guild%20Castle%20since%3A2018-09-27%20until%3A2018-09-28.\n",
      "INFO: Got 0 tweets (0 new).\n",
      "INFO: Got 0 tweets for Clash%20of%20Lords%202%3A%20Guild%20Castle%20since%3A2018-09-26%20until%3A2018-09-27.\n",
      "INFO: Got 0 tweets for Clash%20of%20Lords%202%3A%20Guild%20Castle%20since%3A2018-09-28%20until%3A2018-09-29.\n",
      "INFO: Got 0 tweets (0 new).\n",
      "INFO: Got 0 tweets (0 new).\n",
      "INFO: Got 0 tweets for Clash%20of%20Lords%202%3A%20Guild%20Castle%20since%3A2018-10-01%20until%3A2018-10-02.\n",
      "INFO: Got 0 tweets (0 new).\n",
      "INFO: Got 1 tweets for Clash%20of%20Lords%202%3A%20Guild%20Castle%20since%3A2018-10-02%20until%3A2018-10-03.\n",
      "INFO: Got 1 tweets (1 new).\n"
     ]
    },
    {
     "name": "stdout",
     "output_type": "stream",
     "text": [
      "Clash of Lords 2: Guild Castle\n"
     ]
    },
    {
     "name": "stderr",
     "output_type": "stream",
     "text": [
      "INFO: queries: ['Thumb Drift - Furious Racing since:2018-09-26 until:2018-09-27', 'Thumb Drift - Furious Racing since:2018-09-27 until:2018-09-28', 'Thumb Drift - Furious Racing since:2018-09-28 until:2018-09-29', 'Thumb Drift - Furious Racing since:2018-09-29 until:2018-09-30', 'Thumb Drift - Furious Racing since:2018-09-30 until:2018-10-01', 'Thumb Drift - Furious Racing since:2018-10-01 until:2018-10-02', 'Thumb Drift - Furious Racing since:2018-10-02 until:2018-10-03']\n",
      "INFO: Querying Thumb Drift - Furious Racing since:2018-09-30 until:2018-10-01\n",
      "INFO: Querying Thumb Drift - Furious Racing since:2018-09-26 until:2018-09-27\n",
      "INFO: Querying Thumb Drift - Furious Racing since:2018-10-01 until:2018-10-02\n",
      "INFO: Querying Thumb Drift - Furious Racing since:2018-09-27 until:2018-09-28\n",
      "INFO: Querying Thumb Drift - Furious Racing since:2018-09-28 until:2018-09-29\n",
      "INFO: Querying Thumb Drift - Furious Racing since:2018-09-29 until:2018-09-30\n",
      "INFO: Querying Thumb Drift - Furious Racing since:2018-10-02 until:2018-10-03\n",
      "INFO: Got 0 tweets for Thumb%20Drift%20-%20Furious%20Racing%20since%3A2018-09-27%20until%3A2018-09-28.\n",
      "INFO: Got 0 tweets for Thumb%20Drift%20-%20Furious%20Racing%20since%3A2018-10-02%20until%3A2018-10-03.\n",
      "INFO: Got 0 tweets (0 new).\n",
      "INFO: Got 0 tweets (0 new).\n",
      "INFO: Got 0 tweets for Thumb%20Drift%20-%20Furious%20Racing%20since%3A2018-09-30%20until%3A2018-10-01.\n",
      "INFO: Got 0 tweets (0 new).\n",
      "INFO: Got 0 tweets for Thumb%20Drift%20-%20Furious%20Racing%20since%3A2018-09-28%20until%3A2018-09-29.\n",
      "INFO: Got 0 tweets for Thumb%20Drift%20-%20Furious%20Racing%20since%3A2018-09-26%20until%3A2018-09-27.\n",
      "INFO: Got 0 tweets (0 new).\n",
      "INFO: Got 0 tweets (0 new).\n",
      "INFO: Got 0 tweets for Thumb%20Drift%20-%20Furious%20Racing%20since%3A2018-10-01%20until%3A2018-10-02.\n",
      "INFO: Got 0 tweets (0 new).\n",
      "INFO: Got 0 tweets for Thumb%20Drift%20-%20Furious%20Racing%20since%3A2018-09-29%20until%3A2018-09-30.\n",
      "INFO: Got 0 tweets (0 new).\n"
     ]
    },
    {
     "name": "stdout",
     "output_type": "stream",
     "text": [
      "Thumb Drift - Furious Racing\n"
     ]
    },
    {
     "name": "stderr",
     "output_type": "stream",
     "text": [
      "INFO: queries: ['GyroSphere Trials since:2018-09-26 until:2018-09-27', 'GyroSphere Trials since:2018-09-27 until:2018-09-28', 'GyroSphere Trials since:2018-09-28 until:2018-09-29', 'GyroSphere Trials since:2018-09-29 until:2018-09-30', 'GyroSphere Trials since:2018-09-30 until:2018-10-01', 'GyroSphere Trials since:2018-10-01 until:2018-10-02', 'GyroSphere Trials since:2018-10-02 until:2018-10-03']\n",
      "INFO: Querying GyroSphere Trials since:2018-09-27 until:2018-09-28\n",
      "INFO: Querying GyroSphere Trials since:2018-09-26 until:2018-09-27\n",
      "INFO: Querying GyroSphere Trials since:2018-09-28 until:2018-09-29\n",
      "INFO: Querying GyroSphere Trials since:2018-09-29 until:2018-09-30\n",
      "INFO: Querying GyroSphere Trials since:2018-09-30 until:2018-10-01\n",
      "INFO: Querying GyroSphere Trials since:2018-10-02 until:2018-10-03\n",
      "INFO: Querying GyroSphere Trials since:2018-10-01 until:2018-10-02\n",
      "INFO: Got 1 tweets for GyroSphere%20Trials%20since%3A2018-10-01%20until%3A2018-10-02.\n",
      "INFO: Got 1 tweets (1 new).\n",
      "INFO: Got 1 tweets for GyroSphere%20Trials%20since%3A2018-09-28%20until%3A2018-09-29.\n",
      "INFO: Got 2 tweets (1 new).\n",
      "INFO: Got 2 tweets for GyroSphere%20Trials%20since%3A2018-10-02%20until%3A2018-10-03.\n",
      "INFO: Got 4 tweets (2 new).\n",
      "INFO: Got 2 tweets for GyroSphere%20Trials%20since%3A2018-09-29%20until%3A2018-09-30.\n",
      "INFO: Got 6 tweets (2 new).\n",
      "INFO: Got 2 tweets for GyroSphere%20Trials%20since%3A2018-09-27%20until%3A2018-09-28.\n",
      "INFO: Got 8 tweets (2 new).\n",
      "INFO: Got 5 tweets for GyroSphere%20Trials%20since%3A2018-09-26%20until%3A2018-09-27.\n",
      "INFO: Got 13 tweets (5 new).\n",
      "INFO: Got 5 tweets for GyroSphere%20Trials%20since%3A2018-09-30%20until%3A2018-10-01.\n",
      "INFO: Got 18 tweets (5 new).\n"
     ]
    },
    {
     "name": "stdout",
     "output_type": "stream",
     "text": [
      "GyroSphere Trials\n"
     ]
    },
    {
     "name": "stderr",
     "output_type": "stream",
     "text": [
      "INFO: queries: ['PapiJump since:2018-09-26 until:2018-09-27', 'PapiJump since:2018-09-27 until:2018-09-28', 'PapiJump since:2018-09-28 until:2018-09-29', 'PapiJump since:2018-09-29 until:2018-09-30', 'PapiJump since:2018-09-30 until:2018-10-01', 'PapiJump since:2018-10-01 until:2018-10-02', 'PapiJump since:2018-10-02 until:2018-10-03']\n",
      "INFO: Querying PapiJump since:2018-09-26 until:2018-09-27\n",
      "INFO: Querying PapiJump since:2018-09-29 until:2018-09-30\n",
      "INFO: Querying PapiJump since:2018-09-30 until:2018-10-01\n",
      "INFO: Querying PapiJump since:2018-10-02 until:2018-10-03\n",
      "INFO: Querying PapiJump since:2018-09-27 until:2018-09-28\n",
      "INFO: Querying PapiJump since:2018-09-28 until:2018-09-29\n",
      "INFO: Querying PapiJump since:2018-10-01 until:2018-10-02\n",
      "INFO: Got 0 tweets for PapiJump%20since%3A2018-09-27%20until%3A2018-09-28.\n",
      "INFO: Got 0 tweets (0 new).\n",
      "INFO: Got 0 tweets for PapiJump%20since%3A2018-09-29%20until%3A2018-09-30.\n",
      "INFO: Got 0 tweets (0 new).\n",
      "INFO: Got 0 tweets for PapiJump%20since%3A2018-10-01%20until%3A2018-10-02.\n",
      "INFO: Got 0 tweets (0 new).\n",
      "INFO: Got 0 tweets for PapiJump%20since%3A2018-10-02%20until%3A2018-10-03.\n",
      "INFO: Got 0 tweets (0 new).\n",
      "INFO: Got 0 tweets for PapiJump%20since%3A2018-09-30%20until%3A2018-10-01.\n",
      "INFO: Got 0 tweets (0 new).\n",
      "INFO: Got 0 tweets for PapiJump%20since%3A2018-09-26%20until%3A2018-09-27.\n",
      "INFO: Got 0 tweets (0 new).\n",
      "INFO: Got 1 tweets for PapiJump%20since%3A2018-09-28%20until%3A2018-09-29.\n",
      "INFO: Got 1 tweets (1 new).\n"
     ]
    },
    {
     "name": "stdout",
     "output_type": "stream",
     "text": [
      "PapiJump\n"
     ]
    },
    {
     "name": "stderr",
     "output_type": "stream",
     "text": [
      "INFO: queries: ['Plants vs. Zombies™ since:2018-09-26 until:2018-09-27', 'Plants vs. Zombies™ since:2018-09-27 until:2018-09-28', 'Plants vs. Zombies™ since:2018-09-28 until:2018-09-29', 'Plants vs. Zombies™ since:2018-09-29 until:2018-09-30', 'Plants vs. Zombies™ since:2018-09-30 until:2018-10-01', 'Plants vs. Zombies™ since:2018-10-01 until:2018-10-02', 'Plants vs. Zombies™ since:2018-10-02 until:2018-10-03']\n",
      "INFO: Querying Plants vs. Zombies™ since:2018-09-26 until:2018-09-27\n",
      "INFO: Querying Plants vs. Zombies™ since:2018-09-28 until:2018-09-29\n",
      "INFO: Querying Plants vs. Zombies™ since:2018-09-30 until:2018-10-01\n",
      "INFO: Querying Plants vs. Zombies™ since:2018-10-02 until:2018-10-03\n",
      "INFO: Querying Plants vs. Zombies™ since:2018-10-01 until:2018-10-02\n",
      "INFO: Querying Plants vs. Zombies™ since:2018-09-29 until:2018-09-30\n",
      "INFO: Querying Plants vs. Zombies™ since:2018-09-27 until:2018-09-28\n",
      "INFO: Got 0 tweets for Plants%20vs.%20Zombies™%20since%3A2018-10-02%20until%3A2018-10-03.\n",
      "INFO: Got 0 tweets (0 new).\n",
      "INFO: Got 0 tweets for Plants%20vs.%20Zombies™%20since%3A2018-09-26%20until%3A2018-09-27.\n",
      "INFO: Got 0 tweets (0 new).\n",
      "INFO: Got 0 tweets for Plants%20vs.%20Zombies™%20since%3A2018-09-28%20until%3A2018-09-29.\n",
      "INFO: Got 0 tweets (0 new).\n",
      "INFO: Got 0 tweets for Plants%20vs.%20Zombies™%20since%3A2018-10-01%20until%3A2018-10-02.\n",
      "INFO: Got 0 tweets (0 new).\n",
      "INFO: Got 1 tweets for Plants%20vs.%20Zombies™%20since%3A2018-09-30%20until%3A2018-10-01.\n",
      "INFO: Got 1 tweets (1 new).\n",
      "INFO: Got 1 tweets for Plants%20vs.%20Zombies™%20since%3A2018-09-27%20until%3A2018-09-28.\n",
      "INFO: Got 2 tweets (1 new).\n",
      "INFO: Got 1 tweets for Plants%20vs.%20Zombies™%20since%3A2018-09-29%20until%3A2018-09-30.\n",
      "INFO: Got 3 tweets (1 new).\n"
     ]
    },
    {
     "name": "stdout",
     "output_type": "stream",
     "text": [
      "Plants vs. Zombies™\n"
     ]
    },
    {
     "name": "stderr",
     "output_type": "stream",
     "text": [
      "INFO: queries: ['Extreme Road Trip 2 since:2018-09-26 until:2018-09-27', 'Extreme Road Trip 2 since:2018-09-27 until:2018-09-28', 'Extreme Road Trip 2 since:2018-09-28 until:2018-09-29', 'Extreme Road Trip 2 since:2018-09-29 until:2018-09-30', 'Extreme Road Trip 2 since:2018-09-30 until:2018-10-01', 'Extreme Road Trip 2 since:2018-10-01 until:2018-10-02', 'Extreme Road Trip 2 since:2018-10-02 until:2018-10-03']\n",
      "INFO: Querying Extreme Road Trip 2 since:2018-09-26 until:2018-09-27\n",
      "INFO: Querying Extreme Road Trip 2 since:2018-09-27 until:2018-09-28\n",
      "INFO: Querying Extreme Road Trip 2 since:2018-09-28 until:2018-09-29\n",
      "INFO: Querying Extreme Road Trip 2 since:2018-10-01 until:2018-10-02\n",
      "INFO: Querying Extreme Road Trip 2 since:2018-09-30 until:2018-10-01\n",
      "INFO: Querying Extreme Road Trip 2 since:2018-09-29 until:2018-09-30\n",
      "INFO: Querying Extreme Road Trip 2 since:2018-10-02 until:2018-10-03\n",
      "INFO: Got 0 tweets for Extreme%20Road%20Trip%202%20since%3A2018-09-29%20until%3A2018-09-30.\n",
      "INFO: Got 0 tweets (0 new).\n",
      "INFO: Got 0 tweets for Extreme%20Road%20Trip%202%20since%3A2018-09-27%20until%3A2018-09-28.\n",
      "INFO: Got 0 tweets (0 new).\n",
      "INFO: Got 0 tweets for Extreme%20Road%20Trip%202%20since%3A2018-09-28%20until%3A2018-09-29.\n",
      "INFO: Got 0 tweets (0 new).\n",
      "INFO: Got 0 tweets for Extreme%20Road%20Trip%202%20since%3A2018-10-01%20until%3A2018-10-02.\n",
      "INFO: Got 0 tweets (0 new).\n",
      "INFO: Got 0 tweets for Extreme%20Road%20Trip%202%20since%3A2018-09-30%20until%3A2018-10-01.\n",
      "INFO: Got 0 tweets (0 new).\n",
      "INFO: Got 0 tweets for Extreme%20Road%20Trip%202%20since%3A2018-09-26%20until%3A2018-09-27.\n",
      "INFO: Got 0 tweets (0 new).\n",
      "INFO: Got 1 tweets for Extreme%20Road%20Trip%202%20since%3A2018-10-02%20until%3A2018-10-03.\n",
      "INFO: Got 1 tweets (1 new).\n"
     ]
    },
    {
     "name": "stdout",
     "output_type": "stream",
     "text": [
      "Extreme Road Trip 2\n"
     ]
    },
    {
     "name": "stderr",
     "output_type": "stream",
     "text": [
      "INFO: queries: ['FallDown! 2 since:2018-09-26 until:2018-09-27', 'FallDown! 2 since:2018-09-27 until:2018-09-28', 'FallDown! 2 since:2018-09-28 until:2018-09-29', 'FallDown! 2 since:2018-09-29 until:2018-09-30', 'FallDown! 2 since:2018-09-30 until:2018-10-01', 'FallDown! 2 since:2018-10-01 until:2018-10-02', 'FallDown! 2 since:2018-10-02 until:2018-10-03']\n",
      "INFO: Querying FallDown! 2 since:2018-09-27 until:2018-09-28\n",
      "INFO: Querying FallDown! 2 since:2018-09-30 until:2018-10-01\n",
      "INFO: Querying FallDown! 2 since:2018-09-29 until:2018-09-30\n",
      "INFO: Querying FallDown! 2 since:2018-10-02 until:2018-10-03\n",
      "INFO: Querying FallDown! 2 since:2018-09-28 until:2018-09-29\n",
      "INFO: Querying FallDown! 2 since:2018-10-01 until:2018-10-02\n",
      "INFO: Querying FallDown! 2 since:2018-09-26 until:2018-09-27\n",
      "INFO: Got 0 tweets for FallDown!%202%20since%3A2018-10-02%20until%3A2018-10-03.\n",
      "INFO: Got 0 tweets (0 new).\n",
      "INFO: Got 0 tweets for FallDown!%202%20since%3A2018-09-29%20until%3A2018-09-30.\n",
      "INFO: Got 0 tweets (0 new).\n",
      "INFO: Got 0 tweets for FallDown!%202%20since%3A2018-09-27%20until%3A2018-09-28.\n",
      "INFO: Got 0 tweets for FallDown!%202%20since%3A2018-10-01%20until%3A2018-10-02.\n",
      "INFO: Got 0 tweets (0 new).\n",
      "INFO: Got 0 tweets (0 new).\n",
      "INFO: Got 0 tweets for FallDown!%202%20since%3A2018-09-28%20until%3A2018-09-29.\n",
      "INFO: Got 0 tweets (0 new).\n",
      "INFO: Got 1 tweets for FallDown!%202%20since%3A2018-09-26%20until%3A2018-09-27.\n",
      "INFO: Got 1 tweets (1 new).\n",
      "INFO: Got 1 tweets for FallDown!%202%20since%3A2018-09-30%20until%3A2018-10-01.\n",
      "INFO: Got 2 tweets (1 new).\n"
     ]
    },
    {
     "name": "stdout",
     "output_type": "stream",
     "text": [
      "FallDown! 2\n"
     ]
    },
    {
     "name": "stderr",
     "output_type": "stream",
     "text": [
      "INFO: queries: ['Cops N Robbers (FPS): 3D Pixel since:2018-09-26 until:2018-09-27', 'Cops N Robbers (FPS): 3D Pixel since:2018-09-27 until:2018-09-28', 'Cops N Robbers (FPS): 3D Pixel since:2018-09-28 until:2018-09-29', 'Cops N Robbers (FPS): 3D Pixel since:2018-09-29 until:2018-09-30', 'Cops N Robbers (FPS): 3D Pixel since:2018-09-30 until:2018-10-01', 'Cops N Robbers (FPS): 3D Pixel since:2018-10-01 until:2018-10-02', 'Cops N Robbers (FPS): 3D Pixel since:2018-10-02 until:2018-10-03']\n",
      "INFO: Querying Cops N Robbers (FPS): 3D Pixel since:2018-09-27 until:2018-09-28\n",
      "INFO: Querying Cops N Robbers (FPS): 3D Pixel since:2018-10-01 until:2018-10-02\n",
      "INFO: Querying Cops N Robbers (FPS): 3D Pixel since:2018-09-30 until:2018-10-01\n",
      "INFO: Querying Cops N Robbers (FPS): 3D Pixel since:2018-09-26 until:2018-09-27\n",
      "INFO: Querying Cops N Robbers (FPS): 3D Pixel since:2018-09-29 until:2018-09-30\n",
      "INFO: Querying Cops N Robbers (FPS): 3D Pixel since:2018-10-02 until:2018-10-03\n",
      "INFO: Querying Cops N Robbers (FPS): 3D Pixel since:2018-09-28 until:2018-09-29\n",
      "INFO: Got 0 tweets for Cops%20N%20Robbers%20(FPS)%3A%203D%20Pixel%20since%3A2018-10-02%20until%3A2018-10-03.\n",
      "INFO: Got 0 tweets (0 new).\n",
      "INFO: Got 0 tweets for Cops%20N%20Robbers%20(FPS)%3A%203D%20Pixel%20since%3A2018-09-28%20until%3A2018-09-29.\n",
      "INFO: Got 0 tweets (0 new).\n",
      "INFO: Got 0 tweets for Cops%20N%20Robbers%20(FPS)%3A%203D%20Pixel%20since%3A2018-10-01%20until%3A2018-10-02.\n",
      "INFO: Got 0 tweets (0 new).\n",
      "INFO: Got 0 tweets for Cops%20N%20Robbers%20(FPS)%3A%203D%20Pixel%20since%3A2018-09-27%20until%3A2018-09-28.\n",
      "INFO: Got 0 tweets (0 new).\n",
      "INFO: Got 0 tweets for Cops%20N%20Robbers%20(FPS)%3A%203D%20Pixel%20since%3A2018-09-30%20until%3A2018-10-01.\n",
      "INFO: Got 0 tweets (0 new).\n",
      "INFO: Got 0 tweets for Cops%20N%20Robbers%20(FPS)%3A%203D%20Pixel%20since%3A2018-09-26%20until%3A2018-09-27.\n",
      "INFO: Got 0 tweets (0 new).\n",
      "INFO: Got 0 tweets for Cops%20N%20Robbers%20(FPS)%3A%203D%20Pixel%20since%3A2018-09-29%20until%3A2018-09-30.\n",
      "INFO: Got 0 tweets (0 new).\n"
     ]
    },
    {
     "name": "stdout",
     "output_type": "stream",
     "text": [
      "Cops N Robbers (FPS): 3D Pixel\n"
     ]
    },
    {
     "name": "stderr",
     "output_type": "stream",
     "text": [
      "INFO: queries: ['Guns of Boom since:2018-09-26 until:2018-09-27', 'Guns of Boom since:2018-09-27 until:2018-09-28', 'Guns of Boom since:2018-09-28 until:2018-09-29', 'Guns of Boom since:2018-09-29 until:2018-09-30', 'Guns of Boom since:2018-09-30 until:2018-10-01', 'Guns of Boom since:2018-10-01 until:2018-10-02', 'Guns of Boom since:2018-10-02 until:2018-10-03']\n",
      "INFO: Querying Guns of Boom since:2018-09-26 until:2018-09-27\n",
      "INFO: Querying Guns of Boom since:2018-09-29 until:2018-09-30\n",
      "INFO: Querying Guns of Boom since:2018-09-27 until:2018-09-28\n",
      "INFO: Querying Guns of Boom since:2018-10-02 until:2018-10-03\n",
      "INFO: Querying Guns of Boom since:2018-10-01 until:2018-10-02\n",
      "INFO: Querying Guns of Boom since:2018-09-30 until:2018-10-01\n",
      "INFO: Querying Guns of Boom since:2018-09-28 until:2018-09-29\n",
      "INFO: Got 41 tweets for Guns%20of%20Boom%20since%3A2018-09-30%20until%3A2018-10-01.\n",
      "INFO: Got 41 tweets (41 new).\n",
      "INFO: Got 61 tweets for Guns%20of%20Boom%20since%3A2018-09-29%20until%3A2018-09-30.\n",
      "INFO: Got 102 tweets (61 new).\n",
      "INFO: Got 68 tweets for Guns%20of%20Boom%20since%3A2018-09-27%20until%3A2018-09-28.\n",
      "INFO: Got 170 tweets (68 new).\n",
      "INFO: Got 74 tweets for Guns%20of%20Boom%20since%3A2018-10-02%20until%3A2018-10-03.\n",
      "INFO: Got 244 tweets (74 new).\n",
      "INFO: Got 67 tweets for Guns%20of%20Boom%20since%3A2018-10-01%20until%3A2018-10-02.\n",
      "INFO: Got 311 tweets (67 new).\n",
      "INFO: Got 79 tweets for Guns%20of%20Boom%20since%3A2018-09-28%20until%3A2018-09-29.\n",
      "INFO: Got 390 tweets (79 new).\n",
      "INFO: Got 80 tweets for Guns%20of%20Boom%20since%3A2018-09-26%20until%3A2018-09-27.\n",
      "INFO: Got 470 tweets (80 new).\n"
     ]
    },
    {
     "name": "stdout",
     "output_type": "stream",
     "text": [
      "Guns of Boom\n"
     ]
    },
    {
     "name": "stderr",
     "output_type": "stream",
     "text": [
      "INFO: queries: ['Slender Rising Free since:2018-09-26 until:2018-09-27', 'Slender Rising Free since:2018-09-27 until:2018-09-28', 'Slender Rising Free since:2018-09-28 until:2018-09-29', 'Slender Rising Free since:2018-09-29 until:2018-09-30', 'Slender Rising Free since:2018-09-30 until:2018-10-01', 'Slender Rising Free since:2018-10-01 until:2018-10-02', 'Slender Rising Free since:2018-10-02 until:2018-10-03']\n",
      "INFO: Querying Slender Rising Free since:2018-09-26 until:2018-09-27\n",
      "INFO: Querying Slender Rising Free since:2018-09-29 until:2018-09-30\n",
      "INFO: Querying Slender Rising Free since:2018-09-28 until:2018-09-29\n",
      "INFO: Querying Slender Rising Free since:2018-09-27 until:2018-09-28\n",
      "INFO: Querying Slender Rising Free since:2018-10-02 until:2018-10-03\n",
      "INFO: Querying Slender Rising Free since:2018-10-01 until:2018-10-02\n",
      "INFO: Querying Slender Rising Free since:2018-09-30 until:2018-10-01\n",
      "INFO: Got 0 tweets for Slender%20Rising%20Free%20since%3A2018-10-02%20until%3A2018-10-03.\n",
      "INFO: Got 0 tweets (0 new).\n",
      "INFO: Got 0 tweets for Slender%20Rising%20Free%20since%3A2018-09-29%20until%3A2018-09-30.\n",
      "INFO: Got 0 tweets (0 new).\n",
      "INFO: Got 0 tweets for Slender%20Rising%20Free%20since%3A2018-09-28%20until%3A2018-09-29.\n",
      "INFO: Got 0 tweets (0 new).\n",
      "INFO: Got 0 tweets for Slender%20Rising%20Free%20since%3A2018-09-30%20until%3A2018-10-01.\n",
      "INFO: Got 0 tweets (0 new).\n",
      "INFO: Got 0 tweets for Slender%20Rising%20Free%20since%3A2018-09-26%20until%3A2018-09-27.\n",
      "INFO: Got 0 tweets (0 new).\n",
      "INFO: Got 0 tweets for Slender%20Rising%20Free%20since%3A2018-10-01%20until%3A2018-10-02.\n",
      "INFO: Got 0 tweets (0 new).\n",
      "INFO: Got 0 tweets for Slender%20Rising%20Free%20since%3A2018-09-27%20until%3A2018-09-28.\n",
      "INFO: Got 0 tweets (0 new).\n"
     ]
    },
    {
     "name": "stdout",
     "output_type": "stream",
     "text": [
      "Slender Rising Free\n"
     ]
    },
    {
     "name": "stderr",
     "output_type": "stream",
     "text": [
      "INFO: queries: [\"Don't step the white tile since:2018-09-26 until:2018-09-27\", \"Don't step the white tile since:2018-09-27 until:2018-09-28\", \"Don't step the white tile since:2018-09-28 until:2018-09-29\", \"Don't step the white tile since:2018-09-29 until:2018-09-30\", \"Don't step the white tile since:2018-09-30 until:2018-10-01\", \"Don't step the white tile since:2018-10-01 until:2018-10-02\", \"Don't step the white tile since:2018-10-02 until:2018-10-03\"]\n",
      "INFO: Querying Don't step the white tile since:2018-09-26 until:2018-09-27\n",
      "INFO: Querying Don't step the white tile since:2018-09-27 until:2018-09-28\n",
      "INFO: Querying Don't step the white tile since:2018-09-29 until:2018-09-30\n",
      "INFO: Querying Don't step the white tile since:2018-09-28 until:2018-09-29\n",
      "INFO: Querying Don't step the white tile since:2018-09-30 until:2018-10-01\n",
      "INFO: Querying Don't step the white tile since:2018-10-01 until:2018-10-02\n",
      "INFO: Querying Don't step the white tile since:2018-10-02 until:2018-10-03\n",
      "INFO: Got 0 tweets for Don't%20step%20the%20white%20tile%20since%3A2018-09-29%20until%3A2018-09-30.\n",
      "INFO: Got 0 tweets (0 new).\n",
      "INFO: Got 0 tweets for Don't%20step%20the%20white%20tile%20since%3A2018-10-02%20until%3A2018-10-03.\n",
      "INFO: Got 0 tweets (0 new).\n",
      "INFO: Got 0 tweets for Don't%20step%20the%20white%20tile%20since%3A2018-09-27%20until%3A2018-09-28.\n",
      "INFO: Got 0 tweets (0 new).\n",
      "INFO: Got 0 tweets for Don't%20step%20the%20white%20tile%20since%3A2018-09-28%20until%3A2018-09-29.\n",
      "INFO: Got 0 tweets (0 new).\n",
      "INFO: Got 0 tweets for Don't%20step%20the%20white%20tile%20since%3A2018-09-30%20until%3A2018-10-01.\n",
      "INFO: Got 0 tweets (0 new).\n",
      "INFO: Got 0 tweets for Don't%20step%20the%20white%20tile%20since%3A2018-09-26%20until%3A2018-09-27.\n",
      "INFO: Got 0 tweets (0 new).\n",
      "INFO: Got 0 tweets for Don't%20step%20the%20white%20tile%20since%3A2018-10-01%20until%3A2018-10-02.\n",
      "INFO: Got 0 tweets (0 new).\n"
     ]
    },
    {
     "name": "stdout",
     "output_type": "stream",
     "text": [
      "Don't step the white tile\n"
     ]
    },
    {
     "name": "stderr",
     "output_type": "stream",
     "text": [
      "INFO: queries: ['Zombie Gunship: Gun Down Zombies since:2018-09-26 until:2018-09-27', 'Zombie Gunship: Gun Down Zombies since:2018-09-27 until:2018-09-28', 'Zombie Gunship: Gun Down Zombies since:2018-09-28 until:2018-09-29', 'Zombie Gunship: Gun Down Zombies since:2018-09-29 until:2018-09-30', 'Zombie Gunship: Gun Down Zombies since:2018-09-30 until:2018-10-01', 'Zombie Gunship: Gun Down Zombies since:2018-10-01 until:2018-10-02', 'Zombie Gunship: Gun Down Zombies since:2018-10-02 until:2018-10-03']\n",
      "INFO: Querying Zombie Gunship: Gun Down Zombies since:2018-09-27 until:2018-09-28\n",
      "INFO: Querying Zombie Gunship: Gun Down Zombies since:2018-09-28 until:2018-09-29\n",
      "INFO: Querying Zombie Gunship: Gun Down Zombies since:2018-10-01 until:2018-10-02\n",
      "INFO: Querying Zombie Gunship: Gun Down Zombies since:2018-09-30 until:2018-10-01\n",
      "INFO: Querying Zombie Gunship: Gun Down Zombies since:2018-09-29 until:2018-09-30\n",
      "INFO: Querying Zombie Gunship: Gun Down Zombies since:2018-10-02 until:2018-10-03\n",
      "INFO: Querying Zombie Gunship: Gun Down Zombies since:2018-09-26 until:2018-09-27\n",
      "INFO: Got 0 tweets for Zombie%20Gunship%3A%20Gun%20Down%20Zombies%20since%3A2018-10-02%20until%3A2018-10-03.\n",
      "INFO: Got 0 tweets for Zombie%20Gunship%3A%20Gun%20Down%20Zombies%20since%3A2018-09-29%20until%3A2018-09-30.\n",
      "INFO: Got 0 tweets (0 new).\n",
      "INFO: Got 0 tweets (0 new).\n",
      "INFO: Got 0 tweets for Zombie%20Gunship%3A%20Gun%20Down%20Zombies%20since%3A2018-09-28%20until%3A2018-09-29.\n",
      "INFO: Got 0 tweets (0 new).\n",
      "INFO: Got 0 tweets for Zombie%20Gunship%3A%20Gun%20Down%20Zombies%20since%3A2018-09-26%20until%3A2018-09-27.\n",
      "INFO: Got 0 tweets (0 new).\n",
      "INFO: Got 0 tweets for Zombie%20Gunship%3A%20Gun%20Down%20Zombies%20since%3A2018-09-30%20until%3A2018-10-01.\n",
      "INFO: Got 0 tweets (0 new).\n",
      "INFO: Got 0 tweets for Zombie%20Gunship%3A%20Gun%20Down%20Zombies%20since%3A2018-10-01%20until%3A2018-10-02.\n",
      "INFO: Got 0 tweets (0 new).\n",
      "INFO: Got 0 tweets (0 new).\n",
      "INFO: Got 0 tweets for Zombie%20Gunship%3A%20Gun%20Down%20Zombies%20since%3A2018-09-27%20until%3A2018-09-28.\n"
     ]
    },
    {
     "name": "stdout",
     "output_type": "stream",
     "text": [
      "Zombie Gunship: Gun Down Zombies\n"
     ]
    },
    {
     "name": "stderr",
     "output_type": "stream",
     "text": [
      "INFO: queries: ['Beat the Boss 3 since:2018-09-26 until:2018-09-27', 'Beat the Boss 3 since:2018-09-27 until:2018-09-28', 'Beat the Boss 3 since:2018-09-28 until:2018-09-29', 'Beat the Boss 3 since:2018-09-29 until:2018-09-30', 'Beat the Boss 3 since:2018-09-30 until:2018-10-01', 'Beat the Boss 3 since:2018-10-01 until:2018-10-02', 'Beat the Boss 3 since:2018-10-02 until:2018-10-03']\n",
      "INFO: Querying Beat the Boss 3 since:2018-09-28 until:2018-09-29\n",
      "INFO: Querying Beat the Boss 3 since:2018-09-26 until:2018-09-27\n",
      "INFO: Querying Beat the Boss 3 since:2018-09-27 until:2018-09-28\n",
      "INFO: Querying Beat the Boss 3 since:2018-10-01 until:2018-10-02\n",
      "INFO: Querying Beat the Boss 3 since:2018-10-02 until:2018-10-03\n",
      "INFO: Querying Beat the Boss 3 since:2018-09-29 until:2018-09-30\n",
      "INFO: Querying Beat the Boss 3 since:2018-09-30 until:2018-10-01\n",
      "INFO: Got 0 tweets for Beat%20the%20Boss%203%20since%3A2018-09-28%20until%3A2018-09-29.\n",
      "INFO: Got 0 tweets (0 new).\n",
      "INFO: Got 2 tweets for Beat%20the%20Boss%203%20since%3A2018-10-02%20until%3A2018-10-03.\n",
      "INFO: Got 2 tweets (2 new).\n",
      "INFO: Got 3 tweets for Beat%20the%20Boss%203%20since%3A2018-09-30%20until%3A2018-10-01.\n",
      "INFO: Got 5 tweets (3 new).\n",
      "INFO: Got 3 tweets for Beat%20the%20Boss%203%20since%3A2018-09-26%20until%3A2018-09-27.\n",
      "INFO: Got 8 tweets (3 new).\n",
      "INFO: Got 4 tweets for Beat%20the%20Boss%203%20since%3A2018-09-27%20until%3A2018-09-28.\n",
      "INFO: Got 12 tweets (4 new).\n",
      "INFO: Got 4 tweets for Beat%20the%20Boss%203%20since%3A2018-10-01%20until%3A2018-10-02.\n",
      "INFO: Got 16 tweets (4 new).\n",
      "INFO: Got 2 tweets for Beat%20the%20Boss%203%20since%3A2018-09-29%20until%3A2018-09-30.\n",
      "INFO: Got 18 tweets (2 new).\n"
     ]
    },
    {
     "name": "stdout",
     "output_type": "stream",
     "text": [
      "Beat the Boss 3\n"
     ]
    },
    {
     "name": "stderr",
     "output_type": "stream",
     "text": [
      "INFO: queries: ['Mad Skills Motocross 2 since:2018-09-26 until:2018-09-27', 'Mad Skills Motocross 2 since:2018-09-27 until:2018-09-28', 'Mad Skills Motocross 2 since:2018-09-28 until:2018-09-29', 'Mad Skills Motocross 2 since:2018-09-29 until:2018-09-30', 'Mad Skills Motocross 2 since:2018-09-30 until:2018-10-01', 'Mad Skills Motocross 2 since:2018-10-01 until:2018-10-02', 'Mad Skills Motocross 2 since:2018-10-02 until:2018-10-03']\n",
      "INFO: Querying Mad Skills Motocross 2 since:2018-09-28 until:2018-09-29\n",
      "INFO: Querying Mad Skills Motocross 2 since:2018-09-27 until:2018-09-28\n",
      "INFO: Querying Mad Skills Motocross 2 since:2018-09-29 until:2018-09-30\n",
      "INFO: Querying Mad Skills Motocross 2 since:2018-09-26 until:2018-09-27\n",
      "INFO: Querying Mad Skills Motocross 2 since:2018-10-01 until:2018-10-02\n",
      "INFO: Querying Mad Skills Motocross 2 since:2018-09-30 until:2018-10-01\n",
      "INFO: Querying Mad Skills Motocross 2 since:2018-10-02 until:2018-10-03\n",
      "INFO: Got 0 tweets for Mad%20Skills%20Motocross%202%20since%3A2018-10-02%20until%3A2018-10-03.\n",
      "INFO: Got 0 tweets (0 new).\n",
      "INFO: Got 0 tweets (0 new).\n",
      "INFO: Got 0 tweets for Mad%20Skills%20Motocross%202%20since%3A2018-09-29%20until%3A2018-09-30.\n",
      "INFO: Got 0 tweets for Mad%20Skills%20Motocross%202%20since%3A2018-10-01%20until%3A2018-10-02.\n",
      "INFO: Got 0 tweets (0 new).\n",
      "INFO: Got 0 tweets for Mad%20Skills%20Motocross%202%20since%3A2018-09-30%20until%3A2018-10-01.\n",
      "INFO: Got 0 tweets (0 new).\n",
      "INFO: Got 0 tweets for Mad%20Skills%20Motocross%202%20since%3A2018-09-26%20until%3A2018-09-27.\n",
      "INFO: Got 0 tweets (0 new).\n",
      "INFO: Got 0 tweets for Mad%20Skills%20Motocross%202%20since%3A2018-09-28%20until%3A2018-09-29.\n",
      "INFO: Got 0 tweets (0 new).\n",
      "INFO: Got 1 tweets for Mad%20Skills%20Motocross%202%20since%3A2018-09-27%20until%3A2018-09-28.\n",
      "INFO: Got 1 tweets (1 new).\n"
     ]
    },
    {
     "name": "stdout",
     "output_type": "stream",
     "text": [
      "Mad Skills Motocross 2\n"
     ]
    },
    {
     "name": "stderr",
     "output_type": "stream",
     "text": [
      "INFO: queries: ['Sonic Dash 2: Sonic Boom since:2018-09-26 until:2018-09-27', 'Sonic Dash 2: Sonic Boom since:2018-09-27 until:2018-09-28', 'Sonic Dash 2: Sonic Boom since:2018-09-28 until:2018-09-29', 'Sonic Dash 2: Sonic Boom since:2018-09-29 until:2018-09-30', 'Sonic Dash 2: Sonic Boom since:2018-09-30 until:2018-10-01', 'Sonic Dash 2: Sonic Boom since:2018-10-01 until:2018-10-02', 'Sonic Dash 2: Sonic Boom since:2018-10-02 until:2018-10-03']\n",
      "INFO: Querying Sonic Dash 2: Sonic Boom since:2018-09-29 until:2018-09-30\n",
      "INFO: Querying Sonic Dash 2: Sonic Boom since:2018-09-28 until:2018-09-29\n",
      "INFO: Querying Sonic Dash 2: Sonic Boom since:2018-09-26 until:2018-09-27\n",
      "INFO: Querying Sonic Dash 2: Sonic Boom since:2018-09-27 until:2018-09-28\n",
      "INFO: Querying Sonic Dash 2: Sonic Boom since:2018-10-02 until:2018-10-03\n",
      "INFO: Querying Sonic Dash 2: Sonic Boom since:2018-10-01 until:2018-10-02\n",
      "INFO: Querying Sonic Dash 2: Sonic Boom since:2018-09-30 until:2018-10-01\n",
      "INFO: Got 0 tweets for Sonic%20Dash%202%3A%20Sonic%20Boom%20since%3A2018-09-30%20until%3A2018-10-01.\n",
      "INFO: Got 0 tweets (0 new).\n",
      "INFO: Got 0 tweets for Sonic%20Dash%202%3A%20Sonic%20Boom%20since%3A2018-09-28%20until%3A2018-09-29.\n",
      "INFO: Got 0 tweets (0 new).\n",
      "INFO: Got 3 tweets for Sonic%20Dash%202%3A%20Sonic%20Boom%20since%3A2018-10-02%20until%3A2018-10-03.\n",
      "INFO: Got 3 tweets (3 new).\n",
      "INFO: Got 1 tweets for Sonic%20Dash%202%3A%20Sonic%20Boom%20since%3A2018-09-26%20until%3A2018-09-27.\n",
      "INFO: Got 4 tweets (1 new).\n",
      "INFO: Got 1 tweets for Sonic%20Dash%202%3A%20Sonic%20Boom%20since%3A2018-09-29%20until%3A2018-09-30.\n",
      "INFO: Got 5 tweets (1 new).\n",
      "INFO: Got 1 tweets for Sonic%20Dash%202%3A%20Sonic%20Boom%20since%3A2018-09-27%20until%3A2018-09-28.\n",
      "INFO: Got 6 tweets (1 new).\n",
      "INFO: Got 3 tweets for Sonic%20Dash%202%3A%20Sonic%20Boom%20since%3A2018-10-01%20until%3A2018-10-02.\n",
      "INFO: Got 9 tweets (3 new).\n"
     ]
    },
    {
     "name": "stdout",
     "output_type": "stream",
     "text": [
      "Sonic Dash 2: Sonic Boom\n"
     ]
    },
    {
     "name": "stderr",
     "output_type": "stream",
     "text": [
      "INFO: queries: ['Fun Run 3: Arena Running Game since:2018-09-26 until:2018-09-27', 'Fun Run 3: Arena Running Game since:2018-09-27 until:2018-09-28', 'Fun Run 3: Arena Running Game since:2018-09-28 until:2018-09-29', 'Fun Run 3: Arena Running Game since:2018-09-29 until:2018-09-30', 'Fun Run 3: Arena Running Game since:2018-09-30 until:2018-10-01', 'Fun Run 3: Arena Running Game since:2018-10-01 until:2018-10-02', 'Fun Run 3: Arena Running Game since:2018-10-02 until:2018-10-03']\n",
      "INFO: Querying Fun Run 3: Arena Running Game since:2018-09-26 until:2018-09-27\n",
      "INFO: Querying Fun Run 3: Arena Running Game since:2018-09-28 until:2018-09-29\n",
      "INFO: Querying Fun Run 3: Arena Running Game since:2018-09-27 until:2018-09-28\n",
      "INFO: Querying Fun Run 3: Arena Running Game since:2018-10-01 until:2018-10-02\n",
      "INFO: Querying Fun Run 3: Arena Running Game since:2018-09-29 until:2018-09-30\n",
      "INFO: Querying Fun Run 3: Arena Running Game since:2018-10-02 until:2018-10-03\n",
      "INFO: Querying Fun Run 3: Arena Running Game since:2018-09-30 until:2018-10-01\n",
      "INFO: Got 0 tweets for Fun%20Run%203%3A%20Arena%20Running%20Game%20since%3A2018-10-02%20until%3A2018-10-03.\n",
      "INFO: Got 0 tweets (0 new).\n",
      "INFO: Got 0 tweets for Fun%20Run%203%3A%20Arena%20Running%20Game%20since%3A2018-09-28%20until%3A2018-09-29.\n",
      "INFO: Got 0 tweets (0 new).\n",
      "INFO: Got 0 tweets for Fun%20Run%203%3A%20Arena%20Running%20Game%20since%3A2018-09-29%20until%3A2018-09-30.\n",
      "INFO: Got 0 tweets (0 new).\n",
      "INFO: Got 0 tweets for Fun%20Run%203%3A%20Arena%20Running%20Game%20since%3A2018-09-27%20until%3A2018-09-28.\n",
      "INFO: Got 0 tweets (0 new).\n",
      "INFO: Got 0 tweets for Fun%20Run%203%3A%20Arena%20Running%20Game%20since%3A2018-10-01%20until%3A2018-10-02.\n",
      "INFO: Got 0 tweets (0 new).\n",
      "INFO: Got 0 tweets for Fun%20Run%203%3A%20Arena%20Running%20Game%20since%3A2018-09-26%20until%3A2018-09-27.\n",
      "INFO: Got 0 tweets (0 new).\n",
      "INFO: Got 0 tweets for Fun%20Run%203%3A%20Arena%20Running%20Game%20since%3A2018-09-30%20until%3A2018-10-01.\n",
      "INFO: Got 0 tweets (0 new).\n"
     ]
    },
    {
     "name": "stdout",
     "output_type": "stream",
     "text": [
      "Fun Run 3: Arena Running Game\n"
     ]
    },
    {
     "name": "stderr",
     "output_type": "stream",
     "text": [
      "INFO: queries: ['Block Сity Wars: game and skin export to minecraft since:2018-09-26 until:2018-09-27', 'Block Сity Wars: game and skin export to minecraft since:2018-09-27 until:2018-09-28', 'Block Сity Wars: game and skin export to minecraft since:2018-09-28 until:2018-09-29', 'Block Сity Wars: game and skin export to minecraft since:2018-09-29 until:2018-09-30', 'Block Сity Wars: game and skin export to minecraft since:2018-09-30 until:2018-10-01', 'Block Сity Wars: game and skin export to minecraft since:2018-10-01 until:2018-10-02', 'Block Сity Wars: game and skin export to minecraft since:2018-10-02 until:2018-10-03']\n",
      "INFO: Querying Block Сity Wars: game and skin export to minecraft since:2018-09-28 until:2018-09-29\n",
      "INFO: Querying Block Сity Wars: game and skin export to minecraft since:2018-09-27 until:2018-09-28\n",
      "INFO: Querying Block Сity Wars: game and skin export to minecraft since:2018-09-26 until:2018-09-27\n",
      "INFO: Querying Block Сity Wars: game and skin export to minecraft since:2018-09-29 until:2018-09-30\n",
      "INFO: Querying Block Сity Wars: game and skin export to minecraft since:2018-10-02 until:2018-10-03\n",
      "INFO: Querying Block Сity Wars: game and skin export to minecraft since:2018-09-30 until:2018-10-01\n",
      "INFO: Querying Block Сity Wars: game and skin export to minecraft since:2018-10-01 until:2018-10-02\n",
      "INFO: Got 0 tweets for Block%20Сity%20Wars%3A%20game%20and%20skin%20export%20to%20minecraft%20since%3A2018-09-28%20until%3A2018-09-29.\n",
      "INFO: Got 0 tweets (0 new).\n",
      "INFO: Got 0 tweets for Block%20Сity%20Wars%3A%20game%20and%20skin%20export%20to%20minecraft%20since%3A2018-09-29%20until%3A2018-09-30.\n",
      "INFO: Got 0 tweets (0 new).\n",
      "INFO: Got 0 tweets for Block%20Сity%20Wars%3A%20game%20and%20skin%20export%20to%20minecraft%20since%3A2018-09-27%20until%3A2018-09-28.\n",
      "INFO: Got 0 tweets (0 new).\n",
      "INFO: Got 0 tweets for Block%20Сity%20Wars%3A%20game%20and%20skin%20export%20to%20minecraft%20since%3A2018-09-30%20until%3A2018-10-01.\n",
      "INFO: Got 0 tweets (0 new).\n",
      "INFO: Got 0 tweets for Block%20Сity%20Wars%3A%20game%20and%20skin%20export%20to%20minecraft%20since%3A2018-09-26%20until%3A2018-09-27.\n",
      "INFO: Got 0 tweets (0 new).\n",
      "INFO: Got 0 tweets for Block%20Сity%20Wars%3A%20game%20and%20skin%20export%20to%20minecraft%20since%3A2018-10-01%20until%3A2018-10-02.\n",
      "INFO: Got 0 tweets (0 new).\n",
      "INFO: Got 0 tweets for Block%20Сity%20Wars%3A%20game%20and%20skin%20export%20to%20minecraft%20since%3A2018-10-02%20until%3A2018-10-03.\n",
      "INFO: Got 0 tweets (0 new).\n"
     ]
    },
    {
     "name": "stdout",
     "output_type": "stream",
     "text": [
      "Block Сity Wars: game and skin export to minecraft\n"
     ]
    },
    {
     "name": "stderr",
     "output_type": "stream",
     "text": [
      "INFO: queries: ['AddictingGames since:2018-09-26 until:2018-09-27', 'AddictingGames since:2018-09-27 until:2018-09-28', 'AddictingGames since:2018-09-28 until:2018-09-29', 'AddictingGames since:2018-09-29 until:2018-09-30', 'AddictingGames since:2018-09-30 until:2018-10-01', 'AddictingGames since:2018-10-01 until:2018-10-02', 'AddictingGames since:2018-10-02 until:2018-10-03']\n",
      "INFO: Querying AddictingGames since:2018-09-26 until:2018-09-27\n",
      "INFO: Querying AddictingGames since:2018-09-27 until:2018-09-28\n",
      "INFO: Querying AddictingGames since:2018-09-28 until:2018-09-29\n",
      "INFO: Querying AddictingGames since:2018-09-29 until:2018-09-30\n",
      "INFO: Querying AddictingGames since:2018-09-30 until:2018-10-01\n",
      "INFO: Querying AddictingGames since:2018-10-01 until:2018-10-02\n",
      "INFO: Querying AddictingGames since:2018-10-02 until:2018-10-03\n",
      "INFO: Got 1 tweets for AddictingGames%20since%3A2018-09-26%20until%3A2018-09-27.\n",
      "INFO: Got 1 tweets (1 new).\n",
      "INFO: Got 1 tweets for AddictingGames%20since%3A2018-10-02%20until%3A2018-10-03.\n",
      "INFO: Got 2 tweets (1 new).\n",
      "INFO: Got 2 tweets for AddictingGames%20since%3A2018-09-27%20until%3A2018-09-28.\n",
      "INFO: Got 4 tweets (2 new).\n",
      "INFO: Got 1 tweets for AddictingGames%20since%3A2018-09-28%20until%3A2018-09-29.\n",
      "INFO: Got 5 tweets (1 new).\n",
      "INFO: Got 1 tweets for AddictingGames%20since%3A2018-09-29%20until%3A2018-09-30.\n",
      "INFO: Got 6 tweets (1 new).\n",
      "INFO: Got 1 tweets for AddictingGames%20since%3A2018-09-30%20until%3A2018-10-01.\n",
      "INFO: Got 7 tweets (1 new).\n",
      "INFO: Got 2 tweets for AddictingGames%20since%3A2018-10-01%20until%3A2018-10-02.\n",
      "INFO: Got 9 tweets (2 new).\n"
     ]
    },
    {
     "name": "stdout",
     "output_type": "stream",
     "text": [
      "AddictingGames\n"
     ]
    },
    {
     "name": "stderr",
     "output_type": "stream",
     "text": [
      "INFO: queries: ['WWE Immortals since:2018-09-26 until:2018-09-27', 'WWE Immortals since:2018-09-27 until:2018-09-28', 'WWE Immortals since:2018-09-28 until:2018-09-29', 'WWE Immortals since:2018-09-29 until:2018-09-30', 'WWE Immortals since:2018-09-30 until:2018-10-01', 'WWE Immortals since:2018-10-01 until:2018-10-02', 'WWE Immortals since:2018-10-02 until:2018-10-03']\n",
      "INFO: Querying WWE Immortals since:2018-09-27 until:2018-09-28\n",
      "INFO: Querying WWE Immortals since:2018-09-29 until:2018-09-30\n",
      "INFO: Querying WWE Immortals since:2018-09-26 until:2018-09-27\n",
      "INFO: Querying WWE Immortals since:2018-09-30 until:2018-10-01\n",
      "INFO: Querying WWE Immortals since:2018-10-01 until:2018-10-02\n",
      "INFO: Querying WWE Immortals since:2018-10-02 until:2018-10-03\n",
      "INFO: Querying WWE Immortals since:2018-09-28 until:2018-09-29\n",
      "INFO: Got 3 tweets for WWE%20Immortals%20since%3A2018-09-29%20until%3A2018-09-30.\n",
      "INFO: Got 3 tweets (3 new).\n",
      "INFO: Got 2 tweets for WWE%20Immortals%20since%3A2018-09-27%20until%3A2018-09-28.\n",
      "INFO: Got 5 tweets (2 new).\n",
      "INFO: Got 1 tweets for WWE%20Immortals%20since%3A2018-10-02%20until%3A2018-10-03.\n",
      "INFO: Got 6 tweets (1 new).\n",
      "INFO: Got 1 tweets for WWE%20Immortals%20since%3A2018-09-28%20until%3A2018-09-29.\n",
      "INFO: Got 7 tweets (1 new).\n",
      "INFO: Got 2 tweets for WWE%20Immortals%20since%3A2018-10-01%20until%3A2018-10-02.\n",
      "INFO: Got 9 tweets (2 new).\n",
      "INFO: Got 3 tweets for WWE%20Immortals%20since%3A2018-09-30%20until%3A2018-10-01.\n",
      "INFO: Got 12 tweets (3 new).\n",
      "INFO: Got 1 tweets for WWE%20Immortals%20since%3A2018-09-26%20until%3A2018-09-27.\n",
      "INFO: Got 13 tweets (1 new).\n"
     ]
    },
    {
     "name": "stdout",
     "output_type": "stream",
     "text": [
      "WWE Immortals\n"
     ]
    },
    {
     "name": "stderr",
     "output_type": "stream",
     "text": [
      "INFO: queries: ['Injustice 2 since:2018-09-26 until:2018-09-27', 'Injustice 2 since:2018-09-27 until:2018-09-28', 'Injustice 2 since:2018-09-28 until:2018-09-29', 'Injustice 2 since:2018-09-29 until:2018-09-30', 'Injustice 2 since:2018-09-30 until:2018-10-01', 'Injustice 2 since:2018-10-01 until:2018-10-02', 'Injustice 2 since:2018-10-02 until:2018-10-03']\n",
      "INFO: Querying Injustice 2 since:2018-09-26 until:2018-09-27\n",
      "INFO: Querying Injustice 2 since:2018-09-30 until:2018-10-01\n",
      "INFO: Querying Injustice 2 since:2018-09-27 until:2018-09-28\n",
      "INFO: Querying Injustice 2 since:2018-09-29 until:2018-09-30\n",
      "INFO: Querying Injustice 2 since:2018-09-28 until:2018-09-29\n",
      "INFO: Querying Injustice 2 since:2018-10-02 until:2018-10-03\n",
      "INFO: Querying Injustice 2 since:2018-10-01 until:2018-10-02\n",
      "INFO: Got 173 tweets for Injustice%202%20since%3A2018-09-26%20until%3A2018-09-27.\n",
      "INFO: Got 173 tweets (173 new).\n",
      "INFO: Got 178 tweets for Injustice%202%20since%3A2018-10-02%20until%3A2018-10-03.\n",
      "INFO: Got 351 tweets (178 new).\n",
      "INFO: Got 178 tweets for Injustice%202%20since%3A2018-10-01%20until%3A2018-10-02.\n",
      "INFO: Got 529 tweets (178 new).\n",
      "INFO: Got 197 tweets for Injustice%202%20since%3A2018-09-30%20until%3A2018-10-01.\n",
      "INFO: Got 726 tweets (197 new).\n",
      "INFO: Got 207 tweets for Injustice%202%20since%3A2018-09-28%20until%3A2018-09-29.\n",
      "INFO: Got 933 tweets (207 new).\n",
      "INFO: Got 222 tweets for Injustice%202%20since%3A2018-09-27%20until%3A2018-09-28.\n",
      "INFO: Got 1155 tweets (222 new).\n",
      "INFO: Got 248 tweets for Injustice%202%20since%3A2018-09-29%20until%3A2018-09-30.\n",
      "INFO: Got 1403 tweets (248 new).\n"
     ]
    },
    {
     "name": "stdout",
     "output_type": "stream",
     "text": [
      "Injustice 2\n"
     ]
    },
    {
     "name": "stderr",
     "output_type": "stream",
     "text": [
      "INFO: queries: ['Sniper Fury since:2018-09-26 until:2018-09-27', 'Sniper Fury since:2018-09-27 until:2018-09-28', 'Sniper Fury since:2018-09-28 until:2018-09-29', 'Sniper Fury since:2018-09-29 until:2018-09-30', 'Sniper Fury since:2018-09-30 until:2018-10-01', 'Sniper Fury since:2018-10-01 until:2018-10-02', 'Sniper Fury since:2018-10-02 until:2018-10-03']\n",
      "INFO: Querying Sniper Fury since:2018-09-27 until:2018-09-28\n",
      "INFO: Querying Sniper Fury since:2018-09-28 until:2018-09-29\n",
      "INFO: Querying Sniper Fury since:2018-09-30 until:2018-10-01\n",
      "INFO: Querying Sniper Fury since:2018-09-26 until:2018-09-27\n",
      "INFO: Querying Sniper Fury since:2018-09-29 until:2018-09-30\n",
      "INFO: Querying Sniper Fury since:2018-10-02 until:2018-10-03\n",
      "INFO: Querying Sniper Fury since:2018-10-01 until:2018-10-02\n",
      "INFO: Got 0 tweets for Sniper%20Fury%20since%3A2018-10-01%20until%3A2018-10-02.\n",
      "INFO: Got 0 tweets (0 new).\n",
      "INFO: Got 1 tweets for Sniper%20Fury%20since%3A2018-09-28%20until%3A2018-09-29.\n",
      "INFO: Got 1 tweets (1 new).\n",
      "INFO: Got 2 tweets for Sniper%20Fury%20since%3A2018-09-30%20until%3A2018-10-01.\n",
      "INFO: Got 3 tweets (2 new).\n",
      "INFO: Got 3 tweets for Sniper%20Fury%20since%3A2018-10-02%20until%3A2018-10-03.\n",
      "INFO: Got 6 tweets (3 new).\n",
      "INFO: Got 3 tweets for Sniper%20Fury%20since%3A2018-09-26%20until%3A2018-09-27.\n",
      "INFO: Got 9 tweets (3 new).\n",
      "INFO: Got 2 tweets for Sniper%20Fury%20since%3A2018-09-27%20until%3A2018-09-28.\n",
      "INFO: Got 11 tweets (2 new).\n",
      "INFO: Got 8 tweets for Sniper%20Fury%20since%3A2018-09-29%20until%3A2018-09-30.\n",
      "INFO: Got 19 tweets (8 new).\n"
     ]
    },
    {
     "name": "stdout",
     "output_type": "stream",
     "text": [
      "Sniper Fury\n"
     ]
    },
    {
     "name": "stderr",
     "output_type": "stream",
     "text": [
      "INFO: queries: ['MARVEL Future Fight since:2018-09-26 until:2018-09-27', 'MARVEL Future Fight since:2018-09-27 until:2018-09-28', 'MARVEL Future Fight since:2018-09-28 until:2018-09-29', 'MARVEL Future Fight since:2018-09-29 until:2018-09-30', 'MARVEL Future Fight since:2018-09-30 until:2018-10-01', 'MARVEL Future Fight since:2018-10-01 until:2018-10-02', 'MARVEL Future Fight since:2018-10-02 until:2018-10-03']\n",
      "INFO: Querying MARVEL Future Fight since:2018-09-29 until:2018-09-30\n",
      "INFO: Querying MARVEL Future Fight since:2018-09-27 until:2018-09-28\n",
      "INFO: Querying MARVEL Future Fight since:2018-09-28 until:2018-09-29\n",
      "INFO: Querying MARVEL Future Fight since:2018-09-26 until:2018-09-27\n",
      "INFO: Querying MARVEL Future Fight since:2018-10-01 until:2018-10-02\n",
      "INFO: Querying MARVEL Future Fight since:2018-09-30 until:2018-10-01\n",
      "INFO: Querying MARVEL Future Fight since:2018-10-02 until:2018-10-03\n",
      "INFO: Got 29 tweets for MARVEL%20Future%20Fight%20since%3A2018-09-29%20until%3A2018-09-30.\n",
      "INFO: Got 29 tweets (29 new).\n",
      "INFO: Got 34 tweets for MARVEL%20Future%20Fight%20since%3A2018-10-02%20until%3A2018-10-03.\n",
      "INFO: Got 63 tweets (34 new).\n",
      "INFO: Got 38 tweets for MARVEL%20Future%20Fight%20since%3A2018-09-28%20until%3A2018-09-29.\n",
      "INFO: Got 101 tweets (38 new).\n",
      "INFO: Got 43 tweets for MARVEL%20Future%20Fight%20since%3A2018-09-27%20until%3A2018-09-28.\n",
      "INFO: Got 144 tweets (43 new).\n",
      "INFO: Got 47 tweets for MARVEL%20Future%20Fight%20since%3A2018-09-30%20until%3A2018-10-01.\n",
      "INFO: Got 191 tweets (47 new).\n",
      "INFO: Got 47 tweets for MARVEL%20Future%20Fight%20since%3A2018-09-26%20until%3A2018-09-27.\n",
      "INFO: Got 238 tweets (47 new).\n",
      "INFO: Got 70 tweets for MARVEL%20Future%20Fight%20since%3A2018-10-01%20until%3A2018-10-02.\n",
      "INFO: Got 308 tweets (70 new).\n"
     ]
    },
    {
     "name": "stdout",
     "output_type": "stream",
     "text": [
      "MARVEL Future Fight\n"
     ]
    },
    {
     "name": "stderr",
     "output_type": "stream",
     "text": [
      "INFO: queries: ['Overkill since:2018-09-26 until:2018-09-27', 'Overkill since:2018-09-27 until:2018-09-28', 'Overkill since:2018-09-28 until:2018-09-29', 'Overkill since:2018-09-29 until:2018-09-30', 'Overkill since:2018-09-30 until:2018-10-01', 'Overkill since:2018-10-01 until:2018-10-02', 'Overkill since:2018-10-02 until:2018-10-03']\n",
      "INFO: Querying Overkill since:2018-09-27 until:2018-09-28\n",
      "INFO: Querying Overkill since:2018-09-26 until:2018-09-27\n",
      "INFO: Querying Overkill since:2018-09-28 until:2018-09-29\n",
      "INFO: Querying Overkill since:2018-09-30 until:2018-10-01\n",
      "INFO: Querying Overkill since:2018-09-29 until:2018-09-30\n",
      "INFO: Querying Overkill since:2018-10-01 until:2018-10-02\n",
      "INFO: Querying Overkill since:2018-10-02 until:2018-10-03\n",
      "INFO: Got 610 tweets for Overkill%20since%3A2018-09-29%20until%3A2018-09-30.\n",
      "INFO: Got 610 tweets (610 new).\n",
      "INFO: Got 635 tweets for Overkill%20since%3A2018-09-30%20until%3A2018-10-01.\n",
      "INFO: Got 1245 tweets (635 new).\n",
      "INFO: Got 676 tweets for Overkill%20since%3A2018-10-01%20until%3A2018-10-02.\n",
      "INFO: Got 1921 tweets (676 new).\n",
      "INFO: Got 761 tweets for Overkill%20since%3A2018-10-02%20until%3A2018-10-03.\n",
      "INFO: Got 2682 tweets (761 new).\n",
      "INFO: Got 783 tweets for Overkill%20since%3A2018-09-28%20until%3A2018-09-29.\n",
      "INFO: Got 3465 tweets (783 new).\n",
      "INFO: Got 849 tweets for Overkill%20since%3A2018-09-26%20until%3A2018-09-27.\n",
      "INFO: Got 4314 tweets (849 new).\n",
      "INFO: Got 968 tweets for Overkill%20since%3A2018-09-27%20until%3A2018-09-28.\n",
      "INFO: Got 5282 tweets (968 new).\n"
     ]
    },
    {
     "name": "stdout",
     "output_type": "stream",
     "text": [
      "Overkill\n"
     ]
    },
    {
     "name": "stderr",
     "output_type": "stream",
     "text": [
      "INFO: queries: ['Last Day on Earth: Survival since:2018-09-26 until:2018-09-27', 'Last Day on Earth: Survival since:2018-09-27 until:2018-09-28', 'Last Day on Earth: Survival since:2018-09-28 until:2018-09-29', 'Last Day on Earth: Survival since:2018-09-29 until:2018-09-30', 'Last Day on Earth: Survival since:2018-09-30 until:2018-10-01', 'Last Day on Earth: Survival since:2018-10-01 until:2018-10-02', 'Last Day on Earth: Survival since:2018-10-02 until:2018-10-03']\n",
      "INFO: Querying Last Day on Earth: Survival since:2018-09-27 until:2018-09-28\n",
      "INFO: Querying Last Day on Earth: Survival since:2018-09-30 until:2018-10-01\n",
      "INFO: Querying Last Day on Earth: Survival since:2018-09-29 until:2018-09-30\n",
      "INFO: Querying Last Day on Earth: Survival since:2018-09-26 until:2018-09-27\n",
      "INFO: Querying Last Day on Earth: Survival since:2018-09-28 until:2018-09-29\n",
      "INFO: Querying Last Day on Earth: Survival since:2018-10-02 until:2018-10-03\n",
      "INFO: Querying Last Day on Earth: Survival since:2018-10-01 until:2018-10-02\n",
      "INFO: Got 19 tweets for Last%20Day%20on%20Earth%3A%20Survival%20since%3A2018-09-30%20until%3A2018-10-01.\n",
      "INFO: Got 19 tweets (19 new).\n",
      "INFO: Got 16 tweets for Last%20Day%20on%20Earth%3A%20Survival%20since%3A2018-09-26%20until%3A2018-09-27.\n",
      "INFO: Got 35 tweets (16 new).\n",
      "INFO: Got 22 tweets for Last%20Day%20on%20Earth%3A%20Survival%20since%3A2018-09-29%20until%3A2018-09-30.\n",
      "INFO: Got 57 tweets (22 new).\n",
      "INFO: Got 32 tweets for Last%20Day%20on%20Earth%3A%20Survival%20since%3A2018-10-02%20until%3A2018-10-03.\n",
      "INFO: Got 89 tweets (32 new).\n",
      "INFO: Got 33 tweets for Last%20Day%20on%20Earth%3A%20Survival%20since%3A2018-09-28%20until%3A2018-09-29.\n",
      "INFO: Got 122 tweets (33 new).\n",
      "INFO: Got 21 tweets for Last%20Day%20on%20Earth%3A%20Survival%20since%3A2018-10-01%20until%3A2018-10-02.\n",
      "INFO: Got 26 tweets for Last%20Day%20on%20Earth%3A%20Survival%20since%3A2018-09-27%20until%3A2018-09-28.\n",
      "INFO: Got 143 tweets (21 new).\n",
      "INFO: Got 169 tweets (26 new).\n"
     ]
    },
    {
     "name": "stdout",
     "output_type": "stream",
     "text": [
      "Last Day on Earth: Survival\n"
     ]
    },
    {
     "name": "stderr",
     "output_type": "stream",
     "text": [
      "INFO: queries: ['Pineapple Pen since:2018-09-26 until:2018-09-27', 'Pineapple Pen since:2018-09-27 until:2018-09-28', 'Pineapple Pen since:2018-09-28 until:2018-09-29', 'Pineapple Pen since:2018-09-29 until:2018-09-30', 'Pineapple Pen since:2018-09-30 until:2018-10-01', 'Pineapple Pen since:2018-10-01 until:2018-10-02', 'Pineapple Pen since:2018-10-02 until:2018-10-03']\n",
      "INFO: Querying Pineapple Pen since:2018-09-26 until:2018-09-27\n",
      "INFO: Querying Pineapple Pen since:2018-09-28 until:2018-09-29\n",
      "INFO: Querying Pineapple Pen since:2018-09-27 until:2018-09-28\n",
      "INFO: Querying Pineapple Pen since:2018-09-29 until:2018-09-30\n",
      "INFO: Querying Pineapple Pen since:2018-10-02 until:2018-10-03\n",
      "INFO: Querying Pineapple Pen since:2018-09-30 until:2018-10-01\n",
      "INFO: Querying Pineapple Pen since:2018-10-01 until:2018-10-02\n",
      "INFO: Got 37 tweets for Pineapple%20Pen%20since%3A2018-09-26%20until%3A2018-09-27.\n",
      "INFO: Got 37 tweets (37 new).\n",
      "INFO: Got 49 tweets for Pineapple%20Pen%20since%3A2018-10-02%20until%3A2018-10-03.\n",
      "INFO: Got 86 tweets (49 new).\n",
      "INFO: Got 51 tweets for Pineapple%20Pen%20since%3A2018-09-30%20until%3A2018-10-01.\n",
      "INFO: Got 137 tweets (51 new).\n",
      "INFO: Got 46 tweets for Pineapple%20Pen%20since%3A2018-09-28%20until%3A2018-09-29.\n",
      "INFO: Got 183 tweets (46 new).\n",
      "INFO: Got 53 tweets for Pineapple%20Pen%20since%3A2018-10-01%20until%3A2018-10-02.\n",
      "INFO: Got 236 tweets (53 new).\n",
      "INFO: Got 48 tweets for Pineapple%20Pen%20since%3A2018-09-27%20until%3A2018-09-28.\n",
      "INFO: Got 284 tweets (48 new).\n",
      "INFO: Got 72 tweets for Pineapple%20Pen%20since%3A2018-09-29%20until%3A2018-09-30.\n",
      "INFO: Got 356 tweets (72 new).\n"
     ]
    },
    {
     "name": "stdout",
     "output_type": "stream",
     "text": [
      "Pineapple Pen\n"
     ]
    },
    {
     "name": "stderr",
     "output_type": "stream",
     "text": [
      "INFO: queries: ['Creative Destruction since:2018-09-26 until:2018-09-27', 'Creative Destruction since:2018-09-27 until:2018-09-28', 'Creative Destruction since:2018-09-28 until:2018-09-29', 'Creative Destruction since:2018-09-29 until:2018-09-30', 'Creative Destruction since:2018-09-30 until:2018-10-01', 'Creative Destruction since:2018-10-01 until:2018-10-02', 'Creative Destruction since:2018-10-02 until:2018-10-03']\n",
      "INFO: Querying Creative Destruction since:2018-09-27 until:2018-09-28\n",
      "INFO: Querying Creative Destruction since:2018-09-26 until:2018-09-27\n",
      "INFO: Querying Creative Destruction since:2018-09-28 until:2018-09-29\n",
      "INFO: Querying Creative Destruction since:2018-10-01 until:2018-10-02\n",
      "INFO: Querying Creative Destruction since:2018-10-02 until:2018-10-03\n",
      "INFO: Querying Creative Destruction since:2018-09-29 until:2018-09-30\n",
      "INFO: Querying Creative Destruction since:2018-09-30 until:2018-10-01\n",
      "INFO: Got 139 tweets for Creative%20Destruction%20since%3A2018-09-28%20until%3A2018-09-29.\n",
      "INFO: Got 139 tweets (139 new).\n",
      "INFO: Got 158 tweets for Creative%20Destruction%20since%3A2018-10-02%20until%3A2018-10-03.\n",
      "INFO: Got 297 tweets (158 new).\n",
      "INFO: Got 159 tweets for Creative%20Destruction%20since%3A2018-10-01%20until%3A2018-10-02.\n",
      "INFO: Got 456 tweets (159 new).\n",
      "INFO: Got 165 tweets for Creative%20Destruction%20since%3A2018-09-27%20until%3A2018-09-28.\n",
      "INFO: Got 621 tweets (165 new).\n",
      "INFO: Got 180 tweets for Creative%20Destruction%20since%3A2018-09-29%20until%3A2018-09-30.\n",
      "INFO: Got 801 tweets (180 new).\n",
      "INFO: Got 197 tweets for Creative%20Destruction%20since%3A2018-09-30%20until%3A2018-10-01.\n",
      "INFO: Got 998 tweets (197 new).\n",
      "INFO: Got 167 tweets for Creative%20Destruction%20since%3A2018-09-26%20until%3A2018-09-27.\n",
      "INFO: Got 1165 tweets (167 new).\n"
     ]
    },
    {
     "name": "stdout",
     "output_type": "stream",
     "text": [
      "Creative Destruction\n"
     ]
    },
    {
     "name": "stderr",
     "output_type": "stream",
     "text": [
      "INFO: queries: ['StickWars Lite since:2018-09-26 until:2018-09-27', 'StickWars Lite since:2018-09-27 until:2018-09-28', 'StickWars Lite since:2018-09-28 until:2018-09-29', 'StickWars Lite since:2018-09-29 until:2018-09-30', 'StickWars Lite since:2018-09-30 until:2018-10-01', 'StickWars Lite since:2018-10-01 until:2018-10-02', 'StickWars Lite since:2018-10-02 until:2018-10-03']\n",
      "INFO: Querying StickWars Lite since:2018-09-27 until:2018-09-28\n",
      "INFO: Querying StickWars Lite since:2018-09-26 until:2018-09-27\n",
      "INFO: Querying StickWars Lite since:2018-09-28 until:2018-09-29\n",
      "INFO: Querying StickWars Lite since:2018-10-01 until:2018-10-02\n",
      "INFO: Querying StickWars Lite since:2018-09-30 until:2018-10-01\n",
      "INFO: Querying StickWars Lite since:2018-10-02 until:2018-10-03\n",
      "INFO: Querying StickWars Lite since:2018-09-29 until:2018-09-30\n",
      "INFO: Got 0 tweets for StickWars%20Lite%20since%3A2018-09-27%20until%3A2018-09-28.\n",
      "INFO: Got 0 tweets (0 new).\n",
      "INFO: Got 0 tweets for StickWars%20Lite%20since%3A2018-10-02%20until%3A2018-10-03.\n",
      "INFO: Got 0 tweets (0 new).\n",
      "INFO: Got 0 tweets for StickWars%20Lite%20since%3A2018-09-28%20until%3A2018-09-29.\n",
      "INFO: Got 0 tweets (0 new).\n",
      "INFO: Got 0 tweets for StickWars%20Lite%20since%3A2018-09-29%20until%3A2018-09-30.\n",
      "INFO: Got 0 tweets (0 new).\n",
      "INFO: Got 0 tweets for StickWars%20Lite%20since%3A2018-09-26%20until%3A2018-09-27.\n",
      "INFO: Got 0 tweets (0 new).\n",
      "INFO: Got 0 tweets for StickWars%20Lite%20since%3A2018-09-30%20until%3A2018-10-01.\n",
      "INFO: Got 0 tweets (0 new).\n",
      "INFO: Got 0 tweets for StickWars%20Lite%20since%3A2018-10-01%20until%3A2018-10-02.\n",
      "INFO: Got 0 tweets (0 new).\n"
     ]
    },
    {
     "name": "stdout",
     "output_type": "stream",
     "text": [
      "StickWars Lite\n"
     ]
    },
    {
     "name": "stderr",
     "output_type": "stream",
     "text": [
      "INFO: queries: ['Vector for iPhone Free since:2018-09-26 until:2018-09-27', 'Vector for iPhone Free since:2018-09-27 until:2018-09-28', 'Vector for iPhone Free since:2018-09-28 until:2018-09-29', 'Vector for iPhone Free since:2018-09-29 until:2018-09-30', 'Vector for iPhone Free since:2018-09-30 until:2018-10-01', 'Vector for iPhone Free since:2018-10-01 until:2018-10-02', 'Vector for iPhone Free since:2018-10-02 until:2018-10-03']\n",
      "INFO: Querying Vector for iPhone Free since:2018-10-02 until:2018-10-03\n",
      "INFO: Querying Vector for iPhone Free since:2018-09-30 until:2018-10-01\n",
      "INFO: Querying Vector for iPhone Free since:2018-09-26 until:2018-09-27\n",
      "INFO: Querying Vector for iPhone Free since:2018-09-27 until:2018-09-28\n",
      "INFO: Querying Vector for iPhone Free since:2018-10-01 until:2018-10-02\n",
      "INFO: Querying Vector for iPhone Free since:2018-09-29 until:2018-09-30\n",
      "INFO: Querying Vector for iPhone Free since:2018-09-28 until:2018-09-29\n",
      "INFO: Got 0 tweets for Vector%20for%20iPhone%20Free%20since%3A2018-10-02%20until%3A2018-10-03.\n",
      "INFO: Got 0 tweets (0 new).\n",
      "INFO: Got 0 tweets for Vector%20for%20iPhone%20Free%20since%3A2018-10-01%20until%3A2018-10-02.\n",
      "INFO: Got 0 tweets (0 new).\n",
      "INFO: Got 0 tweets for Vector%20for%20iPhone%20Free%20since%3A2018-09-30%20until%3A2018-10-01.\n",
      "INFO: Got 0 tweets (0 new).\n",
      "INFO: Got 0 tweets for Vector%20for%20iPhone%20Free%20since%3A2018-09-28%20until%3A2018-09-29.\n",
      "INFO: Got 0 tweets (0 new).\n",
      "INFO: Got 0 tweets for Vector%20for%20iPhone%20Free%20since%3A2018-09-27%20until%3A2018-09-28.\n",
      "INFO: Got 0 tweets (0 new).\n",
      "INFO: Got 0 tweets for Vector%20for%20iPhone%20Free%20since%3A2018-09-29%20until%3A2018-09-30.\n",
      "INFO: Got 0 tweets (0 new).\n",
      "INFO: Got 1 tweets for Vector%20for%20iPhone%20Free%20since%3A2018-09-26%20until%3A2018-09-27.\n",
      "INFO: Got 1 tweets (1 new).\n"
     ]
    },
    {
     "name": "stdout",
     "output_type": "stream",
     "text": [
      "Vector for iPhone Free\n"
     ]
    },
    {
     "name": "stderr",
     "output_type": "stream",
     "text": [
      "INFO: queries: ['Rapala Fishing - Daily Catch since:2018-09-26 until:2018-09-27', 'Rapala Fishing - Daily Catch since:2018-09-27 until:2018-09-28', 'Rapala Fishing - Daily Catch since:2018-09-28 until:2018-09-29', 'Rapala Fishing - Daily Catch since:2018-09-29 until:2018-09-30', 'Rapala Fishing - Daily Catch since:2018-09-30 until:2018-10-01', 'Rapala Fishing - Daily Catch since:2018-10-01 until:2018-10-02', 'Rapala Fishing - Daily Catch since:2018-10-02 until:2018-10-03']\n",
      "INFO: Querying Rapala Fishing - Daily Catch since:2018-09-26 until:2018-09-27\n",
      "INFO: Querying Rapala Fishing - Daily Catch since:2018-09-29 until:2018-09-30\n",
      "INFO: Querying Rapala Fishing - Daily Catch since:2018-09-27 until:2018-09-28\n",
      "INFO: Querying Rapala Fishing - Daily Catch since:2018-09-30 until:2018-10-01\n",
      "INFO: Querying Rapala Fishing - Daily Catch since:2018-10-01 until:2018-10-02\n",
      "INFO: Querying Rapala Fishing - Daily Catch since:2018-09-28 until:2018-09-29\n",
      "INFO: Querying Rapala Fishing - Daily Catch since:2018-10-02 until:2018-10-03\n",
      "INFO: Got 0 tweets for Rapala%20Fishing%20-%20Daily%20Catch%20since%3A2018-09-28%20until%3A2018-09-29.\n",
      "INFO: Got 0 tweets (0 new).\n",
      "INFO: Got 0 tweets for Rapala%20Fishing%20-%20Daily%20Catch%20since%3A2018-09-29%20until%3A2018-09-30.\n",
      "INFO: Got 0 tweets (0 new).\n",
      "INFO: Got 1 tweets for Rapala%20Fishing%20-%20Daily%20Catch%20since%3A2018-09-30%20until%3A2018-10-01.\n",
      "INFO: Got 1 tweets (1 new).\n",
      "INFO: Got 1 tweets for Rapala%20Fishing%20-%20Daily%20Catch%20since%3A2018-10-02%20until%3A2018-10-03.\n",
      "INFO: Got 2 tweets (1 new).\n",
      "INFO: Got 2 tweets for Rapala%20Fishing%20-%20Daily%20Catch%20since%3A2018-09-27%20until%3A2018-09-28.\n",
      "INFO: Got 4 tweets (2 new).\n",
      "INFO: Got 2 tweets for Rapala%20Fishing%20-%20Daily%20Catch%20since%3A2018-09-26%20until%3A2018-09-27.\n",
      "INFO: Got 6 tweets (2 new).\n",
      "INFO: Got 1 tweets for Rapala%20Fishing%20-%20Daily%20Catch%20since%3A2018-10-01%20until%3A2018-10-02.\n",
      "INFO: Got 7 tweets (1 new).\n"
     ]
    },
    {
     "name": "stdout",
     "output_type": "stream",
     "text": [
      "Rapala Fishing - Daily Catch\n"
     ]
    },
    {
     "name": "stderr",
     "output_type": "stream",
     "text": [
      "INFO: queries: ['Doodle Army 2 : Mini Militia since:2018-09-26 until:2018-09-27', 'Doodle Army 2 : Mini Militia since:2018-09-27 until:2018-09-28', 'Doodle Army 2 : Mini Militia since:2018-09-28 until:2018-09-29', 'Doodle Army 2 : Mini Militia since:2018-09-29 until:2018-09-30', 'Doodle Army 2 : Mini Militia since:2018-09-30 until:2018-10-01', 'Doodle Army 2 : Mini Militia since:2018-10-01 until:2018-10-02', 'Doodle Army 2 : Mini Militia since:2018-10-02 until:2018-10-03']\n",
      "INFO: Querying Doodle Army 2 : Mini Militia since:2018-09-26 until:2018-09-27\n",
      "INFO: Querying Doodle Army 2 : Mini Militia since:2018-09-27 until:2018-09-28\n",
      "INFO: Querying Doodle Army 2 : Mini Militia since:2018-09-30 until:2018-10-01\n",
      "INFO: Querying Doodle Army 2 : Mini Militia since:2018-09-28 until:2018-09-29\n",
      "INFO: Querying Doodle Army 2 : Mini Militia since:2018-10-02 until:2018-10-03\n",
      "INFO: Querying Doodle Army 2 : Mini Militia since:2018-10-01 until:2018-10-02\n",
      "INFO: Querying Doodle Army 2 : Mini Militia since:2018-09-29 until:2018-09-30\n",
      "INFO: Got 0 tweets for Doodle%20Army%202%20%3A%20Mini%20Militia%20since%3A2018-09-27%20until%3A2018-09-28.\n",
      "INFO: Got 0 tweets (0 new).\n",
      "INFO: Got 2 tweets for Doodle%20Army%202%20%3A%20Mini%20Militia%20since%3A2018-10-01%20until%3A2018-10-02.\n",
      "INFO: Got 2 tweets (2 new).\n",
      "INFO: Got 4 tweets for Doodle%20Army%202%20%3A%20Mini%20Militia%20since%3A2018-09-28%20until%3A2018-09-29.\n",
      "INFO: Got 6 tweets (4 new).\n",
      "INFO: Got 2 tweets for Doodle%20Army%202%20%3A%20Mini%20Militia%20since%3A2018-09-26%20until%3A2018-09-27.\n",
      "INFO: Got 8 tweets (2 new).\n",
      "INFO: Got 1 tweets for Doodle%20Army%202%20%3A%20Mini%20Militia%20since%3A2018-10-02%20until%3A2018-10-03.\n",
      "INFO: Got 9 tweets (1 new).\n",
      "INFO: Got 3 tweets for Doodle%20Army%202%20%3A%20Mini%20Militia%20since%3A2018-09-29%20until%3A2018-09-30.\n",
      "INFO: Got 12 tweets (3 new).\n",
      "INFO: Got 3 tweets for Doodle%20Army%202%20%3A%20Mini%20Militia%20since%3A2018-09-30%20until%3A2018-10-01.\n",
      "INFO: Got 15 tweets (3 new).\n"
     ]
    },
    {
     "name": "stdout",
     "output_type": "stream",
     "text": [
      "Doodle Army 2 : Mini Militia\n"
     ]
    },
    {
     "name": "stderr",
     "output_type": "stream",
     "text": [
      "INFO: queries: ['Cut the Rope: Time Travel™ since:2018-09-26 until:2018-09-27', 'Cut the Rope: Time Travel™ since:2018-09-27 until:2018-09-28', 'Cut the Rope: Time Travel™ since:2018-09-28 until:2018-09-29', 'Cut the Rope: Time Travel™ since:2018-09-29 until:2018-09-30', 'Cut the Rope: Time Travel™ since:2018-09-30 until:2018-10-01', 'Cut the Rope: Time Travel™ since:2018-10-01 until:2018-10-02', 'Cut the Rope: Time Travel™ since:2018-10-02 until:2018-10-03']\n",
      "INFO: Querying Cut the Rope: Time Travel™ since:2018-09-28 until:2018-09-29\n",
      "INFO: Querying Cut the Rope: Time Travel™ since:2018-09-26 until:2018-09-27\n",
      "INFO: Querying Cut the Rope: Time Travel™ since:2018-09-29 until:2018-09-30\n",
      "INFO: Querying Cut the Rope: Time Travel™ since:2018-09-27 until:2018-09-28\n",
      "INFO: Querying Cut the Rope: Time Travel™ since:2018-10-02 until:2018-10-03\n",
      "INFO: Querying Cut the Rope: Time Travel™ since:2018-09-30 until:2018-10-01\n",
      "INFO: Querying Cut the Rope: Time Travel™ since:2018-10-01 until:2018-10-02\n",
      "INFO: Got 0 tweets for Cut%20the%20Rope%3A%20Time%20Travel™%20since%3A2018-10-02%20until%3A2018-10-03.\n",
      "INFO: Got 0 tweets (0 new).\n",
      "INFO: Got 0 tweets for Cut%20the%20Rope%3A%20Time%20Travel™%20since%3A2018-09-28%20until%3A2018-09-29.\n",
      "INFO: Got 0 tweets (0 new).\n",
      "INFO: Got 0 tweets for Cut%20the%20Rope%3A%20Time%20Travel™%20since%3A2018-10-01%20until%3A2018-10-02.\n",
      "INFO: Got 0 tweets (0 new).\n",
      "INFO: Got 0 tweets for Cut%20the%20Rope%3A%20Time%20Travel™%20since%3A2018-09-27%20until%3A2018-09-28.\n",
      "INFO: Got 0 tweets (0 new).\n",
      "INFO: Got 0 tweets for Cut%20the%20Rope%3A%20Time%20Travel™%20since%3A2018-09-26%20until%3A2018-09-27.\n",
      "INFO: Got 0 tweets for Cut%20the%20Rope%3A%20Time%20Travel™%20since%3A2018-09-29%20until%3A2018-09-30.\n",
      "INFO: Got 0 tweets (0 new).\n",
      "INFO: Got 0 tweets (0 new).\n",
      "INFO: Got 0 tweets for Cut%20the%20Rope%3A%20Time%20Travel™%20since%3A2018-09-30%20until%3A2018-10-01.\n",
      "INFO: Got 0 tweets (0 new).\n"
     ]
    },
    {
     "name": "stdout",
     "output_type": "stream",
     "text": [
      "Cut the Rope: Time Travel™\n"
     ]
    },
    {
     "name": "stderr",
     "output_type": "stream",
     "text": [
      "INFO: queries: ['Rayman Adventures since:2018-09-26 until:2018-09-27', 'Rayman Adventures since:2018-09-27 until:2018-09-28', 'Rayman Adventures since:2018-09-28 until:2018-09-29', 'Rayman Adventures since:2018-09-29 until:2018-09-30', 'Rayman Adventures since:2018-09-30 until:2018-10-01', 'Rayman Adventures since:2018-10-01 until:2018-10-02', 'Rayman Adventures since:2018-10-02 until:2018-10-03']\n",
      "INFO: Querying Rayman Adventures since:2018-09-26 until:2018-09-27\n",
      "INFO: Querying Rayman Adventures since:2018-09-30 until:2018-10-01\n",
      "INFO: Querying Rayman Adventures since:2018-10-01 until:2018-10-02\n",
      "INFO: Querying Rayman Adventures since:2018-09-27 until:2018-09-28\n",
      "INFO: Querying Rayman Adventures since:2018-10-02 until:2018-10-03\n",
      "INFO: Querying Rayman Adventures since:2018-09-28 until:2018-09-29\n",
      "INFO: Querying Rayman Adventures since:2018-09-29 until:2018-09-30\n",
      "INFO: Got 0 tweets for Rayman%20Adventures%20since%3A2018-09-29%20until%3A2018-09-30.\n",
      "INFO: Got 0 tweets (0 new).\n",
      "INFO: Got 0 tweets for Rayman%20Adventures%20since%3A2018-10-02%20until%3A2018-10-03.\n",
      "INFO: Got 0 tweets (0 new).\n",
      "INFO: Got 4 tweets for Rayman%20Adventures%20since%3A2018-10-01%20until%3A2018-10-02.\n",
      "INFO: Got 4 tweets (4 new).\n",
      "INFO: Got 2 tweets for Rayman%20Adventures%20since%3A2018-09-27%20until%3A2018-09-28.\n",
      "INFO: Got 6 tweets (2 new).\n",
      "INFO: Got 3 tweets for Rayman%20Adventures%20since%3A2018-09-30%20until%3A2018-10-01.\n",
      "INFO: Got 9 tweets (3 new).\n",
      "INFO: Got 5 tweets for Rayman%20Adventures%20since%3A2018-09-26%20until%3A2018-09-27.\n",
      "INFO: Got 14 tweets (5 new).\n",
      "INFO: Got 4 tweets for Rayman%20Adventures%20since%3A2018-09-28%20until%3A2018-09-29.\n",
      "INFO: Got 18 tweets (4 new).\n"
     ]
    },
    {
     "name": "stdout",
     "output_type": "stream",
     "text": [
      "Rayman Adventures\n"
     ]
    },
    {
     "name": "stderr",
     "output_type": "stream",
     "text": [
      "INFO: queries: ['Zombie Tsunami since:2018-09-26 until:2018-09-27', 'Zombie Tsunami since:2018-09-27 until:2018-09-28', 'Zombie Tsunami since:2018-09-28 until:2018-09-29', 'Zombie Tsunami since:2018-09-29 until:2018-09-30', 'Zombie Tsunami since:2018-09-30 until:2018-10-01', 'Zombie Tsunami since:2018-10-01 until:2018-10-02', 'Zombie Tsunami since:2018-10-02 until:2018-10-03']\n",
      "INFO: Querying Zombie Tsunami since:2018-09-29 until:2018-09-30\n",
      "INFO: Querying Zombie Tsunami since:2018-09-26 until:2018-09-27\n",
      "INFO: Querying Zombie Tsunami since:2018-09-30 until:2018-10-01\n",
      "INFO: Querying Zombie Tsunami since:2018-10-01 until:2018-10-02\n",
      "INFO: Querying Zombie Tsunami since:2018-09-28 until:2018-09-29\n",
      "INFO: Querying Zombie Tsunami since:2018-10-02 until:2018-10-03\n",
      "INFO: Querying Zombie Tsunami since:2018-09-27 until:2018-09-28\n",
      "INFO: Got 1 tweets for Zombie%20Tsunami%20since%3A2018-09-27%20until%3A2018-09-28.\n",
      "INFO: Got 1 tweets (1 new).\n",
      "INFO: Got 3 tweets for Zombie%20Tsunami%20since%3A2018-09-26%20until%3A2018-09-27.\n",
      "INFO: Got 4 tweets (3 new).\n",
      "INFO: Got 9 tweets for Zombie%20Tsunami%20since%3A2018-09-29%20until%3A2018-09-30.\n",
      "INFO: Got 13 tweets (9 new).\n",
      "INFO: Got 9 tweets for Zombie%20Tsunami%20since%3A2018-09-30%20until%3A2018-10-01.\n",
      "INFO: Got 22 tweets (9 new).\n",
      "INFO: Got 11 tweets for Zombie%20Tsunami%20since%3A2018-10-01%20until%3A2018-10-02.\n",
      "INFO: Got 33 tweets (11 new).\n",
      "INFO: Got 12 tweets for Zombie%20Tsunami%20since%3A2018-10-02%20until%3A2018-10-03.\n",
      "INFO: Got 45 tweets (12 new).\n",
      "INFO: Got 6 tweets for Zombie%20Tsunami%20since%3A2018-09-28%20until%3A2018-09-29.\n",
      "INFO: Got 51 tweets (6 new).\n"
     ]
    },
    {
     "name": "stdout",
     "output_type": "stream",
     "text": [
      "Zombie Tsunami\n"
     ]
    },
    {
     "name": "stderr",
     "output_type": "stream",
     "text": [
      "INFO: queries: ['Fire Up! since:2018-09-26 until:2018-09-27', 'Fire Up! since:2018-09-27 until:2018-09-28', 'Fire Up! since:2018-09-28 until:2018-09-29', 'Fire Up! since:2018-09-29 until:2018-09-30', 'Fire Up! since:2018-09-30 until:2018-10-01', 'Fire Up! since:2018-10-01 until:2018-10-02', 'Fire Up! since:2018-10-02 until:2018-10-03']\n",
      "INFO: Querying Fire Up! since:2018-09-29 until:2018-09-30\n",
      "INFO: Querying Fire Up! since:2018-09-28 until:2018-09-29\n",
      "INFO: Querying Fire Up! since:2018-10-01 until:2018-10-02\n",
      "INFO: Querying Fire Up! since:2018-09-30 until:2018-10-01\n",
      "INFO: Querying Fire Up! since:2018-09-26 until:2018-09-27\n",
      "INFO: Querying Fire Up! since:2018-10-02 until:2018-10-03\n",
      "INFO: Querying Fire Up! since:2018-09-27 until:2018-09-28\n",
      "INFO: Got 5201 tweets for Fire%20Up!%20since%3A2018-10-01%20until%3A2018-10-02.\n",
      "INFO: Got 5201 tweets (5201 new).\n",
      "INFO: Got 5191 tweets for Fire%20Up!%20since%3A2018-09-30%20until%3A2018-10-01.\n",
      "INFO: Got 10392 tweets (5191 new).\n",
      "INFO: Got 5398 tweets for Fire%20Up!%20since%3A2018-09-29%20until%3A2018-09-30.\n",
      "INFO: Got 15790 tweets (5398 new).\n",
      "INFO: Got 5431 tweets for Fire%20Up!%20since%3A2018-10-02%20until%3A2018-10-03.\n",
      "INFO: Got 21221 tweets (5431 new).\n",
      "INFO: Got 5831 tweets for Fire%20Up!%20since%3A2018-09-26%20until%3A2018-09-27.\n",
      "INFO: Got 27052 tweets (5831 new).\n",
      "INFO: Got 6091 tweets for Fire%20Up!%20since%3A2018-09-27%20until%3A2018-09-28.\n",
      "INFO: Got 33143 tweets (6091 new).\n",
      "INFO: Got 6351 tweets for Fire%20Up!%20since%3A2018-09-28%20until%3A2018-09-29.\n",
      "INFO: Got 39494 tweets (6351 new).\n"
     ]
    },
    {
     "name": "stdout",
     "output_type": "stream",
     "text": [
      "Fire Up!\n"
     ]
    },
    {
     "name": "stderr",
     "output_type": "stream",
     "text": [
      "INFO: queries: ['Carnivores: Dinosaur Hunter since:2018-09-26 until:2018-09-27', 'Carnivores: Dinosaur Hunter since:2018-09-27 until:2018-09-28', 'Carnivores: Dinosaur Hunter since:2018-09-28 until:2018-09-29', 'Carnivores: Dinosaur Hunter since:2018-09-29 until:2018-09-30', 'Carnivores: Dinosaur Hunter since:2018-09-30 until:2018-10-01', 'Carnivores: Dinosaur Hunter since:2018-10-01 until:2018-10-02', 'Carnivores: Dinosaur Hunter since:2018-10-02 until:2018-10-03']\n",
      "INFO: Querying Carnivores: Dinosaur Hunter since:2018-09-29 until:2018-09-30\n",
      "INFO: Querying Carnivores: Dinosaur Hunter since:2018-09-28 until:2018-09-29\n",
      "INFO: Querying Carnivores: Dinosaur Hunter since:2018-09-30 until:2018-10-01\n",
      "INFO: Querying Carnivores: Dinosaur Hunter since:2018-09-26 until:2018-09-27\n",
      "INFO: Querying Carnivores: Dinosaur Hunter since:2018-09-27 until:2018-09-28\n",
      "INFO: Querying Carnivores: Dinosaur Hunter since:2018-10-01 until:2018-10-02\n",
      "INFO: Querying Carnivores: Dinosaur Hunter since:2018-10-02 until:2018-10-03\n",
      "INFO: Got 0 tweets for Carnivores%3A%20Dinosaur%20Hunter%20since%3A2018-10-02%20until%3A2018-10-03.\n",
      "INFO: Got 0 tweets (0 new).\n",
      "INFO: Got 0 tweets for Carnivores%3A%20Dinosaur%20Hunter%20since%3A2018-09-28%20until%3A2018-09-29.\n",
      "INFO: Got 0 tweets (0 new).\n",
      "INFO: Got 0 tweets for Carnivores%3A%20Dinosaur%20Hunter%20since%3A2018-09-27%20until%3A2018-09-28.\n",
      "INFO: Got 0 tweets (0 new).\n",
      "INFO: Got 1 tweets for Carnivores%3A%20Dinosaur%20Hunter%20since%3A2018-09-30%20until%3A2018-10-01.\n",
      "INFO: Got 1 tweets (1 new).\n",
      "INFO: Got 2 tweets for Carnivores%3A%20Dinosaur%20Hunter%20since%3A2018-09-26%20until%3A2018-09-27.\n",
      "INFO: Got 3 tweets (2 new).\n",
      "INFO: Got 1 tweets for Carnivores%3A%20Dinosaur%20Hunter%20since%3A2018-09-29%20until%3A2018-09-30.\n",
      "INFO: Got 4 tweets (1 new).\n",
      "INFO: Got 1 tweets for Carnivores%3A%20Dinosaur%20Hunter%20since%3A2018-10-01%20until%3A2018-10-02.\n",
      "INFO: Got 5 tweets (1 new).\n"
     ]
    },
    {
     "name": "stdout",
     "output_type": "stream",
     "text": [
      "Carnivores: Dinosaur Hunter\n"
     ]
    },
    {
     "name": "stderr",
     "output_type": "stream",
     "text": [
      "INFO: queries: [\"Rope'n'Fly 3 - Dusk Till Dawn since:2018-09-26 until:2018-09-27\", \"Rope'n'Fly 3 - Dusk Till Dawn since:2018-09-27 until:2018-09-28\", \"Rope'n'Fly 3 - Dusk Till Dawn since:2018-09-28 until:2018-09-29\", \"Rope'n'Fly 3 - Dusk Till Dawn since:2018-09-29 until:2018-09-30\", \"Rope'n'Fly 3 - Dusk Till Dawn since:2018-09-30 until:2018-10-01\", \"Rope'n'Fly 3 - Dusk Till Dawn since:2018-10-01 until:2018-10-02\", \"Rope'n'Fly 3 - Dusk Till Dawn since:2018-10-02 until:2018-10-03\"]\n",
      "INFO: Querying Rope'n'Fly 3 - Dusk Till Dawn since:2018-09-26 until:2018-09-27\n",
      "INFO: Querying Rope'n'Fly 3 - Dusk Till Dawn since:2018-09-29 until:2018-09-30\n",
      "INFO: Querying Rope'n'Fly 3 - Dusk Till Dawn since:2018-09-28 until:2018-09-29\n",
      "INFO: Querying Rope'n'Fly 3 - Dusk Till Dawn since:2018-09-30 until:2018-10-01\n",
      "INFO: Querying Rope'n'Fly 3 - Dusk Till Dawn since:2018-09-27 until:2018-09-28\n",
      "INFO: Querying Rope'n'Fly 3 - Dusk Till Dawn since:2018-10-01 until:2018-10-02\n",
      "INFO: Querying Rope'n'Fly 3 - Dusk Till Dawn since:2018-10-02 until:2018-10-03\n",
      "INFO: Got 0 tweets for Rope'n'Fly%203%20-%20Dusk%20Till%20Dawn%20since%3A2018-10-01%20until%3A2018-10-02.\n",
      "INFO: Got 0 tweets (0 new).\n",
      "INFO: Got 0 tweets for Rope'n'Fly%203%20-%20Dusk%20Till%20Dawn%20since%3A2018-10-02%20until%3A2018-10-03.\n",
      "INFO: Got 0 tweets (0 new).\n",
      "INFO: Got 0 tweets for Rope'n'Fly%203%20-%20Dusk%20Till%20Dawn%20since%3A2018-09-29%20until%3A2018-09-30.\n",
      "INFO: Got 0 tweets (0 new).\n",
      "INFO: Got 0 tweets for Rope'n'Fly%203%20-%20Dusk%20Till%20Dawn%20since%3A2018-09-27%20until%3A2018-09-28.\n",
      "INFO: Got 0 tweets (0 new).\n",
      "INFO: Got 0 tweets for Rope'n'Fly%203%20-%20Dusk%20Till%20Dawn%20since%3A2018-09-26%20until%3A2018-09-27.\n",
      "INFO: Got 0 tweets (0 new).\n",
      "INFO: Got 0 tweets for Rope'n'Fly%203%20-%20Dusk%20Till%20Dawn%20since%3A2018-09-28%20until%3A2018-09-29.\n",
      "INFO: Got 0 tweets (0 new).\n",
      "INFO: Got 0 tweets for Rope'n'Fly%203%20-%20Dusk%20Till%20Dawn%20since%3A2018-09-30%20until%3A2018-10-01.\n",
      "INFO: Got 0 tweets (0 new).\n"
     ]
    },
    {
     "name": "stdout",
     "output_type": "stream",
     "text": [
      "Rope'n'Fly 3 - Dusk Till Dawn\n"
     ]
    },
    {
     "name": "stderr",
     "output_type": "stream",
     "text": [
      "INFO: queries: ['Stair Dismount® since:2018-09-26 until:2018-09-27', 'Stair Dismount® since:2018-09-27 until:2018-09-28', 'Stair Dismount® since:2018-09-28 until:2018-09-29', 'Stair Dismount® since:2018-09-29 until:2018-09-30', 'Stair Dismount® since:2018-09-30 until:2018-10-01', 'Stair Dismount® since:2018-10-01 until:2018-10-02', 'Stair Dismount® since:2018-10-02 until:2018-10-03']\n",
      "INFO: Querying Stair Dismount® since:2018-09-28 until:2018-09-29\n",
      "INFO: Querying Stair Dismount® since:2018-09-26 until:2018-09-27\n",
      "INFO: Querying Stair Dismount® since:2018-10-01 until:2018-10-02\n",
      "INFO: Querying Stair Dismount® since:2018-09-29 until:2018-09-30\n",
      "INFO: Querying Stair Dismount® since:2018-10-02 until:2018-10-03\n",
      "INFO: Querying Stair Dismount® since:2018-09-30 until:2018-10-01\n",
      "INFO: Querying Stair Dismount® since:2018-09-27 until:2018-09-28\n",
      "INFO: Got 0 tweets for Stair%20Dismount®%20since%3A2018-10-01%20until%3A2018-10-02.\n",
      "INFO: Got 0 tweets (0 new).\n",
      "INFO: Got 0 tweets for Stair%20Dismount®%20since%3A2018-09-29%20until%3A2018-09-30.\n",
      "INFO: Got 0 tweets (0 new).\n",
      "INFO: Got 0 tweets for Stair%20Dismount®%20since%3A2018-09-26%20until%3A2018-09-27.\n",
      "INFO: Got 0 tweets (0 new).\n",
      "INFO: Got 0 tweets for Stair%20Dismount®%20since%3A2018-10-02%20until%3A2018-10-03.\n",
      "INFO: Got 0 tweets (0 new).\n",
      "INFO: Got 0 tweets for Stair%20Dismount®%20since%3A2018-09-27%20until%3A2018-09-28.\n",
      "INFO: Got 0 tweets (0 new).\n",
      "INFO: Got 0 tweets for Stair%20Dismount®%20since%3A2018-09-30%20until%3A2018-10-01.\n",
      "INFO: Got 0 tweets (0 new).\n",
      "INFO: Got 0 tweets for Stair%20Dismount®%20since%3A2018-09-28%20until%3A2018-09-29.\n",
      "INFO: Got 0 tweets (0 new).\n"
     ]
    },
    {
     "name": "stdout",
     "output_type": "stream",
     "text": [
      "Stair Dismount®\n"
     ]
    },
    {
     "name": "stderr",
     "output_type": "stream",
     "text": [
      "INFO: queries: [\"Don't Touch The Spikes since:2018-09-26 until:2018-09-27\", \"Don't Touch The Spikes since:2018-09-27 until:2018-09-28\", \"Don't Touch The Spikes since:2018-09-28 until:2018-09-29\", \"Don't Touch The Spikes since:2018-09-29 until:2018-09-30\", \"Don't Touch The Spikes since:2018-09-30 until:2018-10-01\", \"Don't Touch The Spikes since:2018-10-01 until:2018-10-02\", \"Don't Touch The Spikes since:2018-10-02 until:2018-10-03\"]\n",
      "INFO: Querying Don't Touch The Spikes since:2018-09-26 until:2018-09-27\n",
      "INFO: Querying Don't Touch The Spikes since:2018-09-28 until:2018-09-29\n",
      "INFO: Querying Don't Touch The Spikes since:2018-10-01 until:2018-10-02\n",
      "INFO: Querying Don't Touch The Spikes since:2018-09-27 until:2018-09-28\n",
      "INFO: Querying Don't Touch The Spikes since:2018-09-29 until:2018-09-30\n",
      "INFO: Querying Don't Touch The Spikes since:2018-09-30 until:2018-10-01\n",
      "INFO: Querying Don't Touch The Spikes since:2018-10-02 until:2018-10-03\n",
      "INFO: Got 0 tweets for Don't%20Touch%20The%20Spikes%20since%3A2018-10-02%20until%3A2018-10-03.\n",
      "INFO: Got 0 tweets (0 new).\n",
      "INFO: Got 0 tweets for Don't%20Touch%20The%20Spikes%20since%3A2018-09-30%20until%3A2018-10-01.\n",
      "INFO: Got 0 tweets (0 new).\n",
      "INFO: Got 3 tweets for Don't%20Touch%20The%20Spikes%20since%3A2018-09-26%20until%3A2018-09-27.\n",
      "INFO: Got 3 tweets (3 new).\n",
      "INFO: Got 2 tweets for Don't%20Touch%20The%20Spikes%20since%3A2018-09-28%20until%3A2018-09-29.\n",
      "INFO: Got 5 tweets (2 new).\n",
      "INFO: Got 2 tweets for Don't%20Touch%20The%20Spikes%20since%3A2018-09-27%20until%3A2018-09-28.\n",
      "INFO: Got 7 tweets (2 new).\n",
      "INFO: Got 1 tweets for Don't%20Touch%20The%20Spikes%20since%3A2018-10-01%20until%3A2018-10-02.\n",
      "INFO: Got 8 tweets (1 new).\n",
      "INFO: Got 1 tweets for Don't%20Touch%20The%20Spikes%20since%3A2018-09-29%20until%3A2018-09-30.\n",
      "INFO: Got 9 tweets (1 new).\n"
     ]
    },
    {
     "name": "stdout",
     "output_type": "stream",
     "text": [
      "Don't Touch The Spikes\n"
     ]
    },
    {
     "name": "stderr",
     "output_type": "stream",
     "text": [
      "INFO: queries: ['Ketchapp Basketball since:2018-09-26 until:2018-09-27', 'Ketchapp Basketball since:2018-09-27 until:2018-09-28', 'Ketchapp Basketball since:2018-09-28 until:2018-09-29', 'Ketchapp Basketball since:2018-09-29 until:2018-09-30', 'Ketchapp Basketball since:2018-09-30 until:2018-10-01', 'Ketchapp Basketball since:2018-10-01 until:2018-10-02', 'Ketchapp Basketball since:2018-10-02 until:2018-10-03']\n",
      "INFO: Querying Ketchapp Basketball since:2018-09-27 until:2018-09-28\n",
      "INFO: Querying Ketchapp Basketball since:2018-09-26 until:2018-09-27\n",
      "INFO: Querying Ketchapp Basketball since:2018-09-29 until:2018-09-30\n",
      "INFO: Querying Ketchapp Basketball since:2018-10-01 until:2018-10-02\n",
      "INFO: Querying Ketchapp Basketball since:2018-09-28 until:2018-09-29\n",
      "INFO: Querying Ketchapp Basketball since:2018-09-30 until:2018-10-01\n",
      "INFO: Querying Ketchapp Basketball since:2018-10-02 until:2018-10-03\n",
      "INFO: Got 0 tweets for Ketchapp%20Basketball%20since%3A2018-10-01%20until%3A2018-10-02.\n",
      "INFO: Got 0 tweets (0 new).\n",
      "INFO: Got 0 tweets for Ketchapp%20Basketball%20since%3A2018-09-29%20until%3A2018-09-30.\n",
      "INFO: Got 0 tweets (0 new).\n",
      "INFO: Got 1 tweets for Ketchapp%20Basketball%20since%3A2018-09-27%20until%3A2018-09-28.\n",
      "INFO: Got 1 tweets (1 new).\n",
      "INFO: Got 1 tweets for Ketchapp%20Basketball%20since%3A2018-10-02%20until%3A2018-10-03.\n",
      "INFO: Got 2 tweets (1 new).\n",
      "INFO: Got 2 tweets for Ketchapp%20Basketball%20since%3A2018-09-30%20until%3A2018-10-01.\n",
      "INFO: Got 4 tweets (2 new).\n",
      "INFO: Got 1 tweets for Ketchapp%20Basketball%20since%3A2018-09-28%20until%3A2018-09-29.\n",
      "INFO: Got 5 tweets (1 new).\n",
      "INFO: Got 1 tweets for Ketchapp%20Basketball%20since%3A2018-09-26%20until%3A2018-09-27.\n",
      "INFO: Got 6 tweets (1 new).\n"
     ]
    },
    {
     "name": "stdout",
     "output_type": "stream",
     "text": [
      "Ketchapp Basketball\n"
     ]
    },
    {
     "name": "stderr",
     "output_type": "stream",
     "text": [
      "INFO: queries: ['Galaxy Attack: Alien Shooter since:2018-09-26 until:2018-09-27', 'Galaxy Attack: Alien Shooter since:2018-09-27 until:2018-09-28', 'Galaxy Attack: Alien Shooter since:2018-09-28 until:2018-09-29', 'Galaxy Attack: Alien Shooter since:2018-09-29 until:2018-09-30', 'Galaxy Attack: Alien Shooter since:2018-09-30 until:2018-10-01', 'Galaxy Attack: Alien Shooter since:2018-10-01 until:2018-10-02', 'Galaxy Attack: Alien Shooter since:2018-10-02 until:2018-10-03']\n",
      "INFO: Querying Galaxy Attack: Alien Shooter since:2018-09-26 until:2018-09-27\n",
      "INFO: Querying Galaxy Attack: Alien Shooter since:2018-09-27 until:2018-09-28\n",
      "INFO: Querying Galaxy Attack: Alien Shooter since:2018-09-28 until:2018-09-29\n",
      "INFO: Querying Galaxy Attack: Alien Shooter since:2018-09-30 until:2018-10-01\n",
      "INFO: Querying Galaxy Attack: Alien Shooter since:2018-10-02 until:2018-10-03\n",
      "INFO: Querying Galaxy Attack: Alien Shooter since:2018-10-01 until:2018-10-02\n",
      "INFO: Querying Galaxy Attack: Alien Shooter since:2018-09-29 until:2018-09-30\n",
      "INFO: Got 5 tweets for Galaxy%20Attack%3A%20Alien%20Shooter%20since%3A2018-09-29%20until%3A2018-09-30.\n",
      "INFO: Got 5 tweets (5 new).\n",
      "INFO: Got 7 tweets for Galaxy%20Attack%3A%20Alien%20Shooter%20since%3A2018-10-01%20until%3A2018-10-02.\n",
      "INFO: Got 12 tweets (7 new).\n",
      "INFO: Got 8 tweets for Galaxy%20Attack%3A%20Alien%20Shooter%20since%3A2018-09-26%20until%3A2018-09-27.\n",
      "INFO: Got 20 tweets (8 new).\n",
      "INFO: Got 5 tweets for Galaxy%20Attack%3A%20Alien%20Shooter%20since%3A2018-09-28%20until%3A2018-09-29.\n",
      "INFO: Got 25 tweets (5 new).\n",
      "INFO: Got 8 tweets for Galaxy%20Attack%3A%20Alien%20Shooter%20since%3A2018-10-02%20until%3A2018-10-03.\n",
      "INFO: Got 33 tweets (8 new).\n",
      "INFO: Got 10 tweets for Galaxy%20Attack%3A%20Alien%20Shooter%20since%3A2018-09-27%20until%3A2018-09-28.\n",
      "INFO: Got 43 tweets (10 new).\n",
      "INFO: Got 20 tweets for Galaxy%20Attack%3A%20Alien%20Shooter%20since%3A2018-09-30%20until%3A2018-10-01.\n",
      "INFO: Got 63 tweets (20 new).\n"
     ]
    },
    {
     "name": "stdout",
     "output_type": "stream",
     "text": [
      "Galaxy Attack: Alien Shooter\n"
     ]
    },
    {
     "name": "stderr",
     "output_type": "stream",
     "text": [
      "INFO: queries: ['Blitz Brigade since:2018-09-26 until:2018-09-27', 'Blitz Brigade since:2018-09-27 until:2018-09-28', 'Blitz Brigade since:2018-09-28 until:2018-09-29', 'Blitz Brigade since:2018-09-29 until:2018-09-30', 'Blitz Brigade since:2018-09-30 until:2018-10-01', 'Blitz Brigade since:2018-10-01 until:2018-10-02', 'Blitz Brigade since:2018-10-02 until:2018-10-03']\n",
      "INFO: Querying Blitz Brigade since:2018-09-30 until:2018-10-01\n",
      "INFO: Querying Blitz Brigade since:2018-09-29 until:2018-09-30\n",
      "INFO: Querying Blitz Brigade since:2018-09-28 until:2018-09-29\n",
      "INFO: Querying Blitz Brigade since:2018-09-26 until:2018-09-27\n",
      "INFO: Querying Blitz Brigade since:2018-09-27 until:2018-09-28\n",
      "INFO: Querying Blitz Brigade since:2018-10-01 until:2018-10-02\n",
      "INFO: Querying Blitz Brigade since:2018-10-02 until:2018-10-03\n",
      "INFO: Got 0 tweets for Blitz%20Brigade%20since%3A2018-09-27%20until%3A2018-09-28.\n",
      "INFO: Got 0 tweets (0 new).\n",
      "INFO: Got 0 tweets for Blitz%20Brigade%20since%3A2018-09-30%20until%3A2018-10-01.\n",
      "INFO: Got 0 tweets (0 new).\n",
      "INFO: Got 0 tweets for Blitz%20Brigade%20since%3A2018-09-28%20until%3A2018-09-29.\n",
      "INFO: Got 0 tweets (0 new).\n",
      "INFO: Got 0 tweets for Blitz%20Brigade%20since%3A2018-09-26%20until%3A2018-09-27.\n",
      "INFO: Got 0 tweets (0 new).\n",
      "INFO: Got 1 tweets for Blitz%20Brigade%20since%3A2018-10-02%20until%3A2018-10-03.\n",
      "INFO: Got 1 tweets (1 new).\n",
      "INFO: Got 5 tweets for Blitz%20Brigade%20since%3A2018-10-01%20until%3A2018-10-02.\n",
      "INFO: Got 6 tweets (5 new).\n",
      "INFO: Got 5 tweets for Blitz%20Brigade%20since%3A2018-09-29%20until%3A2018-09-30.\n",
      "INFO: Got 11 tweets (5 new).\n"
     ]
    },
    {
     "name": "stdout",
     "output_type": "stream",
     "text": [
      "Blitz Brigade\n"
     ]
    },
    {
     "name": "stderr",
     "output_type": "stream",
     "text": [
      "INFO: queries: ['Risky Road since:2018-09-26 until:2018-09-27', 'Risky Road since:2018-09-27 until:2018-09-28', 'Risky Road since:2018-09-28 until:2018-09-29', 'Risky Road since:2018-09-29 until:2018-09-30', 'Risky Road since:2018-09-30 until:2018-10-01', 'Risky Road since:2018-10-01 until:2018-10-02', 'Risky Road since:2018-10-02 until:2018-10-03']\n",
      "INFO: Querying Risky Road since:2018-09-30 until:2018-10-01\n",
      "INFO: Querying Risky Road since:2018-09-27 until:2018-09-28\n",
      "INFO: Querying Risky Road since:2018-09-29 until:2018-09-30\n",
      "INFO: Querying Risky Road since:2018-10-01 until:2018-10-02\n",
      "INFO: Querying Risky Road since:2018-09-28 until:2018-09-29\n",
      "INFO: Querying Risky Road since:2018-09-26 until:2018-09-27\n",
      "INFO: Querying Risky Road since:2018-10-02 until:2018-10-03\n",
      "INFO: Got 12 tweets for Risky%20Road%20since%3A2018-09-27%20until%3A2018-09-28.\n",
      "INFO: Got 12 tweets (12 new).\n",
      "INFO: Got 16 tweets for Risky%20Road%20since%3A2018-09-26%20until%3A2018-09-27.\n",
      "INFO: Got 28 tweets (16 new).\n",
      "INFO: Got 13 tweets for Risky%20Road%20since%3A2018-10-01%20until%3A2018-10-02.\n",
      "INFO: Got 41 tweets (13 new).\n",
      "INFO: Got 17 tweets for Risky%20Road%20since%3A2018-09-28%20until%3A2018-09-29.\n",
      "INFO: Got 58 tweets (17 new).\n",
      "INFO: Got 14 tweets for Risky%20Road%20since%3A2018-09-30%20until%3A2018-10-01.\n",
      "INFO: Got 72 tweets (14 new).\n",
      "INFO: Got 11 tweets for Risky%20Road%20since%3A2018-09-29%20until%3A2018-09-30.\n",
      "INFO: Got 83 tweets (11 new).\n",
      "INFO: Got 14 tweets for Risky%20Road%20since%3A2018-10-02%20until%3A2018-10-03.\n",
      "INFO: Got 97 tweets (14 new).\n"
     ]
    },
    {
     "name": "stdout",
     "output_type": "stream",
     "text": [
      "Risky Road\n"
     ]
    },
    {
     "name": "stderr",
     "output_type": "stream",
     "text": [
      "INFO: queries: ['Critical Ops since:2018-09-26 until:2018-09-27', 'Critical Ops since:2018-09-27 until:2018-09-28', 'Critical Ops since:2018-09-28 until:2018-09-29', 'Critical Ops since:2018-09-29 until:2018-09-30', 'Critical Ops since:2018-09-30 until:2018-10-01', 'Critical Ops since:2018-10-01 until:2018-10-02', 'Critical Ops since:2018-10-02 until:2018-10-03']\n",
      "INFO: Querying Critical Ops since:2018-09-26 until:2018-09-27\n",
      "INFO: Querying Critical Ops since:2018-09-28 until:2018-09-29\n",
      "INFO: Querying Critical Ops since:2018-09-27 until:2018-09-28\n",
      "INFO: Querying Critical Ops since:2018-10-02 until:2018-10-03\n",
      "INFO: Querying Critical Ops since:2018-09-29 until:2018-09-30\n",
      "INFO: Querying Critical Ops since:2018-10-01 until:2018-10-02\n",
      "INFO: Querying Critical Ops since:2018-09-30 until:2018-10-01\n",
      "INFO: Got 29 tweets for Critical%20Ops%20since%3A2018-10-02%20until%3A2018-10-03.\n",
      "INFO: Got 29 tweets (29 new).\n",
      "INFO: Got 37 tweets for Critical%20Ops%20since%3A2018-09-26%20until%3A2018-09-27.\n",
      "INFO: Got 66 tweets (37 new).\n",
      "INFO: Got 35 tweets for Critical%20Ops%20since%3A2018-09-28%20until%3A2018-09-29.\n",
      "INFO: Got 101 tweets (35 new).\n",
      "INFO: Got 32 tweets for Critical%20Ops%20since%3A2018-10-01%20until%3A2018-10-02.\n",
      "INFO: Got 133 tweets (32 new).\n",
      "INFO: Got 41 tweets for Critical%20Ops%20since%3A2018-09-30%20until%3A2018-10-01.\n",
      "INFO: Got 174 tweets (41 new).\n",
      "INFO: Got 46 tweets for Critical%20Ops%20since%3A2018-09-29%20until%3A2018-09-30.\n",
      "INFO: Got 220 tweets (46 new).\n",
      "INFO: Got 51 tweets for Critical%20Ops%20since%3A2018-09-27%20until%3A2018-09-28.\n",
      "INFO: Got 271 tweets (51 new).\n"
     ]
    },
    {
     "name": "stdout",
     "output_type": "stream",
     "text": [
      "Critical Ops\n"
     ]
    },
    {
     "name": "stderr",
     "output_type": "stream",
     "text": [
      "INFO: queries: ['Rail Rush since:2018-09-26 until:2018-09-27', 'Rail Rush since:2018-09-27 until:2018-09-28', 'Rail Rush since:2018-09-28 until:2018-09-29', 'Rail Rush since:2018-09-29 until:2018-09-30', 'Rail Rush since:2018-09-30 until:2018-10-01', 'Rail Rush since:2018-10-01 until:2018-10-02', 'Rail Rush since:2018-10-02 until:2018-10-03']\n",
      "INFO: Querying Rail Rush since:2018-09-27 until:2018-09-28\n",
      "INFO: Querying Rail Rush since:2018-09-26 until:2018-09-27\n",
      "INFO: Querying Rail Rush since:2018-09-28 until:2018-09-29\n",
      "INFO: Querying Rail Rush since:2018-09-30 until:2018-10-01\n",
      "INFO: Querying Rail Rush since:2018-10-01 until:2018-10-02\n",
      "INFO: Querying Rail Rush since:2018-09-29 until:2018-09-30\n",
      "INFO: Querying Rail Rush since:2018-10-02 until:2018-10-03\n",
      "INFO: Got 10 tweets for Rail%20Rush%20since%3A2018-09-29%20until%3A2018-09-30.\n",
      "INFO: Got 10 tweets (10 new).\n",
      "INFO: Got 10 tweets for Rail%20Rush%20since%3A2018-09-30%20until%3A2018-10-01.\n",
      "INFO: Got 20 tweets (10 new).\n",
      "INFO: Got 12 tweets for Rail%20Rush%20since%3A2018-10-02%20until%3A2018-10-03.\n",
      "INFO: Got 32 tweets (12 new).\n",
      "INFO: Got 18 tweets for Rail%20Rush%20since%3A2018-09-28%20until%3A2018-09-29.\n",
      "INFO: Got 15 tweets for Rail%20Rush%20since%3A2018-10-01%20until%3A2018-10-02.\n",
      "INFO: Got 17 tweets for Rail%20Rush%20since%3A2018-09-27%20until%3A2018-09-28.\n",
      "INFO: Got 47 tweets (15 new).\n",
      "INFO: Got 64 tweets (17 new).\n",
      "INFO: Got 16 tweets for Rail%20Rush%20since%3A2018-09-26%20until%3A2018-09-27.\n",
      "INFO: Got 82 tweets (18 new).\n",
      "INFO: Got 98 tweets (16 new).\n"
     ]
    },
    {
     "name": "stdout",
     "output_type": "stream",
     "text": [
      "Rail Rush\n"
     ]
    },
    {
     "name": "stderr",
     "output_type": "stream",
     "text": [
      "INFO: queries: ['Contract Killer 2 since:2018-09-26 until:2018-09-27', 'Contract Killer 2 since:2018-09-27 until:2018-09-28', 'Contract Killer 2 since:2018-09-28 until:2018-09-29', 'Contract Killer 2 since:2018-09-29 until:2018-09-30', 'Contract Killer 2 since:2018-09-30 until:2018-10-01', 'Contract Killer 2 since:2018-10-01 until:2018-10-02', 'Contract Killer 2 since:2018-10-02 until:2018-10-03']\n",
      "INFO: Querying Contract Killer 2 since:2018-09-26 until:2018-09-27\n",
      "INFO: Querying Contract Killer 2 since:2018-09-28 until:2018-09-29\n",
      "INFO: Querying Contract Killer 2 since:2018-09-30 until:2018-10-01\n",
      "INFO: Querying Contract Killer 2 since:2018-09-29 until:2018-09-30\n",
      "INFO: Querying Contract Killer 2 since:2018-09-27 until:2018-09-28\n",
      "INFO: Querying Contract Killer 2 since:2018-10-01 until:2018-10-02\n",
      "INFO: Querying Contract Killer 2 since:2018-10-02 until:2018-10-03\n",
      "INFO: Got 2 tweets for Contract%20Killer%202%20since%3A2018-09-28%20until%3A2018-09-29.\n",
      "INFO: Got 2 tweets (2 new).\n",
      "INFO: Got 4 tweets for Contract%20Killer%202%20since%3A2018-09-30%20until%3A2018-10-01.\n",
      "INFO: Got 6 tweets (4 new).\n",
      "INFO: Got 1 tweets for Contract%20Killer%202%20since%3A2018-10-01%20until%3A2018-10-02.\n",
      "INFO: Got 7 tweets (1 new).\n",
      "INFO: Got 3 tweets for Contract%20Killer%202%20since%3A2018-09-26%20until%3A2018-09-27.\n",
      "INFO: Got 10 tweets (3 new).\n",
      "INFO: Got 2 tweets for Contract%20Killer%202%20since%3A2018-09-29%20until%3A2018-09-30.\n",
      "INFO: Got 1 tweets for Contract%20Killer%202%20since%3A2018-09-27%20until%3A2018-09-28.\n",
      "INFO: Got 11 tweets (1 new).\n",
      "INFO: Got 13 tweets (2 new).\n",
      "INFO: Got 14 tweets for Contract%20Killer%202%20since%3A2018-10-02%20until%3A2018-10-03.\n",
      "INFO: Got 27 tweets (14 new).\n"
     ]
    },
    {
     "name": "stdout",
     "output_type": "stream",
     "text": [
      "Contract Killer 2\n"
     ]
    },
    {
     "name": "stderr",
     "output_type": "stream",
     "text": [
      "INFO: queries: ['Virtual Table Tennis since:2018-09-26 until:2018-09-27', 'Virtual Table Tennis since:2018-09-27 until:2018-09-28', 'Virtual Table Tennis since:2018-09-28 until:2018-09-29', 'Virtual Table Tennis since:2018-09-29 until:2018-09-30', 'Virtual Table Tennis since:2018-09-30 until:2018-10-01', 'Virtual Table Tennis since:2018-10-01 until:2018-10-02', 'Virtual Table Tennis since:2018-10-02 until:2018-10-03']\n",
      "INFO: Querying Virtual Table Tennis since:2018-09-27 until:2018-09-28\n",
      "INFO: Querying Virtual Table Tennis since:2018-09-26 until:2018-09-27\n",
      "INFO: Querying Virtual Table Tennis since:2018-09-30 until:2018-10-01\n",
      "INFO: Querying Virtual Table Tennis since:2018-09-28 until:2018-09-29\n",
      "INFO: Querying Virtual Table Tennis since:2018-10-01 until:2018-10-02\n",
      "INFO: Querying Virtual Table Tennis since:2018-09-29 until:2018-09-30\n",
      "INFO: Querying Virtual Table Tennis since:2018-10-02 until:2018-10-03\n",
      "INFO: Got 0 tweets for Virtual%20Table%20Tennis%20since%3A2018-09-27%20until%3A2018-09-28.\n",
      "INFO: Got 0 tweets (0 new).\n",
      "INFO: Got 0 tweets for Virtual%20Table%20Tennis%20since%3A2018-09-29%20until%3A2018-09-30.\n",
      "INFO: Got 0 tweets (0 new).\n",
      "INFO: Got 0 tweets for Virtual%20Table%20Tennis%20since%3A2018-09-30%20until%3A2018-10-01.\n",
      "INFO: Got 0 tweets (0 new).\n",
      "INFO: Got 0 tweets for Virtual%20Table%20Tennis%20since%3A2018-09-26%20until%3A2018-09-27.\n",
      "INFO: Got 0 tweets (0 new).\n",
      "INFO: Got 0 tweets for Virtual%20Table%20Tennis%20since%3A2018-10-01%20until%3A2018-10-02.\n",
      "INFO: Got 0 tweets (0 new).\n",
      "INFO: Got 1 tweets for Virtual%20Table%20Tennis%20since%3A2018-10-02%20until%3A2018-10-03.\n",
      "INFO: Got 1 tweets (1 new).\n",
      "INFO: Got 1 tweets for Virtual%20Table%20Tennis%20since%3A2018-09-28%20until%3A2018-09-29.\n",
      "INFO: Got 2 tweets (1 new).\n"
     ]
    },
    {
     "name": "stdout",
     "output_type": "stream",
     "text": [
      "Virtual Table Tennis\n"
     ]
    },
    {
     "name": "stderr",
     "output_type": "stream",
     "text": [
      "INFO: queries: ['Air Wings® since:2018-09-26 until:2018-09-27', 'Air Wings® since:2018-09-27 until:2018-09-28', 'Air Wings® since:2018-09-28 until:2018-09-29', 'Air Wings® since:2018-09-29 until:2018-09-30', 'Air Wings® since:2018-09-30 until:2018-10-01', 'Air Wings® since:2018-10-01 until:2018-10-02', 'Air Wings® since:2018-10-02 until:2018-10-03']\n",
      "INFO: Querying Air Wings® since:2018-09-28 until:2018-09-29\n",
      "INFO: Querying Air Wings® since:2018-09-27 until:2018-09-28\n",
      "INFO: Querying Air Wings® since:2018-09-30 until:2018-10-01\n",
      "INFO: Querying Air Wings® since:2018-09-26 until:2018-09-27\n",
      "INFO: Querying Air Wings® since:2018-10-01 until:2018-10-02\n",
      "INFO: Querying Air Wings® since:2018-10-02 until:2018-10-03\n",
      "INFO: Querying Air Wings® since:2018-09-29 until:2018-09-30\n",
      "INFO: Got 0 tweets for Air%20Wings®%20since%3A2018-09-27%20until%3A2018-09-28.\n",
      "INFO: Got 0 tweets (0 new).\n",
      "INFO: Got 0 tweets for Air%20Wings®%20since%3A2018-10-02%20until%3A2018-10-03.\n",
      "INFO: Got 0 tweets (0 new).\n",
      "INFO: Got 0 tweets for Air%20Wings®%20since%3A2018-09-26%20until%3A2018-09-27.\n",
      "INFO: Got 0 tweets (0 new).\n",
      "INFO: Got 0 tweets for Air%20Wings®%20since%3A2018-09-29%20until%3A2018-09-30.\n",
      "INFO: Got 0 tweets (0 new).\n",
      "INFO: Got 0 tweets for Air%20Wings®%20since%3A2018-09-28%20until%3A2018-09-29.\n",
      "INFO: Got 0 tweets (0 new).\n",
      "INFO: Got 0 tweets for Air%20Wings®%20since%3A2018-09-30%20until%3A2018-10-01.\n",
      "INFO: Got 0 tweets (0 new).\n",
      "INFO: Got 0 tweets for Air%20Wings®%20since%3A2018-10-01%20until%3A2018-10-02.\n",
      "INFO: Got 0 tweets (0 new).\n"
     ]
    },
    {
     "name": "stdout",
     "output_type": "stream",
     "text": [
      "Air Wings®\n"
     ]
    },
    {
     "name": "stderr",
     "output_type": "stream",
     "text": [
      "INFO: queries: ['Zombie Highway 2 since:2018-09-26 until:2018-09-27', 'Zombie Highway 2 since:2018-09-27 until:2018-09-28', 'Zombie Highway 2 since:2018-09-28 until:2018-09-29', 'Zombie Highway 2 since:2018-09-29 until:2018-09-30', 'Zombie Highway 2 since:2018-09-30 until:2018-10-01', 'Zombie Highway 2 since:2018-10-01 until:2018-10-02', 'Zombie Highway 2 since:2018-10-02 until:2018-10-03']\n",
      "INFO: Querying Zombie Highway 2 since:2018-09-26 until:2018-09-27\n",
      "INFO: Querying Zombie Highway 2 since:2018-09-27 until:2018-09-28\n",
      "INFO: Querying Zombie Highway 2 since:2018-09-29 until:2018-09-30\n",
      "INFO: Querying Zombie Highway 2 since:2018-09-28 until:2018-09-29\n",
      "INFO: Querying Zombie Highway 2 since:2018-09-30 until:2018-10-01\n",
      "INFO: Querying Zombie Highway 2 since:2018-10-01 until:2018-10-02\n",
      "INFO: Querying Zombie Highway 2 since:2018-10-02 until:2018-10-03\n",
      "INFO: Got 0 tweets for Zombie%20Highway%202%20since%3A2018-09-27%20until%3A2018-09-28.\n",
      "INFO: Got 0 tweets (0 new).\n",
      "INFO: Got 0 tweets for Zombie%20Highway%202%20since%3A2018-09-28%20until%3A2018-09-29.\n",
      "INFO: Got 0 tweets (0 new).\n",
      "INFO: Got 0 tweets for Zombie%20Highway%202%20since%3A2018-09-26%20until%3A2018-09-27.\n",
      "INFO: Got 0 tweets (0 new).\n",
      "INFO: Got 0 tweets for Zombie%20Highway%202%20since%3A2018-10-02%20until%3A2018-10-03.\n",
      "INFO: Got 0 tweets (0 new).\n",
      "INFO: Got 0 tweets for Zombie%20Highway%202%20since%3A2018-09-29%20until%3A2018-09-30.\n",
      "INFO: Got 0 tweets (0 new).\n",
      "INFO: Got 0 tweets for Zombie%20Highway%202%20since%3A2018-09-30%20until%3A2018-10-01.\n",
      "INFO: Got 0 tweets (0 new).\n",
      "INFO: Got 2 tweets for Zombie%20Highway%202%20since%3A2018-10-01%20until%3A2018-10-02.\n",
      "INFO: Got 2 tweets (2 new).\n"
     ]
    },
    {
     "name": "stdout",
     "output_type": "stream",
     "text": [
      "Zombie Highway 2\n"
     ]
    },
    {
     "name": "stderr",
     "output_type": "stream",
     "text": [
      "INFO: queries: ['Bullet Force since:2018-09-26 until:2018-09-27', 'Bullet Force since:2018-09-27 until:2018-09-28', 'Bullet Force since:2018-09-28 until:2018-09-29', 'Bullet Force since:2018-09-29 until:2018-09-30', 'Bullet Force since:2018-09-30 until:2018-10-01', 'Bullet Force since:2018-10-01 until:2018-10-02', 'Bullet Force since:2018-10-02 until:2018-10-03']\n",
      "INFO: Querying Bullet Force since:2018-10-01 until:2018-10-02\n",
      "INFO: Querying Bullet Force since:2018-09-30 until:2018-10-01\n",
      "INFO: Querying Bullet Force since:2018-10-02 until:2018-10-03\n",
      "INFO: Querying Bullet Force since:2018-09-27 until:2018-09-28\n",
      "INFO: Querying Bullet Force since:2018-09-26 until:2018-09-27\n",
      "INFO: Querying Bullet Force since:2018-09-29 until:2018-09-30\n",
      "INFO: Querying Bullet Force since:2018-09-28 until:2018-09-29\n",
      "INFO: Got 22 tweets for Bullet%20Force%20since%3A2018-10-01%20until%3A2018-10-02.\n",
      "INFO: Got 22 tweets (22 new).\n",
      "INFO: Got 26 tweets for Bullet%20Force%20since%3A2018-09-28%20until%3A2018-09-29.\n",
      "INFO: Got 48 tweets (26 new).\n",
      "INFO: Got 38 tweets for Bullet%20Force%20since%3A2018-09-30%20until%3A2018-10-01.\n",
      "INFO: Got 86 tweets (38 new).\n",
      "INFO: Got 44 tweets for Bullet%20Force%20since%3A2018-10-02%20until%3A2018-10-03.\n",
      "INFO: Got 130 tweets (44 new).\n",
      "INFO: Got 43 tweets for Bullet%20Force%20since%3A2018-09-29%20until%3A2018-09-30.\n",
      "INFO: Got 173 tweets (43 new).\n",
      "INFO: Got 44 tweets for Bullet%20Force%20since%3A2018-09-27%20until%3A2018-09-28.\n",
      "INFO: Got 217 tweets (44 new).\n",
      "INFO: Got 49 tweets for Bullet%20Force%20since%3A2018-09-26%20until%3A2018-09-27.\n",
      "INFO: Got 266 tweets (49 new).\n"
     ]
    },
    {
     "name": "stdout",
     "output_type": "stream",
     "text": [
      "Bullet Force\n"
     ]
    },
    {
     "name": "stderr",
     "output_type": "stream",
     "text": [
      "INFO: queries: ['Spider Monkey: Slide and Jump! since:2018-09-26 until:2018-09-27', 'Spider Monkey: Slide and Jump! since:2018-09-27 until:2018-09-28', 'Spider Monkey: Slide and Jump! since:2018-09-28 until:2018-09-29', 'Spider Monkey: Slide and Jump! since:2018-09-29 until:2018-09-30', 'Spider Monkey: Slide and Jump! since:2018-09-30 until:2018-10-01', 'Spider Monkey: Slide and Jump! since:2018-10-01 until:2018-10-02', 'Spider Monkey: Slide and Jump! since:2018-10-02 until:2018-10-03']\n",
      "INFO: Querying Spider Monkey: Slide and Jump! since:2018-09-29 until:2018-09-30\n",
      "INFO: Querying Spider Monkey: Slide and Jump! since:2018-09-27 until:2018-09-28\n",
      "INFO: Querying Spider Monkey: Slide and Jump! since:2018-09-26 until:2018-09-27\n",
      "INFO: Querying Spider Monkey: Slide and Jump! since:2018-09-30 until:2018-10-01\n",
      "INFO: Querying Spider Monkey: Slide and Jump! since:2018-10-02 until:2018-10-03\n",
      "INFO: Querying Spider Monkey: Slide and Jump! since:2018-09-28 until:2018-09-29\n",
      "INFO: Querying Spider Monkey: Slide and Jump! since:2018-10-01 until:2018-10-02\n",
      "INFO: Got 0 tweets for Spider%20Monkey%3A%20Slide%20and%20Jump!%20since%3A2018-10-02%20until%3A2018-10-03.\n",
      "INFO: Got 0 tweets (0 new).\n",
      "INFO: Got 0 tweets for Spider%20Monkey%3A%20Slide%20and%20Jump!%20since%3A2018-10-01%20until%3A2018-10-02.\n",
      "INFO: Got 0 tweets (0 new).\n",
      "INFO: Got 0 tweets for Spider%20Monkey%3A%20Slide%20and%20Jump!%20since%3A2018-09-29%20until%3A2018-09-30.\n",
      "INFO: Got 0 tweets (0 new).\n",
      "INFO: Got 0 tweets for Spider%20Monkey%3A%20Slide%20and%20Jump!%20since%3A2018-09-30%20until%3A2018-10-01.\n",
      "INFO: Got 0 tweets (0 new).\n",
      "INFO: Got 0 tweets for Spider%20Monkey%3A%20Slide%20and%20Jump!%20since%3A2018-09-26%20until%3A2018-09-27.\n",
      "INFO: Got 0 tweets (0 new).\n",
      "INFO: Got 0 tweets for Spider%20Monkey%3A%20Slide%20and%20Jump!%20since%3A2018-09-27%20until%3A2018-09-28.\n",
      "INFO: Got 0 tweets (0 new).\n",
      "INFO: Got 0 tweets for Spider%20Monkey%3A%20Slide%20and%20Jump!%20since%3A2018-09-28%20until%3A2018-09-29.\n",
      "INFO: Got 0 tweets (0 new).\n"
     ]
    },
    {
     "name": "stdout",
     "output_type": "stream",
     "text": [
      "Spider Monkey: Slide and Jump!\n"
     ]
    },
    {
     "name": "stderr",
     "output_type": "stream",
     "text": [
      "INFO: queries: ['Mr. Crab since:2018-09-26 until:2018-09-27', 'Mr. Crab since:2018-09-27 until:2018-09-28', 'Mr. Crab since:2018-09-28 until:2018-09-29', 'Mr. Crab since:2018-09-29 until:2018-09-30', 'Mr. Crab since:2018-09-30 until:2018-10-01', 'Mr. Crab since:2018-10-01 until:2018-10-02', 'Mr. Crab since:2018-10-02 until:2018-10-03']\n",
      "INFO: Querying Mr. Crab since:2018-09-28 until:2018-09-29\n",
      "INFO: Querying Mr. Crab since:2018-09-27 until:2018-09-28\n",
      "INFO: Querying Mr. Crab since:2018-09-29 until:2018-09-30\n",
      "INFO: Querying Mr. Crab since:2018-10-02 until:2018-10-03\n",
      "INFO: Querying Mr. Crab since:2018-09-26 until:2018-09-27\n",
      "INFO: Querying Mr. Crab since:2018-10-01 until:2018-10-02\n",
      "INFO: Querying Mr. Crab since:2018-09-30 until:2018-10-01\n",
      "INFO: Got 36 tweets for Mr.%20Crab%20since%3A2018-09-26%20until%3A2018-09-27.\n",
      "INFO: Got 36 tweets (36 new).\n",
      "INFO: Got 35 tweets for Mr.%20Crab%20since%3A2018-09-28%20until%3A2018-09-29.\n",
      "INFO: Got 71 tweets (35 new).\n",
      "INFO: Got 41 tweets for Mr.%20Crab%20since%3A2018-10-02%20until%3A2018-10-03.\n",
      "INFO: Got 112 tweets (41 new).\n",
      "INFO: Got 43 tweets for Mr.%20Crab%20since%3A2018-09-27%20until%3A2018-09-28.\n",
      "INFO: Got 155 tweets (43 new).\n",
      "INFO: Got 56 tweets for Mr.%20Crab%20since%3A2018-09-30%20until%3A2018-10-01.\n",
      "INFO: Got 211 tweets (56 new).\n",
      "INFO: Got 53 tweets for Mr.%20Crab%20since%3A2018-09-29%20until%3A2018-09-30.\n",
      "INFO: Got 264 tweets (53 new).\n",
      "INFO: Got 42 tweets for Mr.%20Crab%20since%3A2018-10-01%20until%3A2018-10-02.\n",
      "INFO: Got 306 tweets (42 new).\n"
     ]
    },
    {
     "name": "stdout",
     "output_type": "stream",
     "text": [
      "Mr. Crab\n"
     ]
    },
    {
     "name": "stderr",
     "output_type": "stream",
     "text": [
      "INFO: queries: ['Real Boxing 2 ROCKY: KO Fight since:2018-09-26 until:2018-09-27', 'Real Boxing 2 ROCKY: KO Fight since:2018-09-27 until:2018-09-28', 'Real Boxing 2 ROCKY: KO Fight since:2018-09-28 until:2018-09-29', 'Real Boxing 2 ROCKY: KO Fight since:2018-09-29 until:2018-09-30', 'Real Boxing 2 ROCKY: KO Fight since:2018-09-30 until:2018-10-01', 'Real Boxing 2 ROCKY: KO Fight since:2018-10-01 until:2018-10-02', 'Real Boxing 2 ROCKY: KO Fight since:2018-10-02 until:2018-10-03']\n",
      "INFO: Querying Real Boxing 2 ROCKY: KO Fight since:2018-09-30 until:2018-10-01\n",
      "INFO: Querying Real Boxing 2 ROCKY: KO Fight since:2018-09-27 until:2018-09-28\n",
      "INFO: Querying Real Boxing 2 ROCKY: KO Fight since:2018-09-29 until:2018-09-30\n",
      "INFO: Querying Real Boxing 2 ROCKY: KO Fight since:2018-10-02 until:2018-10-03\n",
      "INFO: Querying Real Boxing 2 ROCKY: KO Fight since:2018-09-26 until:2018-09-27\n",
      "INFO: Querying Real Boxing 2 ROCKY: KO Fight since:2018-10-01 until:2018-10-02\n",
      "INFO: Querying Real Boxing 2 ROCKY: KO Fight since:2018-09-28 until:2018-09-29\n",
      "INFO: Got 0 tweets for Real%20Boxing%202%20ROCKY%3A%20KO%20Fight%20since%3A2018-10-02%20until%3A2018-10-03.\n",
      "INFO: Got 0 tweets (0 new).\n",
      "INFO: Got 0 tweets for Real%20Boxing%202%20ROCKY%3A%20KO%20Fight%20since%3A2018-09-28%20until%3A2018-09-29.\n",
      "INFO: Got 0 tweets (0 new).\n",
      "INFO: Got 0 tweets for Real%20Boxing%202%20ROCKY%3A%20KO%20Fight%20since%3A2018-10-01%20until%3A2018-10-02.\n",
      "INFO: Got 0 tweets (0 new).\n",
      "INFO: Got 0 tweets for Real%20Boxing%202%20ROCKY%3A%20KO%20Fight%20since%3A2018-09-26%20until%3A2018-09-27.\n",
      "INFO: Got 0 tweets (0 new).\n",
      "INFO: Got 0 tweets for Real%20Boxing%202%20ROCKY%3A%20KO%20Fight%20since%3A2018-09-30%20until%3A2018-10-01.\n",
      "INFO: Got 0 tweets (0 new).\n",
      "INFO: Got 0 tweets for Real%20Boxing%202%20ROCKY%3A%20KO%20Fight%20since%3A2018-09-29%20until%3A2018-09-30.\n",
      "INFO: Got 0 tweets (0 new).\n",
      "INFO: Got 0 tweets for Real%20Boxing%202%20ROCKY%3A%20KO%20Fight%20since%3A2018-09-27%20until%3A2018-09-28.\n",
      "INFO: Got 0 tweets (0 new).\n"
     ]
    },
    {
     "name": "stdout",
     "output_type": "stream",
     "text": [
      "Real Boxing 2 ROCKY: KO Fight\n"
     ]
    },
    {
     "name": "stderr",
     "output_type": "stream",
     "text": [
      "INFO: queries: ['Talking Tom Jetski since:2018-09-26 until:2018-09-27', 'Talking Tom Jetski since:2018-09-27 until:2018-09-28', 'Talking Tom Jetski since:2018-09-28 until:2018-09-29', 'Talking Tom Jetski since:2018-09-29 until:2018-09-30', 'Talking Tom Jetski since:2018-09-30 until:2018-10-01', 'Talking Tom Jetski since:2018-10-01 until:2018-10-02', 'Talking Tom Jetski since:2018-10-02 until:2018-10-03']\n",
      "INFO: Querying Talking Tom Jetski since:2018-09-29 until:2018-09-30\n",
      "INFO: Querying Talking Tom Jetski since:2018-09-30 until:2018-10-01\n",
      "INFO: Querying Talking Tom Jetski since:2018-09-26 until:2018-09-27\n",
      "INFO: Querying Talking Tom Jetski since:2018-10-02 until:2018-10-03\n",
      "INFO: Querying Talking Tom Jetski since:2018-09-27 until:2018-09-28\n",
      "INFO: Querying Talking Tom Jetski since:2018-10-01 until:2018-10-02\n",
      "INFO: Querying Talking Tom Jetski since:2018-09-28 until:2018-09-29\n",
      "INFO: Got 0 tweets for Talking%20Tom%20Jetski%20since%3A2018-09-30%20until%3A2018-10-01.\n",
      "INFO: Got 0 tweets (0 new).\n",
      "INFO: Got 0 tweets for Talking%20Tom%20Jetski%20since%3A2018-09-27%20until%3A2018-09-28.\n",
      "INFO: Got 0 tweets (0 new).\n",
      "INFO: Got 0 tweets for Talking%20Tom%20Jetski%20since%3A2018-09-26%20until%3A2018-09-27.\n",
      "INFO: Got 0 tweets (0 new).\n",
      "INFO: Got 0 tweets for Talking%20Tom%20Jetski%20since%3A2018-09-29%20until%3A2018-09-30.\n",
      "INFO: Got 0 tweets (0 new).\n",
      "INFO: Got 0 tweets for Talking%20Tom%20Jetski%20since%3A2018-09-28%20until%3A2018-09-29.\n",
      "INFO: Got 0 tweets (0 new).\n",
      "INFO: Got 0 tweets for Talking%20Tom%20Jetski%20since%3A2018-10-01%20until%3A2018-10-02.\n",
      "INFO: Got 0 tweets (0 new).\n",
      "INFO: Got 1 tweets for Talking%20Tom%20Jetski%20since%3A2018-10-02%20until%3A2018-10-03.\n",
      "INFO: Got 1 tweets (1 new).\n"
     ]
    },
    {
     "name": "stdout",
     "output_type": "stream",
     "text": [
      "Talking Tom Jetski\n"
     ]
    },
    {
     "name": "stderr",
     "output_type": "stream",
     "text": [
      "INFO: queries: ['Contract Killer: Sniper since:2018-09-26 until:2018-09-27', 'Contract Killer: Sniper since:2018-09-27 until:2018-09-28', 'Contract Killer: Sniper since:2018-09-28 until:2018-09-29', 'Contract Killer: Sniper since:2018-09-29 until:2018-09-30', 'Contract Killer: Sniper since:2018-09-30 until:2018-10-01', 'Contract Killer: Sniper since:2018-10-01 until:2018-10-02', 'Contract Killer: Sniper since:2018-10-02 until:2018-10-03']\n",
      "INFO: Querying Contract Killer: Sniper since:2018-09-27 until:2018-09-28\n",
      "INFO: Querying Contract Killer: Sniper since:2018-09-28 until:2018-09-29\n",
      "INFO: Querying Contract Killer: Sniper since:2018-09-29 until:2018-09-30\n",
      "INFO: Querying Contract Killer: Sniper since:2018-09-30 until:2018-10-01\n",
      "INFO: Querying Contract Killer: Sniper since:2018-10-02 until:2018-10-03\n",
      "INFO: Querying Contract Killer: Sniper since:2018-10-01 until:2018-10-02\n",
      "INFO: Querying Contract Killer: Sniper since:2018-09-26 until:2018-09-27\n",
      "INFO: Got 0 tweets for Contract%20Killer%3A%20Sniper%20since%3A2018-09-28%20until%3A2018-09-29.\n",
      "INFO: Got 0 tweets (0 new).\n",
      "INFO: Got 0 tweets for Contract%20Killer%3A%20Sniper%20since%3A2018-09-26%20until%3A2018-09-27.\n",
      "INFO: Got 0 tweets (0 new).\n",
      "INFO: Got 0 tweets for Contract%20Killer%3A%20Sniper%20since%3A2018-09-29%20until%3A2018-09-30.\n",
      "INFO: Got 0 tweets for Contract%20Killer%3A%20Sniper%20since%3A2018-10-01%20until%3A2018-10-02.\n",
      "INFO: Got 0 tweets for Contract%20Killer%3A%20Sniper%20since%3A2018-09-27%20until%3A2018-09-28.\n",
      "INFO: Got 0 tweets (0 new).\n",
      "INFO: Got 0 tweets (0 new).\n",
      "INFO: Got 0 tweets (0 new).\n",
      "INFO: Got 0 tweets for Contract%20Killer%3A%20Sniper%20since%3A2018-09-30%20until%3A2018-10-01.\n",
      "INFO: Got 0 tweets (0 new).\n",
      "INFO: Got 0 tweets for Contract%20Killer%3A%20Sniper%20since%3A2018-10-02%20until%3A2018-10-03.\n",
      "INFO: Got 0 tweets (0 new).\n"
     ]
    },
    {
     "name": "stdout",
     "output_type": "stream",
     "text": [
      "Contract Killer: Sniper\n"
     ]
    },
    {
     "name": "stderr",
     "output_type": "stream",
     "text": [
      "INFO: queries: ['Monster Truck Destruction™ since:2018-09-26 until:2018-09-27', 'Monster Truck Destruction™ since:2018-09-27 until:2018-09-28', 'Monster Truck Destruction™ since:2018-09-28 until:2018-09-29', 'Monster Truck Destruction™ since:2018-09-29 until:2018-09-30', 'Monster Truck Destruction™ since:2018-09-30 until:2018-10-01', 'Monster Truck Destruction™ since:2018-10-01 until:2018-10-02', 'Monster Truck Destruction™ since:2018-10-02 until:2018-10-03']\n",
      "INFO: Querying Monster Truck Destruction™ since:2018-09-26 until:2018-09-27\n",
      "INFO: Querying Monster Truck Destruction™ since:2018-09-29 until:2018-09-30\n",
      "INFO: Querying Monster Truck Destruction™ since:2018-09-27 until:2018-09-28\n",
      "INFO: Querying Monster Truck Destruction™ since:2018-09-30 until:2018-10-01\n",
      "INFO: Querying Monster Truck Destruction™ since:2018-10-02 until:2018-10-03\n",
      "INFO: Querying Monster Truck Destruction™ since:2018-09-28 until:2018-09-29\n",
      "INFO: Querying Monster Truck Destruction™ since:2018-10-01 until:2018-10-02\n",
      "INFO: Got 0 tweets for Monster%20Truck%20Destruction™%20since%3A2018-10-02%20until%3A2018-10-03.\n",
      "INFO: Got 0 tweets (0 new).\n",
      "INFO: Got 0 tweets for Monster%20Truck%20Destruction™%20since%3A2018-10-01%20until%3A2018-10-02.\n",
      "INFO: Got 0 tweets (0 new).\n",
      "INFO: Got 0 tweets for Monster%20Truck%20Destruction™%20since%3A2018-09-26%20until%3A2018-09-27.\n",
      "INFO: Got 0 tweets (0 new).\n",
      "INFO: Got 0 tweets for Monster%20Truck%20Destruction™%20since%3A2018-09-29%20until%3A2018-09-30.\n",
      "INFO: Got 0 tweets (0 new).\n",
      "INFO: Got 0 tweets for Monster%20Truck%20Destruction™%20since%3A2018-09-28%20until%3A2018-09-29.\n",
      "INFO: Got 0 tweets (0 new).\n",
      "INFO: Got 0 tweets for Monster%20Truck%20Destruction™%20since%3A2018-09-27%20until%3A2018-09-28.\n",
      "INFO: Got 0 tweets (0 new).\n",
      "INFO: Got 0 tweets for Monster%20Truck%20Destruction™%20since%3A2018-09-30%20until%3A2018-10-01.\n",
      "INFO: Got 0 tweets (0 new).\n"
     ]
    },
    {
     "name": "stdout",
     "output_type": "stream",
     "text": [
      "Monster Truck Destruction™\n"
     ]
    },
    {
     "name": "stderr",
     "output_type": "stream",
     "text": [
      "INFO: queries: ['F18 Carrier Landing Lite since:2018-09-26 until:2018-09-27', 'F18 Carrier Landing Lite since:2018-09-27 until:2018-09-28', 'F18 Carrier Landing Lite since:2018-09-28 until:2018-09-29', 'F18 Carrier Landing Lite since:2018-09-29 until:2018-09-30', 'F18 Carrier Landing Lite since:2018-09-30 until:2018-10-01', 'F18 Carrier Landing Lite since:2018-10-01 until:2018-10-02', 'F18 Carrier Landing Lite since:2018-10-02 until:2018-10-03']\n",
      "INFO: Querying F18 Carrier Landing Lite since:2018-09-27 until:2018-09-28\n",
      "INFO: Querying F18 Carrier Landing Lite since:2018-09-26 until:2018-09-27\n",
      "INFO: Querying F18 Carrier Landing Lite since:2018-10-01 until:2018-10-02\n",
      "INFO: Querying F18 Carrier Landing Lite since:2018-09-29 until:2018-09-30\n",
      "INFO: Querying F18 Carrier Landing Lite since:2018-09-30 until:2018-10-01\n",
      "INFO: Querying F18 Carrier Landing Lite since:2018-10-02 until:2018-10-03\n",
      "INFO: Querying F18 Carrier Landing Lite since:2018-09-28 until:2018-09-29\n",
      "INFO: Got 0 tweets for F18%20Carrier%20Landing%20Lite%20since%3A2018-09-28%20until%3A2018-09-29.\n",
      "INFO: Got 0 tweets (0 new).\n",
      "INFO: Got 0 tweets for F18%20Carrier%20Landing%20Lite%20since%3A2018-09-26%20until%3A2018-09-27.\n",
      "INFO: Got 0 tweets (0 new).\n",
      "INFO: Got 0 tweets for F18%20Carrier%20Landing%20Lite%20since%3A2018-10-01%20until%3A2018-10-02.\n",
      "INFO: Got 0 tweets (0 new).\n",
      "INFO: Got 0 tweets for F18%20Carrier%20Landing%20Lite%20since%3A2018-09-30%20until%3A2018-10-01.\n",
      "INFO: Got 0 tweets (0 new).\n",
      "INFO: Got 0 tweets for F18%20Carrier%20Landing%20Lite%20since%3A2018-09-29%20until%3A2018-09-30.\n",
      "INFO: Got 0 tweets for F18%20Carrier%20Landing%20Lite%20since%3A2018-09-27%20until%3A2018-09-28.\n",
      "INFO: Got 0 tweets (0 new).\n",
      "INFO: Got 0 tweets (0 new).\n",
      "INFO: Got 0 tweets for F18%20Carrier%20Landing%20Lite%20since%3A2018-10-02%20until%3A2018-10-03.\n",
      "INFO: Got 0 tweets (0 new).\n"
     ]
    },
    {
     "name": "stdout",
     "output_type": "stream",
     "text": [
      "F18 Carrier Landing Lite\n"
     ]
    },
    {
     "name": "stderr",
     "output_type": "stream",
     "text": [
      "INFO: queries: ['Fit In The Hole since:2018-09-26 until:2018-09-27', 'Fit In The Hole since:2018-09-27 until:2018-09-28', 'Fit In The Hole since:2018-09-28 until:2018-09-29', 'Fit In The Hole since:2018-09-29 until:2018-09-30', 'Fit In The Hole since:2018-09-30 until:2018-10-01', 'Fit In The Hole since:2018-10-01 until:2018-10-02', 'Fit In The Hole since:2018-10-02 until:2018-10-03']\n",
      "INFO: Querying Fit In The Hole since:2018-09-26 until:2018-09-27\n",
      "INFO: Querying Fit In The Hole since:2018-09-27 until:2018-09-28\n",
      "INFO: Querying Fit In The Hole since:2018-09-29 until:2018-09-30\n",
      "INFO: Querying Fit In The Hole since:2018-10-02 until:2018-10-03\n",
      "INFO: Querying Fit In The Hole since:2018-09-28 until:2018-09-29\n",
      "INFO: Querying Fit In The Hole since:2018-09-30 until:2018-10-01\n",
      "INFO: Querying Fit In The Hole since:2018-10-01 until:2018-10-02\n",
      "INFO: Got 9 tweets for Fit%20In%20The%20Hole%20since%3A2018-09-30%20until%3A2018-10-01.\n",
      "INFO: Got 9 tweets (9 new).\n",
      "INFO: Got 5 tweets for Fit%20In%20The%20Hole%20since%3A2018-09-29%20until%3A2018-09-30.\n",
      "INFO: Got 4 tweets for Fit%20In%20The%20Hole%20since%3A2018-09-26%20until%3A2018-09-27.\n",
      "INFO: Got 14 tweets (5 new).\n",
      "INFO: Got 18 tweets (4 new).\n",
      "INFO: Got 13 tweets for Fit%20In%20The%20Hole%20since%3A2018-09-27%20until%3A2018-09-28.\n",
      "INFO: Got 31 tweets (13 new).\n",
      "INFO: Got 14 tweets for Fit%20In%20The%20Hole%20since%3A2018-10-02%20until%3A2018-10-03.\n",
      "INFO: Got 45 tweets (14 new).\n",
      "INFO: Got 15 tweets for Fit%20In%20The%20Hole%20since%3A2018-09-28%20until%3A2018-09-29.\n",
      "INFO: Got 60 tweets (15 new).\n",
      "INFO: Got 19 tweets for Fit%20In%20The%20Hole%20since%3A2018-10-01%20until%3A2018-10-02.\n",
      "INFO: Got 79 tweets (19 new).\n"
     ]
    },
    {
     "name": "stdout",
     "output_type": "stream",
     "text": [
      "Fit In The Hole\n"
     ]
    },
    {
     "name": "stderr",
     "output_type": "stream",
     "text": [
      "INFO: queries: ['Sniper Arena: Online PvP Game since:2018-09-26 until:2018-09-27', 'Sniper Arena: Online PvP Game since:2018-09-27 until:2018-09-28', 'Sniper Arena: Online PvP Game since:2018-09-28 until:2018-09-29', 'Sniper Arena: Online PvP Game since:2018-09-29 until:2018-09-30', 'Sniper Arena: Online PvP Game since:2018-09-30 until:2018-10-01', 'Sniper Arena: Online PvP Game since:2018-10-01 until:2018-10-02', 'Sniper Arena: Online PvP Game since:2018-10-02 until:2018-10-03']\n",
      "INFO: Querying Sniper Arena: Online PvP Game since:2018-09-27 until:2018-09-28\n",
      "INFO: Querying Sniper Arena: Online PvP Game since:2018-10-01 until:2018-10-02\n",
      "INFO: Querying Sniper Arena: Online PvP Game since:2018-09-26 until:2018-09-27\n",
      "INFO: Querying Sniper Arena: Online PvP Game since:2018-09-30 until:2018-10-01\n",
      "INFO: Querying Sniper Arena: Online PvP Game since:2018-09-28 until:2018-09-29\n",
      "INFO: Querying Sniper Arena: Online PvP Game since:2018-10-02 until:2018-10-03\n",
      "INFO: Querying Sniper Arena: Online PvP Game since:2018-09-29 until:2018-09-30\n",
      "INFO: Got 0 tweets for Sniper%20Arena%3A%20Online%20PvP%20Game%20since%3A2018-09-28%20until%3A2018-09-29.\n",
      "INFO: Got 0 tweets (0 new).\n",
      "INFO: Got 0 tweets for Sniper%20Arena%3A%20Online%20PvP%20Game%20since%3A2018-09-30%20until%3A2018-10-01.\n",
      "INFO: Got 0 tweets (0 new).\n",
      "INFO: Got 0 tweets for Sniper%20Arena%3A%20Online%20PvP%20Game%20since%3A2018-10-02%20until%3A2018-10-03.\n",
      "INFO: Got 0 tweets (0 new).\n",
      "INFO: Got 0 tweets for Sniper%20Arena%3A%20Online%20PvP%20Game%20since%3A2018-09-26%20until%3A2018-09-27.\n",
      "INFO: Got 0 tweets (0 new).\n",
      "INFO: Got 0 tweets for Sniper%20Arena%3A%20Online%20PvP%20Game%20since%3A2018-09-27%20until%3A2018-09-28.\n",
      "INFO: Got 0 tweets (0 new).\n",
      "INFO: Got 0 tweets for Sniper%20Arena%3A%20Online%20PvP%20Game%20since%3A2018-10-01%20until%3A2018-10-02.\n",
      "INFO: Got 0 tweets (0 new).\n",
      "INFO: Got 0 tweets for Sniper%20Arena%3A%20Online%20PvP%20Game%20since%3A2018-09-29%20until%3A2018-09-30.\n",
      "INFO: Got 0 tweets (0 new).\n"
     ]
    },
    {
     "name": "stdout",
     "output_type": "stream",
     "text": [
      "Sniper Arena: Online PvP Game\n"
     ]
    },
    {
     "name": "stderr",
     "output_type": "stream",
     "text": [
      "INFO: queries: ['Bloons TD 5 since:2018-09-26 until:2018-09-27', 'Bloons TD 5 since:2018-09-27 until:2018-09-28', 'Bloons TD 5 since:2018-09-28 until:2018-09-29', 'Bloons TD 5 since:2018-09-29 until:2018-09-30', 'Bloons TD 5 since:2018-09-30 until:2018-10-01', 'Bloons TD 5 since:2018-10-01 until:2018-10-02', 'Bloons TD 5 since:2018-10-02 until:2018-10-03']\n",
      "INFO: Querying Bloons TD 5 since:2018-09-26 until:2018-09-27\n",
      "INFO: Querying Bloons TD 5 since:2018-09-28 until:2018-09-29\n",
      "INFO: Querying Bloons TD 5 since:2018-09-27 until:2018-09-28\n",
      "INFO: Querying Bloons TD 5 since:2018-10-01 until:2018-10-02\n",
      "INFO: Querying Bloons TD 5 since:2018-09-29 until:2018-09-30\n",
      "INFO: Querying Bloons TD 5 since:2018-09-30 until:2018-10-01\n",
      "INFO: Querying Bloons TD 5 since:2018-10-02 until:2018-10-03\n",
      "INFO: Got 6 tweets for Bloons%20TD%205%20since%3A2018-09-26%20until%3A2018-09-27.\n",
      "INFO: Got 6 tweets (6 new).\n",
      "INFO: Got 2 tweets for Bloons%20TD%205%20since%3A2018-09-27%20until%3A2018-09-28.\n",
      "INFO: Got 8 tweets (2 new).\n",
      "INFO: Got 4 tweets for Bloons%20TD%205%20since%3A2018-09-28%20until%3A2018-09-29.\n",
      "INFO: Got 12 tweets (4 new).\n",
      "INFO: Got 10 tweets for Bloons%20TD%205%20since%3A2018-10-02%20until%3A2018-10-03.\n",
      "INFO: Got 22 tweets (10 new).\n",
      "INFO: Got 5 tweets for Bloons%20TD%205%20since%3A2018-09-30%20until%3A2018-10-01.\n",
      "INFO: Got 27 tweets (5 new).\n",
      "INFO: Got 3 tweets for Bloons%20TD%205%20since%3A2018-10-01%20until%3A2018-10-02.\n",
      "INFO: Got 30 tweets (3 new).\n",
      "INFO: Got 7 tweets for Bloons%20TD%205%20since%3A2018-09-29%20until%3A2018-09-30.\n",
      "INFO: Got 37 tweets (7 new).\n"
     ]
    },
    {
     "name": "stdout",
     "output_type": "stream",
     "text": [
      "Bloons TD 5\n"
     ]
    },
    {
     "name": "stderr",
     "output_type": "stream",
     "text": [
      "INFO: queries: ['Flip the Gun - Simulator Game since:2018-09-26 until:2018-09-27', 'Flip the Gun - Simulator Game since:2018-09-27 until:2018-09-28', 'Flip the Gun - Simulator Game since:2018-09-28 until:2018-09-29', 'Flip the Gun - Simulator Game since:2018-09-29 until:2018-09-30', 'Flip the Gun - Simulator Game since:2018-09-30 until:2018-10-01', 'Flip the Gun - Simulator Game since:2018-10-01 until:2018-10-02', 'Flip the Gun - Simulator Game since:2018-10-02 until:2018-10-03']\n",
      "INFO: Querying Flip the Gun - Simulator Game since:2018-09-28 until:2018-09-29\n",
      "INFO: Querying Flip the Gun - Simulator Game since:2018-09-26 until:2018-09-27\n",
      "INFO: Querying Flip the Gun - Simulator Game since:2018-09-29 until:2018-09-30\n",
      "INFO: Querying Flip the Gun - Simulator Game since:2018-09-27 until:2018-09-28\n",
      "INFO: Querying Flip the Gun - Simulator Game since:2018-09-30 until:2018-10-01\n",
      "INFO: Querying Flip the Gun - Simulator Game since:2018-10-01 until:2018-10-02\n",
      "INFO: Querying Flip the Gun - Simulator Game since:2018-10-02 until:2018-10-03\n",
      "INFO: Got 0 tweets for Flip%20the%20Gun%20-%20Simulator%20Game%20since%3A2018-10-02%20until%3A2018-10-03.\n",
      "INFO: Got 0 tweets (0 new).\n",
      "INFO: Got 0 tweets for Flip%20the%20Gun%20-%20Simulator%20Game%20since%3A2018-09-28%20until%3A2018-09-29.\n",
      "INFO: Got 0 tweets (0 new).\n",
      "INFO: Got 0 tweets for Flip%20the%20Gun%20-%20Simulator%20Game%20since%3A2018-09-30%20until%3A2018-10-01.\n",
      "INFO: Got 0 tweets (0 new).\n",
      "INFO: Got 0 tweets for Flip%20the%20Gun%20-%20Simulator%20Game%20since%3A2018-09-27%20until%3A2018-09-28.\n",
      "INFO: Got 0 tweets (0 new).\n",
      "INFO: Got 0 tweets for Flip%20the%20Gun%20-%20Simulator%20Game%20since%3A2018-09-26%20until%3A2018-09-27.\n",
      "INFO: Got 0 tweets (0 new).\n",
      "INFO: Got 0 tweets for Flip%20the%20Gun%20-%20Simulator%20Game%20since%3A2018-10-01%20until%3A2018-10-02.\n",
      "INFO: Got 0 tweets (0 new).\n",
      "INFO: Got 1 tweets for Flip%20the%20Gun%20-%20Simulator%20Game%20since%3A2018-09-29%20until%3A2018-09-30.\n",
      "INFO: Got 1 tweets (1 new).\n"
     ]
    },
    {
     "name": "stdout",
     "output_type": "stream",
     "text": [
      "Flip the Gun - Simulator Game\n"
     ]
    },
    {
     "name": "stderr",
     "output_type": "stream",
     "text": [
      "INFO: queries: ['DomiNations since:2018-09-26 until:2018-09-27', 'DomiNations since:2018-09-27 until:2018-09-28', 'DomiNations since:2018-09-28 until:2018-09-29', 'DomiNations since:2018-09-29 until:2018-09-30', 'DomiNations since:2018-09-30 until:2018-10-01', 'DomiNations since:2018-10-01 until:2018-10-02', 'DomiNations since:2018-10-02 until:2018-10-03']\n",
      "INFO: Querying DomiNations since:2018-09-26 until:2018-09-27\n",
      "INFO: Querying DomiNations since:2018-10-01 until:2018-10-02\n",
      "INFO: Querying DomiNations since:2018-09-28 until:2018-09-29\n",
      "INFO: Querying DomiNations since:2018-09-27 until:2018-09-28\n",
      "INFO: Querying DomiNations since:2018-10-02 until:2018-10-03\n",
      "INFO: Querying DomiNations since:2018-09-29 until:2018-09-30\n",
      "INFO: Querying DomiNations since:2018-09-30 until:2018-10-01\n",
      "INFO: Got 2236 tweets for DomiNations%20since%3A2018-10-02%20until%3A2018-10-03.\n",
      "INFO: Got 2236 tweets (2236 new).\n",
      "INFO: Got 2255 tweets for DomiNations%20since%3A2018-09-27%20until%3A2018-09-28.\n",
      "INFO: Got 4491 tweets (2255 new).\n",
      "INFO: Got 2348 tweets for DomiNations%20since%3A2018-09-29%20until%3A2018-09-30.\n",
      "INFO: Got 6839 tweets (2348 new).\n",
      "INFO: Got 2389 tweets for DomiNations%20since%3A2018-09-26%20until%3A2018-09-27.\n",
      "INFO: Got 9228 tweets (2389 new).\n",
      "INFO: Got 2486 tweets for DomiNations%20since%3A2018-10-01%20until%3A2018-10-02.\n",
      "INFO: Got 11714 tweets (2486 new).\n",
      "INFO: Got 2522 tweets for DomiNations%20since%3A2018-09-30%20until%3A2018-10-01.\n",
      "INFO: Got 14236 tweets (2522 new).\n",
      "INFO: Got 2623 tweets for DomiNations%20since%3A2018-09-28%20until%3A2018-09-29.\n",
      "INFO: Got 16859 tweets (2623 new).\n"
     ]
    },
    {
     "name": "stdout",
     "output_type": "stream",
     "text": [
      "DomiNations\n"
     ]
    },
    {
     "name": "stderr",
     "output_type": "stream",
     "text": [
      "INFO: queries: ['GunCrafter since:2018-09-26 until:2018-09-27', 'GunCrafter since:2018-09-27 until:2018-09-28', 'GunCrafter since:2018-09-28 until:2018-09-29', 'GunCrafter since:2018-09-29 until:2018-09-30', 'GunCrafter since:2018-09-30 until:2018-10-01', 'GunCrafter since:2018-10-01 until:2018-10-02', 'GunCrafter since:2018-10-02 until:2018-10-03']\n",
      "INFO: Querying GunCrafter since:2018-09-26 until:2018-09-27\n",
      "INFO: Querying GunCrafter since:2018-09-29 until:2018-09-30\n",
      "INFO: Querying GunCrafter since:2018-09-28 until:2018-09-29\n",
      "INFO: Querying GunCrafter since:2018-10-02 until:2018-10-03\n",
      "INFO: Querying GunCrafter since:2018-09-27 until:2018-09-28\n",
      "INFO: Querying GunCrafter since:2018-09-30 until:2018-10-01\n",
      "INFO: Querying GunCrafter since:2018-10-01 until:2018-10-02\n",
      "INFO: Got 0 tweets for GunCrafter%20since%3A2018-09-26%20until%3A2018-09-27.\n",
      "INFO: Got 0 tweets (0 new).\n",
      "INFO: Got 0 tweets for GunCrafter%20since%3A2018-09-29%20until%3A2018-09-30.\n",
      "INFO: Got 0 tweets (0 new).\n",
      "INFO: Got 0 tweets for GunCrafter%20since%3A2018-09-27%20until%3A2018-09-28.\n",
      "INFO: Got 0 tweets (0 new).\n",
      "INFO: Got 1 tweets for GunCrafter%20since%3A2018-10-02%20until%3A2018-10-03.\n",
      "INFO: Got 1 tweets (1 new).\n",
      "INFO: Got 1 tweets for GunCrafter%20since%3A2018-10-01%20until%3A2018-10-02.\n",
      "INFO: Got 2 tweets (1 new).\n",
      "INFO: Got 1 tweets for GunCrafter%20since%3A2018-09-30%20until%3A2018-10-01.\n",
      "INFO: Got 3 tweets (1 new).\n",
      "INFO: Got 2 tweets for GunCrafter%20since%3A2018-09-28%20until%3A2018-09-29.\n",
      "INFO: Got 5 tweets (2 new).\n"
     ]
    },
    {
     "name": "stdout",
     "output_type": "stream",
     "text": [
      "GunCrafter\n"
     ]
    },
    {
     "name": "stderr",
     "output_type": "stream",
     "text": [
      "INFO: queries: ['Star Warfare:Alien Invasion since:2018-09-26 until:2018-09-27', 'Star Warfare:Alien Invasion since:2018-09-27 until:2018-09-28', 'Star Warfare:Alien Invasion since:2018-09-28 until:2018-09-29', 'Star Warfare:Alien Invasion since:2018-09-29 until:2018-09-30', 'Star Warfare:Alien Invasion since:2018-09-30 until:2018-10-01', 'Star Warfare:Alien Invasion since:2018-10-01 until:2018-10-02', 'Star Warfare:Alien Invasion since:2018-10-02 until:2018-10-03']\n",
      "INFO: Querying Star Warfare:Alien Invasion since:2018-09-27 until:2018-09-28\n",
      "INFO: Querying Star Warfare:Alien Invasion since:2018-09-28 until:2018-09-29\n",
      "INFO: Querying Star Warfare:Alien Invasion since:2018-09-26 until:2018-09-27\n",
      "INFO: Querying Star Warfare:Alien Invasion since:2018-10-01 until:2018-10-02\n",
      "INFO: Querying Star Warfare:Alien Invasion since:2018-10-02 until:2018-10-03\n",
      "INFO: Querying Star Warfare:Alien Invasion since:2018-09-29 until:2018-09-30\n",
      "INFO: Querying Star Warfare:Alien Invasion since:2018-09-30 until:2018-10-01\n",
      "INFO: Got 0 tweets for Star%20Warfare%3AAlien%20Invasion%20since%3A2018-10-02%20until%3A2018-10-03.\n",
      "INFO: Got 0 tweets (0 new).\n",
      "INFO: Got 0 tweets for Star%20Warfare%3AAlien%20Invasion%20since%3A2018-09-29%20until%3A2018-09-30.\n",
      "INFO: Got 0 tweets (0 new).\n",
      "INFO: Got 0 tweets for Star%20Warfare%3AAlien%20Invasion%20since%3A2018-09-28%20until%3A2018-09-29.\n",
      "INFO: Got 0 tweets (0 new).\n",
      "INFO: Got 0 tweets for Star%20Warfare%3AAlien%20Invasion%20since%3A2018-09-26%20until%3A2018-09-27.\n",
      "INFO: Got 0 tweets (0 new).\n",
      "INFO: Got 0 tweets for Star%20Warfare%3AAlien%20Invasion%20since%3A2018-10-01%20until%3A2018-10-02.\n",
      "INFO: Got 0 tweets (0 new).\n",
      "INFO: Got 0 tweets for Star%20Warfare%3AAlien%20Invasion%20since%3A2018-09-27%20until%3A2018-09-28.\n",
      "INFO: Got 0 tweets (0 new).\n",
      "INFO: Got 1 tweets for Star%20Warfare%3AAlien%20Invasion%20since%3A2018-09-30%20until%3A2018-10-01.\n",
      "INFO: Got 1 tweets (1 new).\n"
     ]
    },
    {
     "name": "stdout",
     "output_type": "stream",
     "text": [
      "Star Warfare:Alien Invasion\n"
     ]
    },
    {
     "name": "stderr",
     "output_type": "stream",
     "text": [
      "INFO: queries: ['Asphalt 9: Legends since:2018-09-26 until:2018-09-27', 'Asphalt 9: Legends since:2018-09-27 until:2018-09-28', 'Asphalt 9: Legends since:2018-09-28 until:2018-09-29', 'Asphalt 9: Legends since:2018-09-29 until:2018-09-30', 'Asphalt 9: Legends since:2018-09-30 until:2018-10-01', 'Asphalt 9: Legends since:2018-10-01 until:2018-10-02', 'Asphalt 9: Legends since:2018-10-02 until:2018-10-03']\n",
      "INFO: Querying Asphalt 9: Legends since:2018-09-27 until:2018-09-28\n",
      "INFO: Querying Asphalt 9: Legends since:2018-09-26 until:2018-09-27\n",
      "INFO: Querying Asphalt 9: Legends since:2018-10-01 until:2018-10-02\n",
      "INFO: Querying Asphalt 9: Legends since:2018-09-30 until:2018-10-01\n",
      "INFO: Querying Asphalt 9: Legends since:2018-09-29 until:2018-09-30\n",
      "INFO: Querying Asphalt 9: Legends since:2018-09-28 until:2018-09-29\n",
      "INFO: Querying Asphalt 9: Legends since:2018-10-02 until:2018-10-03\n",
      "INFO: Got 20 tweets for Asphalt%209%3A%20Legends%20since%3A2018-09-30%20until%3A2018-10-01.\n",
      "INFO: Got 20 tweets (20 new).\n",
      "INFO: Got 28 tweets for Asphalt%209%3A%20Legends%20since%3A2018-10-02%20until%3A2018-10-03.\n",
      "INFO: Got 48 tweets (28 new).\n",
      "INFO: Got 28 tweets for Asphalt%209%3A%20Legends%20since%3A2018-09-29%20until%3A2018-09-30.\n",
      "INFO: Got 76 tweets (28 new).\n",
      "INFO: Got 29 tweets for Asphalt%209%3A%20Legends%20since%3A2018-09-26%20until%3A2018-09-27.\n",
      "INFO: Got 105 tweets (29 new).\n",
      "INFO: Got 38 tweets for Asphalt%209%3A%20Legends%20since%3A2018-09-27%20until%3A2018-09-28.\n",
      "INFO: Got 143 tweets (38 new).\n",
      "INFO: Got 36 tweets for Asphalt%209%3A%20Legends%20since%3A2018-10-01%20until%3A2018-10-02.\n",
      "INFO: Got 179 tweets (36 new).\n",
      "INFO: Got 32 tweets for Asphalt%209%3A%20Legends%20since%3A2018-09-28%20until%3A2018-09-29.\n",
      "INFO: Got 211 tweets (32 new).\n"
     ]
    },
    {
     "name": "stdout",
     "output_type": "stream",
     "text": [
      "Asphalt 9: Legends\n"
     ]
    },
    {
     "name": "stderr",
     "output_type": "stream",
     "text": [
      "INFO: queries: ['Best Fiends Forever since:2018-09-26 until:2018-09-27', 'Best Fiends Forever since:2018-09-27 until:2018-09-28', 'Best Fiends Forever since:2018-09-28 until:2018-09-29', 'Best Fiends Forever since:2018-09-29 until:2018-09-30', 'Best Fiends Forever since:2018-09-30 until:2018-10-01', 'Best Fiends Forever since:2018-10-01 until:2018-10-02', 'Best Fiends Forever since:2018-10-02 until:2018-10-03']\n",
      "INFO: Querying Best Fiends Forever since:2018-09-27 until:2018-09-28\n",
      "INFO: Querying Best Fiends Forever since:2018-09-29 until:2018-09-30\n",
      "INFO: Querying Best Fiends Forever since:2018-10-01 until:2018-10-02\n",
      "INFO: Querying Best Fiends Forever since:2018-09-28 until:2018-09-29\n",
      "INFO: Querying Best Fiends Forever since:2018-09-30 until:2018-10-01\n",
      "INFO: Querying Best Fiends Forever since:2018-10-02 until:2018-10-03\n",
      "INFO: Querying Best Fiends Forever since:2018-09-26 until:2018-09-27\n",
      "INFO: Got 0 tweets for Best%20Fiends%20Forever%20since%3A2018-09-30%20until%3A2018-10-01.\n",
      "INFO: Got 0 tweets (0 new).\n",
      "INFO: Got 0 tweets for Best%20Fiends%20Forever%20since%3A2018-09-27%20until%3A2018-09-28.\n",
      "INFO: Got 0 tweets (0 new).\n",
      "INFO: Got 1 tweets for Best%20Fiends%20Forever%20since%3A2018-10-02%20until%3A2018-10-03.\n",
      "INFO: Got 1 tweets (1 new).\n",
      "INFO: Got 2 tweets for Best%20Fiends%20Forever%20since%3A2018-09-29%20until%3A2018-09-30.\n",
      "INFO: Got 3 tweets (2 new).\n",
      "INFO: Got 1 tweets for Best%20Fiends%20Forever%20since%3A2018-09-26%20until%3A2018-09-27.\n",
      "INFO: Got 4 tweets (1 new).\n",
      "INFO: Got 3 tweets for Best%20Fiends%20Forever%20since%3A2018-09-28%20until%3A2018-09-29.\n",
      "INFO: Got 7 tweets (3 new).\n",
      "INFO: Got 6 tweets for Best%20Fiends%20Forever%20since%3A2018-10-01%20until%3A2018-10-02.\n",
      "INFO: Got 13 tweets (6 new).\n"
     ]
    },
    {
     "name": "stdout",
     "output_type": "stream",
     "text": [
      "Best Fiends Forever\n"
     ]
    },
    {
     "name": "stderr",
     "output_type": "stream",
     "text": [
      "INFO: queries: ['Timberman since:2018-09-26 until:2018-09-27', 'Timberman since:2018-09-27 until:2018-09-28', 'Timberman since:2018-09-28 until:2018-09-29', 'Timberman since:2018-09-29 until:2018-09-30', 'Timberman since:2018-09-30 until:2018-10-01', 'Timberman since:2018-10-01 until:2018-10-02', 'Timberman since:2018-10-02 until:2018-10-03']\n",
      "INFO: Querying Timberman since:2018-09-26 until:2018-09-27\n",
      "INFO: Querying Timberman since:2018-09-27 until:2018-09-28\n",
      "INFO: Querying Timberman since:2018-10-01 until:2018-10-02\n",
      "INFO: Querying Timberman since:2018-09-28 until:2018-09-29\n",
      "INFO: Querying Timberman since:2018-09-29 until:2018-09-30\n",
      "INFO: Querying Timberman since:2018-09-30 until:2018-10-01\n",
      "INFO: Querying Timberman since:2018-10-02 until:2018-10-03\n",
      "INFO: Got 191 tweets for Timberman%20since%3A2018-09-30%20until%3A2018-10-01.\n",
      "INFO: Got 191 tweets (191 new).\n",
      "INFO: Got 233 tweets for Timberman%20since%3A2018-09-29%20until%3A2018-09-30.\n",
      "INFO: Got 424 tweets (233 new).\n",
      "INFO: Got 260 tweets for Timberman%20since%3A2018-09-28%20until%3A2018-09-29.\n",
      "INFO: Got 684 tweets (260 new).\n",
      "INFO: Got 269 tweets for Timberman%20since%3A2018-10-02%20until%3A2018-10-03.\n",
      "INFO: Got 953 tweets (269 new).\n",
      "INFO: Got 270 tweets for Timberman%20since%3A2018-09-26%20until%3A2018-09-27.\n",
      "INFO: Got 1223 tweets (270 new).\n",
      "INFO: Got 298 tweets for Timberman%20since%3A2018-10-01%20until%3A2018-10-02.\n",
      "INFO: Got 1521 tweets (298 new).\n",
      "INFO: Got 390 tweets for Timberman%20since%3A2018-09-27%20until%3A2018-09-28.\n",
      "INFO: Got 1911 tweets (390 new).\n"
     ]
    },
    {
     "name": "stdout",
     "output_type": "stream",
     "text": [
      "Timberman\n"
     ]
    },
    {
     "name": "stderr",
     "output_type": "stream",
     "text": [
      "INFO: queries: ['Sonic The Hedgehog Classic since:2018-09-26 until:2018-09-27', 'Sonic The Hedgehog Classic since:2018-09-27 until:2018-09-28', 'Sonic The Hedgehog Classic since:2018-09-28 until:2018-09-29', 'Sonic The Hedgehog Classic since:2018-09-29 until:2018-09-30', 'Sonic The Hedgehog Classic since:2018-09-30 until:2018-10-01', 'Sonic The Hedgehog Classic since:2018-10-01 until:2018-10-02', 'Sonic The Hedgehog Classic since:2018-10-02 until:2018-10-03']\n",
      "INFO: Querying Sonic The Hedgehog Classic since:2018-09-26 until:2018-09-27\n",
      "INFO: Querying Sonic The Hedgehog Classic since:2018-09-27 until:2018-09-28\n",
      "INFO: Querying Sonic The Hedgehog Classic since:2018-09-28 until:2018-09-29\n",
      "INFO: Querying Sonic The Hedgehog Classic since:2018-10-01 until:2018-10-02\n",
      "INFO: Querying Sonic The Hedgehog Classic since:2018-09-30 until:2018-10-01\n",
      "INFO: Querying Sonic The Hedgehog Classic since:2018-09-29 until:2018-09-30\n",
      "INFO: Querying Sonic The Hedgehog Classic since:2018-10-02 until:2018-10-03\n",
      "INFO: Got 5 tweets for Sonic%20The%20Hedgehog%20Classic%20since%3A2018-10-02%20until%3A2018-10-03.\n",
      "INFO: Got 5 tweets (5 new).\n",
      "INFO: Got 2 tweets for Sonic%20The%20Hedgehog%20Classic%20since%3A2018-10-01%20until%3A2018-10-02.\n",
      "INFO: Got 7 tweets (2 new).\n",
      "INFO: Got 1 tweets for Sonic%20The%20Hedgehog%20Classic%20since%3A2018-09-30%20until%3A2018-10-01.\n",
      "INFO: Got 8 tweets (1 new).\n",
      "INFO: Got 8 tweets for Sonic%20The%20Hedgehog%20Classic%20since%3A2018-09-28%20until%3A2018-09-29.\n",
      "INFO: Got 16 tweets (8 new).\n",
      "INFO: Got 7 tweets for Sonic%20The%20Hedgehog%20Classic%20since%3A2018-09-29%20until%3A2018-09-30.\n",
      "INFO: Got 23 tweets (7 new).\n",
      "INFO: Got 8 tweets for Sonic%20The%20Hedgehog%20Classic%20since%3A2018-09-27%20until%3A2018-09-28.\n",
      "INFO: Got 31 tweets (8 new).\n",
      "INFO: Got 6 tweets for Sonic%20The%20Hedgehog%20Classic%20since%3A2018-09-26%20until%3A2018-09-27.\n",
      "INFO: Got 37 tweets (6 new).\n"
     ]
    },
    {
     "name": "stdout",
     "output_type": "stream",
     "text": [
      "Sonic The Hedgehog Classic\n"
     ]
    },
    {
     "name": "stderr",
     "output_type": "stream",
     "text": [
      "INFO: queries: ['Bottle Flip! since:2018-09-26 until:2018-09-27', 'Bottle Flip! since:2018-09-27 until:2018-09-28', 'Bottle Flip! since:2018-09-28 until:2018-09-29', 'Bottle Flip! since:2018-09-29 until:2018-09-30', 'Bottle Flip! since:2018-09-30 until:2018-10-01', 'Bottle Flip! since:2018-10-01 until:2018-10-02', 'Bottle Flip! since:2018-10-02 until:2018-10-03']\n",
      "INFO: Querying Bottle Flip! since:2018-09-26 until:2018-09-27\n",
      "INFO: Querying Bottle Flip! since:2018-09-28 until:2018-09-29\n",
      "INFO: Querying Bottle Flip! since:2018-09-30 until:2018-10-01\n",
      "INFO: Querying Bottle Flip! since:2018-10-01 until:2018-10-02\n",
      "INFO: Querying Bottle Flip! since:2018-09-27 until:2018-09-28\n",
      "INFO: Querying Bottle Flip! since:2018-09-29 until:2018-09-30\n",
      "INFO: Querying Bottle Flip! since:2018-10-02 until:2018-10-03\n",
      "INFO: Got 51 tweets for Bottle%20Flip!%20since%3A2018-10-02%20until%3A2018-10-03.\n",
      "INFO: Got 51 tweets (51 new).\n",
      "INFO: Got 60 tweets for Bottle%20Flip!%20since%3A2018-09-28%20until%3A2018-09-29.\n",
      "INFO: Got 111 tweets (60 new).\n",
      "INFO: Got 52 tweets for Bottle%20Flip!%20since%3A2018-09-29%20until%3A2018-09-30.\n",
      "INFO: Got 163 tweets (52 new).\n",
      "INFO: Got 49 tweets for Bottle%20Flip!%20since%3A2018-10-01%20until%3A2018-10-02.\n",
      "INFO: Got 212 tweets (49 new).\n",
      "INFO: Got 54 tweets for Bottle%20Flip!%20since%3A2018-09-26%20until%3A2018-09-27.\n",
      "INFO: Got 266 tweets (54 new).\n",
      "INFO: Got 70 tweets for Bottle%20Flip!%20since%3A2018-09-30%20until%3A2018-10-01.\n",
      "INFO: Got 336 tweets (70 new).\n",
      "INFO: Got 81 tweets for Bottle%20Flip!%20since%3A2018-09-27%20until%3A2018-09-28.\n",
      "INFO: Got 417 tweets (81 new).\n"
     ]
    },
    {
     "name": "stdout",
     "output_type": "stream",
     "text": [
      "Bottle Flip!\n"
     ]
    },
    {
     "name": "stderr",
     "output_type": "stream",
     "text": [
      "INFO: queries: ['NinJump™ Deluxe since:2018-09-26 until:2018-09-27', 'NinJump™ Deluxe since:2018-09-27 until:2018-09-28', 'NinJump™ Deluxe since:2018-09-28 until:2018-09-29', 'NinJump™ Deluxe since:2018-09-29 until:2018-09-30', 'NinJump™ Deluxe since:2018-09-30 until:2018-10-01', 'NinJump™ Deluxe since:2018-10-01 until:2018-10-02', 'NinJump™ Deluxe since:2018-10-02 until:2018-10-03']\n",
      "INFO: Querying NinJump™ Deluxe since:2018-09-29 until:2018-09-30\n",
      "INFO: Querying NinJump™ Deluxe since:2018-10-02 until:2018-10-03\n",
      "INFO: Querying NinJump™ Deluxe since:2018-09-30 until:2018-10-01\n",
      "INFO: Querying NinJump™ Deluxe since:2018-09-26 until:2018-09-27\n",
      "INFO: Querying NinJump™ Deluxe since:2018-09-27 until:2018-09-28\n",
      "INFO: Querying NinJump™ Deluxe since:2018-09-28 until:2018-09-29\n",
      "INFO: Querying NinJump™ Deluxe since:2018-10-01 until:2018-10-02\n",
      "INFO: Got 0 tweets for NinJump™%20Deluxe%20since%3A2018-10-02%20until%3A2018-10-03.\n",
      "INFO: Got 0 tweets (0 new).\n",
      "INFO: Got 0 tweets for NinJump™%20Deluxe%20since%3A2018-09-29%20until%3A2018-09-30.\n",
      "INFO: Got 0 tweets (0 new).\n",
      "INFO: Got 0 tweets for NinJump™%20Deluxe%20since%3A2018-09-28%20until%3A2018-09-29.\n",
      "INFO: Got 0 tweets (0 new).\n",
      "INFO: Got 0 tweets for NinJump™%20Deluxe%20since%3A2018-09-27%20until%3A2018-09-28.\n",
      "INFO: Got 0 tweets (0 new).\n",
      "INFO: Got 0 tweets for NinJump™%20Deluxe%20since%3A2018-10-01%20until%3A2018-10-02.\n",
      "INFO: Got 0 tweets (0 new).\n",
      "INFO: Got 0 tweets for NinJump™%20Deluxe%20since%3A2018-09-30%20until%3A2018-10-01.\n",
      "INFO: Got 0 tweets (0 new).\n",
      "INFO: Got 0 tweets for NinJump™%20Deluxe%20since%3A2018-09-26%20until%3A2018-09-27.\n",
      "INFO: Got 0 tweets (0 new).\n"
     ]
    },
    {
     "name": "stdout",
     "output_type": "stream",
     "text": [
      "NinJump™ Deluxe\n"
     ]
    },
    {
     "name": "stderr",
     "output_type": "stream",
     "text": [
      "INFO: queries: ['Draw Rider since:2018-09-26 until:2018-09-27', 'Draw Rider since:2018-09-27 until:2018-09-28', 'Draw Rider since:2018-09-28 until:2018-09-29', 'Draw Rider since:2018-09-29 until:2018-09-30', 'Draw Rider since:2018-09-30 until:2018-10-01', 'Draw Rider since:2018-10-01 until:2018-10-02', 'Draw Rider since:2018-10-02 until:2018-10-03']\n",
      "INFO: Querying Draw Rider since:2018-09-27 until:2018-09-28\n",
      "INFO: Querying Draw Rider since:2018-09-29 until:2018-09-30\n",
      "INFO: Querying Draw Rider since:2018-10-01 until:2018-10-02\n",
      "INFO: Querying Draw Rider since:2018-09-26 until:2018-09-27\n",
      "INFO: Querying Draw Rider since:2018-09-30 until:2018-10-01\n",
      "INFO: Querying Draw Rider since:2018-10-02 until:2018-10-03\n",
      "INFO: Querying Draw Rider since:2018-09-28 until:2018-09-29\n",
      "INFO: Got 9 tweets for Draw%20Rider%20since%3A2018-09-26%20until%3A2018-09-27.\n",
      "INFO: Got 9 tweets (9 new).\n",
      "INFO: Got 11 tweets for Draw%20Rider%20since%3A2018-09-29%20until%3A2018-09-30.\n",
      "INFO: Got 20 tweets (11 new).\n",
      "INFO: Got 17 tweets for Draw%20Rider%20since%3A2018-09-27%20until%3A2018-09-28.\n",
      "INFO: Got 37 tweets (17 new).\n",
      "INFO: Got 23 tweets for Draw%20Rider%20since%3A2018-09-30%20until%3A2018-10-01.\n",
      "INFO: Got 60 tweets (23 new).\n",
      "INFO: Got 26 tweets for Draw%20Rider%20since%3A2018-09-28%20until%3A2018-09-29.\n",
      "INFO: Got 86 tweets (26 new).\n",
      "INFO: Got 38 tweets for Draw%20Rider%20since%3A2018-10-02%20until%3A2018-10-03.\n",
      "INFO: Got 124 tweets (38 new).\n",
      "INFO: Got 72 tweets for Draw%20Rider%20since%3A2018-10-01%20until%3A2018-10-02.\n",
      "INFO: Got 196 tweets (72 new).\n"
     ]
    },
    {
     "name": "stdout",
     "output_type": "stream",
     "text": [
      "Draw Rider\n"
     ]
    },
    {
     "name": "stderr",
     "output_type": "stream",
     "text": [
      "INFO: queries: [\"Assassin's Creed Pirates since:2018-09-26 until:2018-09-27\", \"Assassin's Creed Pirates since:2018-09-27 until:2018-09-28\", \"Assassin's Creed Pirates since:2018-09-28 until:2018-09-29\", \"Assassin's Creed Pirates since:2018-09-29 until:2018-09-30\", \"Assassin's Creed Pirates since:2018-09-30 until:2018-10-01\", \"Assassin's Creed Pirates since:2018-10-01 until:2018-10-02\", \"Assassin's Creed Pirates since:2018-10-02 until:2018-10-03\"]\n",
      "INFO: Querying Assassin's Creed Pirates since:2018-09-26 until:2018-09-27\n",
      "INFO: Querying Assassin's Creed Pirates since:2018-09-29 until:2018-09-30\n",
      "INFO: Querying Assassin's Creed Pirates since:2018-09-27 until:2018-09-28\n",
      "INFO: Querying Assassin's Creed Pirates since:2018-10-02 until:2018-10-03\n",
      "INFO: Querying Assassin's Creed Pirates since:2018-09-30 until:2018-10-01\n",
      "INFO: Querying Assassin's Creed Pirates since:2018-09-28 until:2018-09-29\n",
      "INFO: Querying Assassin's Creed Pirates since:2018-10-01 until:2018-10-02\n",
      "INFO: Got 4 tweets for Assassin's%20Creed%20Pirates%20since%3A2018-09-29%20until%3A2018-09-30.\n",
      "INFO: Got 4 tweets (4 new).\n",
      "INFO: Got 7 tweets for Assassin's%20Creed%20Pirates%20since%3A2018-09-26%20until%3A2018-09-27.\n",
      "INFO: Got 11 tweets (7 new).\n",
      "INFO: Got 11 tweets for Assassin's%20Creed%20Pirates%20since%3A2018-09-28%20until%3A2018-09-29.\n",
      "INFO: Got 22 tweets (11 new).\n",
      "INFO: Got 8 tweets for Assassin's%20Creed%20Pirates%20since%3A2018-09-30%20until%3A2018-10-01.\n",
      "INFO: Got 30 tweets (8 new).\n",
      "INFO: Got 19 tweets for Assassin's%20Creed%20Pirates%20since%3A2018-10-02%20until%3A2018-10-03.\n",
      "INFO: Got 49 tweets (19 new).\n",
      "INFO: Got 12 tweets for Assassin's%20Creed%20Pirates%20since%3A2018-10-01%20until%3A2018-10-02.\n",
      "INFO: Got 61 tweets (12 new).\n",
      "INFO: Got 44 tweets for Assassin's%20Creed%20Pirates%20since%3A2018-09-27%20until%3A2018-09-28.\n",
      "INFO: Got 105 tweets (44 new).\n"
     ]
    },
    {
     "name": "stdout",
     "output_type": "stream",
     "text": [
      "Assassin's Creed Pirates\n"
     ]
    },
    {
     "name": "stderr",
     "output_type": "stream",
     "text": [
      "INFO: queries: ['Vainglory 5V5 since:2018-09-26 until:2018-09-27', 'Vainglory 5V5 since:2018-09-27 until:2018-09-28', 'Vainglory 5V5 since:2018-09-28 until:2018-09-29', 'Vainglory 5V5 since:2018-09-29 until:2018-09-30', 'Vainglory 5V5 since:2018-09-30 until:2018-10-01', 'Vainglory 5V5 since:2018-10-01 until:2018-10-02', 'Vainglory 5V5 since:2018-10-02 until:2018-10-03']\n",
      "INFO: Querying Vainglory 5V5 since:2018-09-26 until:2018-09-27\n",
      "INFO: Querying Vainglory 5V5 since:2018-09-27 until:2018-09-28\n",
      "INFO: Querying Vainglory 5V5 since:2018-10-01 until:2018-10-02\n",
      "INFO: Querying Vainglory 5V5 since:2018-09-28 until:2018-09-29\n",
      "INFO: Querying Vainglory 5V5 since:2018-10-02 until:2018-10-03\n",
      "INFO: Querying Vainglory 5V5 since:2018-09-29 until:2018-09-30\n",
      "INFO: Querying Vainglory 5V5 since:2018-09-30 until:2018-10-01\n",
      "INFO: Got 8 tweets for Vainglory%205V5%20since%3A2018-09-30%20until%3A2018-10-01.\n",
      "INFO: Got 8 tweets (8 new).\n",
      "INFO: Got 10 tweets for Vainglory%205V5%20since%3A2018-10-02%20until%3A2018-10-03.\n",
      "INFO: Got 18 tweets (10 new).\n",
      "INFO: Got 8 tweets for Vainglory%205V5%20since%3A2018-09-26%20until%3A2018-09-27.\n",
      "INFO: Got 26 tweets (8 new).\n",
      "INFO: Got 11 tweets for Vainglory%205V5%20since%3A2018-10-01%20until%3A2018-10-02.\n",
      "INFO: Got 37 tweets (11 new).\n",
      "INFO: Got 9 tweets for Vainglory%205V5%20since%3A2018-09-27%20until%3A2018-09-28.\n",
      "INFO: Got 46 tweets (9 new).\n",
      "INFO: Got 9 tweets for Vainglory%205V5%20since%3A2018-09-28%20until%3A2018-09-29.\n",
      "INFO: Got 55 tweets (9 new).\n",
      "INFO: Got 11 tweets for Vainglory%205V5%20since%3A2018-09-29%20until%3A2018-09-30.\n",
      "INFO: Got 66 tweets (11 new).\n"
     ]
    },
    {
     "name": "stdout",
     "output_type": "stream",
     "text": [
      "Vainglory 5V5\n"
     ]
    },
    {
     "name": "stderr",
     "output_type": "stream",
     "text": [
      "INFO: queries: ['DRAGON BALL Z DOKKAN BATTLE since:2018-09-26 until:2018-09-27', 'DRAGON BALL Z DOKKAN BATTLE since:2018-09-27 until:2018-09-28', 'DRAGON BALL Z DOKKAN BATTLE since:2018-09-28 until:2018-09-29', 'DRAGON BALL Z DOKKAN BATTLE since:2018-09-29 until:2018-09-30', 'DRAGON BALL Z DOKKAN BATTLE since:2018-09-30 until:2018-10-01', 'DRAGON BALL Z DOKKAN BATTLE since:2018-10-01 until:2018-10-02', 'DRAGON BALL Z DOKKAN BATTLE since:2018-10-02 until:2018-10-03']\n",
      "INFO: Querying DRAGON BALL Z DOKKAN BATTLE since:2018-09-26 until:2018-09-27\n",
      "INFO: Querying DRAGON BALL Z DOKKAN BATTLE since:2018-09-30 until:2018-10-01\n",
      "INFO: Querying DRAGON BALL Z DOKKAN BATTLE since:2018-10-01 until:2018-10-02\n",
      "INFO: Querying DRAGON BALL Z DOKKAN BATTLE since:2018-09-29 until:2018-09-30\n",
      "INFO: Querying DRAGON BALL Z DOKKAN BATTLE since:2018-09-28 until:2018-09-29\n",
      "INFO: Querying DRAGON BALL Z DOKKAN BATTLE since:2018-10-02 until:2018-10-03\n",
      "INFO: Querying DRAGON BALL Z DOKKAN BATTLE since:2018-09-27 until:2018-09-28\n",
      "INFO: Got 18 tweets for DRAGON%20BALL%20Z%20DOKKAN%20BATTLE%20since%3A2018-09-29%20until%3A2018-09-30.\n",
      "INFO: Got 18 tweets (18 new).\n",
      "INFO: Got 19 tweets for DRAGON%20BALL%20Z%20DOKKAN%20BATTLE%20since%3A2018-09-30%20until%3A2018-10-01.\n",
      "INFO: Got 37 tweets (19 new).\n",
      "INFO: Got 25 tweets for DRAGON%20BALL%20Z%20DOKKAN%20BATTLE%20since%3A2018-10-01%20until%3A2018-10-02.\n",
      "INFO: Got 62 tweets (25 new).\n",
      "INFO: Got 23 tweets for DRAGON%20BALL%20Z%20DOKKAN%20BATTLE%20since%3A2018-10-02%20until%3A2018-10-03.\n",
      "INFO: Got 85 tweets (23 new).\n",
      "INFO: Got 30 tweets for DRAGON%20BALL%20Z%20DOKKAN%20BATTLE%20since%3A2018-09-26%20until%3A2018-09-27.\n",
      "INFO: Got 115 tweets (30 new).\n",
      "INFO: Got 25 tweets for DRAGON%20BALL%20Z%20DOKKAN%20BATTLE%20since%3A2018-09-28%20until%3A2018-09-29.\n",
      "INFO: Got 140 tweets (25 new).\n",
      "INFO: Got 47 tweets for DRAGON%20BALL%20Z%20DOKKAN%20BATTLE%20since%3A2018-09-27%20until%3A2018-09-28.\n",
      "INFO: Got 187 tweets (47 new).\n"
     ]
    },
    {
     "name": "stdout",
     "output_type": "stream",
     "text": [
      "DRAGON BALL Z DOKKAN BATTLE\n"
     ]
    },
    {
     "name": "stderr",
     "output_type": "stream",
     "text": [
      "INFO: queries: ['Beat the Boss 4 since:2018-09-26 until:2018-09-27', 'Beat the Boss 4 since:2018-09-27 until:2018-09-28', 'Beat the Boss 4 since:2018-09-28 until:2018-09-29', 'Beat the Boss 4 since:2018-09-29 until:2018-09-30', 'Beat the Boss 4 since:2018-09-30 until:2018-10-01', 'Beat the Boss 4 since:2018-10-01 until:2018-10-02', 'Beat the Boss 4 since:2018-10-02 until:2018-10-03']\n",
      "INFO: Querying Beat the Boss 4 since:2018-09-27 until:2018-09-28\n",
      "INFO: Querying Beat the Boss 4 since:2018-09-26 until:2018-09-27\n",
      "INFO: Querying Beat the Boss 4 since:2018-09-29 until:2018-09-30\n",
      "INFO: Querying Beat the Boss 4 since:2018-09-28 until:2018-09-29\n",
      "INFO: Querying Beat the Boss 4 since:2018-10-01 until:2018-10-02\n",
      "INFO: Querying Beat the Boss 4 since:2018-10-02 until:2018-10-03\n",
      "INFO: Querying Beat the Boss 4 since:2018-09-30 until:2018-10-01\n",
      "INFO: Got 0 tweets for Beat%20the%20Boss%204%20since%3A2018-09-27%20until%3A2018-09-28.\n",
      "INFO: Got 0 tweets (0 new).\n",
      "INFO: Got 2 tweets for Beat%20the%20Boss%204%20since%3A2018-10-02%20until%3A2018-10-03.\n",
      "INFO: Got 2 tweets (2 new).\n",
      "INFO: Got 2 tweets for Beat%20the%20Boss%204%20since%3A2018-09-30%20until%3A2018-10-01.\n",
      "INFO: Got 4 tweets (2 new).\n",
      "INFO: Got 1 tweets for Beat%20the%20Boss%204%20since%3A2018-09-28%20until%3A2018-09-29.\n",
      "INFO: Got 5 tweets (1 new).\n",
      "INFO: Got 4 tweets for Beat%20the%20Boss%204%20since%3A2018-09-29%20until%3A2018-09-30.\n",
      "INFO: Got 9 tweets (4 new).\n",
      "INFO: Got 2 tweets for Beat%20the%20Boss%204%20since%3A2018-10-01%20until%3A2018-10-02.\n",
      "INFO: Got 11 tweets (2 new).\n",
      "INFO: Got 2 tweets for Beat%20the%20Boss%204%20since%3A2018-09-26%20until%3A2018-09-27.\n",
      "INFO: Got 13 tweets (2 new).\n"
     ]
    },
    {
     "name": "stdout",
     "output_type": "stream",
     "text": [
      "Beat the Boss 4\n"
     ]
    },
    {
     "name": "stderr",
     "output_type": "stream",
     "text": [
      "INFO: queries: ['Angry Birds Seasons since:2018-09-26 until:2018-09-27', 'Angry Birds Seasons since:2018-09-27 until:2018-09-28', 'Angry Birds Seasons since:2018-09-28 until:2018-09-29', 'Angry Birds Seasons since:2018-09-29 until:2018-09-30', 'Angry Birds Seasons since:2018-09-30 until:2018-10-01', 'Angry Birds Seasons since:2018-10-01 until:2018-10-02', 'Angry Birds Seasons since:2018-10-02 until:2018-10-03']\n",
      "INFO: Querying Angry Birds Seasons since:2018-09-29 until:2018-09-30\n",
      "INFO: Querying Angry Birds Seasons since:2018-10-01 until:2018-10-02\n",
      "INFO: Querying Angry Birds Seasons since:2018-09-27 until:2018-09-28\n",
      "INFO: Querying Angry Birds Seasons since:2018-09-28 until:2018-09-29\n",
      "INFO: Querying Angry Birds Seasons since:2018-09-30 until:2018-10-01\n",
      "INFO: Querying Angry Birds Seasons since:2018-10-02 until:2018-10-03\n",
      "INFO: Querying Angry Birds Seasons since:2018-09-26 until:2018-09-27\n",
      "INFO: Got 0 tweets for Angry%20Birds%20Seasons%20since%3A2018-10-01%20until%3A2018-10-02.\n",
      "INFO: Got 0 tweets (0 new).\n",
      "INFO: Got 2 tweets for Angry%20Birds%20Seasons%20since%3A2018-10-02%20until%3A2018-10-03.\n",
      "INFO: Got 2 tweets (2 new).\n",
      "INFO: Got 3 tweets for Angry%20Birds%20Seasons%20since%3A2018-09-30%20until%3A2018-10-01.\n",
      "INFO: Got 5 tweets (3 new).\n",
      "INFO: Got 8 tweets for Angry%20Birds%20Seasons%20since%3A2018-09-26%20until%3A2018-09-27.\n",
      "INFO: Got 13 tweets (8 new).\n",
      "INFO: Got 2 tweets for Angry%20Birds%20Seasons%20since%3A2018-09-29%20until%3A2018-09-30.\n",
      "INFO: Got 15 tweets (2 new).\n",
      "INFO: Got 11 tweets for Angry%20Birds%20Seasons%20since%3A2018-09-27%20until%3A2018-09-28.\n",
      "INFO: Got 26 tweets (11 new).\n",
      "INFO: Got 20 tweets for Angry%20Birds%20Seasons%20since%3A2018-09-28%20until%3A2018-09-29.\n",
      "INFO: Got 46 tweets (20 new).\n"
     ]
    },
    {
     "name": "stdout",
     "output_type": "stream",
     "text": [
      "Angry Birds Seasons\n"
     ]
    },
    {
     "name": "stderr",
     "output_type": "stream",
     "text": [
      "INFO: queries: ['Clear Vision 3 since:2018-09-26 until:2018-09-27', 'Clear Vision 3 since:2018-09-27 until:2018-09-28', 'Clear Vision 3 since:2018-09-28 until:2018-09-29', 'Clear Vision 3 since:2018-09-29 until:2018-09-30', 'Clear Vision 3 since:2018-09-30 until:2018-10-01', 'Clear Vision 3 since:2018-10-01 until:2018-10-02', 'Clear Vision 3 since:2018-10-02 until:2018-10-03']\n",
      "INFO: Querying Clear Vision 3 since:2018-09-28 until:2018-09-29\n",
      "INFO: Querying Clear Vision 3 since:2018-09-29 until:2018-09-30\n",
      "INFO: Querying Clear Vision 3 since:2018-09-27 until:2018-09-28\n",
      "INFO: Querying Clear Vision 3 since:2018-10-01 until:2018-10-02\n",
      "INFO: Querying Clear Vision 3 since:2018-09-30 until:2018-10-01\n",
      "INFO: Querying Clear Vision 3 since:2018-10-02 until:2018-10-03\n",
      "INFO: Querying Clear Vision 3 since:2018-09-26 until:2018-09-27\n",
      "INFO: Got 7 tweets for Clear%20Vision%203%20since%3A2018-09-29%20until%3A2018-09-30.\n",
      "INFO: Got 7 tweets (7 new).\n",
      "INFO: Got 13 tweets for Clear%20Vision%203%20since%3A2018-09-27%20until%3A2018-09-28.\n",
      "INFO: Got 20 tweets (13 new).\n",
      "INFO: Got 12 tweets for Clear%20Vision%203%20since%3A2018-10-02%20until%3A2018-10-03.\n",
      "INFO: Got 32 tweets (12 new).\n",
      "INFO: Got 7 tweets for Clear%20Vision%203%20since%3A2018-10-01%20until%3A2018-10-02.\n",
      "INFO: Got 39 tweets (7 new).\n",
      "INFO: Got 12 tweets for Clear%20Vision%203%20since%3A2018-09-26%20until%3A2018-09-27.\n",
      "INFO: Got 51 tweets (12 new).\n",
      "INFO: Got 12 tweets for Clear%20Vision%203%20since%3A2018-09-28%20until%3A2018-09-29.\n",
      "INFO: Got 63 tweets (12 new).\n",
      "INFO: Got 11 tweets for Clear%20Vision%203%20since%3A2018-09-30%20until%3A2018-10-01.\n",
      "INFO: Got 74 tweets (11 new).\n"
     ]
    },
    {
     "name": "stdout",
     "output_type": "stream",
     "text": [
      "Clear Vision 3\n"
     ]
    },
    {
     "name": "stderr",
     "output_type": "stream",
     "text": [
      "INFO: queries: ['Flippy Bottle Extreme! since:2018-09-26 until:2018-09-27', 'Flippy Bottle Extreme! since:2018-09-27 until:2018-09-28', 'Flippy Bottle Extreme! since:2018-09-28 until:2018-09-29', 'Flippy Bottle Extreme! since:2018-09-29 until:2018-09-30', 'Flippy Bottle Extreme! since:2018-09-30 until:2018-10-01', 'Flippy Bottle Extreme! since:2018-10-01 until:2018-10-02', 'Flippy Bottle Extreme! since:2018-10-02 until:2018-10-03']\n",
      "INFO: Querying Flippy Bottle Extreme! since:2018-09-26 until:2018-09-27\n",
      "INFO: Querying Flippy Bottle Extreme! since:2018-09-27 until:2018-09-28\n",
      "INFO: Querying Flippy Bottle Extreme! since:2018-09-29 until:2018-09-30\n",
      "INFO: Querying Flippy Bottle Extreme! since:2018-09-30 until:2018-10-01\n",
      "INFO: Querying Flippy Bottle Extreme! since:2018-09-28 until:2018-09-29\n",
      "INFO: Querying Flippy Bottle Extreme! since:2018-10-01 until:2018-10-02\n",
      "INFO: Querying Flippy Bottle Extreme! since:2018-10-02 until:2018-10-03\n",
      "INFO: Got 0 tweets for Flippy%20Bottle%20Extreme!%20since%3A2018-09-27%20until%3A2018-09-28.\n",
      "INFO: Got 0 tweets (0 new).\n",
      "INFO: Got 0 tweets for Flippy%20Bottle%20Extreme!%20since%3A2018-09-30%20until%3A2018-10-01.\n",
      "INFO: Got 0 tweets (0 new).\n",
      "INFO: Got 0 tweets for Flippy%20Bottle%20Extreme!%20since%3A2018-09-29%20until%3A2018-09-30.\n",
      "INFO: Got 0 tweets (0 new).\n",
      "INFO: Got 0 tweets for Flippy%20Bottle%20Extreme!%20since%3A2018-10-01%20until%3A2018-10-02.\n",
      "INFO: Got 0 tweets (0 new).\n",
      "INFO: Got 0 tweets for Flippy%20Bottle%20Extreme!%20since%3A2018-10-02%20until%3A2018-10-03.\n",
      "INFO: Got 0 tweets (0 new).\n",
      "INFO: Got 0 tweets for Flippy%20Bottle%20Extreme!%20since%3A2018-09-26%20until%3A2018-09-27.\n",
      "INFO: Got 0 tweets (0 new).\n",
      "INFO: Got 1 tweets for Flippy%20Bottle%20Extreme!%20since%3A2018-09-28%20until%3A2018-09-29.\n",
      "INFO: Got 1 tweets (1 new).\n"
     ]
    },
    {
     "name": "stdout",
     "output_type": "stream",
     "text": [
      "Flippy Bottle Extreme!\n"
     ]
    },
    {
     "name": "stderr",
     "output_type": "stream",
     "text": [
      "INFO: queries: ['Red Ball since:2018-09-26 until:2018-09-27', 'Red Ball since:2018-09-27 until:2018-09-28', 'Red Ball since:2018-09-28 until:2018-09-29', 'Red Ball since:2018-09-29 until:2018-09-30', 'Red Ball since:2018-09-30 until:2018-10-01', 'Red Ball since:2018-10-01 until:2018-10-02', 'Red Ball since:2018-10-02 until:2018-10-03']\n",
      "INFO: Querying Red Ball since:2018-09-27 until:2018-09-28\n",
      "INFO: Querying Red Ball since:2018-09-28 until:2018-09-29\n",
      "INFO: Querying Red Ball since:2018-09-29 until:2018-09-30\n",
      "INFO: Querying Red Ball since:2018-10-02 until:2018-10-03\n",
      "INFO: Querying Red Ball since:2018-09-30 until:2018-10-01\n",
      "INFO: Querying Red Ball since:2018-09-26 until:2018-09-27\n",
      "INFO: Querying Red Ball since:2018-10-01 until:2018-10-02\n",
      "INFO: Got 102 tweets for Red%20Ball%20since%3A2018-10-02%20until%3A2018-10-03.\n",
      "INFO: Got 102 tweets (102 new).\n",
      "INFO: Got 133 tweets for Red%20Ball%20since%3A2018-09-28%20until%3A2018-09-29.\n",
      "INFO: Got 235 tweets (133 new).\n",
      "INFO: Got 135 tweets for Red%20Ball%20since%3A2018-09-26%20until%3A2018-09-27.\n",
      "INFO: Got 370 tweets (135 new).\n",
      "INFO: Got 157 tweets for Red%20Ball%20since%3A2018-09-27%20until%3A2018-09-28.\n",
      "INFO: Got 527 tweets (157 new).\n",
      "INFO: Got 156 tweets for Red%20Ball%20since%3A2018-10-01%20until%3A2018-10-02.\n",
      "INFO: Got 683 tweets (156 new).\n",
      "INFO: Got 191 tweets for Red%20Ball%20since%3A2018-09-30%20until%3A2018-10-01.\n",
      "INFO: Got 874 tweets (191 new).\n",
      "INFO: Got 178 tweets for Red%20Ball%20since%3A2018-09-29%20until%3A2018-09-30.\n",
      "INFO: Got 1052 tweets (178 new).\n"
     ]
    },
    {
     "name": "stdout",
     "output_type": "stream",
     "text": [
      "Red Ball\n"
     ]
    },
    {
     "name": "stderr",
     "output_type": "stream",
     "text": [
      "INFO: queries: ['VR Roller Coaster for Google Cardboard since:2018-09-26 until:2018-09-27', 'VR Roller Coaster for Google Cardboard since:2018-09-27 until:2018-09-28', 'VR Roller Coaster for Google Cardboard since:2018-09-28 until:2018-09-29', 'VR Roller Coaster for Google Cardboard since:2018-09-29 until:2018-09-30', 'VR Roller Coaster for Google Cardboard since:2018-09-30 until:2018-10-01', 'VR Roller Coaster for Google Cardboard since:2018-10-01 until:2018-10-02', 'VR Roller Coaster for Google Cardboard since:2018-10-02 until:2018-10-03']\n",
      "INFO: Querying VR Roller Coaster for Google Cardboard since:2018-10-02 until:2018-10-03\n",
      "INFO: Querying VR Roller Coaster for Google Cardboard since:2018-09-29 until:2018-09-30\n",
      "INFO: Querying VR Roller Coaster for Google Cardboard since:2018-09-27 until:2018-09-28\n",
      "INFO: Querying VR Roller Coaster for Google Cardboard since:2018-09-26 until:2018-09-27\n",
      "INFO: Querying VR Roller Coaster for Google Cardboard since:2018-09-30 until:2018-10-01\n",
      "INFO: Querying VR Roller Coaster for Google Cardboard since:2018-10-01 until:2018-10-02\n",
      "INFO: Querying VR Roller Coaster for Google Cardboard since:2018-09-28 until:2018-09-29\n",
      "INFO: Got 0 tweets for VR%20Roller%20Coaster%20for%20Google%20Cardboard%20since%3A2018-10-02%20until%3A2018-10-03.\n",
      "INFO: Got 0 tweets (0 new).\n",
      "INFO: Got 0 tweets for VR%20Roller%20Coaster%20for%20Google%20Cardboard%20since%3A2018-09-28%20until%3A2018-09-29.\n",
      "INFO: Got 0 tweets (0 new).\n",
      "INFO: Got 0 tweets for VR%20Roller%20Coaster%20for%20Google%20Cardboard%20since%3A2018-09-30%20until%3A2018-10-01.\n",
      "INFO: Got 0 tweets (0 new).\n",
      "INFO: Got 0 tweets for VR%20Roller%20Coaster%20for%20Google%20Cardboard%20since%3A2018-09-29%20until%3A2018-09-30.\n",
      "INFO: Got 0 tweets (0 new).\n",
      "INFO: Got 0 tweets for VR%20Roller%20Coaster%20for%20Google%20Cardboard%20since%3A2018-09-27%20until%3A2018-09-28.\n",
      "INFO: Got 0 tweets (0 new).\n",
      "INFO: Got 0 tweets for VR%20Roller%20Coaster%20for%20Google%20Cardboard%20since%3A2018-09-26%20until%3A2018-09-27.\n",
      "INFO: Got 0 tweets (0 new).\n",
      "INFO: Got 1 tweets for VR%20Roller%20Coaster%20for%20Google%20Cardboard%20since%3A2018-10-01%20until%3A2018-10-02.\n",
      "INFO: Got 1 tweets (1 new).\n"
     ]
    },
    {
     "name": "stdout",
     "output_type": "stream",
     "text": [
      "VR Roller Coaster for Google Cardboard\n"
     ]
    },
    {
     "name": "stderr",
     "output_type": "stream",
     "text": [
      "INFO: queries: ['Smash Cops Heat since:2018-09-26 until:2018-09-27', 'Smash Cops Heat since:2018-09-27 until:2018-09-28', 'Smash Cops Heat since:2018-09-28 until:2018-09-29', 'Smash Cops Heat since:2018-09-29 until:2018-09-30', 'Smash Cops Heat since:2018-09-30 until:2018-10-01', 'Smash Cops Heat since:2018-10-01 until:2018-10-02', 'Smash Cops Heat since:2018-10-02 until:2018-10-03']\n",
      "INFO: Querying Smash Cops Heat since:2018-09-26 until:2018-09-27\n",
      "INFO: Querying Smash Cops Heat since:2018-09-27 until:2018-09-28\n",
      "INFO: Querying Smash Cops Heat since:2018-09-30 until:2018-10-01\n",
      "INFO: Querying Smash Cops Heat since:2018-10-01 until:2018-10-02\n",
      "INFO: Querying Smash Cops Heat since:2018-09-28 until:2018-09-29\n",
      "INFO: Querying Smash Cops Heat since:2018-09-29 until:2018-09-30\n",
      "INFO: Querying Smash Cops Heat since:2018-10-02 until:2018-10-03\n",
      "INFO: Got 0 tweets for Smash%20Cops%20Heat%20since%3A2018-10-02%20until%3A2018-10-03.\n",
      "INFO: Got 0 tweets (0 new).\n",
      "INFO: Got 0 tweets for Smash%20Cops%20Heat%20since%3A2018-09-30%20until%3A2018-10-01.\n",
      "INFO: Got 0 tweets (0 new).\n",
      "INFO: Got 0 tweets for Smash%20Cops%20Heat%20since%3A2018-09-27%20until%3A2018-09-28.\n",
      "INFO: Got 0 tweets (0 new).\n",
      "INFO: Got 0 tweets for Smash%20Cops%20Heat%20since%3A2018-09-28%20until%3A2018-09-29.\n",
      "INFO: Got 0 tweets for Smash%20Cops%20Heat%20since%3A2018-09-26%20until%3A2018-09-27.\n",
      "INFO: Got 0 tweets (0 new).\n",
      "INFO: Got 0 tweets (0 new).\n",
      "INFO: Got 0 tweets for Smash%20Cops%20Heat%20since%3A2018-10-01%20until%3A2018-10-02.\n",
      "INFO: Got 0 tweets (0 new).\n",
      "INFO: Got 0 tweets for Smash%20Cops%20Heat%20since%3A2018-09-29%20until%3A2018-09-30.\n",
      "INFO: Got 0 tweets (0 new).\n"
     ]
    },
    {
     "name": "stdout",
     "output_type": "stream",
     "text": [
      "Smash Cops Heat\n"
     ]
    },
    {
     "name": "stderr",
     "output_type": "stream",
     "text": [
      "INFO: queries: ['Legacy of Discord-FuriousWings since:2018-09-26 until:2018-09-27', 'Legacy of Discord-FuriousWings since:2018-09-27 until:2018-09-28', 'Legacy of Discord-FuriousWings since:2018-09-28 until:2018-09-29', 'Legacy of Discord-FuriousWings since:2018-09-29 until:2018-09-30', 'Legacy of Discord-FuriousWings since:2018-09-30 until:2018-10-01', 'Legacy of Discord-FuriousWings since:2018-10-01 until:2018-10-02', 'Legacy of Discord-FuriousWings since:2018-10-02 until:2018-10-03']\n",
      "INFO: Querying Legacy of Discord-FuriousWings since:2018-09-28 until:2018-09-29\n",
      "INFO: Querying Legacy of Discord-FuriousWings since:2018-10-02 until:2018-10-03\n",
      "INFO: Querying Legacy of Discord-FuriousWings since:2018-09-26 until:2018-09-27\n",
      "INFO: Querying Legacy of Discord-FuriousWings since:2018-09-27 until:2018-09-28\n",
      "INFO: Querying Legacy of Discord-FuriousWings since:2018-09-29 until:2018-09-30\n",
      "INFO: Querying Legacy of Discord-FuriousWings since:2018-09-30 until:2018-10-01\n",
      "INFO: Querying Legacy of Discord-FuriousWings since:2018-10-01 until:2018-10-02\n",
      "INFO: Got 0 tweets for Legacy%20of%20Discord-FuriousWings%20since%3A2018-09-28%20until%3A2018-09-29.\n",
      "INFO: Got 0 tweets (0 new).\n",
      "INFO: Got 0 tweets for Legacy%20of%20Discord-FuriousWings%20since%3A2018-09-29%20until%3A2018-09-30.\n",
      "INFO: Got 0 tweets (0 new).\n",
      "INFO: Got 0 tweets for Legacy%20of%20Discord-FuriousWings%20since%3A2018-10-02%20until%3A2018-10-03.\n",
      "INFO: Got 0 tweets (0 new).\n",
      "INFO: Got 0 tweets for Legacy%20of%20Discord-FuriousWings%20since%3A2018-09-30%20until%3A2018-10-01.\n",
      "INFO: Got 0 tweets (0 new).\n",
      "INFO: Got 0 tweets for Legacy%20of%20Discord-FuriousWings%20since%3A2018-09-26%20until%3A2018-09-27.\n",
      "INFO: Got 0 tweets (0 new).\n",
      "INFO: Got 0 tweets for Legacy%20of%20Discord-FuriousWings%20since%3A2018-09-27%20until%3A2018-09-28.\n",
      "INFO: Got 0 tweets (0 new).\n",
      "INFO: Got 0 tweets for Legacy%20of%20Discord-FuriousWings%20since%3A2018-10-01%20until%3A2018-10-02.\n",
      "INFO: Got 0 tweets (0 new).\n"
     ]
    },
    {
     "name": "stdout",
     "output_type": "stream",
     "text": [
      "Legacy of Discord-FuriousWings\n"
     ]
    },
    {
     "name": "stderr",
     "output_type": "stream",
     "text": [
      "INFO: queries: ['Ball Blast since:2018-09-26 until:2018-09-27', 'Ball Blast since:2018-09-27 until:2018-09-28', 'Ball Blast since:2018-09-28 until:2018-09-29', 'Ball Blast since:2018-09-29 until:2018-09-30', 'Ball Blast since:2018-09-30 until:2018-10-01', 'Ball Blast since:2018-10-01 until:2018-10-02', 'Ball Blast since:2018-10-02 until:2018-10-03']\n",
      "INFO: Querying Ball Blast since:2018-09-26 until:2018-09-27\n",
      "INFO: Querying Ball Blast since:2018-09-27 until:2018-09-28\n",
      "INFO: Querying Ball Blast since:2018-10-02 until:2018-10-03\n",
      "INFO: Querying Ball Blast since:2018-09-29 until:2018-09-30\n",
      "INFO: Querying Ball Blast since:2018-10-01 until:2018-10-02\n",
      "INFO: Querying Ball Blast since:2018-09-30 until:2018-10-01\n",
      "INFO: Querying Ball Blast since:2018-09-28 until:2018-09-29\n",
      "INFO: Got 47 tweets for Ball%20Blast%20since%3A2018-09-27%20until%3A2018-09-28.\n",
      "INFO: Got 47 tweets (47 new).\n",
      "INFO: Got 49 tweets for Ball%20Blast%20since%3A2018-09-26%20until%3A2018-09-27.\n",
      "INFO: Got 96 tweets (49 new).\n",
      "INFO: Got 49 tweets for Ball%20Blast%20since%3A2018-09-28%20until%3A2018-09-29.\n",
      "INFO: Got 145 tweets (49 new).\n",
      "INFO: Got 52 tweets for Ball%20Blast%20since%3A2018-10-02%20until%3A2018-10-03.\n",
      "INFO: Got 197 tweets (52 new).\n",
      "INFO: Got 60 tweets for Ball%20Blast%20since%3A2018-09-30%20until%3A2018-10-01.\n",
      "INFO: Got 257 tweets (60 new).\n",
      "INFO: Got 73 tweets for Ball%20Blast%20since%3A2018-09-29%20until%3A2018-09-30.\n",
      "INFO: Got 330 tweets (73 new).\n",
      "INFO: Got 63 tweets for Ball%20Blast%20since%3A2018-10-01%20until%3A2018-10-02.\n",
      "INFO: Got 393 tweets (63 new).\n"
     ]
    },
    {
     "name": "stdout",
     "output_type": "stream",
     "text": [
      "Ball Blast\n"
     ]
    },
    {
     "name": "stderr",
     "output_type": "stream",
     "text": [
      "INFO: queries: ['Flappy Golf 2 since:2018-09-26 until:2018-09-27', 'Flappy Golf 2 since:2018-09-27 until:2018-09-28', 'Flappy Golf 2 since:2018-09-28 until:2018-09-29', 'Flappy Golf 2 since:2018-09-29 until:2018-09-30', 'Flappy Golf 2 since:2018-09-30 until:2018-10-01', 'Flappy Golf 2 since:2018-10-01 until:2018-10-02', 'Flappy Golf 2 since:2018-10-02 until:2018-10-03']\n",
      "INFO: Querying Flappy Golf 2 since:2018-09-26 until:2018-09-27\n",
      "INFO: Querying Flappy Golf 2 since:2018-09-27 until:2018-09-28\n",
      "INFO: Querying Flappy Golf 2 since:2018-09-29 until:2018-09-30\n",
      "INFO: Querying Flappy Golf 2 since:2018-09-28 until:2018-09-29\n",
      "INFO: Querying Flappy Golf 2 since:2018-10-01 until:2018-10-02\n",
      "INFO: Querying Flappy Golf 2 since:2018-10-02 until:2018-10-03\n",
      "INFO: Querying Flappy Golf 2 since:2018-09-30 until:2018-10-01\n",
      "INFO: Got 0 tweets for Flappy%20Golf%202%20since%3A2018-09-26%20until%3A2018-09-27.\n",
      "INFO: Got 0 tweets for Flappy%20Golf%202%20since%3A2018-10-02%20until%3A2018-10-03.\n",
      "INFO: Got 0 tweets (0 new).\n",
      "INFO: Got 0 tweets (0 new).\n",
      "INFO: Got 0 tweets for Flappy%20Golf%202%20since%3A2018-09-29%20until%3A2018-09-30.\n",
      "INFO: Got 0 tweets (0 new).\n",
      "INFO: Got 0 tweets for Flappy%20Golf%202%20since%3A2018-09-27%20until%3A2018-09-28.\n",
      "INFO: Got 0 tweets (0 new).\n",
      "INFO: Got 0 tweets for Flappy%20Golf%202%20since%3A2018-09-28%20until%3A2018-09-29.\n",
      "INFO: Got 0 tweets (0 new).\n",
      "INFO: Got 0 tweets for Flappy%20Golf%202%20since%3A2018-09-30%20until%3A2018-10-01.\n",
      "INFO: Got 0 tweets (0 new).\n",
      "INFO: Got 0 tweets for Flappy%20Golf%202%20since%3A2018-10-01%20until%3A2018-10-02.\n",
      "INFO: Got 0 tweets (0 new).\n"
     ]
    },
    {
     "name": "stdout",
     "output_type": "stream",
     "text": [
      "Flappy Golf 2\n"
     ]
    },
    {
     "name": "stderr",
     "output_type": "stream",
     "text": [
      "INFO: queries: [\"Sally's Spa Lite since:2018-09-26 until:2018-09-27\", \"Sally's Spa Lite since:2018-09-27 until:2018-09-28\", \"Sally's Spa Lite since:2018-09-28 until:2018-09-29\", \"Sally's Spa Lite since:2018-09-29 until:2018-09-30\", \"Sally's Spa Lite since:2018-09-30 until:2018-10-01\", \"Sally's Spa Lite since:2018-10-01 until:2018-10-02\", \"Sally's Spa Lite since:2018-10-02 until:2018-10-03\"]\n",
      "INFO: Querying Sally's Spa Lite since:2018-09-26 until:2018-09-27\n",
      "INFO: Querying Sally's Spa Lite since:2018-09-29 until:2018-09-30\n",
      "INFO: Querying Sally's Spa Lite since:2018-09-28 until:2018-09-29\n",
      "INFO: Querying Sally's Spa Lite since:2018-10-02 until:2018-10-03\n",
      "INFO: Querying Sally's Spa Lite since:2018-09-30 until:2018-10-01\n",
      "INFO: Querying Sally's Spa Lite since:2018-10-01 until:2018-10-02\n",
      "INFO: Querying Sally's Spa Lite since:2018-09-27 until:2018-09-28\n",
      "INFO: Got 0 tweets for Sally's%20Spa%20Lite%20since%3A2018-09-26%20until%3A2018-09-27.\n",
      "INFO: Got 0 tweets (0 new).\n",
      "INFO: Got 0 tweets for Sally's%20Spa%20Lite%20since%3A2018-09-27%20until%3A2018-09-28.\n",
      "INFO: Got 0 tweets (0 new).\n",
      "INFO: Got 0 tweets for Sally's%20Spa%20Lite%20since%3A2018-10-02%20until%3A2018-10-03.\n",
      "INFO: Got 0 tweets (0 new).\n",
      "INFO: Got 0 tweets for Sally's%20Spa%20Lite%20since%3A2018-09-28%20until%3A2018-09-29.\n",
      "INFO: Got 0 tweets for Sally's%20Spa%20Lite%20since%3A2018-09-30%20until%3A2018-10-01.\n",
      "INFO: Got 0 tweets (0 new).\n",
      "INFO: Got 0 tweets (0 new).\n",
      "INFO: Got 0 tweets for Sally's%20Spa%20Lite%20since%3A2018-10-01%20until%3A2018-10-02.\n",
      "INFO: Got 0 tweets (0 new).\n",
      "INFO: Got 0 tweets for Sally's%20Spa%20Lite%20since%3A2018-09-29%20until%3A2018-09-30.\n",
      "INFO: Got 0 tweets (0 new).\n"
     ]
    },
    {
     "name": "stdout",
     "output_type": "stream",
     "text": [
      "Sally's Spa Lite\n"
     ]
    },
    {
     "name": "stderr",
     "output_type": "stream",
     "text": [
      "INFO: queries: ['Earn to Die Lite since:2018-09-26 until:2018-09-27', 'Earn to Die Lite since:2018-09-27 until:2018-09-28', 'Earn to Die Lite since:2018-09-28 until:2018-09-29', 'Earn to Die Lite since:2018-09-29 until:2018-09-30', 'Earn to Die Lite since:2018-09-30 until:2018-10-01', 'Earn to Die Lite since:2018-10-01 until:2018-10-02', 'Earn to Die Lite since:2018-10-02 until:2018-10-03']\n",
      "INFO: Querying Earn to Die Lite since:2018-09-26 until:2018-09-27\n",
      "INFO: Querying Earn to Die Lite since:2018-09-30 until:2018-10-01\n",
      "INFO: Querying Earn to Die Lite since:2018-09-27 until:2018-09-28\n",
      "INFO: Querying Earn to Die Lite since:2018-09-29 until:2018-09-30\n",
      "INFO: Querying Earn to Die Lite since:2018-09-28 until:2018-09-29\n",
      "INFO: Querying Earn to Die Lite since:2018-10-02 until:2018-10-03\n",
      "INFO: Querying Earn to Die Lite since:2018-10-01 until:2018-10-02\n",
      "INFO: Got 0 tweets for Earn%20to%20Die%20Lite%20since%3A2018-09-30%20until%3A2018-10-01.\n",
      "INFO: Got 0 tweets (0 new).\n",
      "INFO: Got 0 tweets for Earn%20to%20Die%20Lite%20since%3A2018-09-26%20until%3A2018-09-27.\n",
      "INFO: Got 0 tweets (0 new).\n",
      "INFO: Got 0 tweets for Earn%20to%20Die%20Lite%20since%3A2018-09-28%20until%3A2018-09-29.\n",
      "INFO: Got 0 tweets (0 new).\n",
      "INFO: Got 0 tweets for Earn%20to%20Die%20Lite%20since%3A2018-09-29%20until%3A2018-09-30.\n",
      "INFO: Got 0 tweets (0 new).\n",
      "INFO: Got 0 tweets for Earn%20to%20Die%20Lite%20since%3A2018-10-02%20until%3A2018-10-03.\n",
      "INFO: Got 0 tweets (0 new).\n",
      "INFO: Got 0 tweets for Earn%20to%20Die%20Lite%20since%3A2018-09-27%20until%3A2018-09-28.\n",
      "INFO: Got 0 tweets (0 new).\n",
      "INFO: Got 1 tweets for Earn%20to%20Die%20Lite%20since%3A2018-10-01%20until%3A2018-10-02.\n",
      "INFO: Got 1 tweets (1 new).\n"
     ]
    },
    {
     "name": "stdout",
     "output_type": "stream",
     "text": [
      "Earn to Die Lite\n"
     ]
    },
    {
     "name": "stderr",
     "output_type": "stream",
     "text": [
      "INFO: queries: ['Despicable Bear - Top Games since:2018-09-26 until:2018-09-27', 'Despicable Bear - Top Games since:2018-09-27 until:2018-09-28', 'Despicable Bear - Top Games since:2018-09-28 until:2018-09-29', 'Despicable Bear - Top Games since:2018-09-29 until:2018-09-30', 'Despicable Bear - Top Games since:2018-09-30 until:2018-10-01', 'Despicable Bear - Top Games since:2018-10-01 until:2018-10-02', 'Despicable Bear - Top Games since:2018-10-02 until:2018-10-03']\n",
      "INFO: Querying Despicable Bear - Top Games since:2018-09-26 until:2018-09-27\n",
      "INFO: Querying Despicable Bear - Top Games since:2018-09-27 until:2018-09-28\n",
      "INFO: Querying Despicable Bear - Top Games since:2018-09-30 until:2018-10-01\n",
      "INFO: Querying Despicable Bear - Top Games since:2018-09-29 until:2018-09-30\n",
      "INFO: Querying Despicable Bear - Top Games since:2018-10-02 until:2018-10-03\n",
      "INFO: Querying Despicable Bear - Top Games since:2018-10-01 until:2018-10-02\n",
      "INFO: Querying Despicable Bear - Top Games since:2018-09-28 until:2018-09-29\n",
      "INFO: Got 0 tweets for Despicable%20Bear%20-%20Top%20Games%20since%3A2018-10-02%20until%3A2018-10-03.\n",
      "INFO: Got 0 tweets (0 new).\n",
      "INFO: Got 0 tweets for Despicable%20Bear%20-%20Top%20Games%20since%3A2018-09-27%20until%3A2018-09-28.\n",
      "INFO: Got 0 tweets for Despicable%20Bear%20-%20Top%20Games%20since%3A2018-09-29%20until%3A2018-09-30.\n",
      "INFO: Got 0 tweets (0 new).\n",
      "INFO: Got 0 tweets for Despicable%20Bear%20-%20Top%20Games%20since%3A2018-09-30%20until%3A2018-10-01.\n",
      "INFO: Got 0 tweets (0 new).\n",
      "INFO: Got 0 tweets (0 new).\n",
      "INFO: Got 0 tweets for Despicable%20Bear%20-%20Top%20Games%20since%3A2018-09-28%20until%3A2018-09-29.\n",
      "INFO: Got 0 tweets (0 new).\n",
      "INFO: Got 0 tweets for Despicable%20Bear%20-%20Top%20Games%20since%3A2018-09-26%20until%3A2018-09-27.\n",
      "INFO: Got 0 tweets (0 new).\n",
      "INFO: Got 0 tweets for Despicable%20Bear%20-%20Top%20Games%20since%3A2018-10-01%20until%3A2018-10-02.\n",
      "INFO: Got 0 tweets (0 new).\n"
     ]
    },
    {
     "name": "stdout",
     "output_type": "stream",
     "text": [
      "Despicable Bear - Top Games\n"
     ]
    },
    {
     "name": "stderr",
     "output_type": "stream",
     "text": [
      "INFO: queries: ['Zombie Road Trip since:2018-09-26 until:2018-09-27', 'Zombie Road Trip since:2018-09-27 until:2018-09-28', 'Zombie Road Trip since:2018-09-28 until:2018-09-29', 'Zombie Road Trip since:2018-09-29 until:2018-09-30', 'Zombie Road Trip since:2018-09-30 until:2018-10-01', 'Zombie Road Trip since:2018-10-01 until:2018-10-02', 'Zombie Road Trip since:2018-10-02 until:2018-10-03']\n",
      "INFO: Querying Zombie Road Trip since:2018-09-28 until:2018-09-29\n",
      "INFO: Querying Zombie Road Trip since:2018-09-29 until:2018-09-30\n",
      "INFO: Querying Zombie Road Trip since:2018-09-30 until:2018-10-01\n",
      "INFO: Querying Zombie Road Trip since:2018-09-26 until:2018-09-27\n",
      "INFO: Querying Zombie Road Trip since:2018-10-01 until:2018-10-02\n",
      "INFO: Querying Zombie Road Trip since:2018-10-02 until:2018-10-03\n",
      "INFO: Querying Zombie Road Trip since:2018-09-27 until:2018-09-28\n",
      "INFO: Got 1 tweets for Zombie%20Road%20Trip%20since%3A2018-10-02%20until%3A2018-10-03.\n",
      "INFO: Got 1 tweets (1 new).\n",
      "INFO: Got 1 tweets for Zombie%20Road%20Trip%20since%3A2018-09-29%20until%3A2018-09-30.\n",
      "INFO: Got 2 tweets (1 new).\n",
      "INFO: Got 5 tweets for Zombie%20Road%20Trip%20since%3A2018-09-30%20until%3A2018-10-01.\n",
      "INFO: Got 7 tweets (5 new).\n",
      "INFO: Got 3 tweets for Zombie%20Road%20Trip%20since%3A2018-10-01%20until%3A2018-10-02.\n",
      "INFO: Got 10 tweets (3 new).\n",
      "INFO: Got 3 tweets for Zombie%20Road%20Trip%20since%3A2018-09-26%20until%3A2018-09-27.\n",
      "INFO: Got 13 tweets (3 new).\n",
      "INFO: Got 2 tweets for Zombie%20Road%20Trip%20since%3A2018-09-28%20until%3A2018-09-29.\n",
      "INFO: Got 15 tweets (2 new).\n",
      "INFO: Got 5 tweets for Zombie%20Road%20Trip%20since%3A2018-09-27%20until%3A2018-09-28.\n",
      "INFO: Got 20 tweets (5 new).\n"
     ]
    },
    {
     "name": "stdout",
     "output_type": "stream",
     "text": [
      "Zombie Road Trip\n"
     ]
    },
    {
     "name": "stderr",
     "output_type": "stream",
     "text": [
      "INFO: queries: ['Ace Fishing: Wild Catch since:2018-09-26 until:2018-09-27', 'Ace Fishing: Wild Catch since:2018-09-27 until:2018-09-28', 'Ace Fishing: Wild Catch since:2018-09-28 until:2018-09-29', 'Ace Fishing: Wild Catch since:2018-09-29 until:2018-09-30', 'Ace Fishing: Wild Catch since:2018-09-30 until:2018-10-01', 'Ace Fishing: Wild Catch since:2018-10-01 until:2018-10-02', 'Ace Fishing: Wild Catch since:2018-10-02 until:2018-10-03']\n",
      "INFO: Querying Ace Fishing: Wild Catch since:2018-09-26 until:2018-09-27\n",
      "INFO: Querying Ace Fishing: Wild Catch since:2018-09-27 until:2018-09-28\n",
      "INFO: Querying Ace Fishing: Wild Catch since:2018-09-30 until:2018-10-01\n",
      "INFO: Querying Ace Fishing: Wild Catch since:2018-09-28 until:2018-09-29\n",
      "INFO: Querying Ace Fishing: Wild Catch since:2018-10-02 until:2018-10-03\n",
      "INFO: Querying Ace Fishing: Wild Catch since:2018-10-01 until:2018-10-02\n",
      "INFO: Querying Ace Fishing: Wild Catch since:2018-09-29 until:2018-09-30\n",
      "INFO: Got 0 tweets for Ace%20Fishing%3A%20Wild%20Catch%20since%3A2018-10-02%20until%3A2018-10-03.\n",
      "INFO: Got 0 tweets (0 new).\n",
      "INFO: Got 0 tweets for Ace%20Fishing%3A%20Wild%20Catch%20since%3A2018-09-28%20until%3A2018-09-29.\n",
      "INFO: Got 0 tweets (0 new).\n",
      "INFO: Got 0 tweets for Ace%20Fishing%3A%20Wild%20Catch%20since%3A2018-09-29%20until%3A2018-09-30.\n",
      "INFO: Got 0 tweets (0 new).\n",
      "INFO: Got 0 tweets for Ace%20Fishing%3A%20Wild%20Catch%20since%3A2018-10-01%20until%3A2018-10-02.\n",
      "INFO: Got 0 tweets (0 new).\n",
      "INFO: Got 0 tweets for Ace%20Fishing%3A%20Wild%20Catch%20since%3A2018-09-30%20until%3A2018-10-01.\n",
      "INFO: Got 0 tweets (0 new).\n",
      "INFO: Got 0 tweets for Ace%20Fishing%3A%20Wild%20Catch%20since%3A2018-09-27%20until%3A2018-09-28.\n",
      "INFO: Got 0 tweets (0 new).\n",
      "INFO: Got 0 tweets for Ace%20Fishing%3A%20Wild%20Catch%20since%3A2018-09-26%20until%3A2018-09-27.\n",
      "INFO: Got 0 tweets (0 new).\n"
     ]
    },
    {
     "name": "stdout",
     "output_type": "stream",
     "text": [
      "Ace Fishing: Wild Catch\n"
     ]
    },
    {
     "name": "stderr",
     "output_type": "stream",
     "text": [
      "INFO: queries: ['The Line Zen since:2018-09-26 until:2018-09-27', 'The Line Zen since:2018-09-27 until:2018-09-28', 'The Line Zen since:2018-09-28 until:2018-09-29', 'The Line Zen since:2018-09-29 until:2018-09-30', 'The Line Zen since:2018-09-30 until:2018-10-01', 'The Line Zen since:2018-10-01 until:2018-10-02', 'The Line Zen since:2018-10-02 until:2018-10-03']\n",
      "INFO: Querying The Line Zen since:2018-09-26 until:2018-09-27\n",
      "INFO: Querying The Line Zen since:2018-09-28 until:2018-09-29\n",
      "INFO: Querying The Line Zen since:2018-09-27 until:2018-09-28\n",
      "INFO: Querying The Line Zen since:2018-09-29 until:2018-09-30\n",
      "INFO: Querying The Line Zen since:2018-09-30 until:2018-10-01\n",
      "INFO: Querying The Line Zen since:2018-10-01 until:2018-10-02\n",
      "INFO: Querying The Line Zen since:2018-10-02 until:2018-10-03\n",
      "INFO: Got 0 tweets for The%20Line%20Zen%20since%3A2018-09-28%20until%3A2018-09-29.\n",
      "INFO: Got 0 tweets (0 new).\n",
      "INFO: Got 0 tweets for The%20Line%20Zen%20since%3A2018-10-01%20until%3A2018-10-02.\n",
      "INFO: Got 0 tweets (0 new).\n",
      "INFO: Got 1 tweets for The%20Line%20Zen%20since%3A2018-10-02%20until%3A2018-10-03.\n",
      "INFO: Got 1 tweets (1 new).\n",
      "INFO: Got 1 tweets for The%20Line%20Zen%20since%3A2018-09-30%20until%3A2018-10-01.\n",
      "INFO: Got 2 tweets (1 new).\n",
      "INFO: Got 4 tweets for The%20Line%20Zen%20since%3A2018-09-26%20until%3A2018-09-27.\n",
      "INFO: Got 6 tweets (4 new).\n",
      "INFO: Got 1 tweets for The%20Line%20Zen%20since%3A2018-09-27%20until%3A2018-09-28.\n",
      "INFO: Got 7 tweets (1 new).\n",
      "INFO: Got 1 tweets for The%20Line%20Zen%20since%3A2018-09-29%20until%3A2018-09-30.\n",
      "INFO: Got 8 tweets (1 new).\n"
     ]
    },
    {
     "name": "stdout",
     "output_type": "stream",
     "text": [
      "The Line Zen\n"
     ]
    },
    {
     "name": "stderr",
     "output_type": "stream",
     "text": [
      "INFO: queries: ['Major Mayhem since:2018-09-26 until:2018-09-27', 'Major Mayhem since:2018-09-27 until:2018-09-28', 'Major Mayhem since:2018-09-28 until:2018-09-29', 'Major Mayhem since:2018-09-29 until:2018-09-30', 'Major Mayhem since:2018-09-30 until:2018-10-01', 'Major Mayhem since:2018-10-01 until:2018-10-02', 'Major Mayhem since:2018-10-02 until:2018-10-03']\n",
      "INFO: Querying Major Mayhem since:2018-09-28 until:2018-09-29\n",
      "INFO: Querying Major Mayhem since:2018-09-29 until:2018-09-30\n",
      "INFO: Querying Major Mayhem since:2018-09-30 until:2018-10-01\n",
      "INFO: Querying Major Mayhem since:2018-09-27 until:2018-09-28\n",
      "INFO: Querying Major Mayhem since:2018-09-26 until:2018-09-27\n",
      "INFO: Querying Major Mayhem since:2018-10-02 until:2018-10-03\n",
      "INFO: Querying Major Mayhem since:2018-10-01 until:2018-10-02\n",
      "INFO: Got 6 tweets for Major%20Mayhem%20since%3A2018-10-02%20until%3A2018-10-03.\n",
      "INFO: Got 2 tweets for Major%20Mayhem%20since%3A2018-09-30%20until%3A2018-10-01.\n",
      "INFO: Got 6 tweets (6 new).\n",
      "INFO: Got 8 tweets (2 new).\n",
      "INFO: Got 7 tweets for Major%20Mayhem%20since%3A2018-09-27%20until%3A2018-09-28.\n",
      "INFO: Got 15 tweets (7 new).\n",
      "INFO: Got 11 tweets for Major%20Mayhem%20since%3A2018-09-28%20until%3A2018-09-29.\n",
      "INFO: Got 26 tweets (11 new).\n",
      "INFO: Got 7 tweets for Major%20Mayhem%20since%3A2018-09-29%20until%3A2018-09-30.\n",
      "INFO: Got 33 tweets (7 new).\n",
      "INFO: Got 7 tweets for Major%20Mayhem%20since%3A2018-10-01%20until%3A2018-10-02.\n",
      "INFO: Got 40 tweets (7 new).\n",
      "INFO: Got 14 tweets for Major%20Mayhem%20since%3A2018-09-26%20until%3A2018-09-27.\n",
      "INFO: Got 54 tweets (14 new).\n"
     ]
    },
    {
     "name": "stdout",
     "output_type": "stream",
     "text": [
      "Major Mayhem\n"
     ]
    },
    {
     "name": "stderr",
     "output_type": "stream",
     "text": [
      "INFO: queries: ['Zombie Tower Shooting Defense since:2018-09-26 until:2018-09-27', 'Zombie Tower Shooting Defense since:2018-09-27 until:2018-09-28', 'Zombie Tower Shooting Defense since:2018-09-28 until:2018-09-29', 'Zombie Tower Shooting Defense since:2018-09-29 until:2018-09-30', 'Zombie Tower Shooting Defense since:2018-09-30 until:2018-10-01', 'Zombie Tower Shooting Defense since:2018-10-01 until:2018-10-02', 'Zombie Tower Shooting Defense since:2018-10-02 until:2018-10-03']\n",
      "INFO: Querying Zombie Tower Shooting Defense since:2018-09-28 until:2018-09-29\n",
      "INFO: Querying Zombie Tower Shooting Defense since:2018-09-29 until:2018-09-30\n",
      "INFO: Querying Zombie Tower Shooting Defense since:2018-09-26 until:2018-09-27\n",
      "INFO: Querying Zombie Tower Shooting Defense since:2018-09-27 until:2018-09-28\n",
      "INFO: Querying Zombie Tower Shooting Defense since:2018-09-30 until:2018-10-01\n",
      "INFO: Querying Zombie Tower Shooting Defense since:2018-10-01 until:2018-10-02\n",
      "INFO: Querying Zombie Tower Shooting Defense since:2018-10-02 until:2018-10-03\n",
      "INFO: Got 0 tweets for Zombie%20Tower%20Shooting%20Defense%20since%3A2018-10-02%20until%3A2018-10-03.\n",
      "INFO: Got 0 tweets (0 new).\n",
      "INFO: Got 0 tweets for Zombie%20Tower%20Shooting%20Defense%20since%3A2018-09-30%20until%3A2018-10-01.\n",
      "INFO: Got 0 tweets (0 new).\n",
      "INFO: Got 0 tweets for Zombie%20Tower%20Shooting%20Defense%20since%3A2018-09-27%20until%3A2018-09-28.\n",
      "INFO: Got 0 tweets (0 new).\n",
      "INFO: Got 0 tweets for Zombie%20Tower%20Shooting%20Defense%20since%3A2018-09-26%20until%3A2018-09-27.\n",
      "INFO: Got 0 tweets (0 new).\n",
      "INFO: Got 0 tweets for Zombie%20Tower%20Shooting%20Defense%20since%3A2018-09-28%20until%3A2018-09-29.\n",
      "INFO: Got 0 tweets (0 new).\n",
      "INFO: Got 0 tweets for Zombie%20Tower%20Shooting%20Defense%20since%3A2018-09-29%20until%3A2018-09-30.\n",
      "INFO: Got 0 tweets (0 new).\n",
      "INFO: Got 0 tweets for Zombie%20Tower%20Shooting%20Defense%20since%3A2018-10-01%20until%3A2018-10-02.\n",
      "INFO: Got 0 tweets (0 new).\n"
     ]
    },
    {
     "name": "stdout",
     "output_type": "stream",
     "text": [
      "Zombie Tower Shooting Defense\n"
     ]
    },
    {
     "name": "stderr",
     "output_type": "stream",
     "text": [
      "INFO: queries: ['Amazing Ninja since:2018-09-26 until:2018-09-27', 'Amazing Ninja since:2018-09-27 until:2018-09-28', 'Amazing Ninja since:2018-09-28 until:2018-09-29', 'Amazing Ninja since:2018-09-29 until:2018-09-30', 'Amazing Ninja since:2018-09-30 until:2018-10-01', 'Amazing Ninja since:2018-10-01 until:2018-10-02', 'Amazing Ninja since:2018-10-02 until:2018-10-03']\n",
      "INFO: Querying Amazing Ninja since:2018-09-29 until:2018-09-30\n",
      "INFO: Querying Amazing Ninja since:2018-09-28 until:2018-09-29\n",
      "INFO: Querying Amazing Ninja since:2018-09-27 until:2018-09-28\n",
      "INFO: Querying Amazing Ninja since:2018-09-26 until:2018-09-27\n",
      "INFO: Querying Amazing Ninja since:2018-09-30 until:2018-10-01\n",
      "INFO: Querying Amazing Ninja since:2018-10-01 until:2018-10-02\n",
      "INFO: Querying Amazing Ninja since:2018-10-02 until:2018-10-03\n",
      "INFO: Got 126 tweets for Amazing%20Ninja%20since%3A2018-09-29%20until%3A2018-09-30.\n",
      "INFO: Got 126 tweets (126 new).\n",
      "INFO: Got 130 tweets for Amazing%20Ninja%20since%3A2018-09-30%20until%3A2018-10-01.\n",
      "INFO: Got 256 tweets (130 new).\n",
      "INFO: Got 124 tweets for Amazing%20Ninja%20since%3A2018-09-28%20until%3A2018-09-29.\n",
      "INFO: Got 380 tweets (124 new).\n",
      "INFO: Got 136 tweets for Amazing%20Ninja%20since%3A2018-10-02%20until%3A2018-10-03.\n",
      "INFO: Got 516 tweets (136 new).\n",
      "INFO: Got 159 tweets for Amazing%20Ninja%20since%3A2018-10-01%20until%3A2018-10-02.\n",
      "INFO: Got 675 tweets (159 new).\n",
      "INFO: Got 208 tweets for Amazing%20Ninja%20since%3A2018-09-27%20until%3A2018-09-28.\n",
      "INFO: Got 883 tweets (208 new).\n",
      "INFO: Got 329 tweets for Amazing%20Ninja%20since%3A2018-09-26%20until%3A2018-09-27.\n",
      "INFO: Got 1212 tweets (329 new).\n"
     ]
    },
    {
     "name": "stdout",
     "output_type": "stream",
     "text": [
      "Amazing Ninja\n"
     ]
    },
    {
     "name": "stderr",
     "output_type": "stream",
     "text": [
      "INFO: queries: ['Respawnables - Special Forces since:2018-09-26 until:2018-09-27', 'Respawnables - Special Forces since:2018-09-27 until:2018-09-28', 'Respawnables - Special Forces since:2018-09-28 until:2018-09-29', 'Respawnables - Special Forces since:2018-09-29 until:2018-09-30', 'Respawnables - Special Forces since:2018-09-30 until:2018-10-01', 'Respawnables - Special Forces since:2018-10-01 until:2018-10-02', 'Respawnables - Special Forces since:2018-10-02 until:2018-10-03']\n",
      "INFO: Querying Respawnables - Special Forces since:2018-09-26 until:2018-09-27\n",
      "INFO: Querying Respawnables - Special Forces since:2018-09-28 until:2018-09-29\n",
      "INFO: Querying Respawnables - Special Forces since:2018-09-27 until:2018-09-28\n",
      "INFO: Querying Respawnables - Special Forces since:2018-09-30 until:2018-10-01\n",
      "INFO: Querying Respawnables - Special Forces since:2018-10-01 until:2018-10-02\n",
      "INFO: Querying Respawnables - Special Forces since:2018-10-02 until:2018-10-03\n",
      "INFO: Querying Respawnables - Special Forces since:2018-09-29 until:2018-09-30\n",
      "INFO: Got 0 tweets for Respawnables%20-%20Special%20Forces%20since%3A2018-09-26%20until%3A2018-09-27.\n",
      "INFO: Got 0 tweets (0 new).\n",
      "INFO: Got 0 tweets for Respawnables%20-%20Special%20Forces%20since%3A2018-09-28%20until%3A2018-09-29.\n",
      "INFO: Got 0 tweets (0 new).\n",
      "INFO: Got 0 tweets for Respawnables%20-%20Special%20Forces%20since%3A2018-09-27%20until%3A2018-09-28.\n",
      "INFO: Got 0 tweets (0 new).\n",
      "INFO: Got 0 tweets for Respawnables%20-%20Special%20Forces%20since%3A2018-09-30%20until%3A2018-10-01.\n",
      "INFO: Got 0 tweets (0 new).\n",
      "INFO: Got 0 tweets for Respawnables%20-%20Special%20Forces%20since%3A2018-10-02%20until%3A2018-10-03.\n",
      "INFO: Got 0 tweets (0 new).\n",
      "INFO: Got 0 tweets for Respawnables%20-%20Special%20Forces%20since%3A2018-09-29%20until%3A2018-09-30.\n",
      "INFO: Got 0 tweets (0 new).\n",
      "INFO: Got 1 tweets for Respawnables%20-%20Special%20Forces%20since%3A2018-10-01%20until%3A2018-10-02.\n",
      "INFO: Got 1 tweets (1 new).\n"
     ]
    },
    {
     "name": "stdout",
     "output_type": "stream",
     "text": [
      "Respawnables - Special Forces\n"
     ]
    },
    {
     "name": "stderr",
     "output_type": "stream",
     "text": [
      "INFO: queries: ['MLB Tap Sports Baseball 2018 since:2018-09-26 until:2018-09-27', 'MLB Tap Sports Baseball 2018 since:2018-09-27 until:2018-09-28', 'MLB Tap Sports Baseball 2018 since:2018-09-28 until:2018-09-29', 'MLB Tap Sports Baseball 2018 since:2018-09-29 until:2018-09-30', 'MLB Tap Sports Baseball 2018 since:2018-09-30 until:2018-10-01', 'MLB Tap Sports Baseball 2018 since:2018-10-01 until:2018-10-02', 'MLB Tap Sports Baseball 2018 since:2018-10-02 until:2018-10-03']\n",
      "INFO: Querying MLB Tap Sports Baseball 2018 since:2018-09-28 until:2018-09-29\n",
      "INFO: Querying MLB Tap Sports Baseball 2018 since:2018-09-27 until:2018-09-28\n",
      "INFO: Querying MLB Tap Sports Baseball 2018 since:2018-09-30 until:2018-10-01\n",
      "INFO: Querying MLB Tap Sports Baseball 2018 since:2018-10-02 until:2018-10-03\n",
      "INFO: Querying MLB Tap Sports Baseball 2018 since:2018-10-01 until:2018-10-02\n",
      "INFO: Querying MLB Tap Sports Baseball 2018 since:2018-09-29 until:2018-09-30\n",
      "INFO: Querying MLB Tap Sports Baseball 2018 since:2018-09-26 until:2018-09-27\n",
      "INFO: Got 0 tweets for MLB%20Tap%20Sports%20Baseball%202018%20since%3A2018-10-02%20until%3A2018-10-03.\n",
      "INFO: Got 0 tweets for MLB%20Tap%20Sports%20Baseball%202018%20since%3A2018-09-27%20until%3A2018-09-28.\n",
      "INFO: Got 0 tweets (0 new).\n",
      "INFO: Got 0 tweets (0 new).\n",
      "INFO: Got 0 tweets for MLB%20Tap%20Sports%20Baseball%202018%20since%3A2018-09-28%20until%3A2018-09-29.\n",
      "INFO: Got 0 tweets (0 new).\n",
      "INFO: Got 0 tweets for MLB%20Tap%20Sports%20Baseball%202018%20since%3A2018-09-26%20until%3A2018-09-27.\n",
      "INFO: Got 0 tweets (0 new).\n",
      "INFO: Got 0 tweets for MLB%20Tap%20Sports%20Baseball%202018%20since%3A2018-09-29%20until%3A2018-09-30.\n",
      "INFO: Got 0 tweets (0 new).\n",
      "INFO: Got 0 tweets for MLB%20Tap%20Sports%20Baseball%202018%20since%3A2018-10-01%20until%3A2018-10-02.\n",
      "INFO: Got 0 tweets (0 new).\n",
      "INFO: Got 2 tweets for MLB%20Tap%20Sports%20Baseball%202018%20since%3A2018-09-30%20until%3A2018-10-01.\n",
      "INFO: Got 2 tweets (2 new).\n"
     ]
    },
    {
     "name": "stdout",
     "output_type": "stream",
     "text": [
      "MLB Tap Sports Baseball 2018\n"
     ]
    },
    {
     "name": "stderr",
     "output_type": "stream",
     "text": [
      "INFO: queries: ['Space Frontier since:2018-09-26 until:2018-09-27', 'Space Frontier since:2018-09-27 until:2018-09-28', 'Space Frontier since:2018-09-28 until:2018-09-29', 'Space Frontier since:2018-09-29 until:2018-09-30', 'Space Frontier since:2018-09-30 until:2018-10-01', 'Space Frontier since:2018-10-01 until:2018-10-02', 'Space Frontier since:2018-10-02 until:2018-10-03']\n",
      "INFO: Querying Space Frontier since:2018-09-28 until:2018-09-29\n",
      "INFO: Querying Space Frontier since:2018-09-27 until:2018-09-28\n",
      "INFO: Querying Space Frontier since:2018-09-30 until:2018-10-01\n",
      "INFO: Querying Space Frontier since:2018-09-29 until:2018-09-30\n",
      "INFO: Querying Space Frontier since:2018-10-02 until:2018-10-03\n",
      "INFO: Querying Space Frontier since:2018-09-26 until:2018-09-27\n",
      "INFO: Querying Space Frontier since:2018-10-01 until:2018-10-02\n",
      "INFO: Got 37 tweets for Space%20Frontier%20since%3A2018-09-30%20until%3A2018-10-01.\n",
      "INFO: Got 37 tweets (37 new).\n",
      "INFO: Got 39 tweets for Space%20Frontier%20since%3A2018-09-29%20until%3A2018-09-30.\n",
      "INFO: Got 76 tweets (39 new).\n",
      "INFO: Got 50 tweets for Space%20Frontier%20since%3A2018-10-01%20until%3A2018-10-02.\n",
      "INFO: Got 126 tweets (50 new).\n",
      "INFO: Got 61 tweets for Space%20Frontier%20since%3A2018-09-28%20until%3A2018-09-29.\n",
      "INFO: Got 187 tweets (61 new).\n",
      "INFO: Got 69 tweets for Space%20Frontier%20since%3A2018-09-26%20until%3A2018-09-27.\n",
      "INFO: Got 256 tweets (69 new).\n",
      "INFO: Got 80 tweets for Space%20Frontier%20since%3A2018-09-27%20until%3A2018-09-28.\n",
      "INFO: Got 336 tweets (80 new).\n",
      "INFO: Got 73 tweets for Space%20Frontier%20since%3A2018-10-02%20until%3A2018-10-03.\n",
      "INFO: Got 409 tweets (73 new).\n"
     ]
    },
    {
     "name": "stdout",
     "output_type": "stream",
     "text": [
      "Space Frontier\n"
     ]
    },
    {
     "name": "stderr",
     "output_type": "stream",
     "text": [
      "INFO: queries: ['Dawn of Titans since:2018-09-26 until:2018-09-27', 'Dawn of Titans since:2018-09-27 until:2018-09-28', 'Dawn of Titans since:2018-09-28 until:2018-09-29', 'Dawn of Titans since:2018-09-29 until:2018-09-30', 'Dawn of Titans since:2018-09-30 until:2018-10-01', 'Dawn of Titans since:2018-10-01 until:2018-10-02', 'Dawn of Titans since:2018-10-02 until:2018-10-03']\n",
      "INFO: Querying Dawn of Titans since:2018-09-26 until:2018-09-27\n",
      "INFO: Querying Dawn of Titans since:2018-09-29 until:2018-09-30\n",
      "INFO: Querying Dawn of Titans since:2018-09-28 until:2018-09-29\n",
      "INFO: Querying Dawn of Titans since:2018-09-30 until:2018-10-01\n",
      "INFO: Querying Dawn of Titans since:2018-09-27 until:2018-09-28\n",
      "INFO: Querying Dawn of Titans since:2018-10-02 until:2018-10-03\n",
      "INFO: Querying Dawn of Titans since:2018-10-01 until:2018-10-02\n",
      "INFO: Got 10 tweets for Dawn%20of%20Titans%20since%3A2018-10-02%20until%3A2018-10-03.\n",
      "INFO: Got 10 tweets (10 new).\n",
      "INFO: Got 15 tweets for Dawn%20of%20Titans%20since%3A2018-10-01%20until%3A2018-10-02.\n",
      "INFO: Got 25 tweets (15 new).\n",
      "INFO: Got 13 tweets for Dawn%20of%20Titans%20since%3A2018-09-29%20until%3A2018-09-30.\n",
      "INFO: Got 38 tweets (13 new).\n",
      "INFO: Got 21 tweets for Dawn%20of%20Titans%20since%3A2018-09-30%20until%3A2018-10-01.\n",
      "INFO: Got 59 tweets (21 new).\n",
      "INFO: Got 22 tweets for Dawn%20of%20Titans%20since%3A2018-09-28%20until%3A2018-09-29.\n",
      "INFO: Got 81 tweets (22 new).\n",
      "INFO: Got 31 tweets for Dawn%20of%20Titans%20since%3A2018-09-26%20until%3A2018-09-27.\n",
      "INFO: Got 112 tweets (31 new).\n",
      "INFO: Got 31 tweets for Dawn%20of%20Titans%20since%3A2018-09-27%20until%3A2018-09-28.\n",
      "INFO: Got 143 tweets (31 new).\n"
     ]
    },
    {
     "name": "stdout",
     "output_type": "stream",
     "text": [
      "Dawn of Titans\n"
     ]
    },
    {
     "name": "stderr",
     "output_type": "stream",
     "text": [
      "INFO: queries: ['Stupid Zombies® 2 since:2018-09-26 until:2018-09-27', 'Stupid Zombies® 2 since:2018-09-27 until:2018-09-28', 'Stupid Zombies® 2 since:2018-09-28 until:2018-09-29', 'Stupid Zombies® 2 since:2018-09-29 until:2018-09-30', 'Stupid Zombies® 2 since:2018-09-30 until:2018-10-01', 'Stupid Zombies® 2 since:2018-10-01 until:2018-10-02', 'Stupid Zombies® 2 since:2018-10-02 until:2018-10-03']\n",
      "INFO: Querying Stupid Zombies® 2 since:2018-09-27 until:2018-09-28\n",
      "INFO: Querying Stupid Zombies® 2 since:2018-09-28 until:2018-09-29\n",
      "INFO: Querying Stupid Zombies® 2 since:2018-09-26 until:2018-09-27\n",
      "INFO: Querying Stupid Zombies® 2 since:2018-10-01 until:2018-10-02\n",
      "INFO: Querying Stupid Zombies® 2 since:2018-09-30 until:2018-10-01\n",
      "INFO: Querying Stupid Zombies® 2 since:2018-09-29 until:2018-09-30\n",
      "INFO: Querying Stupid Zombies® 2 since:2018-10-02 until:2018-10-03\n",
      "INFO: Got 0 tweets for Stupid%20Zombies®%202%20since%3A2018-10-02%20until%3A2018-10-03.\n",
      "INFO: Got 0 tweets (0 new).\n",
      "INFO: Got 0 tweets for Stupid%20Zombies®%202%20since%3A2018-09-27%20until%3A2018-09-28.\n",
      "INFO: Got 0 tweets (0 new).\n",
      "INFO: Got 0 tweets for Stupid%20Zombies®%202%20since%3A2018-09-28%20until%3A2018-09-29.\n",
      "INFO: Got 0 tweets (0 new).\n",
      "INFO: Got 0 tweets for Stupid%20Zombies®%202%20since%3A2018-09-30%20until%3A2018-10-01.\n",
      "INFO: Got 0 tweets (0 new).\n",
      "INFO: Got 0 tweets for Stupid%20Zombies®%202%20since%3A2018-09-26%20until%3A2018-09-27.\n",
      "INFO: Got 0 tweets (0 new).\n",
      "INFO: Got 0 tweets for Stupid%20Zombies®%202%20since%3A2018-10-01%20until%3A2018-10-02.\n",
      "INFO: Got 0 tweets (0 new).\n",
      "INFO: Got 0 tweets for Stupid%20Zombies®%202%20since%3A2018-09-29%20until%3A2018-09-30.\n",
      "INFO: Got 0 tweets (0 new).\n"
     ]
    },
    {
     "name": "stdout",
     "output_type": "stream",
     "text": [
      "Stupid Zombies® 2\n"
     ]
    },
    {
     "name": "stderr",
     "output_type": "stream",
     "text": [
      "INFO: queries: ['TETRIS® Premium since:2018-09-26 until:2018-09-27', 'TETRIS® Premium since:2018-09-27 until:2018-09-28', 'TETRIS® Premium since:2018-09-28 until:2018-09-29', 'TETRIS® Premium since:2018-09-29 until:2018-09-30', 'TETRIS® Premium since:2018-09-30 until:2018-10-01', 'TETRIS® Premium since:2018-10-01 until:2018-10-02', 'TETRIS® Premium since:2018-10-02 until:2018-10-03']\n",
      "INFO: Querying TETRIS® Premium since:2018-09-27 until:2018-09-28\n",
      "INFO: Querying TETRIS® Premium since:2018-09-26 until:2018-09-27\n",
      "INFO: Querying TETRIS® Premium since:2018-09-29 until:2018-09-30\n",
      "INFO: Querying TETRIS® Premium since:2018-09-30 until:2018-10-01\n",
      "INFO: Querying TETRIS® Premium since:2018-10-01 until:2018-10-02\n",
      "INFO: Querying TETRIS® Premium since:2018-09-28 until:2018-09-29\n",
      "INFO: Querying TETRIS® Premium since:2018-10-02 until:2018-10-03\n",
      "INFO: Got 0 tweets for TETRIS®%20Premium%20since%3A2018-09-26%20until%3A2018-09-27.\n",
      "INFO: Got 0 tweets (0 new).\n",
      "INFO: Got 0 tweets for TETRIS®%20Premium%20since%3A2018-09-27%20until%3A2018-09-28.\n",
      "INFO: Got 0 tweets (0 new).\n",
      "INFO: Got 0 tweets for TETRIS®%20Premium%20since%3A2018-10-02%20until%3A2018-10-03.\n",
      "INFO: Got 0 tweets (0 new).\n",
      "INFO: Got 0 tweets for TETRIS®%20Premium%20since%3A2018-09-28%20until%3A2018-09-29.\n",
      "INFO: Got 0 tweets (0 new).\n",
      "INFO: Got 0 tweets for TETRIS®%20Premium%20since%3A2018-10-01%20until%3A2018-10-02.\n",
      "INFO: Got 0 tweets (0 new).\n",
      "INFO: Got 0 tweets for TETRIS®%20Premium%20since%3A2018-09-29%20until%3A2018-09-30.\n",
      "INFO: Got 0 tweets (0 new).\n",
      "INFO: Got 0 tweets for TETRIS®%20Premium%20since%3A2018-09-30%20until%3A2018-10-01.\n",
      "INFO: Got 0 tweets (0 new).\n"
     ]
    },
    {
     "name": "stdout",
     "output_type": "stream",
     "text": [
      "TETRIS® Premium\n",
      "running time 971.1497356891632\n"
     ]
    }
   ],
   "source": [
    "import dill\n",
    "app_name = dill.load(open('data_stored/app_action_names','rb'))\n",
    "app_name = [a for a in app_name if len(a)>7]\n",
    "app_name.remove('Fortnite')\n",
    "\n",
    "import twitterscraper\n",
    "from twitterscraper import query_tweets\n",
    "\n",
    "import datetime as dt\n",
    "\n",
    "def get_tweet(app):\n",
    "    return query_tweets(app, limit=None, \n",
    "                         begindate=dt.date.today()-dt.timedelta(days=7), \n",
    "                         enddate=dt.date.today(), \n",
    "                         poolsize=20, \n",
    "                         lang='en'\n",
    "                         )\n",
    "import spacy\n",
    "spacy.load('en')\n",
    "from spacy.lang.en import English\n",
    "parser = English()\n",
    "\n",
    "def tokenize(text):\n",
    "    lda_tokens = []\n",
    "    tokens = parser(text)\n",
    "\n",
    "    for token in tokens:\n",
    "        if token.like_url:\n",
    "            lda_tokens.append(token)\n",
    "    return lda_tokens\n",
    "\n",
    "## hoteness and url\n",
    "# 3 days\n",
    "# limit output\n",
    "from notebook.services.config import ConfigManager\n",
    "cm = ConfigManager().update('notebook', {'limit_output':100,'limit_output_message':100,'limit_display_data':100,\n",
    "                                         'limit_execute_result':100, 'limit_stream':100})\n",
    "\n",
    "\n",
    "import itertools\n",
    "from collections import Counter\n",
    "import time\n",
    "\n",
    "t1 = time.time()\n",
    "\n",
    "# testing \n",
    "test_app = app_name\n",
    "\n",
    "data_array=[]\n",
    "for app in test_app:\n",
    "    tweet = get_tweet(app);\n",
    "\n",
    "    length = len(tweet)\n",
    "    likes= 0\n",
    "    reply= 0\n",
    "    retweets= 0\n",
    "    url = []\n",
    "    \n",
    "    if tweet:\n",
    "        \n",
    "        length = len(tweet)\n",
    "        likes= 0\n",
    "        reply= 0\n",
    "        retweets= 0\n",
    "        url = []\n",
    "        \n",
    "        for line in tweet:\n",
    "            likes+=int(line.likes)\n",
    "            reply+=int(line.replies)\n",
    "            retweets+=int(line.retweets)\n",
    "            \n",
    "            if line.text:\n",
    "                #print(line.text)\n",
    "                c = tokenize(line.text)\n",
    "                if c:\n",
    "                    url.append(c)\n",
    "\n",
    "        if url:\n",
    "            se = list(itertools.chain(*url))\n",
    "            topurl = Counter(se).most_common(1)[0][0]\n",
    "\n",
    "        data_array.append([app,length,likes,reply,retweets,topurl])\n",
    "\n",
    "        \n",
    "    #else:data_array.append([])\n",
    "    print(app)\n",
    "print('running time',(time.time()-t1))"
   ]
  },
  {
   "cell_type": "code",
   "execution_count": 32,
   "metadata": {
    "scrolled": true
   },
   "outputs": [
    {
     "name": "stderr",
     "output_type": "stream",
     "text": [
      "/opt/conda/envs/data3/lib/python3.6/site-packages/ipykernel_launcher.py:23: SettingWithCopyWarning: \n",
      "A value is trying to be set on a copy of a slice from a DataFrame.\n",
      "Try using .loc[row_indexer,col_indexer] = value instead\n",
      "\n",
      "See the caveats in the documentation: http://pandas.pydata.org/pandas-docs/stable/indexing.html#indexing-view-versus-copy\n",
      "/opt/conda/envs/data3/lib/python3.6/site-packages/ipykernel_launcher.py:24: SettingWithCopyWarning: \n",
      "A value is trying to be set on a copy of a slice from a DataFrame.\n",
      "Try using .loc[row_indexer,col_indexer] = value instead\n",
      "\n",
      "See the caveats in the documentation: http://pandas.pydata.org/pandas-docs/stable/indexing.html#indexing-view-versus-copy\n"
     ]
    }
   ],
   "source": [
    "import pandas as pd\n",
    "data_df = pd.DataFrame(data_array,columns=['app','No.of tweets','No.of likes','No.of replies','No.of retweets','most common url'])\n",
    "data_df['HOTNESS'] = data_df['No.of tweets']+data_df['No.of likes']+data_df['No.of replies']+data_df['No.of retweets']\n",
    "data_rank = data_df.sort_values(by='HOTNESS',ascending=False)\n",
    "data_rank = data_rank.drop(index=[129,120])\n",
    "data_rank = data_rank.drop(columns='most common url')\n",
    "data_rank['Rank'] = range(1,len(data_rank)+1)\n",
    "data_url = data_rank[:20]\n",
    "\n",
    "url=[]\n",
    "fakespot='https://www.fakespot.com/app/'\n",
    "for i in data_url['app'].values:\n",
    "    list1=i.split()\n",
    "    if len(list1)>1:\n",
    "        a=''\n",
    "        for i in range(len(list1)):\n",
    "            a+=list1[i].lower()+'-'\n",
    "            a=a.replace('!','')\n",
    "        url.append(a[:-1])\n",
    "    else:url.append(list1[0].lower())\n",
    "url_fake = [fakespot+i for i in url]    \n",
    "\n",
    "data_url['fakespot'] = url_fake\n",
    "data_url['Rank'] = range(1,len(data_url)+1)\n",
    "data_url.to_csv('data.csv',index=False)"
   ]
  },
  {
   "cell_type": "code",
   "execution_count": null,
   "metadata": {},
   "outputs": [],
   "source": []
  }
 ],
 "metadata": {
  "kernelspec": {
   "display_name": "Python 3",
   "language": "python",
   "name": "python3"
  },
  "language_info": {
   "codemirror_mode": {
    "name": "ipython",
    "version": 3
   },
   "file_extension": ".py",
   "mimetype": "text/x-python",
   "name": "python",
   "nbconvert_exporter": "python",
   "pygments_lexer": "ipython3",
   "version": "3.6.2"
  }
 },
 "nbformat": 4,
 "nbformat_minor": 2
}
